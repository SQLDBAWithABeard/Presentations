{
    "metadata": {
        "kernelspec": {
            "name": "powershell",
            "display_name": "PowerShell",
            "language": "powershell"
        },
        "language_info": {
            "name": "powershell",
            "codemirror_mode": "shell",
            "mimetype": "text/x-sh",
            "file_extension": ".ps1"
        }
    },
    "nbformat_minor": 2,
    "nbformat": 4,
    "cells": [
        {
            "cell_type": "markdown",
            "source": [
                "# Working with Excel using the ImportExcel Module\n",
                "\n",
                "The ImportExcel Module was started by Doug Finke [b](https://dfinke.github.io/) [t](https://twitter.com/dfinke) and has consistently been updated with significant input from James O'Neill [b](https://jamesone111.wordpress.com/) [t](https://twitter.com/jamesoneill) amongst others. ImportExcel enables automation of Excel workbooks using PowerShell and works with both Windows PowerShell and PowerShell Core\n",
                "\n",
                "## Installation\n",
                "Lets start by installing it (we will also check that you have dbatools too!)"
            ],
            "metadata": {
                "azdata_cell_guid": "594c3be1-b38f-4fcb-a12b-c032eb610f8f"
            }
        },
        {
            "cell_type": "code",
            "source": [
                "$Modules = 'ImportExcel','dbatools'\r\n",
                "foreach($Module in $Modules){\r\n",
                "    if(Get-Module $Module -ListAvailable -ErrorAction SilentlyContinue){\r\n",
                "        Write-Output \"We will update the module $Module\"\r\n",
                "        Update-Module $Module\r\n",
                "    } else {\r\n",
                "        Write-Output \"We will install the module $Module\"\r\n",
                "        Install-Module $Module -Scope CurrentUser\r\n",
                "    }\r\n",
                "}\r\n",
                ""
            ],
            "metadata": {
                "azdata_cell_guid": "e5e5b050-6176-4d40-b035-34c9905ba4fe",
                "tags": []
            },
            "outputs": [],
            "execution_count": null
        },
        {
            "cell_type": "markdown",
            "source": [
                "## Listing the commands\r\n",
                "\r\n",
                "The module has a significant number of commands"
            ],
            "metadata": {
                "azdata_cell_guid": "e84e54e3-5a66-4cb3-83d1-9a478ddee797"
            }
        },
        {
            "cell_type": "code",
            "source": [
                "Get-Command -Module ImportExcel"
            ],
            "metadata": {
                "azdata_cell_guid": "a004fcfd-a51a-4d76-80e7-d5ffc7a7d59f"
            },
            "outputs": [
                {
                    "output_type": "stream",
                    "name": "stdout",
                    "text": "\nCommandType     Name                                               Version    Source                                   \n-----------     ----                                               -------    ------                                   \nAlias           Convert-XlRangeToImage                             7.1.1      ImportExcel                              \nAlias           Export-ExcelSheet                                  7.1.1      ImportExcel                              \nAlias           New-ExcelChart                                     7.1.1      ImportExcel                              \nAlias           Set-Column                                         7.1.1      ImportExcel                              \nAlias           Set-Format                                         7.1.1      ImportExcel                              \nAlias           Set-Row                                            7.1.1      ImportExcel                              \nAlias           Use-ExcelData                                      7.1.1      ImportExcel                              \nFunction        Add-ConditionalFormatting                          7.1.1      ImportExcel                              \nFunction        Add-ExcelChart                                     7.1.1      ImportExcel                              \nFunction        Add-ExcelDataValidationRule                        7.1.1      ImportExcel                              \nFunction        Add-ExcelName                                      7.1.1      ImportExcel                              \nFunction        Add-ExcelTable                                     7.1.1      ImportExcel                              \nFunction        Add-PivotTable                                     7.1.1      ImportExcel                              \nFunction        Add-Worksheet                                      7.1.1      ImportExcel                              \nFunction        BarChart                                           7.1.1      ImportExcel                              \nFunction        Close-ExcelPackage                                 7.1.1      ImportExcel                              \nFunction        ColumnChart                                        7.1.1      ImportExcel                              \nFunction        Compare-Worksheet                                  7.1.1      ImportExcel                              \nFunction        Convert-ExcelRangeToImage                          7.1.1      ImportExcel                              \nFunction        ConvertFrom-ExcelData                              7.1.1      ImportExcel                              \nFunction        ConvertFrom-ExcelSheet                             7.1.1      ImportExcel                              \nFunction        ConvertFrom-ExcelToSQLInsert                       7.1.1      ImportExcel                              \nFunction        ConvertTo-ExcelXlsx                                7.1.1      ImportExcel                              \nFunction        Copy-ExcelWorksheet                                7.1.1      ImportExcel                              \nFunction        DoChart                                            7.1.1      ImportExcel                              \nFunction        Expand-NumberFormat                                7.1.1      ImportExcel                              \nFunction        Export-Excel                                       7.1.1      ImportExcel                              \n"
                },
                {
                    "output_type": "stream",
                    "name": "stdout",
                    "text": "Function        Get-ExcelColumnName                                7.1.1      ImportExcel                              \nFunction        Get-ExcelSheetInfo                                 7.1.1      ImportExcel                              \nFunction        Get-ExcelWorkbookInfo                              7.1.1      ImportExcel                              \nFunction        Get-HtmlTable                                      7.1.1      ImportExcel                              \nFunction        Get-Range                                          7.1.1      ImportExcel                              \nFunction        Get-XYRange                                        7.1.1      ImportExcel                              \nFunction        Import-Excel                                       7.1.1      ImportExcel                              \nFunction        Import-Html                                        7.1.1      ImportExcel                              \nFunction        Import-UPS                                         7.1.1      ImportExcel                              \nFunction        Import-USPS                                        7.1.1      ImportExcel                              \nFunction        Invoke-Sum                                         7.1.1      ImportExcel                              \nFunction        Join-Worksheet                                     7.1.1      ImportExcel                              \nFunction        LineChart                                          7.1.1      ImportExcel                              \nFunction        Merge-MultipleSheets                               7.1.1      ImportExcel                              \nFunction        Merge-Worksheet                                    7.1.1      ImportExcel                              \nFunction        New-ConditionalFormattingIconSet                   7.1.1      ImportExcel                              \nFunction        New-ConditionalText                                7.1.1      ImportExcel                              \nFunction        New-ExcelChartDefinition                           7.1.1      ImportExcel                              \nFunction        New-ExcelStyle                                     7.1.1      ImportExcel                              \nFunction        New-PivotTableDefinition                           7.1.1      ImportExcel                              \nFunction        New-Plot                                           7.1.1      ImportExcel                              \nFunction        New-PSItem                                         7.1.1      ImportExcel                              \nFunction        Open-ExcelPackage                                  7.1.1      ImportExcel                              \nFunction        PieChart                                           7.1.1      ImportExcel                              \nFunction        Pivot                                              7.1.1      ImportExcel                              \nFunction        Remove-Worksheet                                   7.1.1      ImportExcel                              \nFunction        Select-Worksheet                                   7.1.1      ImportExcel                              \nFunction        Send-SQLDataToExcel                                7.1.1      ImportExcel                              \nFunction        Set-CellStyle                                      7.1.1      ImportExcel                              \nFunction        Set-ExcelColumn                                    7.1.1      ImportExcel                              \nFunction        Set-ExcelRange                                     7.1.1      ImportExcel                              \nFunction        Set-ExcelRow                                       7.1.1      ImportExcel                              \nFunction        Set-WorksheetProtection                            7.1.1      ImportExcel                              \nFunction        Test-Boolean                                       7.1.1      ImportExcel                              \nFunction        Test-Date                                          7.1.1      ImportExcel                              \nFunction        Test-Integer                                       7.1.1      ImportExcel                              \nFunction        Test-Number                                        7.1.1      ImportExcel                              \nFunction        Test-String                                        7.1.1      ImportExcel                              \nFunction        Update-FirstObjectProperties                       7.1.1      ImportExcel                              \n\n\n"
                }
            ],
            "execution_count": 1
        },
        {
            "cell_type": "markdown",
            "source": [
                "## Start with something easy\n",
                "\n",
                "Let's start of by showing the power of PowerShell and the ImportExcel module\n",
                "\n",
                "First lets get the logins on an instance with dbatools, you can list them here and save the results in a notebook or you can copy the results and paste them into an email or somthing else, maybe Excel!"
            ],
            "metadata": {
                "azdata_cell_guid": "fe7a23c9-4f8a-48cf-8fad-95048ca3be04"
            }
        },
        {
            "cell_type": "code",
            "source": [
                "Get-DbaLogin -SqlInstance localhost | Format-Table"
            ],
            "metadata": {
                "azdata_cell_guid": "d29110c6-12d3-4d75-89ba-e1b13ad0d654"
            },
            "outputs": [
                {
                    "output_type": "stream",
                    "name": "stdout",
                    "text": "\n"
                },
                {
                    "output_type": "stream",
                    "name": "stdout",
                    "text": "ComputerName  InstanceName SqlInstance   Name                                LoginType CreateDate          LastLogin   \n------------  ------------ -----------   ----                                --------- ----------          ---------   \nBEARD-DESKTOP MSSQLSERVER  BEARD-DESKTOP ##MS_PolicyEventProcessingLogin##    SqlLogin 24/09/2019 14:21:53             \nBEARD-DESKTOP MSSQLSERVER  BEARD-DESKTOP ##MS_PolicyTsqlExecutionLogin##      SqlLogin 24/09/2019 14:21:53             \nBEARD-DESKTOP MSSQLSERVER  BEARD-DESKTOP BEARD-DESKTOP\\mrrob               WindowsUser 20/06/2020 14:00:33 11/11/202...\nBEARD-DESKTOP MSSQLSERVER  BEARD-DESKTOP NT AUTHORITY\\SYSTEM               WindowsUser 20/06/2020 14:00:33             \nBEARD-DESKTOP MSSQLSERVER  BEARD-DESKTOP NT Service\\MSSQLSERVER            WindowsUser 20/06/2020 14:00:33             \nBEARD-DESKTOP MSSQLSERVER  BEARD-DESKTOP NT SERVICE\\SQLSERVERAGENT         WindowsUser 20/06/2020 14:00:34             \nBEARD-DESKTOP MSSQLSERVER  BEARD-DESKTOP NT SERVICE\\SQLTELEMETRY           WindowsUser 20/06/2020 14:00:34 11/11/202...\nBEARD-DESKTOP MSSQLSERVER  BEARD-DESKTOP NT SERVICE\\SQLWriter              WindowsUser 20/06/2020 14:00:33             \nBEARD-DESKTOP MSSQLSERVER  BEARD-DESKTOP NT SERVICE\\Winmgmt                WindowsUser 20/06/2020 14:00:33             \nBEARD-DESKTOP MSSQLSERVER  BEARD-DESKTOP sa                                   SqlLogin 08/04/2003 09:10:35 11/11/202...\nBEARD-DESKTOP MSSQLSERVER  BEARD-DESKTOP sockfactory                          SqlLogin 24/06/2020 16:16:06             \n\n\n"
                }
            ],
            "execution_count": 2
        },
        {
            "cell_type": "markdown",
            "source": [
                "Of course, your user will want them in Excel!!\n",
                "\n",
                "With ImportExcel Module, it is easy to pipe the results from any command into an excel worksheet"
            ],
            "metadata": {
                "azdata_cell_guid": "378e0cce-763a-421a-b2f3-297e3770871b"
            }
        },
        {
            "cell_type": "code",
            "source": [
                "Get-DbaLogin -SqlInstance localhost | Export-Excel -Path C:\\temp\\xlsx\\Logins.xlsx\r\n",
                "Invoke-Item C:\\temp\\xlsx\\Logins.xlsx"
            ],
            "metadata": {
                "azdata_cell_guid": "6060475b-97db-47ff-98ac-323ba0c2f196"
            },
            "outputs": [
                {
                    "output_type": "stream",
                    "name": "stdout",
                    "text": ""
                }
            ],
            "execution_count": 3
        },
        {
            "cell_type": "markdown",
            "source": [
                "Thats cool, <u>but we want more</u>.\n",
                "\n",
                "We will often autosize the results in Excel so that the columns fit. It would be good to be able to auto format with PowerShell. With the ImportExcel you can do that with the `AutoSize` parameter"
            ],
            "metadata": {
                "azdata_cell_guid": "fe348815-95f9-4f58-9046-7157dbdafdc2"
            }
        },
        {
            "cell_type": "code",
            "source": [
                "Get-DbaLogin -SqlInstance localhost | Export-Excel -Path C:\\temp\\xlsx\\Logins.xlsx -AutoSize\r\n",
                "Invoke-Item C:\\temp\\xlsx\\Logins.xlsx"
            ],
            "metadata": {
                "azdata_cell_guid": "7e9af96a-9a7f-4ffe-9857-290e210558e0"
            },
            "outputs": [
                {
                    "output_type": "stream",
                    "name": "stdout",
                    "text": ""
                }
            ],
            "execution_count": 4
        },
        {
            "cell_type": "markdown",
            "source": [
                " Thats neat but I want to be able to filter by the columns as well. You can use the `-AutoFilter` parameter for this"
            ],
            "metadata": {
                "azdata_cell_guid": "5aec1a0a-34b3-48e9-b92a-abb15ff64e50"
            }
        },
        {
            "cell_type": "code",
            "source": [
                "Get-DbaLogin -SqlInstance localhost | Export-Excel -Path C:\\temp\\xlsx\\Logins.xlsx -AutoSize -AutoFilter\r\n",
                "Invoke-Item C:\\temp\\xlsx\\Logins.xlsx"
            ],
            "metadata": {
                "azdata_cell_guid": "5d389cd9-887f-4588-8b9e-092dc7db3748"
            },
            "outputs": [
                {
                    "output_type": "stream",
                    "name": "stdout",
                    "text": ""
                }
            ],
            "execution_count": 5
        },
        {
            "cell_type": "markdown",
            "source": [
                "To make it look a little nicer, I could name the worksheet and give the table a title.\n",
                "I want a title and to be able to name the worksheet and because I am lazy, I want it to just open with one line.\n",
                "\n",
                "You can use the `-Title`, `-WorksheetName`, and `-Show` parameters to achieve this."
            ],
            "metadata": {
                "azdata_cell_guid": "7d22d1fd-1c4d-4fb5-a4ac-fda519b9e259"
            }
        },
        {
            "cell_type": "code",
            "source": [
                "Get-DbaLogin -SqlInstance localhost | Export-Excel -Path C:\\temp\\xlsx\\Logins.xlsx -AutoSize -AutoFilter -Title \"The Logins\" -WorksheetName \"Logins\" -Show "
            ],
            "metadata": {
                "azdata_cell_guid": "f8804fa9-7a82-4ea7-8072-fad7ec948ebb"
            },
            "outputs": [
                {
                    "output_type": "stream",
                    "name": "stdout",
                    "text": ""
                }
            ],
            "execution_count": 6
        },
        {
            "cell_type": "markdown",
            "source": [
                "**Hang on a minute, what happened there?**\n",
                "\n",
                "It has created a new worksheet and added it onto the existing workbook but it made it the second one!\n",
                "\n",
                "Lets fix that with the `MoveToStart` parameter, We'll make the background yellow so its obvious and used the `FreezeTopRow` parameter to, well freeze the top row. I have also changed the code to use `splatting` which I think makes it easier to read."
            ],
            "metadata": {
                "azdata_cell_guid": "b29eeaa2-1a0c-4a1d-ae7e-7b4eef06320d"
            }
        },
        {
            "cell_type": "code",
            "source": [
                "$ExportExcelParams = @{\r\n",
                "    Path =  'C:\\temp\\xlsx\\Logins.xlsx' \r\n",
                "    AutoSize =  $true\r\n",
                "    AutoFilter =  $true\r\n",
                "    Title =  \"The Logins\" \r\n",
                "    WorksheetName =  \"Logins\" \r\n",
                "    MoveToStart =  $true\r\n",
                "    TitleBackgroundColor =  'yellow' \r\n",
                "    FreezeTopRow =  $true\r\n",
                "    Show =  $true\r\n",
                "}\r\n",
                "Get-DbaLogin -SqlInstance localhost | Export-Excel @ExportExcelParams"
            ],
            "metadata": {
                "azdata_cell_guid": "2694e534-3b3f-4a11-8937-a7777daf6248",
                "tags": []
            },
            "outputs": [
                {
                    "output_type": "stream",
                    "name": "stdout",
                    "text": ""
                }
            ],
            "execution_count": 7
        },
        {
            "cell_type": "markdown",
            "source": [
                "# Use cases\r\n",
                "\r\n",
                "This is really neat, its a simple way of getting the results of any PowerShell command, quickly and easily into an Excel sheet for sorting.\r\n",
                "\r\n",
                "At the command line, you can make sure that you are getting the results that you need and then pipe those results into the Export-Excel command.\r\n",
                "\r\n",
                "## Services\r\n",
                "\r\n",
                "So you could get the services like this.\r\n",
                "\r\n",
                "`FreezeTopRow` freezes the top row which is the title! We need to freeze the second row. To do this you use the `FreezePane` parameter and provide the rownumber and column number. In this case row 3 and column 0."
            ],
            "metadata": {
                "azdata_cell_guid": "4b4836a2-af63-47bd-9408-a0f14c229c1f"
            }
        },
        {
            "cell_type": "code",
            "source": [
                "$ExportExcelParams = @{\r\n",
                "    Path =  'C:\\temp\\xlsx\\Services.xlsx' \r\n",
                "    AutoSize =  $true\r\n",
                "    AutoFilter =  $true\r\n",
                "    Title =  \"Services on $Env:ComputerName\" \r\n",
                "    WorksheetName =  \"Services\" \r\n",
                "    MoveToStart =  $true\r\n",
                "    TitleBackgroundColor =  'darkgray' \r\n",
                "    FreezePane = 3,0\r\n",
                "    Show =  $true\r\n",
                "}\r\n",
                "Get-Service | Export-Excel @ExportExcelParams"
            ],
            "metadata": {
                "azdata_cell_guid": "0c0e72b2-9c5d-4290-a4ab-3026111155a6"
            },
            "outputs": [
                {
                    "output_type": "stream",
                    "name": "stdout",
                    "text": ""
                }
            ],
            "execution_count": 8
        },
        {
            "cell_type": "markdown",
            "source": [
                "## Processes\n",
                "\n",
                "Or the Processes like this. This takes a little minute"
            ],
            "metadata": {
                "azdata_cell_guid": "32830f9c-e065-4da1-8fd9-110431e00963"
            }
        },
        {
            "cell_type": "code",
            "source": [
                "$ExportExcelParams = @{\r\n",
                "    Path =  'C:\\temp\\xlsx\\Processes.xlsx' \r\n",
                "    AutoSize =  $true\r\n",
                "    AutoFilter =  $true\r\n",
                "    Title =  \"Processes on $Env:ComputerName\" \r\n",
                "    WorksheetName =  \"Processes\" \r\n",
                "    MoveToStart =  $true\r\n",
                "    TitleBackgroundColor =  'darkgray' \r\n",
                "    FreezePane = 3,0\r\n",
                "    Show =  $true\r\n",
                "}\r\n",
                "Get-Process | Export-Excel @ExportExcelParams"
            ],
            "metadata": {
                "azdata_cell_guid": "d2f9ba3f-b744-477c-9662-36b4e7912915"
            },
            "outputs": [],
            "execution_count": null
        },
        {
            "cell_type": "markdown",
            "source": [
                "## Event Logs\r\n",
                "\r\n",
                "You can do the same thing with Windows Event logs. This time you will add both Application and System Event Log entries into seperate worksheets"
            ],
            "metadata": {
                "azdata_cell_guid": "0ff3f569-bf6d-4510-904e-b52bdc0816f0"
            }
        },
        {
            "cell_type": "code",
            "source": [
                "$ExportExcelParams = @{\r\n",
                "    Path = 'C:\\temp\\xlsx\\EventLogs.xlsx'\r\n",
                "    AutoSize =  $true\r\n",
                "    AutoFilter =  $true\r\n",
                "    Title =  \"Event Log on $Env:ComputerName\" \r\n",
                "    MoveToStart =  $true\r\n",
                "    TitleBackgroundColor =  'darkgray' \r\n",
                "    FreezePane = 3,0\r\n",
                "}\r\n",
                "Get-WinEvent -LogName System -MaxEvents 100  | Export-Excel @ExportExcelParams  -WorksheetName \"System\" \r\n",
                "Get-WinEvent -LogName Application -MaxEvents 100  | Export-Excel @ExportExcelParams  -WorksheetName \"Application\" -Show"
            ],
            "metadata": {
                "azdata_cell_guid": "c15bbd35-8c24-49ec-acab-f23e3ff40578"
            },
            "outputs": [
                {
                    "output_type": "stream",
                    "name": "stdout",
                    "text": ""
                }
            ],
            "execution_count": 10
        },
        {
            "cell_type": "markdown",
            "source": [
                "###  SQL Error Logs"
            ],
            "metadata": {
                "azdata_cell_guid": "2012117a-b820-49d7-b547-86dbcfdaf16c"
            }
        },
        {
            "cell_type": "code",
            "source": [
                "$ExportExcelParams = @{\r\n",
                "    Path =  'C:\\temp\\xlsx\\SQLErrorLogs.xlsx' \r\n",
                "    AutoSize =  $true\r\n",
                "    AutoFilter =  $true\r\n",
                "    Title =  \"SQL Error Log\" \r\n",
                "    WorksheetName =  \"SQL Error Log\" \r\n",
                "    MoveToStart =  $true\r\n",
                "    TitleBackgroundColor =  'darkgray' \r\n",
                "    FreezePane = 3,0\r\n",
                "    Show =  $true\r\n",
                "}\r\n",
                "Get-DbaErrorLog -SqlInstance localhost  | Export-Excel  @ExportExcelParams\r\n",
                ""
            ],
            "metadata": {
                "azdata_cell_guid": "628834b1-8b06-4497-97e4-afb0ee11cfa5"
            },
            "outputs": [
                {
                    "output_type": "stream",
                    "name": "stdout",
                    "text": ""
                }
            ],
            "execution_count": 11
        },
        {
            "cell_type": "markdown",
            "source": [
                "## How About doing it all in one workbook ?"
            ],
            "metadata": {
                "azdata_cell_guid": "f65ddcff-f9fb-4320-82c2-80483b7bd24a"
            }
        },
        {
            "cell_type": "code",
            "source": [
                "$ExportExcelParams = @{\r\n",
                "    Path =  'C:\\temp\\xlsx\\Incident.xlsx' \r\n",
                "    AutoSize =  $true\r\n",
                "    AutoFilter =  $true\r\n",
                "    MoveToStart =  $true\r\n",
                "    FreezeTopRow = $true\r\n",
                "}\r\n",
                "\r\n",
                "Get-Service | Export-Excel @ExportExcelParams -WorksheetName \"Services\" \r\n",
                "# Get-Process | Export-Excel @ExportExcelParams -WorksheetName \"Processes\" \r\n",
                "'Get-Process' | Export-Excel @ExportExcelParams -WorksheetName \"Processes\" \r\n",
                "Get-WinEvent -LogName System -MaxEvents 100  | Export-Excel @ExportExcelParams -WorksheetName \"System\" \r\n",
                "Get-WinEvent -LogName Application -MaxEvents 100  | Export-Excel @ExportExcelParams -WorksheetName \"Application\" \r\n",
                "Get-DbaErrorLog -SqlInstance localhost  | Export-Excel @ExportExcelParams -WorksheetName \"SQL Error Logs\" -Show\r\n",
                ""
            ],
            "metadata": {
                "azdata_cell_guid": "6dd21576-e49d-4cbc-b10d-431f4153e160"
            },
            "outputs": [
                {
                    "output_type": "stream",
                    "name": "stdout",
                    "text": ""
                }
            ],
            "execution_count": 12
        },
        {
            "cell_type": "markdown",
            "source": [
                "## More Information needed\r\n",
                "\r\n",
                "So thats useful but how about if we add a front page which gives some more information?"
            ],
            "metadata": {
                "azdata_cell_guid": "a6369b59-c330-47c0-ae97-0581fccdf420"
            }
        },
        {
            "cell_type": "code",
            "source": [
                "$SqlInstance = 'Beard-Desktop'\r\n",
                "$Date = Get-Date -Format yyyyMMdd\r\n",
                "$Directory = 'C:\\temp\\xlsx\\'\r\n",
                "$ExcelFile = $Directory + $Date + '_Incident_For_' + $SqlInstance + '.xlsx'\r\n",
                "\r\n",
                "$ExportExcelParams = @{\r\n",
                "    Path =  $ExcelFile \r\n",
                "    AutoSize =  $true\r\n",
                "    AutoFilter =  $true\r\n",
                "    MoveToStart =  $true\r\n",
                "    FreezeTopRow = $true\r\n",
                "}\r\n",
                "\r\n",
                "\r\n",
                "Get-Service | Export-Excel @ExportExcelParams -WorksheetName \"Services\" \r\n",
                "'Get-Process' | Export-Excel @ExportExcelParams -WorksheetName \"Processes\" \r\n",
                "Get-WinEvent -LogName System -MaxEvents 100  | Export-Excel @ExportExcelParams -WorksheetName \"System\" \r\n",
                "Get-WinEvent -LogName Application -MaxEvents 100  | Export-Excel @ExportExcelParams -WorksheetName \"Application\" \r\n",
                "Get-DbaErrorLog -SqlInstance localhost  | Export-Excel @ExportExcelParams -WorksheetName \"SQL Error Logs\" \r\n",
                "\r\n",
                "$Excel = Open-ExcelPackage -Path $ExcelFile\r\n",
                "Add-Worksheet -ExcelPackage $Excel -WorksheetName 'Title' -MoveToStart | Out-Null\r\n",
                "\r\n",
                "$TitleSheet = $excel.Workbook.Worksheets['Title']\r\n",
                "$Date = (Get-Date).ToLongDateString()\r\n",
                "$TitleSheet.Cells[\"A1\"].value = \"This Worksheet shows the System Event Log, Application Event Log, Services,Processes and SQL Error Log for $sqlinstance at $Date \"\r\n",
                "Set-ExcelRange -Worksheet $TitleSheet -Range \"A:1\" -Bold -FontSize 22 -Underline -UnderLineType Double\r\n",
                "\r\n",
                "Close-ExcelPackage $excel\r\n",
                "\r\n",
                "Write-Output \"                ###############                  \"\r\n",
                "Write-Output \"        FileName is $ExcelFile            \"\r\n",
                "Write-Output \"                ###############                  \"\r\n",
                "Write-Output \"\"\r\n",
                "\r\n",
                "Invoke-Item $ExcelFile"
            ],
            "metadata": {
                "azdata_cell_guid": "b7ace136-a597-43b8-bd66-ff0dd142ca09",
                "tags": []
            },
            "outputs": [
                {
                    "output_type": "stream",
                    "name": "stdout",
                    "text": ". {\n>> $SqlInstance = 'Beard-Desktop'\n>> $Date = Get-Date -Format yyyyMMdd\n>> $Directory = 'C:\\temp\\xlsx\\'\n>> $ExcelFile = $Directory + $Date + '_Incident_For_' + $SqlInstance + '.xlsx'\n>> \n>> $ExportExcelParams = @{\n>>     Path =  $ExcelFile \n>>     AutoSize =  $true\n>>     AutoFilter =  $true\n>>     MoveToStart =  $true\n>>     FreezeTopRow = $true\n>> }\n>> \n>> \n>> Get-Service | Export-Excel @ExportExcelParams -WorksheetName \"Services\" \n>> 'Get-Process' | Export-Excel @ExportExcelParams -WorksheetName \"Processes\" \n>> Get-WinEvent -LogName System -MaxEvents 100  | Export-Excel @ExportExcelParams -WorksheetName \"System\" \n>> Get-WinEvent -LogName Application -MaxEvents 100  | Export-Excel @ExportExcelParams -WorksheetName \"Application\" \n>> Get-DbaErrorLog -SqlInstance localhost  | Export-Excel @ExportExcelParams -WorksheetName \"SQL Error Logs\" \n>> \n>> $Excel = Open-ExcelPackage -Path $ExcelFile\n>> Add-Worksheet -ExcelPackage $Excel -WorksheetName 'Title' -MoveToStart | Out-Null\n>> \n>> $TitleSheet = $excel.Workbook.Worksheets['Title']\n>> $Date = (Get-Date).ToLongDateString()\n>> $TitleSheet.Cells[\"A1\"].value = \"This Worksheet shows the System Event Log, Application Event Log, Services,Processes and SQL Error Log for $sqlinstance at $Date \"\n>> Set-ExcelRange -Worksheet $TitleSheet -Range \"A:1\" -Bold -FontSize 22 -Underline -UnderLineType Double\n>> \n"
                },
                {
                    "output_type": "stream",
                    "name": "stdout",
                    "text": ">> Close-ExcelPackage $excel\n>> \n>> Write-Output \"                ###############                  \"\n>> Write-Output \"        FileName is $ExcelFile            \"\n>> Write-Output \"                ###############                  \"\n>> Write-Output \"\"\n>> \n>> Invoke-Item $ExcelFile\n>> }\n>> \n"
                },
                {
                    "output_type": "stream",
                    "name": "stdout",
                    "text": "                ###############                  \n        FileName is C:\\temp\\xlsx\\20201111_Incident_For_Beard-Desktop.xlsx            \n                ###############                  \n\n"
                }
            ],
            "execution_count": 13
        },
        {
            "cell_type": "markdown",
            "source": [
                "## Charts and Graphs and Pivot Tables"
            ],
            "metadata": {
                "azdata_cell_guid": "db8686f2-4298-40e0-a3cf-74747d9acf3f"
            }
        },
        {
            "cell_type": "code",
            "source": [
                "$Query = \"SELECT Top 25000 PROD.Name, \r\n",
                "OrdHead.OrderDate ,\r\n",
                "Details.OrderQty\r\n",
                "FROM Sales.SalesOrderDetail AS Details\r\n",
                "INNER JOIN Production.Product AS PROD ON Details.ProductID = PROD.ProductID\r\n",
                "INNER JOIN Sales.SalesOrderHeader AS OrdHead ON Details.SalesOrderID = OrdHead.SalesOrderID\"\r\n",
                "$results = Invoke-DbaQuery -SqlInstance localhost -Database AdventureWorks2017 -Query $Query \r\n",
                "$results | Export-Excel -Path C:\\temp\\xlsx\\query.xlsx -Show"
            ],
            "metadata": {
                "azdata_cell_guid": "ae5f51db-915e-4ebf-b5e9-8bb58d332bcb"
            },
            "outputs": [
                {
                    "output_type": "stream",
                    "name": "stdout",
                    "text": "Exception calling \"Save\" with \"0\" argument(s): \"Error saving file C:\\temp\\xlsx\\query.xlsx\"\nAt C:\\Users\\mrrob\\OneDrive\\Documents\\WindowsPowerShell\\Modules\\ImportExcel\\7.1.1\\Public\\Export-Excel.ps1:672 char:32\n+             else           {   $pkg.Save() }\n+                                ~~~~~~~~~~~\n    + CategoryInfo          : NotSpecified: (:) [], MethodInvocationException\n    + FullyQualifiedErrorId : InvalidOperationException\n \n"
                },
                {
                    "output_type": "stream",
                    "name": "stdout",
                    "text": ""
                }
            ],
            "execution_count": 15
        },
        {
            "cell_type": "markdown",
            "source": [
                "Thats a bit annoying but it is due to the datatable object that is returned. We can fix that using `Select * -ExcludeProperty ItemArray, RowError, RowState, Table, HasErrors`"
            ],
            "metadata": {
                "azdata_cell_guid": "7b7c0be4-446d-4b01-9614-46d0afeae9ca"
            }
        },
        {
            "cell_type": "code",
            "source": [
                "$Query = \"SELECT Top 25000 PROD.Name, \n",
                "OrdHead.OrderDate ,\n",
                "Details.OrderQty\n",
                "FROM Sales.SalesOrderDetail AS Details\n",
                "INNER JOIN Production.Product AS PROD ON Details.ProductID = PROD.ProductID\n",
                "INNER JOIN Sales.SalesOrderHeader AS OrdHead ON Details.SalesOrderID = OrdHead.SalesOrderID\"\n",
                "$results = Invoke-DbaQuery -SqlInstance localhost -Database AdventureWorks2017 -Query $Query  |Select * -ExcludeProperty ItemArray, RowError, RowState, Table, HasErrors\n",
                "$results  | Export-Excel -Path C:\\temp\\xlsx\\newquery.xlsx -Show"
            ],
            "metadata": {
                "azdata_cell_guid": "12d3fd4e-b8f6-49c8-a550-fdeeed4306e8"
            },
            "outputs": [
                {
                    "output_type": "stream",
                    "name": "stdout",
                    "text": ". {\n"
                },
                {
                    "output_type": "stream",
                    "name": "stdout",
                    "text": ">> $Query = \"SELECT Top 25000 PROD.Name, \n>> OrdHead.OrderDate ,\n>> Details.OrderQty\n>> FROM Sales.SalesOrderDetail AS Details\n>> INNER JOIN Production.Product AS PROD ON Details.ProductID = PROD.ProductID\n>> INNER JOIN Sales.SalesOrderHeader AS OrdHead ON Details.SalesOrderID = OrdHead.SalesOrderID\"\n>> $results = Invoke-DbaQuery -SqlInstance localhost -Database AdventureWorks2017 -Query $Query  |Select * -ExcludeProperty ItemArray, RowError, RowState, Table, HasErrors\n>> $results  | Export-Excel -Path C:\\temp\\xlsx\\newquery.xlsx -Show\n>> }\n>> \n"
                },
                {
                    "output_type": "stream",
                    "name": "stdout",
                    "text": ""
                }
            ],
            "execution_count": 16
        },
        {
            "cell_type": "markdown",
            "source": [
                "Lets format it nicely again"
            ],
            "metadata": {
                "azdata_cell_guid": "995159a0-515a-49d4-85b1-36c141654878"
            }
        },
        {
            "cell_type": "code",
            "source": [
                "$ExportExcelParams = @{\r\n",
                "    Path =  'C:\\temp\\xlsx\\formattedquery.xlsx' \r\n",
                "    WorksheetName = 'A Query'\r\n",
                "    TableName = 'BeardsAreAwesome'\r\n",
                "    TableStyle = 'Dark1'\r\n",
                "    AutoSize =  $true\r\n",
                "    AutoFilter =  $true\r\n",
                "    MoveToStart =  $true\r\n",
                "    FreezeTopRow = $true\r\n",
                "    Show = $true\r\n",
                "}\r\n",
                "$results | Export-Excel @ExportExcelParams"
            ],
            "metadata": {
                "azdata_cell_guid": "661e5eb0-d3b4-4d1b-9840-6d0d12059b2c"
            },
            "outputs": [
                {
                    "output_type": "stream",
                    "name": "stdout",
                    "text": ""
                }
            ],
            "execution_count": 17
        },
        {
            "cell_type": "markdown",
            "source": [
                "## Chart\r\n",
                "\r\n",
                "Of course, charts are interesting too.\r\n",
                "\r\n",
                "You can query a table, export the results to a table, and create a chart. We will also remove hte annoying Sheet1 too"
            ],
            "metadata": {
                "azdata_cell_guid": "3820dba5-2d1a-417b-bd28-74e928a2a18a"
            }
        },
        {
            "cell_type": "code",
            "source": [
                "$ExcelFilePath =  'C:\\temp\\xlsx\\chartedquery.xlsx'\r\n",
                "\r\n",
                "$Query = \"SELECT  \r\n",
                "YEAR(OrdHead.OrderDate) AS Year,\r\n",
                "SUM(Details.OrderQty) AS TotalSales\r\n",
                "FROM Sales.SalesOrderDetail AS Details\r\n",
                "INNER JOIN Production.Product AS PROD ON Details.ProductID = PROD.ProductID\r\n",
                "INNER JOIN Sales.SalesOrderHeader AS OrdHead ON Details.SalesOrderID = OrdHead.SalesOrderID\r\n",
                "GROUP BY YEAR(OrdHead.OrderDate)\r\n",
                "ORDER BY YEAR(OrdHead.OrderDate) \r\n",
                "\"\r\n",
                "$ExportExcelParams = @{\r\n",
                "    Path =  $ExcelFilePath \r\n",
                "    WorksheetName = 'BeardsAreAwesome'\r\n",
                "    TableName = 'BeardsAreAwesome'\r\n",
                "    TableStyle = 'Dark1'\r\n",
                "    AutoSize =  $true\r\n",
                "    AutoFilter =  $true\r\n",
                "    MoveToStart =  $true\r\n",
                "    FreezeTopRow = $true\r\n",
                "    AutoNameRange = $true\r\n",
                "}\r\n",
                "\r\n",
                "$ChartDefinition = @{\r\n",
                "    Title = 'BeardyChart' \r\n",
                "    ChartType = 'ColumnClustered' \r\n",
                "    XRange = 'Year'  \r\n",
                "    YRange = 'TotalSales'  \r\n",
                "    Column = 4\r\n",
                "    NoLegend = $true\r\n",
                "}\r\n",
                "\r\n",
                "#Gather results\r\n",
                "$results = Invoke-DbaQuery -SqlInstance localhost -Database AdventureWorks2017 -Query $Query  |Select * -ExcludeProperty ItemArray, RowError, RowState, Table, HasErrors\r\n",
                "\r\n",
                "#export results to excel \r\n",
                "$excel = $results | Export-Excel  @ExportExcelParams -PassThru\r\n",
                "\r\n",
                "Remove-Worksheet  -FullName $ExcelFilePath -WorksheetName 'Sheet1'\r\n",
                "#create chart defnition\r\n",
                "$chart = New-ExcelChartDefinition @ChartDefinition \r\n",
                "# create and save excel\r\n",
                "Export-Excel -ExcelPackage $excel -ExcelChartDefinition $chart -WorksheetName 'BeardsAreAwesome' -Show\r\n",
                ""
            ],
            "metadata": {
                "azdata_cell_guid": "3c42f9f1-2b7e-4663-b9b6-66f7e36f2b5d",
                "tags": []
            },
            "outputs": [
                {
                    "output_type": "stream",
                    "name": "stdout",
                    "text": "Exception calling \"Delete\" with \"1\" argument(s): \"Could not find worksheet to delete 'Sheet1'\"\nAt C:\\Users\\mrrob\\OneDrive\\Documents\\WindowsPowerShell\\Modules\\ImportExcel\\7.1.1\\Public\\Remove-Worksheet.ps1:22 char:21\n+                     $pkg.Workbook.Worksheets.Delete($wsn)\n+                     ~~~~~~~~~~~~~~~~~~~~~~~~~~~~~~~~~~~~~\n    + CategoryInfo          : NotSpecified: (:) [], MethodInvocationException\n    + FullyQualifiedErrorId : ArgumentException\n \n"
                },
                {
                    "output_type": "stream",
                    "name": "stdout",
                    "text": ""
                }
            ],
            "execution_count": 18
        },
        {
            "cell_type": "markdown",
            "source": [
                "I'm a DBA, I like doughnuts :-)"
            ],
            "metadata": {
                "azdata_cell_guid": "771d88a1-e30d-4198-9462-8cba2b176a13"
            }
        },
        {
            "cell_type": "code",
            "source": [
                "$ExcelFilePath =  'C:\\temp\\xlsx\\DONUTSchartedquery.xlsx'\r\n",
                "\r\n",
                "$Query = \"SELECT  \r\n",
                "YEAR(OrdHead.OrderDate) AS Year,\r\n",
                "SUM(Details.OrderQty) AS TotalSales\r\n",
                "FROM Sales.SalesOrderDetail AS Details\r\n",
                "INNER JOIN Production.Product AS PROD ON Details.ProductID = PROD.ProductID\r\n",
                "INNER JOIN Sales.SalesOrderHeader AS OrdHead ON Details.SalesOrderID = OrdHead.SalesOrderID\r\n",
                "GROUP BY YEAR(OrdHead.OrderDate)\r\n",
                "ORDER BY YEAR(OrdHead.OrderDate) \r\n",
                "\"\r\n",
                "$ExportExcelParams = @{\r\n",
                "    Path =  $ExcelFilePath \r\n",
                "    WorksheetName = 'BeardsAreAwesome'\r\n",
                "    TableName = 'BeardsAreAwesome'\r\n",
                "    TableStyle = 'Dark1'\r\n",
                "    AutoSize =  $true\r\n",
                "    AutoFilter =  $true\r\n",
                "    MoveToStart =  $true\r\n",
                "    FreezeTopRow = $true\r\n",
                "    AutoNameRange = $true\r\n",
                "}\r\n",
                "\r\n",
                "$ChartDefinition = @{\r\n",
                "    Title = 'Beardy Chart of Total Sales By Year as a donut because he LOVES donuts' \r\n",
                "    ChartType = 'Doughnut' \r\n",
                "    XRange = 'Year'  \r\n",
                "    YRange = 'TotalSales'  \r\n",
                "    Column = 4\r\n",
                "    ShowPercent = $true\r\n",
                "}\r\n",
                "\r\n",
                "#Gather results\r\n",
                "$results = Invoke-DbaQuery -SqlInstance localhost -Database AdventureWorks2017 -Query $Query  |Select * -ExcludeProperty ItemArray, RowError, RowState, Table, HasErrors\r\n",
                "\r\n",
                "#export results to excel \r\n",
                "$excel = $results | Export-Excel  @ExportExcelParams -PassThru\r\n",
                "\r\n",
                "Remove-Worksheet  -FullName $ExcelFilePath -WorksheetName 'Sheet1'\r\n",
                "#create chart defnition\r\n",
                "$chart = New-ExcelChartDefinition @ChartDefinition \r\n",
                "# create and save excel\r\n",
                "Export-Excel -ExcelPackage $excel -ExcelChartDefinition $chart -WorksheetName 'BeardsAreAwesome' -Show\r\n",
                ""
            ],
            "metadata": {
                "azdata_cell_guid": "16073965-8cc4-471d-a6e9-d0eaee087ba4"
            },
            "outputs": [
                {
                    "output_type": "stream",
                    "name": "stdout",
                    "text": "Exception calling \"Delete\" with \"1\" argument(s): \"Could not find worksheet to delete 'Sheet1'\"\nAt C:\\Users\\mrrob\\OneDrive\\Documents\\WindowsPowerShell\\Modules\\ImportExcel\\7.1.1\\Public\\Remove-Worksheet.ps1:22 char:21\n+                     $pkg.Workbook.Worksheets.Delete($wsn)\n+                     ~~~~~~~~~~~~~~~~~~~~~~~~~~~~~~~~~~~~~\n    + CategoryInfo          : NotSpecified: (:) [], MethodInvocationException\n    + FullyQualifiedErrorId : ArgumentException\n \n"
                },
                {
                    "output_type": "stream",
                    "name": "stdout",
                    "text": ""
                }
            ],
            "execution_count": 19
        },
        {
            "cell_type": "markdown",
            "source": [
                "## Pivot Tables\r\n",
                "\r\n",
                "Pivot tables are very popular with users also.\r\n",
                "\r\n",
                "You can create a pivot table in the same manner"
            ],
            "metadata": {
                "azdata_cell_guid": "c6906d74-6d19-4a8b-8a8c-248019fb5937"
            }
        },
        {
            "cell_type": "code",
            "source": [
                "$ExcelFilePath = 'C:\\temp\\xlsx\\pivotedquery.xlsx' \r\n",
                "\r\n",
                "$Query = \"SELECT PROD.Name, \r\n",
                "OrdHead.OrderDate ,\r\n",
                "Details.OrderQty\r\n",
                "FROM Sales.SalesOrderDetail AS Details\r\n",
                "INNER JOIN Production.Product AS PROD ON Details.ProductID = PROD.ProductID\r\n",
                "INNER JOIN Sales.SalesOrderHeader AS OrdHead ON Details.SalesOrderID = OrdHead.SalesOrderID\"\r\n",
                "# $results = Invoke-DbaQuery -SqlInstance localhost -Database AdventureWorks2017 -Query $Query  |Select * -ExcludeProperty ItemArray, RowError, RowState, Table, HasErrors\r\n",
                "\r\n",
                "$ExportExcelParams = @{\r\n",
                "    Path =  $ExcelFilePath\r\n",
                "    WorksheetName = 'BaseQuery'\r\n",
                "    TableName = 'BeardsAreAwesome'\r\n",
                "    TableStyle = 'Dark1'\r\n",
                "    AutoSize =  $true\r\n",
                "    AutoFilter =  $true\r\n",
                "    MoveToStart =  $true\r\n",
                "    FreezeTopRow = $true\r\n",
                "    Show = $true\r\n",
                "    PassThru = $true\r\n",
                "}\r\n",
                "\r\n",
                "$PivotTableParams = @{\r\n",
                "    PivotTableName = 'BeardyPivot' \r\n",
                "    SourceWorkSheet = 'BaseQuery' \r\n",
                "    PivotData = @{\"OrderQty\" = \"Sum\"} \r\n",
                "    PivotRows = 'OrderDate' ,'Name'\r\n",
                "}\r\n",
                "\r\n",
                "$excel = $results | Export-Excel @ExportExcelParams \r\n",
                "Remove-Worksheet  -FullName $ExcelFilePath -WorksheetName 'Sheet1'\r\n",
                "\r\n",
                "$PivotTable = New-PivotTableDefinition  @PivotTableParams\r\n",
                "\r\n",
                "Export-Excel -ExcelPackage $excel -PivotTableDefinition $PivotTable -Show"
            ],
            "metadata": {
                "azdata_cell_guid": "2ebbed14-8740-4c49-8377-2166e4ef97fe"
            },
            "outputs": [
                {
                    "output_type": "stream",
                    "name": "stdout",
                    "text": ". {\n>> $ExcelFilePath = 'C:\\temp\\xlsx\\pivotedquery.xlsx' \n>> \n>> $Query = \"SELECT PROD.Name, \n>> OrdHead.OrderDate ,\n>> Details.OrderQty\n>> FROM Sales.SalesOrderDetail AS Details\n>> INNER JOIN Production.Product AS PROD ON Details.ProductID = PROD.ProductID\n>> INNER JOIN Sales.SalesOrderHeader AS OrdHead ON Details.SalesOrderID = OrdHead.SalesOrderID\"\n>> # $results = Invoke-DbaQuery -SqlInstance localhost -Database AdventureWorks2017 -Query $Query  |Select * -ExcludeProperty ItemArray, RowError, RowState, Table, HasErrors\n>> \n>> $ExportExcelParams = @{\n>>     Path =  $ExcelFilePath\n>>     WorksheetName = 'BaseQuery'\n>>     TableName = 'BeardsAreAwesome'\n>>     TableStyle = 'Dark1'\n>>     AutoSize =  $true\n>>     AutoFilter =  $true\n>>     MoveToStart =  $true\n>>     FreezeTopRow = $true\n>>     Show = $true\n>>     PassThru = $true\n>> }\n>> \n>> $PivotTableParams = @{\n>>     PivotTableName = 'BeardyPivot' \n>>     SourceWorkSheet = 'BaseQuery' \n>>     PivotData = @{\"OrderQty\" = \"Sum\"} \n>>     PivotRows = 'OrderDate' ,'Name'\n>> }\n>> \n"
                },
                {
                    "output_type": "stream",
                    "name": "stdout",
                    "text": ">> $excel = $results | Export-Excel @ExportExcelParams \n>> Remove-Worksheet  -FullName $ExcelFilePath -WorksheetName 'Sheet1'\n>> \n>> $PivotTable = New-PivotTableDefinition  @PivotTableParams\n>> \n>> Export-Excel -ExcelPackage $excel -PivotTableDefinition $PivotTable -Show\n>> }\n>> \n"
                },
                {
                    "output_type": "stream",
                    "name": "stdout",
                    "text": "WARNING: Could not find C:\\temp\\xlsx\\pivotedquery.xlsx\n"
                },
                {
                    "output_type": "stream",
                    "name": "stdout",
                    "text": ""
                }
            ],
            "execution_count": 21
        },
        {
            "cell_type": "markdown",
            "source": [
                "Wouldnt it be great if we had the \"magic\" date also"
            ],
            "metadata": {
                "azdata_cell_guid": "31877143-f042-4572-9ac7-19886a5b92aa"
            }
        },
        {
            "cell_type": "code",
            "source": [
                "$ExcelFilePath =  'C:\\temp\\xlsx\\benspivoteddatedquery.xlsx'\r\n",
                "$ExportExcelParams = @{\r\n",
                "    Path = $ExcelFilePath\r\n",
                "    WorksheetName = 'BaseQuery'\r\n",
                "    TableName = 'BeardsAreAwesome'\r\n",
                "    TableStyle = 'Dark1'\r\n",
                "    AutoSize =  $true\r\n",
                "    AutoFilter =  $true\r\n",
                "    MoveToStart =  $true\r\n",
                "    FreezeTopRow = $true\r\n",
                "    Show = $true\r\n",
                "    PassThru = $true\r\n",
                "}\r\n",
                "\r\n",
                "$PivotTableParams = @{\r\n",
                "    PivotTableName = 'BeardyPivot' \r\n",
                "    SourceWorkSheet = 'BaseQuery' \r\n",
                "    PivotData = @{\"OrderQty\" = \"Sum\"} \r\n",
                "    PivotRows = 'OrderDate' ,'Name'\r\n",
                "    GroupDateRow =  'OrderDate' \r\n",
                "    GroupDatePart = 'Years', 'Months', 'Days' \r\n",
                "    PivotTableStyle = 'Medium1' \r\n",
                "}\r\n",
                "\r\n",
                "\r\n",
                "$excel = $results | Export-Excel @ExportExcelParams \r\n",
                "\r\n",
                "$PivotTable = New-PivotTableDefinition @PivotTableParams\r\n",
                "Remove-Worksheet  -FullName $ExcelFilePath -WorksheetName 'Sheet1'\r\n",
                "\r\n",
                "Export-Excel -ExcelPackage $excel -PivotTableDefinition $PivotTable -Show"
            ],
            "metadata": {
                "azdata_cell_guid": "195a34b6-4f24-40a2-bd8c-ff8aaa85fc34"
            },
            "outputs": [
                {
                    "output_type": "stream",
                    "name": "stdout",
                    "text": "WARNING: Could not find C:\\temp\\xlsx\\benspivoteddatedquery.xlsx\n"
                },
                {
                    "output_type": "stream",
                    "name": "stdout",
                    "text": ""
                }
            ],
            "execution_count": 23
        },
        {
            "cell_type": "markdown",
            "source": [
                "and you can add a Pivot Chart also like this"
            ],
            "metadata": {
                "azdata_cell_guid": "581ac243-6521-4a6f-8f31-450e99dd092b"
            }
        },
        {
            "cell_type": "code",
            "source": [
                "$ExportExcelParams = @{\r\n",
                "    Path =  'C:\\temp\\xlsx\\benpivoteddatedchartedquery.xlsx' \r\n",
                "    WorksheetName = 'BaseQuery'\r\n",
                "    TableName = 'BeardsAreAwesome'\r\n",
                "    TableStyle = 'Dark1'\r\n",
                "    AutoSize =  $true\r\n",
                "    AutoFilter =  $true\r\n",
                "    MoveToStart =  $true\r\n",
                "    FreezeTopRow = $true\r\n",
                "    Show = $true\r\n",
                "    PassThru = $true\r\n",
                "}\r\n",
                "\r\n",
                "$PivotTableParams = @{\r\n",
                "    PivotTableName = 'BeardyPivot' \r\n",
                "    SourceWorkSheet = 'BaseQuery' \r\n",
                "    PivotData = @{\"OrderQty\" = \"Sum\"} \r\n",
                "    PivotRows = 'OrderDate' ,'Name'\r\n",
                "    GroupDateRow =  'OrderDate' \r\n",
                "    GroupDatePart = 'Years', 'Months', 'Days' \r\n",
                "    PivotTableStyle = 'Medium1' \r\n",
                "    IncludePivotChart = $true\r\n",
                "    ChartTitle = 'BeardyChart' \r\n",
                "    ChartType = 'ColumnClustered' \r\n",
                "    ChartColumn = 6\r\n",
                "}\r\n",
                "\r\n",
                "\r\n",
                "$excel = $results | Export-Excel @ExportExcelParams \r\n",
                "\r\n",
                "$PivotTable = New-PivotTableDefinition @PivotTableParams \r\n",
                "\r\n",
                "Export-Excel -ExcelPackage $excel -PivotTableDefinition $PivotTable -Show"
            ],
            "metadata": {
                "azdata_cell_guid": "8b19b28f-2e43-4dd1-a731-77583659a2e0"
            },
            "outputs": [
                {
                    "output_type": "stream",
                    "name": "stdout",
                    "text": ""
                }
            ],
            "execution_count": 25
        },
        {
            "cell_type": "markdown",
            "source": [
                "## Formatting\r\n",
                "\r\n",
                "Excel enables you to do custom formatting. ImportExcel does the same.\r\n",
                "\r\n",
                "Lets check permissions on an instance and colour code the results depending on the role membership"
            ],
            "metadata": {
                "azdata_cell_guid": "76b4d533-dbe1-4359-92c3-f9eb18dc8013"
            }
        },
        {
            "cell_type": "code",
            "source": [
                "$ExcelDirectory = 'c:\\temp\\xlsx\\' # Alter this to the directory you want the file created\r\n",
                "$SQlinstance = 'localhost'  # Alter this for the SQL Instance you want to get permissions for\r\n",
                "\r\n",
                "Write-Output \"Processing $sqlinstance\"\r\n",
                "\r\n",
                "$InstanceName = $SQlinstance.Split('\\').Split('.').Split('\\').Split(',') -join '_'\r\n",
                "$ExcelFile = $ExcelDirectory + '\\' + $InstanceName + '_Permssions_OneTab_' + (Get-Date).ToString('yyyy-MM-dd') + '.xlsx'\r\n",
                "\r\n",
                "Write-Output \"    FileName is $ExcelFile\"\r\n",
                "\r\n",
                "$WorkSheetName = \"Permissions\"\r\n",
                "\r\n",
                "    $excel = Get-DbaUserPermission -SqlInstance $sqlinstance | Export-Excel -Path $ExcelFile -WorksheetName $WorkSheetName -AutoSize -FreezeTopRow -AutoFilter -PassThru\r\n",
                "  \r\n",
                "    $rulesparam = @{\r\n",
                "        Address   = $excel.Workbook.Worksheets[$WorkSheetName].Dimension.Address\r\n",
                "        WorkSheet = $excel.Workbook.Worksheets[$WorkSheetName] \r\n",
                "        RuleType  = 'Expression'      \r\n",
                "    }\r\n",
                "\r\n",
                "    Add-ConditionalFormatting @rulesparam -ConditionValue 'NOT(ISERROR(FIND(\"sysadmin\",$G1)))' -BackgroundColor Yellow -StopIfTrue\r\n",
                "    Add-ConditionalFormatting @rulesparam -ConditionValue 'NOT(ISERROR(FIND(\"db_owner\",$G1)))' -BackgroundColor Yellow -StopIfTrue\r\n",
                "    Add-ConditionalFormatting @rulesparam -ConditionValue 'NOT(ISERROR(FIND(\"SERVER LOGINS\",$E1)))' -BackgroundColor PaleGreen \r\n",
                "    Add-ConditionalFormatting @rulesparam -ConditionValue 'NOT(ISERROR(FIND(\"SERVER SECURABLES\",$E1)))' -BackgroundColor PowderBlue \r\n",
                "    Add-ConditionalFormatting @rulesparam -ConditionValue 'NOT(ISERROR(FIND(\"DB ROLE MEMBERS\",$E1)))' -BackgroundColor GoldenRod \r\n",
                "    Add-ConditionalFormatting @rulesparam -ConditionValue 'NOT(ISERROR(FIND(\"DB SECURABLES\",$E1)))' -BackgroundColor BurlyWood \r\n",
                "\r\n",
                "    Close-ExcelPackage $excel\r\n",
                "\r\n",
                "\r\n",
                "Write-Output \"\"\r\n",
                "Write-Output \"Finished Processing $sqlinstance\"\r\n",
                "\r\n",
                "$Excel = Open-ExcelPackage -Path $ExcelFile\r\n",
                "Add-Worksheet -ExcelPackage $Excel -WorksheetName 'Title' -MoveToStart | Out-Null\r\n",
                "\r\n",
                "$TitleSheet = $excel.Workbook.Worksheets['Title']\r\n",
                "$Date = (Get-Date).ToLongDateString()\r\n",
                "$TitleSheet.Cells[\"A1\"].value = \"This Worksheet shows the User Permissions for each database on $sqlinstance at $Date \"\r\n",
                "Set-ExcelRange -Worksheet $TitleSheet -Range \"A:1\" -Bold -FontSize 22 -Underline -UnderLineType Double\r\n",
                "\r\n",
                "$TitleSheet.Cells[\"B3\"].Value = \"The Cells are colour coded as follows :-\"\r\n",
                "Set-ExcelRange -Worksheet $TitleSheet -Range \"B3\" -Bold -FontSize 18 \r\n",
                "$TitleSheet.Cells[\"E5\"].Value = \"The Yellow Cells show members of the sysadmin role who have permission to do and access anything on the instance \"\r\n",
                "$TitleSheet.Cells[\"E6\"].Value = \"The Green Cells show the logins on the server\"\r\n",
                "$TitleSheet.Cells[\"E7\"].Value = \"The Blue Cells show the instance level permissions that have been granted to the logins\"\r\n",
                "$TitleSheet.Cells[\"E8\"].Value = \"The Orange Cells show the database role membership for the login\"\r\n",
                "$TitleSheet.Cells[\"E9\"].Value = \"The Brown Cells show specific database permissions that have been granted for the logins\"\r\n",
                "\r\n",
                "$TitleSheet.Cells[\"B11\"].Value = \"You can filter by Database on the Object column\"\r\n",
                "Set-ExcelRange -Worksheet $TitleSheet -Range \"C11\" -FontSize 18\r\n",
                "\r\n",
                "$TitleSheet.Cells[\"B12\"].Value = \"You can filter by User/Group/Login on the Member column\"\r\n",
                "Set-ExcelRange -Worksheet $TitleSheet -Range \"C12\" -FontSize 18\r\n",
                "\r\n",
                "Set-ExcelRange -Worksheet $TitleSheet -Range  \"C5\" -BackgroundColor Yellow\r\n",
                "Set-ExcelRange -Worksheet $TitleSheet -Range  \"C6\" -BackgroundColor PaleGreen\r\n",
                "Set-ExcelRange -Worksheet $TitleSheet -Range  \"C7\" -BackgroundColor PowderBlue \r\n",
                "Set-ExcelRange -Worksheet $TitleSheet -Range  \"C8\" -BackgroundColor GoldenRod \r\n",
                "Set-ExcelRange -Worksheet $TitleSheet -Range  \"C9\" -BackgroundColor BurlyWood \r\n",
                "\r\n",
                "Close-ExcelPackage $excel\r\n",
                "\r\n",
                "\r\n",
                "Write-Output \"                ###############                  \"\r\n",
                "Write-Output \"        FileName is $ExcelFile            \"\r\n",
                "Write-Output \"                ###############                  \"\r\n",
                "Write-Output \"\"\r\n",
                "\r\n",
                "Invoke-Item $ExcelFile"
            ],
            "metadata": {
                "azdata_cell_guid": "9e5d7788-df51-4301-8774-7fe3cdf35014",
                "tags": []
            },
            "outputs": [
                {
                    "output_type": "stream",
                    "name": "stdout",
                    "text": "Processing localhost\n    FileName is c:\\temp\\xlsx\\\\localhost_Permssions_OneTab_2020-11-11.xlsx\n"
                },
                {
                    "output_type": "stream",
                    "name": "stdout",
                    "text": "\nFinished Processing localhost\n"
                },
                {
                    "output_type": "stream",
                    "name": "stdout",
                    "text": "                ###############                  \n        FileName is c:\\temp\\xlsx\\\\localhost_Permssions_OneTab_2020-11-11.xlsx            \n                ###############                  \n\n"
                }
            ],
            "execution_count": 26
        }
    ]
}