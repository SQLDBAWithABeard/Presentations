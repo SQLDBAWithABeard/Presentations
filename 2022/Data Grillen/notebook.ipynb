{
 "cells": [
  {
   "cell_type": "code",
   "execution_count": null,
   "metadata": {
    "dotnet_interactive": {
     "language": "csharp"
    },
    "vscode": {
     "languageId": "dotnet-interactive.csharp"
    }
   },
   "outputs": [
    {
     "data": {
      "text/html": [
       "<div><div></div><div></div><div><strong>Installed Packages</strong><ul><li><span>Microsoft.DotNet.Interactive.SqlServer, 1.0.0-beta.22256.1</span></li></ul></div></div>"
      ]
     },
     "metadata": {},
     "output_type": "display_data"
    },
    {
     "data": {
      "text/markdown": [
       "Loading extensions from `Microsoft.DotNet.Interactive.SqlServer.dll`"
      ]
     },
     "metadata": {},
     "output_type": "display_data"
    },
    {
     "data": {
      "text/html": [
       "<details><summary>Query Microsoft SQL Server databases.</summary>\r\n",
       "    <p>This extension adds support for connecting to Microsoft SQL Server databases using the <code>#!connect mssql</code> magic command. For more information, run a cell using the <code>#!sql</code> magic command.</p>\r\n",
       "    </details>"
      ]
     },
     "metadata": {},
     "output_type": "display_data"
    }
   ],
   "source": [
    "#r \"nuget:Microsoft.DotNet.Interactive.SqlServer,*-*\""
   ]
  },
  {
   "cell_type": "code",
   "execution_count": null,
   "metadata": {
    "dotnet_interactive": {
     "language": "csharp"
    },
    "vscode": {
     "languageId": "dotnet-interactive.csharp"
    }
   },
   "outputs": [],
   "source": [
    "#!connect mssql --kernel-name 2019 \"Persist Security Info=False; User Id=sa;Password=dbatools.IO; Initial Catalog=AdventureWorks; Server=localhost,7432\"\n",
    "#!connect mssql --kernel-name 2022 \"Persist Security Info=False; User Id=sa;Password=dbatools.IO; Initial Catalog=AdventureWorks; Server=localhost,7433\""
   ]
  },
  {
   "cell_type": "code",
   "execution_count": null,
   "metadata": {
    "dotnet_interactive": {
     "language": "sql"
    },
    "vscode": {
     "languageId": "dotnet-interactive.sql"
    }
   },
   "outputs": [],
   "source": [
    "#!sql-2019\n",
    "SELECT TOP 10 FROM sys.tables"
   ]
  },
  {
   "cell_type": "code",
   "execution_count": null,
   "metadata": {
    "dotnet_interactive": {
     "language": "sql"
    },
    "vscode": {
     "languageId": "dotnet-interactive.sql"
    }
   },
   "outputs": [
    {
     "data": {
      "text/plain": [
       "(61 rows affected)"
      ]
     },
     "metadata": {},
     "output_type": "display_data"
    },
    {
     "data": {
      "text/csv": [
       "SalesOrderID,LineTotal\r\n",
       "46607,493.283700\r\n",
       "46614,493.283700\r\n",
       "46616,2137.562700\r\n",
       "46617,657.711600\r\n",
       "46620,493.283700\r\n",
       "46621,493.283700\r\n",
       "46629,986.567400\r\n",
       "46634,164.427900\r\n",
       "46638,328.855800\r\n",
       "46639,493.283700\r\n",
       "46642,493.283700\r\n",
       "46643,1973.134800\r\n",
       "46650,493.283700\r\n",
       "46652,1315.423200\r\n",
       "46654,328.855800\r\n",
       "46660,2630.846400\r\n",
       "46662,657.711600\r\n",
       "46663,657.711600\r\n",
       "46664,328.855800\r\n",
       "46666,493.283700\r\n",
       "46667,328.855800\r\n",
       "46669,2795.274300\r\n",
       "46672,2466.418500\r\n",
       "46675,493.283700\r\n",
       "46933,493.283700\r\n",
       "46936,164.427900\r\n",
       "46940,164.427900\r\n",
       "46943,164.427900\r\n",
       "46948,164.427900\r\n",
       "46953,2795.274300\r\n",
       "46956,164.427900\r\n",
       "46959,657.711600\r\n",
       "46960,328.855800\r\n",
       "46964,822.139500\r\n",
       "46965,328.855800\r\n",
       "46968,493.283700\r\n",
       "46978,164.427900\r\n",
       "46980,164.427900\r\n",
       "46981,2301.990600\r\n",
       "46983,657.711600\r\n",
       "46986,657.711600\r\n",
       "46988,2137.562700\r\n",
       "46992,328.855800\r\n",
       "46995,164.427900\r\n",
       "46996,328.855800\r\n",
       "46997,657.711600\r\n",
       "47001,986.567400\r\n",
       "47009,328.855800\r\n",
       "47011,493.283700\r\n",
       "47012,1808.706900\r\n",
       "47018,1479.851100\r\n",
       "47027,1150.995300\r\n",
       "47032,493.283700\r\n",
       "47033,657.711600\r\n",
       "47034,657.711600\r\n",
       "47041,1150.995300\r\n",
       "47054,493.283700\r\n",
       "47055,3124.130100\r\n",
       "47061,164.427900\r\n",
       "47066,164.427900\r\n",
       "47067,328.855800\r\n"
      ],
      "text/html": [
       "<table><thead><tr><td><span>SalesOrderID</span></td><td><span>LineTotal</span></td></tr></thead><tbody><tr><td><div class=\"dni-plaintext\">46607</div></td><td><div class=\"dni-plaintext\">493.283700</div></td></tr><tr><td><div class=\"dni-plaintext\">46614</div></td><td><div class=\"dni-plaintext\">493.283700</div></td></tr><tr><td><div class=\"dni-plaintext\">46616</div></td><td><div class=\"dni-plaintext\">2137.562700</div></td></tr><tr><td><div class=\"dni-plaintext\">46617</div></td><td><div class=\"dni-plaintext\">657.711600</div></td></tr><tr><td><div class=\"dni-plaintext\">46620</div></td><td><div class=\"dni-plaintext\">493.283700</div></td></tr><tr><td><div class=\"dni-plaintext\">46621</div></td><td><div class=\"dni-plaintext\">493.283700</div></td></tr><tr><td><div class=\"dni-plaintext\">46629</div></td><td><div class=\"dni-plaintext\">986.567400</div></td></tr><tr><td><div class=\"dni-plaintext\">46634</div></td><td><div class=\"dni-plaintext\">164.427900</div></td></tr><tr><td><div class=\"dni-plaintext\">46638</div></td><td><div class=\"dni-plaintext\">328.855800</div></td></tr><tr><td><div class=\"dni-plaintext\">46639</div></td><td><div class=\"dni-plaintext\">493.283700</div></td></tr><tr><td><div class=\"dni-plaintext\">46642</div></td><td><div class=\"dni-plaintext\">493.283700</div></td></tr><tr><td><div class=\"dni-plaintext\">46643</div></td><td><div class=\"dni-plaintext\">1973.134800</div></td></tr><tr><td><div class=\"dni-plaintext\">46650</div></td><td><div class=\"dni-plaintext\">493.283700</div></td></tr><tr><td><div class=\"dni-plaintext\">46652</div></td><td><div class=\"dni-plaintext\">1315.423200</div></td></tr><tr><td><div class=\"dni-plaintext\">46654</div></td><td><div class=\"dni-plaintext\">328.855800</div></td></tr><tr><td><div class=\"dni-plaintext\">46660</div></td><td><div class=\"dni-plaintext\">2630.846400</div></td></tr><tr><td><div class=\"dni-plaintext\">46662</div></td><td><div class=\"dni-plaintext\">657.711600</div></td></tr><tr><td><div class=\"dni-plaintext\">46663</div></td><td><div class=\"dni-plaintext\">657.711600</div></td></tr><tr><td><div class=\"dni-plaintext\">46664</div></td><td><div class=\"dni-plaintext\">328.855800</div></td></tr><tr><td><div class=\"dni-plaintext\">46666</div></td><td><div class=\"dni-plaintext\">493.283700</div></td></tr><tr><td><div class=\"dni-plaintext\">46667</div></td><td><div class=\"dni-plaintext\">328.855800</div></td></tr><tr><td><div class=\"dni-plaintext\">46669</div></td><td><div class=\"dni-plaintext\">2795.274300</div></td></tr><tr><td><div class=\"dni-plaintext\">46672</div></td><td><div class=\"dni-plaintext\">2466.418500</div></td></tr><tr><td><div class=\"dni-plaintext\">46675</div></td><td><div class=\"dni-plaintext\">493.283700</div></td></tr><tr><td><div class=\"dni-plaintext\">46933</div></td><td><div class=\"dni-plaintext\">493.283700</div></td></tr><tr><td><div class=\"dni-plaintext\">46936</div></td><td><div class=\"dni-plaintext\">164.427900</div></td></tr><tr><td><div class=\"dni-plaintext\">46940</div></td><td><div class=\"dni-plaintext\">164.427900</div></td></tr><tr><td><div class=\"dni-plaintext\">46943</div></td><td><div class=\"dni-plaintext\">164.427900</div></td></tr><tr><td><div class=\"dni-plaintext\">46948</div></td><td><div class=\"dni-plaintext\">164.427900</div></td></tr><tr><td><div class=\"dni-plaintext\">46953</div></td><td><div class=\"dni-plaintext\">2795.274300</div></td></tr><tr><td><div class=\"dni-plaintext\">46956</div></td><td><div class=\"dni-plaintext\">164.427900</div></td></tr><tr><td><div class=\"dni-plaintext\">46959</div></td><td><div class=\"dni-plaintext\">657.711600</div></td></tr><tr><td><div class=\"dni-plaintext\">46960</div></td><td><div class=\"dni-plaintext\">328.855800</div></td></tr><tr><td><div class=\"dni-plaintext\">46964</div></td><td><div class=\"dni-plaintext\">822.139500</div></td></tr><tr><td><div class=\"dni-plaintext\">46965</div></td><td><div class=\"dni-plaintext\">328.855800</div></td></tr><tr><td><div class=\"dni-plaintext\">46968</div></td><td><div class=\"dni-plaintext\">493.283700</div></td></tr><tr><td><div class=\"dni-plaintext\">46978</div></td><td><div class=\"dni-plaintext\">164.427900</div></td></tr><tr><td><div class=\"dni-plaintext\">46980</div></td><td><div class=\"dni-plaintext\">164.427900</div></td></tr><tr><td><div class=\"dni-plaintext\">46981</div></td><td><div class=\"dni-plaintext\">2301.990600</div></td></tr><tr><td><div class=\"dni-plaintext\">46983</div></td><td><div class=\"dni-plaintext\">657.711600</div></td></tr><tr><td><div class=\"dni-plaintext\">46986</div></td><td><div class=\"dni-plaintext\">657.711600</div></td></tr><tr><td><div class=\"dni-plaintext\">46988</div></td><td><div class=\"dni-plaintext\">2137.562700</div></td></tr><tr><td><div class=\"dni-plaintext\">46992</div></td><td><div class=\"dni-plaintext\">328.855800</div></td></tr><tr><td><div class=\"dni-plaintext\">46995</div></td><td><div class=\"dni-plaintext\">164.427900</div></td></tr><tr><td><div class=\"dni-plaintext\">46996</div></td><td><div class=\"dni-plaintext\">328.855800</div></td></tr><tr><td><div class=\"dni-plaintext\">46997</div></td><td><div class=\"dni-plaintext\">657.711600</div></td></tr><tr><td><div class=\"dni-plaintext\">47001</div></td><td><div class=\"dni-plaintext\">986.567400</div></td></tr><tr><td><div class=\"dni-plaintext\">47009</div></td><td><div class=\"dni-plaintext\">328.855800</div></td></tr><tr><td><div class=\"dni-plaintext\">47011</div></td><td><div class=\"dni-plaintext\">493.283700</div></td></tr><tr><td><div class=\"dni-plaintext\">47012</div></td><td><div class=\"dni-plaintext\">1808.706900</div></td></tr><tr><td><div class=\"dni-plaintext\">47018</div></td><td><div class=\"dni-plaintext\">1479.851100</div></td></tr><tr><td><div class=\"dni-plaintext\">47027</div></td><td><div class=\"dni-plaintext\">1150.995300</div></td></tr><tr><td><div class=\"dni-plaintext\">47032</div></td><td><div class=\"dni-plaintext\">493.283700</div></td></tr><tr><td><div class=\"dni-plaintext\">47033</div></td><td><div class=\"dni-plaintext\">657.711600</div></td></tr><tr><td><div class=\"dni-plaintext\">47034</div></td><td><div class=\"dni-plaintext\">657.711600</div></td></tr><tr><td><div class=\"dni-plaintext\">47041</div></td><td><div class=\"dni-plaintext\">1150.995300</div></td></tr><tr><td><div class=\"dni-plaintext\">47054</div></td><td><div class=\"dni-plaintext\">493.283700</div></td></tr><tr><td><div class=\"dni-plaintext\">47055</div></td><td><div class=\"dni-plaintext\">3124.130100</div></td></tr><tr><td><div class=\"dni-plaintext\">47061</div></td><td><div class=\"dni-plaintext\">164.427900</div></td></tr><tr><td><div class=\"dni-plaintext\">47066</div></td><td><div class=\"dni-plaintext\">164.427900</div></td></tr><tr><td><div class=\"dni-plaintext\">47067</div></td><td><div class=\"dni-plaintext\">328.855800</div></td></tr></tbody></table>"
      ]
     },
     "metadata": {},
     "output_type": "display_data"
    }
   ],
   "source": [
    "#!sql-2019\n",
    "select h.SalesOrderID, d.LineTotal\n",
    "from Sales.SalesOrderHeader h\n",
    "join Sales.SalesOrderDetail d\n",
    "on h.SalesOrderID = d.SalesOrderID\n",
    "where unitpricediscount = 0.30\n",
    "and h.Status = 5\n"
   ]
  },
  {
   "cell_type": "code",
   "execution_count": null,
   "metadata": {
    "dotnet_interactive": {
     "language": "sql"
    },
    "vscode": {
     "languageId": "dotnet-interactive.sql"
    }
   },
   "outputs": [
    {
     "data": {
      "text/plain": [
       "(61 rows affected)"
      ]
     },
     "metadata": {},
     "output_type": "display_data"
    },
    {
     "data": {
      "text/csv": [
       "SalesOrderID,LineTotal\r\n",
       "46607,493.283700\r\n",
       "46614,493.283700\r\n",
       "46616,2137.562700\r\n",
       "46617,657.711600\r\n",
       "46620,493.283700\r\n",
       "46621,493.283700\r\n",
       "46629,986.567400\r\n",
       "46634,164.427900\r\n",
       "46638,328.855800\r\n",
       "46639,493.283700\r\n",
       "46642,493.283700\r\n",
       "46643,1973.134800\r\n",
       "46650,493.283700\r\n",
       "46652,1315.423200\r\n",
       "46654,328.855800\r\n",
       "46660,2630.846400\r\n",
       "46662,657.711600\r\n",
       "46663,657.711600\r\n",
       "46664,328.855800\r\n",
       "46666,493.283700\r\n",
       "46667,328.855800\r\n",
       "46669,2795.274300\r\n",
       "46672,2466.418500\r\n",
       "46675,493.283700\r\n",
       "46933,493.283700\r\n",
       "46936,164.427900\r\n",
       "46940,164.427900\r\n",
       "46943,164.427900\r\n",
       "46948,164.427900\r\n",
       "46953,2795.274300\r\n",
       "46956,164.427900\r\n",
       "46959,657.711600\r\n",
       "46960,328.855800\r\n",
       "46964,822.139500\r\n",
       "46965,328.855800\r\n",
       "46968,493.283700\r\n",
       "46978,164.427900\r\n",
       "46980,164.427900\r\n",
       "46981,2301.990600\r\n",
       "46983,657.711600\r\n",
       "46986,657.711600\r\n",
       "46988,2137.562700\r\n",
       "46992,328.855800\r\n",
       "46995,164.427900\r\n",
       "46996,328.855800\r\n",
       "46997,657.711600\r\n",
       "47001,986.567400\r\n",
       "47009,328.855800\r\n",
       "47011,493.283700\r\n",
       "47012,1808.706900\r\n",
       "47018,1479.851100\r\n",
       "47027,1150.995300\r\n",
       "47032,493.283700\r\n",
       "47033,657.711600\r\n",
       "47034,657.711600\r\n",
       "47041,1150.995300\r\n",
       "47054,493.283700\r\n",
       "47055,3124.130100\r\n",
       "47061,164.427900\r\n",
       "47066,164.427900\r\n",
       "47067,328.855800\r\n"
      ],
      "text/html": [
       "<table><thead><tr><td><span>SalesOrderID</span></td><td><span>LineTotal</span></td></tr></thead><tbody><tr><td><div class=\"dni-plaintext\">46607</div></td><td><div class=\"dni-plaintext\">493.283700</div></td></tr><tr><td><div class=\"dni-plaintext\">46614</div></td><td><div class=\"dni-plaintext\">493.283700</div></td></tr><tr><td><div class=\"dni-plaintext\">46616</div></td><td><div class=\"dni-plaintext\">2137.562700</div></td></tr><tr><td><div class=\"dni-plaintext\">46617</div></td><td><div class=\"dni-plaintext\">657.711600</div></td></tr><tr><td><div class=\"dni-plaintext\">46620</div></td><td><div class=\"dni-plaintext\">493.283700</div></td></tr><tr><td><div class=\"dni-plaintext\">46621</div></td><td><div class=\"dni-plaintext\">493.283700</div></td></tr><tr><td><div class=\"dni-plaintext\">46629</div></td><td><div class=\"dni-plaintext\">986.567400</div></td></tr><tr><td><div class=\"dni-plaintext\">46634</div></td><td><div class=\"dni-plaintext\">164.427900</div></td></tr><tr><td><div class=\"dni-plaintext\">46638</div></td><td><div class=\"dni-plaintext\">328.855800</div></td></tr><tr><td><div class=\"dni-plaintext\">46639</div></td><td><div class=\"dni-plaintext\">493.283700</div></td></tr><tr><td><div class=\"dni-plaintext\">46642</div></td><td><div class=\"dni-plaintext\">493.283700</div></td></tr><tr><td><div class=\"dni-plaintext\">46643</div></td><td><div class=\"dni-plaintext\">1973.134800</div></td></tr><tr><td><div class=\"dni-plaintext\">46650</div></td><td><div class=\"dni-plaintext\">493.283700</div></td></tr><tr><td><div class=\"dni-plaintext\">46652</div></td><td><div class=\"dni-plaintext\">1315.423200</div></td></tr><tr><td><div class=\"dni-plaintext\">46654</div></td><td><div class=\"dni-plaintext\">328.855800</div></td></tr><tr><td><div class=\"dni-plaintext\">46660</div></td><td><div class=\"dni-plaintext\">2630.846400</div></td></tr><tr><td><div class=\"dni-plaintext\">46662</div></td><td><div class=\"dni-plaintext\">657.711600</div></td></tr><tr><td><div class=\"dni-plaintext\">46663</div></td><td><div class=\"dni-plaintext\">657.711600</div></td></tr><tr><td><div class=\"dni-plaintext\">46664</div></td><td><div class=\"dni-plaintext\">328.855800</div></td></tr><tr><td><div class=\"dni-plaintext\">46666</div></td><td><div class=\"dni-plaintext\">493.283700</div></td></tr><tr><td><div class=\"dni-plaintext\">46667</div></td><td><div class=\"dni-plaintext\">328.855800</div></td></tr><tr><td><div class=\"dni-plaintext\">46669</div></td><td><div class=\"dni-plaintext\">2795.274300</div></td></tr><tr><td><div class=\"dni-plaintext\">46672</div></td><td><div class=\"dni-plaintext\">2466.418500</div></td></tr><tr><td><div class=\"dni-plaintext\">46675</div></td><td><div class=\"dni-plaintext\">493.283700</div></td></tr><tr><td><div class=\"dni-plaintext\">46933</div></td><td><div class=\"dni-plaintext\">493.283700</div></td></tr><tr><td><div class=\"dni-plaintext\">46936</div></td><td><div class=\"dni-plaintext\">164.427900</div></td></tr><tr><td><div class=\"dni-plaintext\">46940</div></td><td><div class=\"dni-plaintext\">164.427900</div></td></tr><tr><td><div class=\"dni-plaintext\">46943</div></td><td><div class=\"dni-plaintext\">164.427900</div></td></tr><tr><td><div class=\"dni-plaintext\">46948</div></td><td><div class=\"dni-plaintext\">164.427900</div></td></tr><tr><td><div class=\"dni-plaintext\">46953</div></td><td><div class=\"dni-plaintext\">2795.274300</div></td></tr><tr><td><div class=\"dni-plaintext\">46956</div></td><td><div class=\"dni-plaintext\">164.427900</div></td></tr><tr><td><div class=\"dni-plaintext\">46959</div></td><td><div class=\"dni-plaintext\">657.711600</div></td></tr><tr><td><div class=\"dni-plaintext\">46960</div></td><td><div class=\"dni-plaintext\">328.855800</div></td></tr><tr><td><div class=\"dni-plaintext\">46964</div></td><td><div class=\"dni-plaintext\">822.139500</div></td></tr><tr><td><div class=\"dni-plaintext\">46965</div></td><td><div class=\"dni-plaintext\">328.855800</div></td></tr><tr><td><div class=\"dni-plaintext\">46968</div></td><td><div class=\"dni-plaintext\">493.283700</div></td></tr><tr><td><div class=\"dni-plaintext\">46978</div></td><td><div class=\"dni-plaintext\">164.427900</div></td></tr><tr><td><div class=\"dni-plaintext\">46980</div></td><td><div class=\"dni-plaintext\">164.427900</div></td></tr><tr><td><div class=\"dni-plaintext\">46981</div></td><td><div class=\"dni-plaintext\">2301.990600</div></td></tr><tr><td><div class=\"dni-plaintext\">46983</div></td><td><div class=\"dni-plaintext\">657.711600</div></td></tr><tr><td><div class=\"dni-plaintext\">46986</div></td><td><div class=\"dni-plaintext\">657.711600</div></td></tr><tr><td><div class=\"dni-plaintext\">46988</div></td><td><div class=\"dni-plaintext\">2137.562700</div></td></tr><tr><td><div class=\"dni-plaintext\">46992</div></td><td><div class=\"dni-plaintext\">328.855800</div></td></tr><tr><td><div class=\"dni-plaintext\">46995</div></td><td><div class=\"dni-plaintext\">164.427900</div></td></tr><tr><td><div class=\"dni-plaintext\">46996</div></td><td><div class=\"dni-plaintext\">328.855800</div></td></tr><tr><td><div class=\"dni-plaintext\">46997</div></td><td><div class=\"dni-plaintext\">657.711600</div></td></tr><tr><td><div class=\"dni-plaintext\">47001</div></td><td><div class=\"dni-plaintext\">986.567400</div></td></tr><tr><td><div class=\"dni-plaintext\">47009</div></td><td><div class=\"dni-plaintext\">328.855800</div></td></tr><tr><td><div class=\"dni-plaintext\">47011</div></td><td><div class=\"dni-plaintext\">493.283700</div></td></tr><tr><td><div class=\"dni-plaintext\">47012</div></td><td><div class=\"dni-plaintext\">1808.706900</div></td></tr><tr><td><div class=\"dni-plaintext\">47018</div></td><td><div class=\"dni-plaintext\">1479.851100</div></td></tr><tr><td><div class=\"dni-plaintext\">47027</div></td><td><div class=\"dni-plaintext\">1150.995300</div></td></tr><tr><td><div class=\"dni-plaintext\">47032</div></td><td><div class=\"dni-plaintext\">493.283700</div></td></tr><tr><td><div class=\"dni-plaintext\">47033</div></td><td><div class=\"dni-plaintext\">657.711600</div></td></tr><tr><td><div class=\"dni-plaintext\">47034</div></td><td><div class=\"dni-plaintext\">657.711600</div></td></tr><tr><td><div class=\"dni-plaintext\">47041</div></td><td><div class=\"dni-plaintext\">1150.995300</div></td></tr><tr><td><div class=\"dni-plaintext\">47054</div></td><td><div class=\"dni-plaintext\">493.283700</div></td></tr><tr><td><div class=\"dni-plaintext\">47055</div></td><td><div class=\"dni-plaintext\">3124.130100</div></td></tr><tr><td><div class=\"dni-plaintext\">47061</div></td><td><div class=\"dni-plaintext\">164.427900</div></td></tr><tr><td><div class=\"dni-plaintext\">47066</div></td><td><div class=\"dni-plaintext\">164.427900</div></td></tr><tr><td><div class=\"dni-plaintext\">47067</div></td><td><div class=\"dni-plaintext\">328.855800</div></td></tr></tbody></table>"
      ]
     },
     "metadata": {},
     "output_type": "display_data"
    }
   ],
   "source": [
    "#!sql-2022\n",
    "select h.SalesOrderID, d.LineTotal\n",
    "from Sales.SalesOrderHeader h\n",
    "join Sales.SalesOrderDetail d\n",
    "on h.SalesOrderID = d.SalesOrderID\n",
    "where unitpricediscount = 0.30\n",
    "and h.Status = 5"
   ]
  }
 ],
 "metadata": {
  "kernelspec": {
   "display_name": ".NET (C#)",
   "language": "C#",
   "name": ".net-csharp"
  },
  "language_info": {
   "name": "C#"
  }
 },
 "nbformat": 4,
 "nbformat_minor": 2
}
