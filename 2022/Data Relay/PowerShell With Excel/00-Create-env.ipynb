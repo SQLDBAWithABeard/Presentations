{
 "cells": [
  {
   "cell_type": "markdown",
   "metadata": {},
   "source": [
    "# Lets create our environment together"
   ]
  },
  {
   "cell_type": "markdown",
   "metadata": {
    "dotnet_interactive": {
     "language": "csharp"
    }
   },
   "source": [
    "## Create the containers\n"
   ]
  },
  {
   "cell_type": "code",
   "execution_count": null,
   "metadata": {
    "dotnet_interactive": {
     "language": "pwsh"
    },
    "vscode": {
     "languageId": "csharp"
    }
   },
   "outputs": [
    {
     "name": "stdout",
     "output_type": "stream",
     "text": [
      "Container dbachecks1  Created\r\n",
      "Container devcontainer-app-1  Created\r\n",
      "Container dbachecks2  Created\r\n",
      "Container dbachecks1  Starting\r\n",
      "Container dbachecks2  Starting\r\n",
      "Container dbachecks1  Started\r\n",
      "Container devcontainer-app-1  Starting\r\n",
      "Container dbachecks2  Started\r\n",
      "Container devcontainer-app-1  Started\r\n"
     ]
    }
   ],
   "source": [
    "docker compose -f .devcontainer/docker-compose.yml up -d"
   ]
  },
  {
   "cell_type": "markdown",
   "metadata": {},
   "source": [
    "## remove any old files"
   ]
  },
  {
   "cell_type": "code",
   "execution_count": null,
   "metadata": {
    "dotnet_interactive": {
     "language": "pwsh"
    },
    "vscode": {
     "languageId": "csharp"
    }
   },
   "outputs": [],
   "source": [
    "Get-ChildItem C:\\temp\\xlsx | Remove-Item -Force"
   ]
  },
  {
   "cell_type": "markdown",
   "metadata": {},
   "source": [
    "# Safety First\n",
    "\n",
    "We must always make sure that we are safe and sound\n"
   ]
  },
  {
   "cell_type": "code",
   "execution_count": null,
   "metadata": {
    "dotnet_interactive": {
     "language": "pwsh"
    },
    "vscode": {
     "languageId": "csharp"
    }
   },
   "outputs": [],
   "source": [
    "Get-SecretStoreConfiguration"
   ]
  },
  {
   "cell_type": "markdown",
   "metadata": {},
   "source": [
    "If we dont have a vault already in place lets create one\n"
   ]
  },
  {
   "cell_type": "code",
   "execution_count": null,
   "metadata": {
    "dotnet_interactive": {
     "language": "pwsh"
    },
    "vscode": {
     "languageId": "csharp"
    }
   },
   "outputs": [],
   "source": [
    "Register-SecretVault -Name BeardSecrets -ModuleName Microsoft.PowerShell.SecretStore -DefaultVault"
   ]
  },
  {
   "cell_type": "markdown",
   "metadata": {},
   "source": [
    "and create a couple of secrets for the rest of the code"
   ]
  },
  {
   "cell_type": "code",
   "execution_count": null,
   "metadata": {
    "dotnet_interactive": {
     "language": "pwsh"
    },
    "vscode": {
     "languageId": "csharp"
    }
   },
   "outputs": [],
   "source": [
    "Set-Secret -Name sqladmin -Secret “sqladmin”\n",
    "Set-Secret -Name sqladminpwd -Secret \"dbatools.IO\""
   ]
  },
  {
   "cell_type": "markdown",
   "metadata": {
    "dotnet_interactive": {
     "language": "pwsh"
    }
   },
   "source": [
    "# copy over the backup file"
   ]
  },
  {
   "cell_type": "code",
   "execution_count": null,
   "metadata": {
    "dotnet_interactive": {
     "language": "pwsh"
    },
    "vscode": {
     "languageId": "csharp"
    }
   },
   "outputs": [],
   "source": [
    "$dockerlocation = '\\\\wsl.localhost\\docker-desktop-data\\version-pack-data\\community\\docker\\volumes\\powershellwithexcel_devcontainer_mydata\\_data'\n",
    "$dockerlocation = '\\\\wsl.localhost\\docker-desktop-data\\version-pack-data\\community\\docker\\volumes\\devcontainer_mydata\\_data'\n",
    "$Adbackuplocation = 'D:\\SQLBackups\\AdventureWorks2017.bak'\n",
    "\n",
    "Copy-Item $Adbackuplocation $dockerlocation"
   ]
  },
  {
   "cell_type": "markdown",
   "metadata": {
    "dotnet_interactive": {
     "language": "pwsh"
    }
   },
   "source": [
    "## Set some values"
   ]
  },
  {
   "cell_type": "code",
   "execution_count": null,
   "metadata": {
    "dotnet_interactive": {
     "language": "pwsh"
    },
    "vscode": {
     "languageId": "csharp"
    }
   },
   "outputs": [],
   "source": [
    "## first we will set some values that will be used throughout the notebook\n",
    "$dbachecks1 = 'localhost,7401' # unless we are inside the container Rob\n",
    "$dbachecks2 = 'localhost,7402' # unless we are inside the container Rob\n",
    "$benscreds = New-Object System.Management.Automation.PSCredential ((Get-Secret -Name sqladmin -AsPlainText), (Get-Secret -Name sqladminpwd))\n",
    "\n",
    "\n",
    "$PSDefaultParameterValues = @{\n",
    "    \"*dba*:SqlInstance\" = $dbachecks1 \n",
    "    \"*dba*:SqlCredential\" = $benscreds \n",
    "}\n",
    "\n",
    "$sql"
   ]
  },
  {
   "cell_type": "markdown",
   "metadata": {},
   "source": [
    "## Restore a database"
   ]
  },
  {
   "cell_type": "code",
   "execution_count": null,
   "metadata": {
    "dotnet_interactive": {
     "language": "pwsh"
    },
    "vscode": {
     "languageId": "csharp"
    }
   },
   "outputs": [
    {
     "data": {
      "text/plain": []
     },
     "metadata": {},
     "output_type": "display_data"
    },
    {
     "name": "stdout",
     "output_type": "stream",
     "text": [
      "\r\n",
      "\u001b[32;1mComputerName         : \u001b[0mlocalhost\r\n",
      "\u001b[32;1mInstanceName         : \u001b[0mMSSQLSERVER\r\n",
      "\u001b[32;1mSqlInstance          : \u001b[0mmssql1\r\n",
      "\u001b[32;1mBackupFile           : \u001b[0m/var/opt/backups/AdventureWorks2017.bak\r\n",
      "\u001b[32;1mBackupFilesCount     : \u001b[0m1\r\n",
      "\u001b[32;1mBackupSize           : \u001b[0m206.08 MB\r\n",
      "\u001b[32;1mCompressedBackupSize : \u001b[0m47.96 MB\r\n",
      "\u001b[32;1mDatabase             : \u001b[0mAdventureWorks2017\r\n",
      "\u001b[32;1mOwner                : \u001b[0msqladmin\r\n",
      "\u001b[32;1mDatabaseRestoreTime  : \u001b[0m00:00:02\r\n",
      "\u001b[32;1mFileRestoreTime      : \u001b[0m00:00:01\r\n",
      "\u001b[32;1mNoRecovery           : \u001b[0mFalse\r\n",
      "\u001b[32;1mRestoreComplete      : \u001b[0mTrue\r\n",
      "\u001b[32;1mRestoredFile         : \u001b[0mAdventureWorks2017_log.ldf,AdventureWorks2017.mdf\r\n",
      "\u001b[32;1mRestoredFilesCount   : \u001b[0m2\r\n",
      "\u001b[32;1mScript               : \u001b[0m{RESTORE DATABASE [AdventureWorks2017] FROM  DISK = \r\n",
      "                       \u001b[32;1m\u001b[0mN'/var/opt/backups/AdventureWorks2017.bak' WITH  FILE = 1,  MOVE \r\n",
      "                       \u001b[32;1m\u001b[0mN'AdventureWorks2017' TO N'/var/opt/mssql/data/AdventureWorks2017.mdf',  \r\n",
      "                       \u001b[32;1m\u001b[0mMOVE N'AdventureWorks2017_log' TO \r\n",
      "                       \u001b[32;1m\u001b[0mN'/var/opt/mssql/data/AdventureWorks2017_log.ldf',  NOUNLOAD,  REPLACE,  \r\n",
      "                       \u001b[32;1m\u001b[0mSTATS = 10}\r\n",
      "\u001b[32;1mRestoreDirectory     : \u001b[0m/var/opt/mssql/data\r\n",
      "\u001b[32;1mWithReplace          : \u001b[0mTrue\r\n",
      "\r\n",
      "\r\n"
     ]
    }
   ],
   "source": [
    "Restore-DbaDatabase  -Path /var/opt/backups/AdventureWorks2017.bak -DatabaseName AdventureWorks2017 -WithReplace"
   ]
  },
  {
   "cell_type": "markdown",
   "metadata": {},
   "source": [
    "## Create some Logins and Users"
   ]
  },
  {
   "cell_type": "code",
   "execution_count": null,
   "metadata": {
    "dotnet_interactive": {
     "language": "pwsh"
    },
    "vscode": {
     "languageId": "csharp"
    }
   },
   "outputs": [
    {
     "name": "stdout",
     "output_type": "stream",
     "text": [
      "[\u001b[37m13:41:43\u001b[0m][\u001b[37m<ScriptBlock>\u001b[0m\u001b[96m] Adding Logins\u001b[0m\r\n",
      "[\u001b[37m13:41:53\u001b[0m][\u001b[37m<ScriptBlock>\u001b[0m\u001b[96m] Adding Users\u001b[0m\r\n",
      "WARNING: [13:41:53][Remove-User] User benji already exists in the database AdventureWorks2017 on localhost,7401 and -Force was not specified, skipping.\r\n",
      "WARNING: [13:41:53][Remove-User] User bweissman already exists in the database AdventureWorks2017 on localhost,7401 and -Force was not specified, skipping.\r\n",
      "WARNING: [13:41:53][Remove-User] User akamman already exists in the database AdventureWorks2017 on localhost,7401 and -Force was not specified, skipping.\r\n",
      "WARNING: [13:41:53][Remove-User] User alevy already exists in the database AdventureWorks2017 on localhost,7401 and -Force was not specified, skipping.\r\n",
      "WARNING: [13:41:54][Remove-User] User beardapp1 already exists in the database AdventureWorks2017 on localhost,7401 and -Force was not specified, skipping.\r\n",
      "WARNING: [13:41:54][Remove-User] User beardapp2 already exists in the database AdventureWorks2017 on localhost,7401 and -Force was not specified, skipping.\r\n",
      "WARNING: [13:41:54][Remove-User] User beardapp3 already exists in the database AdventureWorks2017 on localhost,7401 and -Force was not specified, skipping.\r\n",
      "WARNING: [13:41:54][Remove-User] User beardapp4 already exists in the database AdventureWorks2017 on localhost,7401 and -Force was not specified, skipping.\r\n",
      "WARNING: [13:41:55][Remove-User] User beardapp5 already exists in the database AdventureWorks2017 on localhost,7401 and -Force was not specified, skipping.\r\n",
      "WARNING: [13:41:55][Remove-User] User beardapp6 already exists in the database AdventureWorks2017 on localhost,7401 and -Force was not specified, skipping.\r\n",
      "WARNING: [13:41:55][Remove-User] User beardapp7 already exists in the database AdventureWorks2017 on localhost,7401 and -Force was not specified, skipping.\r\n",
      "WARNING: [13:41:55][Remove-User] User beardapp8 already exists in the database AdventureWorks2017 on localhost,7401 and -Force was not specified, skipping.\r\n",
      "WARNING: [13:41:56][Remove-User] User clemaire already exists in the database AdventureWorks2017 on localhost,7401 and -Force was not specified, skipping.\r\n",
      "WARNING: [13:41:56][Remove-User] User csilva already exists in the database AdventureWorks2017 on localhost,7401 and -Force was not specified, skipping.\r\n",
      "WARNING: [13:41:56][Remove-User] User fatherjack already exists in the database AdventureWorks2017 on localhost,7401 and -Force was not specified, skipping.\r\n",
      "WARNING: [13:41:56][Remove-User] User gsartori already exists in the database AdventureWorks2017 on localhost,7401 and -Force was not specified, skipping.\r\n",
      "WARNING: [13:41:57][Remove-User] User jamrtin already exists in the database AdventureWorks2017 on localhost,7401 and -Force was not specified, skipping.\r\n",
      "WARNING: [13:41:57][Remove-User] User Reporting1 already exists in the database AdventureWorks2017 on localhost,7401 and -Force was not specified, skipping.\r\n",
      "WARNING: [13:41:57][Remove-User] User Reporting2 already exists in the database AdventureWorks2017 on localhost,7401 and -Force was not specified, skipping.\r\n",
      "WARNING: [13:41:57][Remove-User] User Reporting3 already exists in the database AdventureWorks2017 on localhost,7401 and -Force was not specified, skipping.\r\n",
      "WARNING: [13:41:58][Remove-User] User Reporting4 already exists in the database AdventureWorks2017 on localhost,7401 and -Force was not specified, skipping.\r\n",
      "WARNING: [13:41:58][Remove-User] User smelton already exists in the database AdventureWorks2017 on localhost,7401 and -Force was not specified, skipping.\r\n",
      "WARNING: [13:41:58][Remove-User] User SockFactoryApp_User already exists in the database AdventureWorks2017 on localhost,7401 and -Force was not specified, skipping.\r\n",
      "WARNING: [13:41:58][Remove-User] User soneill already exists in the database AdventureWorks2017 on localhost,7401 and -Force was not specified, skipping.\r\n",
      "WARNING: [13:41:59][Remove-User] User Support1 already exists in the database AdventureWorks2017 on localhost,7401 and -Force was not specified, skipping.\r\n",
      "WARNING: [13:41:59][Remove-User] User Support2 already exists in the database AdventureWorks2017 on localhost,7401 and -Force was not specified, skipping.\r\n",
      "WARNING: [13:41:59][Remove-User] User Support3 already exists in the database AdventureWorks2017 on localhost,7401 and -Force was not specified, skipping.\r\n",
      "WARNING: [13:41:59][Remove-User] User Support4 already exists in the database AdventureWorks2017 on localhost,7401 and -Force was not specified, skipping.\r\n",
      "WARNING: [13:42:00][Remove-User] User Support5 already exists in the database AdventureWorks2017 on localhost,7401 and -Force was not specified, skipping.\r\n",
      "WARNING: [13:42:00][Remove-User] User Support6 already exists in the database AdventureWorks2017 on localhost,7401 and -Force was not specified, skipping.\r\n",
      "WARNING: [13:42:00][Remove-User] User tboggiano already exists in the database AdventureWorks2017 on localhost,7401 and -Force was not specified, skipping.\r\n",
      "WARNING: [13:42:00][Remove-User] User thebeard already exists in the database AdventureWorks2017 on localhost,7401 and -Force was not specified, skipping.\r\n",
      "WARNING: [13:42:01][Remove-User] User wdurkin already exists in the database AdventureWorks2017 on localhost,7401 and -Force was not specified, skipping.\r\n",
      "WARNING: [13:42:01][Remove-User] User Argenis_Fernandez already exists in the database AdventureWorks2017 on localhost,7401 and -Force was not specified, skipping.\r\n",
      "WARNING: [13:42:01][Remove-User] User MrsFatherJack already exists in the database AdventureWorks2017 on localhost,7401 and -Force was not specified, skipping.\r\n",
      "WARNING: [13:42:01][Remove-User] User Cathrine_Wilhelmsen already exists in the database AdventureWorks2017 on localhost,7401 and -Force was not specified, skipping.\r\n",
      "WARNING: [13:42:02][Remove-User] User Rie_Irish already exists in the database AdventureWorks2017 on localhost,7401 and -Force was not specified, skipping.\r\n",
      "WARNING: [13:42:02][Remove-User] User Monica_Rathbun already exists in the database AdventureWorks2017 on localhost,7401 and -Force was not specified, skipping.\r\n",
      "WARNING: [13:42:02][Remove-User] User Benji_BenWeissman already exists in the database AdventureWorks2017 on localhost,7401 and -Force was not specified, skipping.\r\n",
      "WARNING: [13:42:02][Remove-User] User Joey_Dantoni already exists in the database AdventureWorks2017 on localhost,7401 and -Force was not specified, skipping.\r\n",
      "WARNING: [13:42:03][Remove-User] User John_Morehouse already exists in the database AdventureWorks2017 on localhost,7401 and -Force was not specified, skipping.\r\n",
      "WARNING: [13:42:03][Remove-User] User Bob_Facts_Pusatari already exists in the database AdventureWorks2017 on localhost,7401 and -Force was not specified, skipping.\r\n",
      "WARNING: [13:42:03][Remove-User] User Containers_Nocentino already exists in the database AdventureWorks2017 on localhost,7401 and -Force was not specified, skipping.\r\n",
      "WARNING: [13:42:03][Remove-User] User Andrew_Pruski already exists in the database AdventureWorks2017 on localhost,7401 and -Force was not specified, skipping.\r\n",
      "WARNING: [13:42:04][Remove-User] User Matt_Gordon already exists in the database AdventureWorks2017 on localhost,7401 and -Force was not specified, skipping.\r\n",
      "WARNING: [13:42:04][Remove-User] User Thomas_Grohser already exists in the database AdventureWorks2017 on localhost,7401 and -Force was not specified, skipping.\r\n",
      "WARNING: [13:42:04][Remove-User] User Dirk_Hondong already exists in the database AdventureWorks2017 on localhost,7401 and -Force was not specified, skipping.\r\n",
      "WARNING: [13:42:04][Remove-User] User Father_Johan_Brattas already exists in the database AdventureWorks2017 on localhost,7401 and -Force was not specified, skipping.\r\n",
      "WARNING: [13:42:05][Remove-User] User Drew_FurggerwellyIgiveuptryingtospellit already exists in the database AdventureWorks2017 on localhost,7401 and -Force was not specified, skipping.\r\n",
      "\r\n",
      "\u001b[32;1mComputerName : \u001b[0mlocalhost\r\n",
      "\u001b[32;1mInstanceName : \u001b[0mMSSQLSERVER\r\n",
      "\u001b[32;1mSqlInstance  : \u001b[0mmssql1\r\n",
      "\u001b[32;1mDatabaseName : \u001b[0mAdventureWorks2017\r\n",
      "\u001b[32;1mUser         : \u001b[0makamman\r\n",
      "\u001b[32;1mStatus       : \u001b[0mSuccess\r\n",
      "\r\n",
      "\u001b[32;1mComputerName : \u001b[0mlocalhost\r\n",
      "\u001b[32;1mInstanceName : \u001b[0mMSSQLSERVER\r\n",
      "\u001b[32;1mSqlInstance  : \u001b[0mmssql1\r\n",
      "\u001b[32;1mDatabaseName : \u001b[0mAdventureWorks2017\r\n",
      "\u001b[32;1mUser         : \u001b[0malevy\r\n",
      "\u001b[32;1mStatus       : \u001b[0mSuccess\r\n",
      "\r\n",
      "\u001b[32;1mComputerName : \u001b[0mlocalhost\r\n",
      "\u001b[32;1mInstanceName : \u001b[0mMSSQLSERVER\r\n",
      "\u001b[32;1mSqlInstance  : \u001b[0mmssql1\r\n",
      "\u001b[32;1mDatabaseName : \u001b[0mAdventureWorks2017\r\n",
      "\u001b[32;1mUser         : \u001b[0mAndrew_Pruski\r\n",
      "\u001b[32;1mStatus       : \u001b[0mSuccess\r\n",
      "\r\n",
      "\u001b[32;1mComputerName : \u001b[0mlocalhost\r\n",
      "\u001b[32;1mInstanceName : \u001b[0mMSSQLSERVER\r\n",
      "\u001b[32;1mSqlInstance  : \u001b[0mmssql1\r\n",
      "\u001b[32;1mDatabaseName : \u001b[0mAdventureWorks2017\r\n",
      "\u001b[32;1mUser         : \u001b[0mArgenis_Fernandez\r\n",
      "\u001b[32;1mStatus       : \u001b[0mSuccess\r\n",
      "\r\n",
      "\u001b[32;1mComputerName : \u001b[0mlocalhost\r\n",
      "\u001b[32;1mInstanceName : \u001b[0mMSSQLSERVER\r\n",
      "\u001b[32;1mSqlInstance  : \u001b[0mmssql1\r\n",
      "\u001b[32;1mDatabaseName : \u001b[0mAdventureWorks2017\r\n",
      "\u001b[32;1mUser         : \u001b[0mbeardapp1\r\n",
      "\u001b[32;1mStatus       : \u001b[0mSuccess\r\n",
      "\r\n",
      "\u001b[32;1mComputerName : \u001b[0mlocalhost\r\n",
      "\u001b[32;1mInstanceName : \u001b[0mMSSQLSERVER\r\n",
      "\u001b[32;1mSqlInstance  : \u001b[0mmssql1\r\n",
      "\u001b[32;1mDatabaseName : \u001b[0mAdventureWorks2017\r\n",
      "\u001b[32;1mUser         : \u001b[0mbeardapp2\r\n",
      "\u001b[32;1mStatus       : \u001b[0mSuccess\r\n",
      "\r\n",
      "\u001b[32;1mComputerName : \u001b[0mlocalhost\r\n",
      "\u001b[32;1mInstanceName : \u001b[0mMSSQLSERVER\r\n",
      "\u001b[32;1mSqlInstance  : \u001b[0mmssql1\r\n",
      "\u001b[32;1mDatabaseName : \u001b[0mAdventureWorks2017\r\n",
      "\u001b[32;1mUser         : \u001b[0mbeardapp3\r\n",
      "\u001b[32;1mStatus       : \u001b[0mSuccess\r\n",
      "\r\n",
      "\u001b[32;1mComputerName : \u001b[0mlocalhost\r\n",
      "\u001b[32;1mInstanceName : \u001b[0mMSSQLSERVER\r\n",
      "\u001b[32;1mSqlInstance  : \u001b[0mmssql1\r\n",
      "\u001b[32;1mDatabaseName : \u001b[0mAdventureWorks2017\r\n",
      "\u001b[32;1mUser         : \u001b[0mbeardapp4\r\n",
      "\u001b[32;1mStatus       : \u001b[0mSuccess\r\n",
      "\r\n",
      "\u001b[32;1mComputerName : \u001b[0mlocalhost\r\n",
      "\u001b[32;1mInstanceName : \u001b[0mMSSQLSERVER\r\n",
      "\u001b[32;1mSqlInstance  : \u001b[0mmssql1\r\n",
      "\u001b[32;1mDatabaseName : \u001b[0mAdventureWorks2017\r\n",
      "\u001b[32;1mUser         : \u001b[0mbeardapp5\r\n",
      "\u001b[32;1mStatus       : \u001b[0mSuccess\r\n",
      "\r\n",
      "\u001b[32;1mComputerName : \u001b[0mlocalhost\r\n",
      "\u001b[32;1mInstanceName : \u001b[0mMSSQLSERVER\r\n",
      "\u001b[32;1mSqlInstance  : \u001b[0mmssql1\r\n",
      "\u001b[32;1mDatabaseName : \u001b[0mAdventureWorks2017\r\n",
      "\u001b[32;1mUser         : \u001b[0mbeardapp6\r\n",
      "\u001b[32;1mStatus       : \u001b[0mSuccess\r\n",
      "\r\n",
      "\u001b[32;1mComputerName : \u001b[0mlocalhost\r\n",
      "\u001b[32;1mInstanceName : \u001b[0mMSSQLSERVER\r\n",
      "\u001b[32;1mSqlInstance  : \u001b[0mmssql1\r\n",
      "\u001b[32;1mDatabaseName : \u001b[0mAdventureWorks2017\r\n",
      "\u001b[32;1mUser         : \u001b[0mbeardapp7\r\n",
      "\u001b[32;1mStatus       : \u001b[0mSuccess\r\n",
      "\r\n",
      "\u001b[32;1mComputerName : \u001b[0mlocalhost\r\n",
      "\u001b[32;1mInstanceName : \u001b[0mMSSQLSERVER\r\n",
      "\u001b[32;1mSqlInstance  : \u001b[0mmssql1\r\n",
      "\u001b[32;1mDatabaseName : \u001b[0mAdventureWorks2017\r\n",
      "\u001b[32;1mUser         : \u001b[0mbeardapp8\r\n",
      "\u001b[32;1mStatus       : \u001b[0mSuccess\r\n",
      "\r\n",
      "\u001b[32;1mComputerName : \u001b[0mlocalhost\r\n",
      "\u001b[32;1mInstanceName : \u001b[0mMSSQLSERVER\r\n",
      "\u001b[32;1mSqlInstance  : \u001b[0mmssql1\r\n",
      "\u001b[32;1mDatabaseName : \u001b[0mAdventureWorks2017\r\n",
      "\u001b[32;1mUser         : \u001b[0mbenji\r\n",
      "\u001b[32;1mStatus       : \u001b[0mSuccess\r\n",
      "\r\n",
      "\u001b[32;1mComputerName : \u001b[0mlocalhost\r\n",
      "\u001b[32;1mInstanceName : \u001b[0mMSSQLSERVER\r\n",
      "\u001b[32;1mSqlInstance  : \u001b[0mmssql1\r\n",
      "\u001b[32;1mDatabaseName : \u001b[0mAdventureWorks2017\r\n",
      "\u001b[32;1mUser         : \u001b[0mBenji_BenWeissman\r\n",
      "\u001b[32;1mStatus       : \u001b[0mSuccess\r\n",
      "\r\n",
      "\u001b[32;1mComputerName : \u001b[0mlocalhost\r\n",
      "\u001b[32;1mInstanceName : \u001b[0mMSSQLSERVER\r\n",
      "\u001b[32;1mSqlInstance  : \u001b[0mmssql1\r\n",
      "\u001b[32;1mDatabaseName : \u001b[0mAdventureWorks2017\r\n",
      "\u001b[32;1mUser         : \u001b[0mBob_Facts_Pusatari\r\n",
      "\u001b[32;1mStatus       : \u001b[0mSuccess\r\n",
      "\r\n",
      "\u001b[32;1mComputerName : \u001b[0mlocalhost\r\n",
      "\u001b[32;1mInstanceName : \u001b[0mMSSQLSERVER\r\n",
      "\u001b[32;1mSqlInstance  : \u001b[0mmssql1\r\n",
      "\u001b[32;1mDatabaseName : \u001b[0mAdventureWorks2017\r\n",
      "\u001b[32;1mUser         : \u001b[0mbweissman\r\n",
      "\u001b[32;1mStatus       : \u001b[0mSuccess\r\n",
      "\r\n",
      "\u001b[32;1mComputerName : \u001b[0mlocalhost\r\n",
      "\u001b[32;1mInstanceName : \u001b[0mMSSQLSERVER\r\n",
      "\u001b[32;1mSqlInstance  : \u001b[0mmssql1\r\n",
      "\u001b[32;1mDatabaseName : \u001b[0mAdventureWorks2017\r\n",
      "\u001b[32;1mUser         : \u001b[0mCathrine_Wilhelmsen\r\n",
      "\u001b[32;1mStatus       : \u001b[0mSuccess\r\n",
      "\r\n",
      "\u001b[32;1mComputerName : \u001b[0mlocalhost\r\n",
      "\u001b[32;1mInstanceName : \u001b[0mMSSQLSERVER\r\n",
      "\u001b[32;1mSqlInstance  : \u001b[0mmssql1\r\n",
      "\u001b[32;1mDatabaseName : \u001b[0mAdventureWorks2017\r\n",
      "\u001b[32;1mUser         : \u001b[0mclemaire\r\n",
      "\u001b[32;1mStatus       : \u001b[0mSuccess\r\n",
      "\r\n",
      "\u001b[32;1mComputerName : \u001b[0mlocalhost\r\n",
      "\u001b[32;1mInstanceName : \u001b[0mMSSQLSERVER\r\n",
      "\u001b[32;1mSqlInstance  : \u001b[0mmssql1\r\n",
      "\u001b[32;1mDatabaseName : \u001b[0mAdventureWorks2017\r\n",
      "\u001b[32;1mUser         : \u001b[0mContainers_Nocentino\r\n",
      "\u001b[32;1mStatus       : \u001b[0mSuccess\r\n",
      "\r\n",
      "\u001b[32;1mComputerName : \u001b[0mlocalhost\r\n",
      "\u001b[32;1mInstanceName : \u001b[0mMSSQLSERVER\r\n",
      "\u001b[32;1mSqlInstance  : \u001b[0mmssql1\r\n",
      "\u001b[32;1mDatabaseName : \u001b[0mAdventureWorks2017\r\n",
      "\u001b[32;1mUser         : \u001b[0mcsilva\r\n",
      "\u001b[32;1mStatus       : \u001b[0mSuccess\r\n",
      "\r\n",
      "\u001b[32;1mComputerName : \u001b[0mlocalhost\r\n",
      "\u001b[32;1mInstanceName : \u001b[0mMSSQLSERVER\r\n",
      "\u001b[32;1mSqlInstance  : \u001b[0mmssql1\r\n",
      "\u001b[32;1mDatabaseName : \u001b[0mAdventureWorks2017\r\n",
      "\u001b[32;1mUser         : \u001b[0mDirk_Hondong\r\n",
      "\u001b[32;1mStatus       : \u001b[0mSuccess\r\n",
      "\r\n",
      "\u001b[32;1mComputerName : \u001b[0mlocalhost\r\n",
      "\u001b[32;1mInstanceName : \u001b[0mMSSQLSERVER\r\n",
      "\u001b[32;1mSqlInstance  : \u001b[0mmssql1\r\n",
      "\u001b[32;1mDatabaseName : \u001b[0mAdventureWorks2017\r\n",
      "\u001b[32;1mUser         : \u001b[0mDrew_FurggerwellyIgiveuptryingtospellit\r\n",
      "\u001b[32;1mStatus       : \u001b[0mSuccess\r\n",
      "\r\n",
      "\u001b[32;1mComputerName : \u001b[0mlocalhost\r\n",
      "\u001b[32;1mInstanceName : \u001b[0mMSSQLSERVER\r\n",
      "\u001b[32;1mSqlInstance  : \u001b[0mmssql1\r\n",
      "\u001b[32;1mDatabaseName : \u001b[0mAdventureWorks2017\r\n",
      "\u001b[32;1mUser         : \u001b[0mFather_Johan_Brattas\r\n",
      "\u001b[32;1mStatus       : \u001b[0mSuccess\r\n",
      "\r\n",
      "\u001b[32;1mComputerName : \u001b[0mlocalhost\r\n",
      "\u001b[32;1mInstanceName : \u001b[0mMSSQLSERVER\r\n",
      "\u001b[32;1mSqlInstance  : \u001b[0mmssql1\r\n",
      "\u001b[32;1mDatabaseName : \u001b[0mAdventureWorks2017\r\n",
      "\u001b[32;1mUser         : \u001b[0mfatherjack\r\n",
      "\u001b[32;1mStatus       : \u001b[0mSuccess\r\n",
      "\r\n",
      "\u001b[32;1mComputerName : \u001b[0mlocalhost\r\n",
      "\u001b[32;1mInstanceName : \u001b[0mMSSQLSERVER\r\n",
      "\u001b[32;1mSqlInstance  : \u001b[0mmssql1\r\n",
      "\u001b[32;1mDatabaseName : \u001b[0mAdventureWorks2017\r\n",
      "\u001b[32;1mUser         : \u001b[0mgsartori\r\n",
      "\u001b[32;1mStatus       : \u001b[0mSuccess\r\n",
      "\r\n",
      "\u001b[32;1mComputerName : \u001b[0mlocalhost\r\n",
      "\u001b[32;1mInstanceName : \u001b[0mMSSQLSERVER\r\n",
      "\u001b[32;1mSqlInstance  : \u001b[0mmssql1\r\n",
      "\u001b[32;1mDatabaseName : \u001b[0mAdventureWorks2017\r\n",
      "\u001b[32;1mUser         : \u001b[0mjamrtin\r\n",
      "\u001b[32;1mStatus       : \u001b[0mSuccess\r\n",
      "\r\n",
      "\u001b[32;1mComputerName : \u001b[0mlocalhost\r\n",
      "\u001b[32;1mInstanceName : \u001b[0mMSSQLSERVER\r\n",
      "\u001b[32;1mSqlInstance  : \u001b[0mmssql1\r\n",
      "\u001b[32;1mDatabaseName : \u001b[0mAdventureWorks2017\r\n",
      "\u001b[32;1mUser         : \u001b[0mJoey_Dantoni\r\n",
      "\u001b[32;1mStatus       : \u001b[0mSuccess\r\n",
      "\r\n",
      "\u001b[32;1mComputerName : \u001b[0mlocalhost\r\n",
      "\u001b[32;1mInstanceName : \u001b[0mMSSQLSERVER\r\n",
      "\u001b[32;1mSqlInstance  : \u001b[0mmssql1\r\n",
      "\u001b[32;1mDatabaseName : \u001b[0mAdventureWorks2017\r\n",
      "\u001b[32;1mUser         : \u001b[0mJohn_Morehouse\r\n",
      "\u001b[32;1mStatus       : \u001b[0mSuccess\r\n",
      "\r\n",
      "\u001b[32;1mComputerName : \u001b[0mlocalhost\r\n",
      "\u001b[32;1mInstanceName : \u001b[0mMSSQLSERVER\r\n",
      "\u001b[32;1mSqlInstance  : \u001b[0mmssql1\r\n",
      "\u001b[32;1mDatabaseName : \u001b[0mAdventureWorks2017\r\n",
      "\u001b[32;1mUser         : \u001b[0mMatt_Gordon\r\n",
      "\u001b[32;1mStatus       : \u001b[0mSuccess\r\n",
      "\r\n",
      "\u001b[32;1mComputerName : \u001b[0mlocalhost\r\n",
      "\u001b[32;1mInstanceName : \u001b[0mMSSQLSERVER\r\n",
      "\u001b[32;1mSqlInstance  : \u001b[0mmssql1\r\n",
      "\u001b[32;1mDatabaseName : \u001b[0mAdventureWorks2017\r\n",
      "\u001b[32;1mUser         : \u001b[0mMonica_Rathbun\r\n",
      "\u001b[32;1mStatus       : \u001b[0mSuccess\r\n",
      "\r\n",
      "\u001b[32;1mComputerName : \u001b[0mlocalhost\r\n",
      "\u001b[32;1mInstanceName : \u001b[0mMSSQLSERVER\r\n",
      "\u001b[32;1mSqlInstance  : \u001b[0mmssql1\r\n",
      "\u001b[32;1mDatabaseName : \u001b[0mAdventureWorks2017\r\n",
      "\u001b[32;1mUser         : \u001b[0mMrsFatherJack\r\n",
      "\u001b[32;1mStatus       : \u001b[0mSuccess\r\n",
      "\r\n",
      "\u001b[32;1mComputerName : \u001b[0mlocalhost\r\n",
      "\u001b[32;1mInstanceName : \u001b[0mMSSQLSERVER\r\n",
      "\u001b[32;1mSqlInstance  : \u001b[0mmssql1\r\n",
      "\u001b[32;1mDatabaseName : \u001b[0mAdventureWorks2017\r\n",
      "\u001b[32;1mUser         : \u001b[0mReporting1\r\n",
      "\u001b[32;1mStatus       : \u001b[0mSuccess\r\n",
      "\r\n",
      "\u001b[32;1mComputerName : \u001b[0mlocalhost\r\n",
      "\u001b[32;1mInstanceName : \u001b[0mMSSQLSERVER\r\n",
      "\u001b[32;1mSqlInstance  : \u001b[0mmssql1\r\n",
      "\u001b[32;1mDatabaseName : \u001b[0mAdventureWorks2017\r\n",
      "\u001b[32;1mUser         : \u001b[0mReporting2\r\n",
      "\u001b[32;1mStatus       : \u001b[0mSuccess\r\n",
      "\r\n",
      "\u001b[32;1mComputerName : \u001b[0mlocalhost\r\n",
      "\u001b[32;1mInstanceName : \u001b[0mMSSQLSERVER\r\n",
      "\u001b[32;1mSqlInstance  : \u001b[0mmssql1\r\n",
      "\u001b[32;1mDatabaseName : \u001b[0mAdventureWorks2017\r\n",
      "\u001b[32;1mUser         : \u001b[0mReporting3\r\n",
      "\u001b[32;1mStatus       : \u001b[0mSuccess\r\n",
      "\r\n",
      "\u001b[32;1mComputerName : \u001b[0mlocalhost\r\n",
      "\u001b[32;1mInstanceName : \u001b[0mMSSQLSERVER\r\n",
      "\u001b[32;1mSqlInstance  : \u001b[0mmssql1\r\n",
      "\u001b[32;1mDatabaseName : \u001b[0mAdventureWorks2017\r\n",
      "\u001b[32;1mUser         : \u001b[0mReporting4\r\n",
      "\u001b[32;1mStatus       : \u001b[0mSuccess\r\n",
      "\r\n",
      "\u001b[32;1mComputerName : \u001b[0mlocalhost\r\n",
      "\u001b[32;1mInstanceName : \u001b[0mMSSQLSERVER\r\n",
      "\u001b[32;1mSqlInstance  : \u001b[0mmssql1\r\n",
      "\u001b[32;1mDatabaseName : \u001b[0mAdventureWorks2017\r\n",
      "\u001b[32;1mUser         : \u001b[0mRie_Irish\r\n",
      "\u001b[32;1mStatus       : \u001b[0mSuccess\r\n",
      "\r\n",
      "\u001b[32;1mComputerName : \u001b[0mlocalhost\r\n",
      "\u001b[32;1mInstanceName : \u001b[0mMSSQLSERVER\r\n",
      "\u001b[32;1mSqlInstance  : \u001b[0mmssql1\r\n",
      "\u001b[32;1mDatabaseName : \u001b[0mAdventureWorks2017\r\n",
      "\u001b[32;1mUser         : \u001b[0msmelton\r\n",
      "\u001b[32;1mStatus       : \u001b[0mSuccess\r\n",
      "\r\n",
      "\u001b[32;1mComputerName : \u001b[0mlocalhost\r\n",
      "\u001b[32;1mInstanceName : \u001b[0mMSSQLSERVER\r\n",
      "\u001b[32;1mSqlInstance  : \u001b[0mmssql1\r\n",
      "\u001b[32;1mDatabaseName : \u001b[0mAdventureWorks2017\r\n",
      "\u001b[32;1mUser         : \u001b[0mSockFactoryApp_User\r\n",
      "\u001b[32;1mStatus       : \u001b[0mSuccess\r\n",
      "\r\n",
      "\u001b[32;1mComputerName : \u001b[0mlocalhost\r\n",
      "\u001b[32;1mInstanceName : \u001b[0mMSSQLSERVER\r\n",
      "\u001b[32;1mSqlInstance  : \u001b[0mmssql1\r\n",
      "\u001b[32;1mDatabaseName : \u001b[0mAdventureWorks2017\r\n",
      "\u001b[32;1mUser         : \u001b[0msoneill\r\n",
      "\u001b[32;1mStatus       : \u001b[0mSuccess\r\n",
      "\r\n",
      "\u001b[32;1mComputerName : \u001b[0mlocalhost\r\n",
      "\u001b[32;1mInstanceName : \u001b[0mMSSQLSERVER\r\n",
      "\u001b[32;1mSqlInstance  : \u001b[0mmssql1\r\n",
      "\u001b[32;1mDatabaseName : \u001b[0mAdventureWorks2017\r\n",
      "\u001b[32;1mUser         : \u001b[0mSupport1\r\n",
      "\u001b[32;1mStatus       : \u001b[0mSuccess\r\n",
      "\r\n",
      "\u001b[32;1mComputerName : \u001b[0mlocalhost\r\n",
      "\u001b[32;1mInstanceName : \u001b[0mMSSQLSERVER\r\n",
      "\u001b[32;1mSqlInstance  : \u001b[0mmssql1\r\n",
      "\u001b[32;1mDatabaseName : \u001b[0mAdventureWorks2017\r\n",
      "\u001b[32;1mUser         : \u001b[0mSupport2\r\n",
      "\u001b[32;1mStatus       : \u001b[0mSuccess\r\n",
      "\r\n",
      "\u001b[32;1mComputerName : \u001b[0mlocalhost\r\n",
      "\u001b[32;1mInstanceName : \u001b[0mMSSQLSERVER\r\n",
      "\u001b[32;1mSqlInstance  : \u001b[0mmssql1\r\n",
      "\u001b[32;1mDatabaseName : \u001b[0mAdventureWorks2017\r\n",
      "\u001b[32;1mUser         : \u001b[0mSupport3\r\n",
      "\u001b[32;1mStatus       : \u001b[0mSuccess\r\n",
      "\r\n",
      "\u001b[32;1mComputerName : \u001b[0mlocalhost\r\n",
      "\u001b[32;1mInstanceName : \u001b[0mMSSQLSERVER\r\n",
      "\u001b[32;1mSqlInstance  : \u001b[0mmssql1\r\n",
      "\u001b[32;1mDatabaseName : \u001b[0mAdventureWorks2017\r\n",
      "\u001b[32;1mUser         : \u001b[0mSupport4\r\n",
      "\u001b[32;1mStatus       : \u001b[0mSuccess\r\n",
      "\r\n",
      "\u001b[32;1mComputerName : \u001b[0mlocalhost\r\n",
      "\u001b[32;1mInstanceName : \u001b[0mMSSQLSERVER\r\n",
      "\u001b[32;1mSqlInstance  : \u001b[0mmssql1\r\n",
      "\u001b[32;1mDatabaseName : \u001b[0mAdventureWorks2017\r\n",
      "\u001b[32;1mUser         : \u001b[0mSupport5\r\n",
      "\u001b[32;1mStatus       : \u001b[0mSuccess\r\n",
      "\r\n",
      "\u001b[32;1mComputerName : \u001b[0mlocalhost\r\n",
      "\u001b[32;1mInstanceName : \u001b[0mMSSQLSERVER\r\n",
      "\u001b[32;1mSqlInstance  : \u001b[0mmssql1\r\n",
      "\u001b[32;1mDatabaseName : \u001b[0mAdventureWorks2017\r\n",
      "\u001b[32;1mUser         : \u001b[0mSupport6\r\n",
      "\u001b[32;1mStatus       : \u001b[0mSuccess\r\n",
      "\r\n",
      "\u001b[32;1mComputerName : \u001b[0mlocalhost\r\n",
      "\u001b[32;1mInstanceName : \u001b[0mMSSQLSERVER\r\n",
      "\u001b[32;1mSqlInstance  : \u001b[0mmssql1\r\n",
      "\u001b[32;1mDatabaseName : \u001b[0mAdventureWorks2017\r\n",
      "\u001b[32;1mUser         : \u001b[0mtboggiano\r\n",
      "\u001b[32;1mStatus       : \u001b[0mSuccess\r\n",
      "\r\n",
      "\u001b[32;1mComputerName : \u001b[0mlocalhost\r\n",
      "\u001b[32;1mInstanceName : \u001b[0mMSSQLSERVER\r\n",
      "\u001b[32;1mSqlInstance  : \u001b[0mmssql1\r\n",
      "\u001b[32;1mDatabaseName : \u001b[0mAdventureWorks2017\r\n",
      "\u001b[32;1mUser         : \u001b[0mthebeard\r\n",
      "\u001b[32;1mStatus       : \u001b[0mSuccess\r\n",
      "\r\n",
      "\u001b[32;1mComputerName : \u001b[0mlocalhost\r\n",
      "\u001b[32;1mInstanceName : \u001b[0mMSSQLSERVER\r\n",
      "\u001b[32;1mSqlInstance  : \u001b[0mmssql1\r\n",
      "\u001b[32;1mDatabaseName : \u001b[0mAdventureWorks2017\r\n",
      "\u001b[32;1mUser         : \u001b[0mThomas_Grohser\r\n",
      "\u001b[32;1mStatus       : \u001b[0mSuccess\r\n",
      "\r\n",
      "\u001b[32;1mComputerName : \u001b[0mlocalhost\r\n",
      "\u001b[32;1mInstanceName : \u001b[0mMSSQLSERVER\r\n",
      "\u001b[32;1mSqlInstance  : \u001b[0mmssql1\r\n",
      "\u001b[32;1mDatabaseName : \u001b[0mAdventureWorks2017\r\n",
      "\u001b[32;1mUser         : \u001b[0mwdurkin\r\n",
      "\u001b[32;1mStatus       : \u001b[0mSuccess\r\n",
      "\r\n",
      "\r\n"
     ]
    }
   ],
   "source": [
    "$logins =  'benji', 'bweissman','akamman', 'alevy', 'beardapp1', 'beardapp2', 'beardapp3', 'beardapp4', 'beardapp5', 'beardapp6', 'beardapp7', 'beardapp8', 'clemaire', 'csilva', 'fatherjack', 'gsartori', 'jamrtin', 'Reporting1', 'Reporting2', 'Reporting3', 'Reporting4', 'smelton', 'SockFactoryApp_User', 'soneill',  'Support1', 'Support2', 'Support3', 'Support4', 'Support5', 'Support6', 'tboggiano', 'thebeard', 'wdurkin','Argenis_Fernandez','MrsFatherJack','Cathrine_Wilhelmsen','Rie_Irish','Monica_Rathbun','Benji_BenWeissman','Joey_Dantoni', 'John_Morehouse', 'Bob_Facts_Pusatari','Containers_Nocentino','Andrew_Pruski','Matt_Gordon','Thomas_Grohser','Dirk_Hondong','Father_Johan_Brattas','Drew_FurggerwellyIgiveuptryingtospellit'\n",
    "\n",
    "$secpwd = (Get-Secret -Name sqladminpwd)\n",
    "\n",
    "$message = \"Adding Logins\" \n",
    "Write-PSFMessage -level Host -Message $message\n",
    "\n",
    "foreach ($login in $logins) {\n",
    "\n",
    "    New-DbaLogin -Login $login -SecurePassword $secpwd -Force | Out-Null\n",
    "}\n",
    "$message = \"Adding Users\" \n",
    "Write-PSFMessage -level Host -Message $message\n",
    "foreach ($login in $logins) {\n",
    "\n",
    "        New-DbaDbUser   -Database AdventureWorks2017 -Login $login  | Out-Null\n",
    "        Add-DbaDbRoleMember   -Database AdventureWorks2017 -Role db_owner -User $login -Confirm:$false | Out-Null\n",
    "    \n",
    "}\n",
    "\n",
    "Repair-DbaDbOrphanUser  -Database AdventureWorks2017"
   ]
  }
 ],
 "metadata": {
  "kernelspec": {
   "display_name": ".NET (C#)",
   "language": "C#",
   "name": ".net-csharp"
  },
  "language_info": {
   "file_extension": ".cs",
   "mimetype": "text/x-csharp",
   "name": "C#",
   "pygments_lexer": "csharp",
   "version": "9.0"
  },
  "orig_nbformat": 3
 },
 "nbformat": 4,
 "nbformat_minor": 2
}
