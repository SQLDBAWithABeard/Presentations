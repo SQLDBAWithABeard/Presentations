{
 "cells": [
  {
   "cell_type": "markdown",
   "metadata": {},
   "source": [
    "# Lets create our environment together"
   ]
  },
  {
   "cell_type": "markdown",
   "metadata": {
    "dotnet_interactive": {
     "language": "csharp"
    }
   },
   "source": [
    "## Create the containers\n"
   ]
  },
  {
   "cell_type": "code",
   "execution_count": null,
   "metadata": {
    "dotnet_interactive": {
     "language": "pwsh"
    },
    "vscode": {
     "languageId": "dotnet-interactive.pwsh"
    }
   },
   "outputs": [
    {
     "name": "stdout",
     "output_type": "stream",
     "text": [
      "Container dbachecks1  Creating\r\n",
      "Container dbachecks2  Creating\r\n",
      "Container dbachecks2  Created\r\n",
      "Container dbachecks1  Created\r\n",
      "Container devcontainer-app-1  Creating\r\n",
      "Container devcontainer-app-1  Created\r\n",
      "Container dbachecks1  Starting\r\n",
      "Container dbachecks2  Starting\r\n",
      "Container dbachecks1  Started\r\n",
      "Container devcontainer-app-1  Starting\r\n",
      "Container dbachecks2  Started\r\n",
      "Container devcontainer-app-1  Started\r\n"
     ]
    }
   ],
   "source": [
    "docker compose -f \".devcontainer/docker-compose.yml\" up -d"
   ]
  },
  {
   "cell_type": "markdown",
   "metadata": {},
   "source": [
    "## remove any old files"
   ]
  },
  {
   "cell_type": "code",
   "execution_count": null,
   "metadata": {
    "dotnet_interactive": {
     "language": "pwsh"
    },
    "vscode": {
     "languageId": "dotnet-interactive.pwsh"
    }
   },
   "outputs": [],
   "source": [
    "Get-ChildItem C:\\temp\\xlsx | Remove-Item -Force"
   ]
  },
  {
   "cell_type": "markdown",
   "metadata": {},
   "source": [
    "# Safety First\n",
    "\n",
    "We must always make sure that we are safe and sound\n"
   ]
  },
  {
   "cell_type": "code",
   "execution_count": null,
   "metadata": {
    "dotnet_interactive": {
     "language": "pwsh"
    },
    "vscode": {
     "languageId": "dotnet-interactive.pwsh"
    }
   },
   "outputs": [],
   "source": [
    "Get-SecretStoreConfiguration"
   ]
  },
  {
   "cell_type": "markdown",
   "metadata": {},
   "source": [
    "If we dont have a vault already in place lets create one\n"
   ]
  },
  {
   "cell_type": "code",
   "execution_count": null,
   "metadata": {
    "dotnet_interactive": {
     "language": "pwsh"
    },
    "vscode": {
     "languageId": "dotnet-interactive.pwsh"
    }
   },
   "outputs": [],
   "source": [
    "Register-SecretVault -Name BeardSecrets -ModuleName Microsoft.PowerShell.SecretStore -DefaultVault"
   ]
  },
  {
   "cell_type": "markdown",
   "metadata": {},
   "source": [
    "and create a couple of secrets for the rest of the code"
   ]
  },
  {
   "cell_type": "code",
   "execution_count": null,
   "metadata": {
    "dotnet_interactive": {
     "language": "pwsh"
    },
    "vscode": {
     "languageId": "dotnet-interactive.pwsh"
    }
   },
   "outputs": [],
   "source": [
    "Set-Secret -Name sqladmin -Secret “sqladmin”\n",
    "Set-Secret -Name sqladminpwd -Secret \"dbatools.IO\""
   ]
  },
  {
   "cell_type": "markdown",
   "metadata": {
    "dotnet_interactive": {
     "language": "pwsh"
    }
   },
   "source": [
    "# copy over the backup file"
   ]
  },
  {
   "cell_type": "code",
   "execution_count": null,
   "metadata": {
    "dotnet_interactive": {
     "language": "pwsh"
    },
    "vscode": {
     "languageId": "dotnet-interactive.pwsh"
    }
   },
   "outputs": [],
   "source": [
    "$dockerlocation = '\\\\wsl.localhost\\docker-desktop-data\\version-pack-data\\community\\docker\\volumes\\powershellwithexcel_devcontainer_mydata\\_data'\n",
    "$dockerlocation = '\\\\wsl.localhost\\docker-desktop-data\\version-pack-data\\community\\docker\\volumes\\devcontainer_mydata\\_data'\n",
    "$Adbackuplocation = 'D:\\SQLBackups\\AdventureWorks2017.bak'\n",
    "\n",
    "Copy-Item $Adbackuplocation $dockerlocation"
   ]
  },
  {
   "cell_type": "markdown",
   "metadata": {
    "dotnet_interactive": {
     "language": "pwsh"
    }
   },
   "source": [
    "## Set some values"
   ]
  },
  {
   "cell_type": "code",
   "execution_count": null,
   "metadata": {
    "dotnet_interactive": {
     "language": "pwsh"
    },
    "vscode": {
     "languageId": "dotnet-interactive.pwsh"
    }
   },
   "outputs": [],
   "source": [
    "## first we will set some values that will be used throughout the notebook\n",
    "$dbachecks1 = 'localhost,7401' # unless we are inside the container Rob\n",
    "$dbachecks2 = 'localhost,7402' # unless we are inside the container Rob\n",
    "$benscreds = New-Object System.Management.Automation.PSCredential ((Get-Secret -Name sqladmin -AsPlainText), (Get-Secret -Name sqladminpwd))\n",
    "\n",
    "\n",
    "$PSDefaultParameterValues = @{\n",
    "    \"*dba*:SqlInstance\" = $dbachecks1 \n",
    "    \"*dba*:SqlCredential\" = $benscreds \n",
    "}\n",
    "\n",
    "$sql"
   ]
  },
  {
   "cell_type": "markdown",
   "metadata": {},
   "source": [
    "## Restore a database"
   ]
  },
  {
   "cell_type": "code",
   "execution_count": null,
   "metadata": {
    "dotnet_interactive": {
     "language": "pwsh"
    },
    "vscode": {
     "languageId": "dotnet-interactive.pwsh"
    }
   },
   "outputs": [
    {
     "data": {
      "text/plain": []
     },
     "metadata": {},
     "output_type": "display_data"
    },
    {
     "name": "stdout",
     "output_type": "stream",
     "text": [
      "\r\n",
      "\u001b[32;1mComputerName         : \u001b[0mlocalhost\r\n",
      "\u001b[32;1mInstanceName         : \u001b[0mMSSQLSERVER\r\n",
      "\u001b[32;1mSqlInstance          : \u001b[0mmssql1\r\n",
      "\u001b[32;1mBackupFile           : \u001b[0m/var/opt/backups/AdventureWorks2017.bak\r\n",
      "\u001b[32;1mBackupFilesCount     : \u001b[0m1\r\n",
      "\u001b[32;1mBackupSize           : \u001b[0m206.08 MB\r\n",
      "\u001b[32;1mCompressedBackupSize : \u001b[0m47.96 MB\r\n",
      "\u001b[32;1mDatabase             : \u001b[0mAdventureWorks2017\r\n",
      "\u001b[32;1mOwner                : \u001b[0msqladmin\r\n",
      "\u001b[32;1mDatabaseRestoreTime  : \u001b[0m00:00:02\r\n",
      "\u001b[32;1mFileRestoreTime      : \u001b[0m00:00:02\r\n",
      "\u001b[32;1mNoRecovery           : \u001b[0mFalse\r\n",
      "\u001b[32;1mRestoreComplete      : \u001b[0mTrue\r\n",
      "\u001b[32;1mRestoredFile         : \u001b[0mAdventureWorks2017_log.ldf,AdventureWorks2017.mdf\r\n",
      "\u001b[32;1mRestoredFilesCount   : \u001b[0m2\r\n",
      "\u001b[32;1mScript               : \u001b[0m{RESTORE DATABASE [AdventureWorks2017] FROM  DISK = \r\n",
      "                       \u001b[32;1m\u001b[0mN'/var/opt/backups/AdventureWorks2017.bak' WITH  FILE = 1,  MOVE \r\n",
      "                       \u001b[32;1m\u001b[0mN'AdventureWorks2017' TO N'/var/opt/mssql/data/AdventureWorks2017.mdf',  \r\n",
      "                       \u001b[32;1m\u001b[0mMOVE N'AdventureWorks2017_log' TO \r\n",
      "                       \u001b[32;1m\u001b[0mN'/var/opt/mssql/data/AdventureWorks2017_log.ldf',  NOUNLOAD,  REPLACE,  \r\n",
      "                       \u001b[32;1m\u001b[0mSTATS = 10}\r\n",
      "\u001b[32;1mRestoreDirectory     : \u001b[0m/var/opt/mssql/data\r\n",
      "\u001b[32;1mWithReplace          : \u001b[0mTrue\r\n",
      "\r\n",
      "\r\n"
     ]
    }
   ],
   "source": [
    "Restore-DbaDatabase  -Path /var/opt/backups/AdventureWorks2017.bak -DatabaseName AdventureWorks2017 -WithReplace"
   ]
  },
  {
   "cell_type": "markdown",
   "metadata": {},
   "source": [
    "## Create some Logins and Users"
   ]
  },
  {
   "cell_type": "code",
   "execution_count": null,
   "metadata": {
    "dotnet_interactive": {
     "language": "pwsh"
    },
    "vscode": {
     "languageId": "dotnet-interactive.pwsh"
    }
   },
   "outputs": [
    {
     "name": "stdout",
     "output_type": "stream",
     "text": [
      "WARNING: [09:41:21][New-DbaLogin] Could not remove existing login sqladmin on localhost,7401, skipping.\r\n"
     ]
    }
   ],
   "source": [
    "$logins =  'benji', 'bweissman','akamman', 'alevy', 'beardapp1', 'beardapp2', 'beardapp3', 'beardapp4', 'beardapp5', 'beardapp6', 'beardapp7', 'beardapp8', 'clemaire', 'csilva', 'fatherjack', 'gsartori', 'jamrtin', 'Reporting1', 'Reporting2', 'Reporting3', 'Reporting4', 'smelton', 'SockFactoryApp_User', 'soneill',  'Support1', 'Support2', 'Support3', 'Support4', 'Support5', 'Support6', 'tboggiano', 'thebeard', 'wdurkin','Argenis_Fernandez','MrsFatherJack','Cathrine_Wilhelmsen','Rie_Irish','Monica_Rathbun','Benji_BenWeissman','Joey_Dantoni', 'John_Morehouse', 'Bob_Facts_Pusatari','Containers_Nocentino','Andrew_Pruski','Matt_Gordon','Thomas_Grohser','Dirk_Hondong','Father_Johan_Brattas','Drew_FurggerwellyIgiveuptryingtospellit'\n",
    "\n",
    "$secpwd = (Get-Secret -Name sqladminpwd)\n",
    "foreach ($login in $logins) {\n",
    "    New-DbaLogin -Login $login -SecurePassword $secpwd -Force | Out-Null\n",
    "}\n",
    "\n",
    "foreach ($login in $logins) {\n",
    "        New-DbaDbUser   -Database AdventureWorks2017 -Login $login  | Out-Null\n",
    "        Add-DbaDbRoleMember   -Database AdventureWorks2017 -Role db_owner -User $login -Confirm:$false | Out-Null\n",
    "    \n",
    "}\n",
    "\n",
    "Repair-DbaDbOrphanUser  -Database AdventureWorks2017"
   ]
  }
 ],
 "metadata": {
  "kernelspec": {
   "display_name": ".NET (C#)",
   "language": "C#",
   "name": ".net-csharp"
  },
  "language_info": {
   "file_extension": ".cs",
   "mimetype": "text/x-csharp",
   "name": "C#",
   "pygments_lexer": "csharp",
   "version": "9.0"
  },
  "orig_nbformat": 3
 },
 "nbformat": 4,
 "nbformat_minor": 2
}
