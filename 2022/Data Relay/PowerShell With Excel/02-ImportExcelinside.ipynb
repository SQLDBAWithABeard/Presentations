{
    "cells": [
        {
            "cell_type": "markdown",
            "metadata": {
                "azdata_cell_guid": "594c3be1-b38f-4fcb-a12b-c032eb610f8f"
            },
            "source": [
                "# Working with Excel using the ImportExcel Module\n",
                "\n",
                "The ImportExcel Module was started by Doug Finke [b](https://dfinke.github.io/) [t](https://twitter.com/dfinke) and has consistently been updated with significant input from James O'Neill [b](https://jamesone111.wordpress.com/) [t](https://twitter.com/jamesoneill) amongst others. ImportExcel enables automation of Excel workbooks using PowerShell and works with both Windows PowerShell and PowerShell Core\n",
                "\n",
                "## Installation\n",
                "Lets start by installing it (we will also check that you have dbatools too!)"
            ]
        },
        {
            "cell_type": "code",
            "execution_count": null,
            "metadata": {
                "dotnet_interactive": {
                    "language": "pwsh"
                },
                "vscode": {
                    "languageId": "dotnet-interactive.pwsh"
                }
            },
            "outputs": [
                {
                    "name": "stdout",
                    "output_type": "stream",
                    "text": [
                        "We will update the module ImportExcel\n",
                        "We will update the module dbatools\n",
                        "We will update the module Microsoft.PowerShell.SecretManagement\n",
                        "We will update the module Microsoft.PowerShell.SecretStore\n"
                    ]
                }
            ],
            "source": [
                "$Modules = 'ImportExcel','dbatools','Microsoft.PowerShell.SecretManagement','Microsoft.PowerShell.SecretStore'\n",
                "foreach($Module in $Modules){\n",
                "    if(Get-Module $Module -ListAvailable -ErrorAction SilentlyContinue){\n",
                "        Write-Output \"We will update the module $Module\"\n",
                "        Update-Module $Module\n",
                "    } else {\n",
                "        Write-Output \"We will install the module $Module\"\n",
                "        Install-Module $Module -Scope CurrentUser\n",
                "    }\n",
                "}\n"
            ]
        },
        {
            "cell_type": "markdown",
            "metadata": {
                "azdata_cell_guid": "e84e54e3-5a66-4cb3-83d1-9a478ddee797"
            },
            "source": [
                "## Listing the commands\n",
                "\n",
                "The module has a significant number of commands"
            ]
        },
        {
            "cell_type": "code",
            "execution_count": null,
            "metadata": {
                "dotnet_interactive": {
                    "language": "pwsh"
                },
                "vscode": {
                    "languageId": "dotnet-interactive.pwsh"
                }
            },
            "outputs": [
                {
                    "name": "stdout",
                    "output_type": "stream",
                    "text": [
                        "\n",
                        "\u001b[32;1mCommandType     Name                                               Version    Source\u001b[0m\n",
                        "\u001b[32;1m-----------     ----                                               -------    ------\u001b[0m\n",
                        "Alias           Convert-XlRangeToImage                             7.8.1      ImportExcel\n",
                        "Alias           Export-ExcelSheet                                  7.8.1      ImportExcel\n",
                        "Alias           New-ExcelChart                                     7.8.1      ImportExcel\n",
                        "Alias           Set-Column                                         7.8.1      ImportExcel\n",
                        "Alias           Set-Format                                         7.8.1      ImportExcel\n",
                        "Alias           Set-Row                                            7.8.1      ImportExcel\n",
                        "Alias           Use-ExcelData                                      7.8.1      ImportExcel\n",
                        "Function        Add-ConditionalFormatting                          7.8.1      ImportExcel\n",
                        "Function        Add-ExcelChart                                     7.8.1      ImportExcel\n",
                        "Function        Add-ExcelDataValidationRule                        7.8.1      ImportExcel\n",
                        "Function        Add-ExcelName                                      7.8.1      ImportExcel\n",
                        "Function        Add-ExcelTable                                     7.8.1      ImportExcel\n",
                        "Function        Add-PivotTable                                     7.8.1      ImportExcel\n",
                        "Function        Add-Worksheet                                      7.8.1      ImportExcel\n",
                        "Function        BarChart                                           7.8.1      ImportExcel\n",
                        "Function        Close-ExcelPackage                                 7.8.1      ImportExcel\n",
                        "Function        ColumnChart                                        7.8.1      ImportExcel\n",
                        "Function        Compare-Worksheet                                  7.8.1      ImportExcel\n",
                        "Function        Convert-ExcelRangeToImage                          7.8.1      ImportExcel\n",
                        "Function        ConvertFrom-ExcelData                              7.8.1      ImportExcel\n",
                        "Function        ConvertFrom-ExcelSheet                             7.8.1      ImportExcel\n",
                        "Function        ConvertFrom-ExcelToSQLInsert                       7.8.1      ImportExcel\n",
                        "Function        ConvertTo-ExcelXlsx                                7.8.1      ImportExcel\n",
                        "Function        Copy-ExcelWorksheet                                7.8.1      ImportExcel\n",
                        "Function        DoChart                                            7.8.1      ImportExcel\n",
                        "Function        Enable-ExcelAutoFilter                             7.8.1      ImportExcel\n",
                        "Function        Enable-ExcelAutofit                                7.8.1      ImportExcel\n",
                        "Function        Expand-NumberFormat                                7.8.1      ImportExcel\n",
                        "Function        Export-Excel                                       7.8.1      ImportExcel\n",
                        "Function        Get-ExcelColumnName                                7.8.1      ImportExcel\n",
                        "Function        Get-ExcelFileSummary                               7.8.1      ImportExcel\n",
                        "Function        Get-ExcelSheetDimensionAddress                     7.8.1      ImportExcel\n",
                        "Function        Get-ExcelSheetInfo                                 7.8.1      ImportExcel\n",
                        "Function        Get-ExcelWorkbookInfo                              7.8.1      ImportExcel\n",
                        "Function        Get-HtmlTable                                      7.8.1      ImportExcel\n",
                        "Function        Get-Range                                          7.8.1      ImportExcel\n",
                        "Function        Get-XYRange                                        7.8.1      ImportExcel\n",
                        "Function        Import-Excel                                       7.8.1      ImportExcel\n",
                        "Function        Import-Html                                        7.8.1      ImportExcel\n",
                        "Function        Import-UPS                                         7.8.1      ImportExcel\n",
                        "Function        Import-USPS                                        7.8.1      ImportExcel\n",
                        "Function        Invoke-ExcelQuery                                  7.8.1      ImportExcel\n",
                        "Function        Invoke-Sum                                         7.8.1      ImportExcel\n",
                        "Function        Join-Worksheet                                     7.8.1      ImportExcel\n",
                        "Function        LineChart                                          7.8.1      ImportExcel\n",
                        "Function        Merge-MultipleSheets                               7.8.1      ImportExcel\n",
                        "Function        Merge-Worksheet                                    7.8.1      ImportExcel\n",
                        "Function        New-ConditionalFormattingIconSet                   7.8.1      ImportExcel\n",
                        "Function        New-ConditionalText                                7.8.1      ImportExcel\n",
                        "Function        New-ExcelChartDefinition                           7.8.1      ImportExcel\n",
                        "Function        New-ExcelStyle                                     7.8.1      ImportExcel\n",
                        "Function        New-PivotTableDefinition                           7.8.1      ImportExcel\n",
                        "Function        New-Plot                                           7.8.1      ImportExcel\n",
                        "Function        New-PSItem                                         7.8.1      ImportExcel\n",
                        "Function        Open-ExcelPackage                                  7.8.1      ImportExcel\n",
                        "Function        PieChart                                           7.8.1      ImportExcel\n",
                        "Function        Pivot                                              7.8.1      ImportExcel\n",
                        "Function        Read-Clipboard                                     7.8.1      ImportExcel\n",
                        "Function        Read-OleDbData                                     7.8.1      ImportExcel\n",
                        "Function        ReadClipboardImpl                                  7.8.1      ImportExcel\n",
                        "Function        Remove-Worksheet                                   7.8.1      ImportExcel\n",
                        "Function        Select-Worksheet                                   7.8.1      ImportExcel\n",
                        "Function        Send-SQLDataToExcel                                7.8.1      ImportExcel\n",
                        "Function        Set-CellStyle                                      7.8.1      ImportExcel\n",
                        "Function        Set-ExcelColumn                                    7.8.1      ImportExcel\n",
                        "Function        Set-ExcelRange                                     7.8.1      ImportExcel\n",
                        "Function        Set-ExcelRow                                       7.8.1      ImportExcel\n",
                        "Function        Set-WorksheetProtection                            7.8.1      ImportExcel\n",
                        "Function        Test-Boolean                                       7.8.1      ImportExcel\n",
                        "Function        Test-Date                                          7.8.1      ImportExcel\n",
                        "Function        Test-Integer                                       7.8.1      ImportExcel\n",
                        "Function        Test-Number                                        7.8.1      ImportExcel\n",
                        "Function        Test-String                                        7.8.1      ImportExcel\n",
                        "Function        Update-FirstObjectProperties                       7.8.1      ImportExcel\n",
                        "\n"
                    ]
                }
            ],
            "source": [
                "Get-Command -Module ImportExcel"
            ]
        },
        {
            "cell_type": "markdown",
            "metadata": {},
            "source": [
                "# Safety First\n",
                "\n",
                "We must always make sure that we are safe and sound"
            ]
        },
        {
            "cell_type": "code",
            "execution_count": null,
            "metadata": {
                "dotnet_interactive": {
                    "language": "pwsh"
                },
                "vscode": {
                    "languageId": "dotnet-interactive.pwsh"
                }
            },
            "outputs": [
                {
                    "name": "stdout",
                    "output_type": "stream",
                    "text": [
                        "\n",
                        "\u001b[32;1m      Scope Authentication PasswordTimeout Interaction\u001b[0m\n",
                        "\u001b[32;1m      ----- -------------- --------------- -----------\u001b[0m\n",
                        "CurrentUser       Password             900      Prompt\n",
                        "\n"
                    ]
                }
            ],
            "source": [
                "Get-SecretStoreConfiguration"
            ]
        },
        {
            "cell_type": "code",
            "execution_count": null,
            "metadata": {
                "dotnet_interactive": {
                    "language": "pwsh"
                },
                "vscode": {
                    "languageId": "dotnet-interactive.pwsh"
                }
            },
            "outputs": [
                {
                    "name": "stdout",
                    "output_type": "stream",
                    "text": [
                        "\u001b[91mRegister-SecretVault: \u001b[91mProvided Name for vault is already being used.\u001b[0m\n"
                    ]
                }
            ],
            "source": [
                "Register-SecretVault -Name BeardSecrets -ModuleName Microsoft.PowerShell.SecretStore -DefaultVault"
            ]
        },
        {
            "cell_type": "code",
            "execution_count": null,
            "metadata": {
                "dotnet_interactive": {
                    "language": "pwsh"
                },
                "vscode": {
                    "languageId": "dotnet-interactive.pwsh"
                }
            },
            "outputs": [],
            "source": [
                "Set-Secret -Name sqladmin -Secret “sqladmin”\n",
                "Set-Secret -Name sqladminpwd -Secret \"dbatools.IO\""
            ]
        },
        {
            "cell_type": "markdown",
            "metadata": {
                "azdata_cell_guid": "fe7a23c9-4f8a-48cf-8fad-95048ca3be04"
            },
            "source": [
                "## Start with something easy\n",
                "\n",
                "Let's start of by showing the power of PowerShell and the ImportExcel module\n",
                "\n",
                "First lets get the logins on an instance with dbatools, you can list them here and save the results in a notebook or you can copy the results and paste them into an email or somthing else, maybe Excel!"
            ]
        },
        {
            "cell_type": "code",
            "execution_count": null,
            "metadata": {
                "dotnet_interactive": {
                    "language": "pwsh"
                },
                "vscode": {
                    "languageId": "dotnet-interactive.pwsh"
                }
            },
            "outputs": [],
            "source": [
                "## first we will set some values that will be used throughout the notebook\n",
                "$SqlInstance = 'dbachecks1' # Audience please help Rob - He WILL forget to change this\n",
                "$benscreds = New-Object System.Management.Automation.PSCredential ((Get-Secret -Name sqladmin -AsPlainText), (Get-Secret -Name sqladminpwd))\n",
                "$sql = Connect-DbaInstance -SqlInstance $SqlInstance -SqlCredential $benscreds\n",
                "\n",
                "$PSDefaultParameterValues = @{\n",
                "    \"*dba*:SqlInstance\" = $sql \n",
                "}\n",
                "\n"
            ]
        },
        {
            "cell_type": "code",
            "execution_count": null,
            "metadata": {
                "dotnet_interactive": {
                    "language": "pwsh"
                },
                "vscode": {
                    "languageId": "dotnet-interactive.pwsh"
                }
            },
            "outputs": [
                {
                    "name": "stdout",
                    "output_type": "stream",
                    "text": [
                        "\n",
                        "\u001b[32;1mComputerName InstanceName SqlInstance Name                                 LoginType CreateDate\u001b[0m\n",
                        "\u001b[32;1m------------ ------------ ----------- ----                                 --------- ----------    \u001b[0m\n",
                        "dbachecks1   MSSQLSERVER  mssql1      ##MS_PolicyEventProcessingLogin##     SqlLogin 01/12/2022 22…\n",
                        "dbachecks1   MSSQLSERVER  mssql1      ##MS_PolicyTsqlExecutionLogin##       SqlLogin 01/12/2022 22…\n",
                        "dbachecks1   MSSQLSERVER  mssql1      app1                                  SqlLogin 04/27/2022 15…\n",
                        "dbachecks1   MSSQLSERVER  mssql1      appAdmin                              SqlLogin 04/27/2022 15…\n",
                        "dbachecks1   MSSQLSERVER  mssql1      BUILTIN\\Administrators            WindowsGroup 01/12/2022 22…\n",
                        "dbachecks1   MSSQLSERVER  mssql1      distributor_admin                     SqlLogin 04/27/2022 15…\n",
                        "dbachecks1   MSSQLSERVER  mssql1      NT AUTHORITY\\NETWORK SERVICE       WindowsUser 04/27/2022 15…\n",
                        "dbachecks1   MSSQLSERVER  mssql1      NT AUTHORITY\\SYSTEM                WindowsUser 04/27/2022 15…\n",
                        "dbachecks1   MSSQLSERVER  mssql1      sa                                    SqlLogin 04/08/2003 09…\n",
                        "dbachecks1   MSSQLSERVER  mssql1      sqladmin                              SqlLogin 04/27/2022 15…\n",
                        "dbachecks1   MSSQLSERVER  mssql1      storageuser                           SqlLogin 04/27/2022 15…\n",
                        "dbachecks1   MSSQLSERVER  mssql1      testlogin                             SqlLogin 04/27/2022 15…\n",
                        "dbachecks1   MSSQLSERVER  mssql1      TestOrphan1                           SqlLogin 04/27/2022 15…\n",
                        "dbachecks1   MSSQLSERVER  mssql1      TestOrphan2                           SqlLogin 04/27/2022 15…\n",
                        "dbachecks1   MSSQLSERVER  mssql1      testuser2                             SqlLogin 04/27/2022 15…\n",
                        "dbachecks1   MSSQLSERVER  mssql1      webuser                               SqlLogin 04/27/2022 15…\n",
                        "\n"
                    ]
                }
            ],
            "source": [
                "#  Get-DbaLogin -SqlInstance $sql | Format-Table\n",
                "Get-DbaLogin | Format-Table"
            ]
        },
        {
            "cell_type": "markdown",
            "metadata": {
                "azdata_cell_guid": "378e0cce-763a-421a-b2f3-297e3770871b"
            },
            "source": [
                "Of course, your user will want them in Excel!!\n",
                "\n",
                "With ImportExcel Module, it is easy to pipe the results from any command into an excel worksheet"
            ]
        },
        {
            "cell_type": "code",
            "execution_count": null,
            "metadata": {
                "dotnet_interactive": {
                    "language": "pwsh"
                },
                "vscode": {
                    "languageId": "dotnet-interactive.pwsh"
                }
            },
            "outputs": [],
            "source": [
                "Get-DbaLogin  | Export-Excel Logins.xlsx"
            ]
        },
        {
            "cell_type": "markdown",
            "metadata": {
                "azdata_cell_guid": "fe348815-95f9-4f58-9046-7157dbdafdc2"
            },
            "source": [
                "Thats cool, <u>but we want more</u>.\n",
                "\n",
                "We will often autosize the results in Excel so that the columns fit. It would be good to be able to auto format with PowerShell. With the ImportExcel you can do that with the `AutoSize` parameter"
            ]
        },
        {
            "cell_type": "code",
            "execution_count": null,
            "metadata": {
                "dotnet_interactive": {
                    "language": "pwsh"
                },
                "vscode": {
                    "languageId": "dotnet-interactive.pwsh"
                }
            },
            "outputs": [
                {
                    "name": "stdout",
                    "output_type": "stream",
                    "text": [
                        "\u001b[93mWARNING: Auto-fitting columns is not available with this OS configuration.\u001b[0m\n"
                    ]
                }
            ],
            "source": [
                "Get-DbaLogin | Export-Excel -Path Logins.xlsx -AutoSize\n"
            ]
        },
        {
            "cell_type": "markdown",
            "metadata": {
                "azdata_cell_guid": "5aec1a0a-34b3-48e9-b92a-abb15ff64e50"
            },
            "source": [
                " Thats neat but I want to be able to filter by the columns as well. You can use the `-AutoFilter` parameter for this"
            ]
        },
        {
            "cell_type": "code",
            "execution_count": null,
            "metadata": {
                "dotnet_interactive": {
                    "language": "pwsh"
                },
                "vscode": {
                    "languageId": "dotnet-interactive.pwsh"
                }
            },
            "outputs": [
                {
                    "name": "stdout",
                    "output_type": "stream",
                    "text": [
                        "\u001b[93mWARNING: Auto-fitting columns is not available with this OS configuration.\u001b[0m\n"
                    ]
                }
            ],
            "source": [
                "Get-DbaLogin | Export-Excel -Path Logins.xlsx -AutoSize -AutoFilter\n"
            ]
        },
        {
            "cell_type": "markdown",
            "metadata": {
                "azdata_cell_guid": "7d22d1fd-1c4d-4fb5-a4ac-fda519b9e259"
            },
            "source": [
                "To make it look a little nicer, I could name the worksheet and give the table a title.\n",
                "I want a title and to be able to name the worksheet and because I am lazy, I want it to just open with one line.\n",
                "\n",
                "You can use the `-Title`, `-WorksheetName`, and `-Show` parameters to achieve this."
            ]
        },
        {
            "cell_type": "code",
            "execution_count": null,
            "metadata": {
                "dotnet_interactive": {
                    "language": "pwsh"
                },
                "vscode": {
                    "languageId": "dotnet-interactive.pwsh"
                }
            },
            "outputs": [
                {
                    "name": "stdout",
                    "output_type": "stream",
                    "text": [
                        "\u001b[93mWARNING: Auto-fitting columns is not available with this OS configuration.\u001b[0m\n"
                    ]
                }
            ],
            "source": [
                "Get-DbaLogin | Export-Excel -Path Logins.xlsx -AutoSize -AutoFilter -Title \"The Logins\" -WorksheetName \"Logins\" # -Show "
            ]
        },
        {
            "cell_type": "markdown",
            "metadata": {
                "azdata_cell_guid": "b29eeaa2-1a0c-4a1d-ae7e-7b4eef06320d"
            },
            "source": [
                "**Hang on a minute, what happened there?**\n",
                "\n",
                "It has created a new worksheet and added it onto the existing workbook but it made it the second one!\n",
                "\n",
                "Lets fix that with the `MoveToStart` parameter, We'll make the background yellow so its obvious and used the `FreezeTopRow` parameter to, well freeze the top row. I have also changed the code to use `splatting` which I think makes it easier to read."
            ]
        },
        {
            "cell_type": "code",
            "execution_count": null,
            "metadata": {
                "dotnet_interactive": {
                    "language": "pwsh"
                },
                "vscode": {
                    "languageId": "dotnet-interactive.pwsh"
                }
            },
            "outputs": [
                {
                    "name": "stdout",
                    "output_type": "stream",
                    "text": [
                        "\u001b[93mWARNING: Auto-fitting columns is not available with this OS configuration.\u001b[0m\n"
                    ]
                }
            ],
            "source": [
                "$ExportExcelParams = @{\n",
                "    Path =  'Logins.xlsx' \n",
                "    AutoSize =  $true\n",
                "    AutoFilter =  $true\n",
                "    Title =  \"The Logins\" \n",
                "    WorksheetName =  \"Logins\" \n",
                "    MoveToStart =  $true\n",
                "    TitleBackgroundColor =  'yellow' \n",
                "    FreezeTopRow =  $true\n",
                "}\n",
                "Get-DbaLogin | Export-Excel @ExportExcelParams"
            ]
        },
        {
            "cell_type": "markdown",
            "metadata": {
                "azdata_cell_guid": "4b4836a2-af63-47bd-9408-a0f14c229c1f"
            },
            "source": [
                "# Use cases\n",
                "\n",
                "This is really neat, its a simple way of getting the results of any PowerShell command, quickly and easily into an Excel sheet for sorting.\n",
                "\n",
                "At the command line, you can make sure that you are getting the results that you need and then pipe those results into the Export-Excel command.\n",
                "\n",
                "## Services\n",
                "\n",
                "So you could get the services like this.\n",
                "\n",
                "`FreezeTopRow` freezes the top row which is the title! We need to freeze the second row. To do this you use the `FreezePane` parameter and provide the rownumber and column number. In this case row 3 and column 0."
            ]
        },
        {
            "cell_type": "code",
            "execution_count": null,
            "metadata": {
                "dotnet_interactive": {
                    "language": "pwsh"
                },
                "vscode": {
                    "languageId": "dotnet-interactive.pwsh"
                }
            },
            "outputs": [
                {
                    "name": "stdout",
                    "output_type": "stream",
                    "text": [
                        "\u001b[91mGet-Service: \n",
                        "\u001b[96mLine |\n",
                        "\u001b[96m  12 | \u001b[0m \u001b[96mGet-Service\u001b[0m | Export-Excel @ExportExcelParams\n",
                        "\u001b[96m     | \u001b[91m ~~~~~~~~~~~\n",
                        "\u001b[91m\u001b[96m     | \u001b[91mThe term 'Get-Service' is not recognized as a name of a cmdlet, function, script file, or executable program.\n",
                        "Check the spelling of the name, or if a path was included, verify that the path is correct and try again.\u001b[0m\n"
                    ]
                }
            ],
            "source": [
                "$ExportExcelParams = @{\n",
                "    Path =  'Services.xlsx' \n",
                "    AutoSize =  $true\n",
                "    AutoFilter =  $true\n",
                "    Title =  \"Services on $Env:ComputerName\" \n",
                "    WorksheetName =  \"Services\" \n",
                "    MoveToStart =  $true\n",
                "    TitleBackgroundColor =  'darkgray' \n",
                "    FreezePane = 3,0\n",
                "\n",
                "}\n",
                "Get-Service | Export-Excel @ExportExcelParams"
            ]
        },
        {
            "cell_type": "markdown",
            "metadata": {
                "azdata_cell_guid": "32830f9c-e065-4da1-8fd9-110431e00963"
            },
            "source": [
                "## Processes\n",
                "\n",
                "Or the Processes like this. This takes a little minute"
            ]
        },
        {
            "cell_type": "code",
            "execution_count": null,
            "metadata": {
                "dotnet_interactive": {
                    "language": "pwsh"
                },
                "vscode": {
                    "languageId": "dotnet-interactive.pwsh"
                }
            },
            "outputs": [
                {
                    "name": "stdout",
                    "output_type": "stream",
                    "text": [
                        "dbachecks1\n"
                    ]
                }
            ],
            "source": [
                "$env:COMPUTERNAME"
            ]
        },
        {
            "cell_type": "code",
            "execution_count": null,
            "metadata": {
                "dotnet_interactive": {
                    "language": "pwsh"
                },
                "vscode": {
                    "languageId": "dotnet-interactive.pwsh"
                }
            },
            "outputs": [
                {
                    "name": "stdout",
                    "output_type": "stream",
                    "text": [
                        "\u001b[93mWARNING: Auto-fitting columns is not available with this OS configuration.\u001b[0m\n"
                    ]
                }
            ],
            "source": [
                "$ExportExcelParams = @{\n",
                "    Path =  'Processes.xlsx' \n",
                "    AutoSize =  $true\n",
                "    AutoFilter =  $true\n",
                "    Title =  \"Processes on $Env:ComputerName\" \n",
                "    WorksheetName =  \"Processes\" \n",
                "    MoveToStart =  $true\n",
                "    TitleBackgroundColor =  'darkgray' \n",
                "    FreezePane = 3,0\n",
                "\n",
                "}\n",
                "Get-Process | Export-Excel @ExportExcelParams"
            ]
        },
        {
            "cell_type": "markdown",
            "metadata": {
                "azdata_cell_guid": "0ff3f569-bf6d-4510-904e-b52bdc0816f0"
            },
            "source": [
                "## Event Logs\n",
                "\n",
                "You can do the same thing with Windows Event logs. This time you will add both Application and System Event Log entries into seperate worksheets"
            ]
        },
        {
            "cell_type": "code",
            "execution_count": null,
            "metadata": {
                "dotnet_interactive": {
                    "language": "pwsh"
                },
                "vscode": {
                    "languageId": "dotnet-interactive.pwsh"
                }
            },
            "outputs": [],
            "source": [
                "$ExportExcelParams = @{\n",
                "    Path = 'EventLogs.xlsx'\n",
                "    AutoSize =  $true\n",
                "    AutoFilter =  $true\n",
                "    Title =  \"Event Log on $Env:ComputerName\" \n",
                "    MoveToStart =  $true\n",
                "    TitleBackgroundColor =  'darkgray' \n",
                "    FreezePane = 3,0\n",
                "}\n",
                "Get-WinEvent -LogName System -MaxEvents 100  | Export-Excel @ExportExcelParams  -WorksheetName \"System\" \n",
                "Get-WinEvent -LogName Application -MaxEvents 100  | Export-Excel @ExportExcelParams  -WorksheetName \"Application\" -Show"
            ]
        },
        {
            "cell_type": "markdown",
            "metadata": {
                "azdata_cell_guid": "2012117a-b820-49d7-b547-86dbcfdaf16c"
            },
            "source": [
                "###  SQL Error Logs"
            ]
        },
        {
            "cell_type": "code",
            "execution_count": null,
            "metadata": {
                "dotnet_interactive": {
                    "language": "pwsh"
                },
                "vscode": {
                    "languageId": "dotnet-interactive.pwsh"
                }
            },
            "outputs": [
                {
                    "name": "stdout",
                    "output_type": "stream",
                    "text": [
                        "\u001b[91mGet-DbaErrorLog: \n",
                        "\u001b[96mLine |\n",
                        "\u001b[96m  12 | \u001b[0m \u001b[96mGet-DbaErrorLog\u001b[0m  | Export-Excel  @ExportExcelParams\n",
                        "\u001b[96m     | \u001b[91m ~~~~~~~~~~~~~~~\n",
                        "\u001b[91m\u001b[96m     | \u001b[91mThe term 'Get-DbaErrorLog' is not recognized as a name of a cmdlet, function, script file, or executable program.\n",
                        "Check the spelling of the name, or if a path was included, verify that the path is correct and try again.\u001b[0m\n"
                    ]
                }
            ],
            "source": [
                "$ExportExcelParams = @{\n",
                "    Path =  'SQLErrorLogs.xlsx' \n",
                "    AutoSize =  $true\n",
                "    AutoFilter =  $true\n",
                "    Title =  \"SQL Error Log\" \n",
                "    WorksheetName =  \"SQL Error Log\" \n",
                "    MoveToStart =  $true\n",
                "    TitleBackgroundColor =  'darkgray' \n",
                "    FreezePane = 3,0\n",
                "\n",
                "}\n",
                "Get-Dbalo  | Export-Excel  @ExportExcelParams\n"
            ]
        },
        {
            "cell_type": "markdown",
            "metadata": {
                "azdata_cell_guid": "f65ddcff-f9fb-4320-82c2-80483b7bd24a"
            },
            "source": [
                "## How About doing it all in one workbook ?"
            ]
        },
        {
            "cell_type": "code",
            "execution_count": null,
            "metadata": {
                "dotnet_interactive": {
                    "language": "pwsh"
                },
                "vscode": {
                    "languageId": "dotnet-interactive.pwsh"
                }
            },
            "outputs": [],
            "source": [
                "$ExportExcelParams = @{\n",
                "    Path =  'Incident.xlsx' \n",
                "    AutoSize =  $true\n",
                "    AutoFilter =  $true\n",
                "    MoveToStart =  $true\n",
                "    FreezeTopRow = $true\n",
                "}\n",
                "\n",
                "Get-Service | Export-Excel @ExportExcelParams -WorksheetName \"Services\" \n",
                "# Get-Process | Export-Excel @ExportExcelParams -WorksheetName \"Processes\" \n",
                "'Get-Process' | Export-Excel @ExportExcelParams -WorksheetName \"Processes\" \n",
                "Get-WinEvent -LogName System -MaxEvents 100  | Export-Excel @ExportExcelParams -WorksheetName \"System\" \n",
                "Get-WinEvent -LogName Application -MaxEvents 100  | Export-Excel @ExportExcelParams -WorksheetName \"Application\" \n",
                "Get-DbaErrorLog  | Export-Excel @ExportExcelParams -WorksheetName \"SQL Error Logs\" -Show\n"
            ]
        },
        {
            "cell_type": "markdown",
            "metadata": {
                "azdata_cell_guid": "a6369b59-c330-47c0-ae97-0581fccdf420"
            },
            "source": [
                "## More Information needed\n",
                "\n",
                "So thats useful but how about if we add a front page which gives some more information?"
            ]
        },
        {
            "cell_type": "code",
            "execution_count": null,
            "metadata": {
                "dotnet_interactive": {
                    "language": "pwsh"
                },
                "vscode": {
                    "languageId": "dotnet-interactive.pwsh"
                }
            },
            "outputs": [
                {
                    "data": {
                        "text/plain": [
                            "                ###############                  \r\n"
                        ]
                    },
                    "output_type": "unknown"
                },
                {
                    "data": {
                        "text/plain": [
                            "        FileName is C:\\temp\\xlsx\\20210525_Incident_For_Beard-Desktop.xlsx            \r\n"
                        ]
                    },
                    "output_type": "unknown"
                },
                {
                    "data": {
                        "text/plain": [
                            "                ###############                  \r\n"
                        ]
                    },
                    "output_type": "unknown"
                },
                {
                    "data": {
                        "text/plain": [
                            "\r\n"
                        ]
                    },
                    "output_type": "unknown"
                }
            ],
            "source": [
                "$SqlInstance = 'Beard-Desktop'\n",
                "$Date = Get-Date -Format yyyyMMdd\n",
                "$Directory = ''\n",
                "$ExcelFile = $Directory + $Date + '_Incident_For_' + $SqlInstance + '.xlsx'\n",
                "\n",
                "$ExportExcelParams = @{\n",
                "    Path =  $ExcelFile \n",
                "    AutoSize =  $true\n",
                "    AutoFilter =  $true\n",
                "    MoveToStart =  $true\n",
                "    FreezeTopRow = $true\n",
                "}\n",
                "\n",
                "\n",
                "Get-Service | Export-Excel @ExportExcelParams -WorksheetName \"Services\" \n",
                "'Get-Process' | Export-Excel @ExportExcelParams -WorksheetName \"Processes\" \n",
                "Get-WinEvent -LogName System -MaxEvents 100  | Export-Excel @ExportExcelParams -WorksheetName \"System\" \n",
                "Get-WinEvent -LogName Application -MaxEvents 100  | Export-Excel @ExportExcelParams -WorksheetName \"Application\" \n",
                "Get-DbaErrorLog  | Export-Excel @ExportExcelParams -WorksheetName \"SQL Error Logs\" \n",
                "\n",
                "$Excel = Open-ExcelPackage -Path $ExcelFile\n",
                "Add-Worksheet -ExcelPackage $Excel -WorksheetName 'Title' -MoveToStart | Out-Null\n",
                "\n",
                "$TitleSheet = $excel.Workbook.Worksheets['Title']\n",
                "$Date = (Get-Date).ToLongDateString()\n",
                "$TitleSheet.Cells[\"A1\"].value = \"$Date \"\n",
                "$TitleSheet.Cells[\"D2\"].value = \"This Workbook for $sqlinstance\"\n",
                "$TitleSheet.Cells[\"H3\"].value = \"Shows the \"\n",
                "$TitleSheet.Cells[\"H4\"].value = \"System Event Log,\"\n",
                "$TitleSheet.Cells[\"H5\"].value = \"Application Event Log,\"\n",
                "$TitleSheet.Cells[\"H6\"].value = \"Services,\"\n",
                "$TitleSheet.Cells[\"H7\"].value = \"Processes,\"\n",
                "$TitleSheet.Cells[\"H8\"].value = \"and the SQL Error Log.\"\n",
                "Set-ExcelRange -Worksheet $TitleSheet -Range \"A:1\" -Bold -FontSize 22 -Underline -UnderLineType Double \n",
                "\n",
                "Close-ExcelPackage $excel\n",
                "\n",
                "Write-Output \"                ###############                  \"\n",
                "Write-Output \"        FileName is $ExcelFile            \"\n",
                "Write-Output \"                ###############                  \"\n",
                "Write-Output \"\"\n",
                "\n",
                "Invoke-Item $ExcelFile"
            ]
        },
        {
            "cell_type": "markdown",
            "metadata": {
                "azdata_cell_guid": "db8686f2-4298-40e0-a3cf-74747d9acf3f"
            },
            "source": [
                "## Charts and Graphs and Pivot Tables"
            ]
        },
        {
            "cell_type": "code",
            "execution_count": null,
            "metadata": {
                "dotnet_interactive": {
                    "language": "pwsh"
                },
                "vscode": {
                    "languageId": "dotnet-interactive.pwsh"
                }
            },
            "outputs": [],
            "source": [
                "$Query = \"SELECT Top 25000 PROD.Name, \n",
                "OrdHead.OrderDate ,\n",
                "Details.OrderQty\n",
                "FROM Sales.SalesOrderDetail AS Details\n",
                "INNER JOIN Production.Product AS PROD ON Details.ProductID = PROD.ProductID\n",
                "INNER JOIN Sales.SalesOrderHeader AS OrdHead ON Details.SalesOrderID = OrdHead.SalesOrderID\"\n",
                "$results = Invoke-DbaQuery -Database AdventureWorks2017 -Query $Query \n",
                "$results | Export-Excel -Path query.xlsx -Show"
            ]
        },
        {
            "cell_type": "markdown",
            "metadata": {
                "azdata_cell_guid": "7b7c0be4-446d-4b01-9614-46d0afeae9ca"
            },
            "source": [
                "Thats a bit annoying but it is due to the datatable object that is returned. We can fix that using `Select * -ExcludeProperty ItemArray, RowError, RowState, Table, HasErrors`"
            ]
        },
        {
            "cell_type": "code",
            "execution_count": null,
            "metadata": {
                "dotnet_interactive": {
                    "language": "pwsh"
                },
                "vscode": {
                    "languageId": "dotnet-interactive.pwsh"
                }
            },
            "outputs": [],
            "source": [
                "$Query = \"SELECT Top 25000 PROD.Name, \n",
                "OrdHead.OrderDate ,\n",
                "Details.OrderQty\n",
                "FROM Sales.SalesOrderDetail AS Details\n",
                "INNER JOIN Production.Product AS PROD ON Details.ProductID = PROD.ProductID\n",
                "INNER JOIN Sales.SalesOrderHeader AS OrdHead ON Details.SalesOrderID = OrdHead.SalesOrderID\"\n",
                "$results = Invoke-DbaQuery -Database AdventureWorks2017 -Query $Query  |Select * -ExcludeProperty ItemArray, RowError, RowState, Table, HasErrors\n",
                "$results  | Export-Excel -Path newquery.xlsx -Show"
            ]
        },
        {
            "cell_type": "markdown",
            "metadata": {
                "azdata_cell_guid": "995159a0-515a-49d4-85b1-36c141654878"
            },
            "source": [
                "Lets format it nicely again"
            ]
        },
        {
            "cell_type": "code",
            "execution_count": null,
            "metadata": {
                "dotnet_interactive": {
                    "language": "pwsh"
                },
                "vscode": {
                    "languageId": "dotnet-interactive.pwsh"
                }
            },
            "outputs": [],
            "source": [
                "$ExportExcelParams = @{\n",
                "    Path =  'formattedquery.xlsx' \n",
                "    WorksheetName = 'A Query'\n",
                "    TableName = 'BeardsAreAwesome'\n",
                "    TableStyle = 'Dark1'\n",
                "    AutoSize =  $true\n",
                "    AutoFilter =  $true\n",
                "    MoveToStart =  $true\n",
                "    FreezeTopRow = $true\n",
                "    Show = $true\n",
                "}\n",
                "$results | Export-Excel @ExportExcelParams"
            ]
        },
        {
            "cell_type": "markdown",
            "metadata": {
                "azdata_cell_guid": "3820dba5-2d1a-417b-bd28-74e928a2a18a"
            },
            "source": [
                "## Chart\n",
                "\n",
                "Of course, charts are interesting too.\n",
                "\n",
                "You can query a table, export the results to a table, and create a chart. We will also remove hte annoying Sheet1 too"
            ]
        },
        {
            "cell_type": "code",
            "execution_count": null,
            "metadata": {
                "dotnet_interactive": {
                    "language": "pwsh"
                },
                "vscode": {
                    "languageId": "dotnet-interactive.pwsh"
                }
            },
            "outputs": [],
            "source": [
                "$ExcelFilePath =  'chartedquery.xlsx'\n",
                "\n",
                "$Query = \"SELECT  \n",
                "YEAR(OrdHead.OrderDate) AS Year,\n",
                "SUM(Details.OrderQty) AS TotalSales\n",
                "FROM Sales.SalesOrderDetail AS Details\n",
                "INNER JOIN Production.Product AS PROD ON Details.ProductID = PROD.ProductID\n",
                "INNER JOIN Sales.SalesOrderHeader AS OrdHead ON Details.SalesOrderID = OrdHead.SalesOrderID\n",
                "GROUP BY YEAR(OrdHead.OrderDate)\n",
                "ORDER BY YEAR(OrdHead.OrderDate) \n",
                "\"\n",
                "$ExportExcelParams = @{\n",
                "    Path =  $ExcelFilePath \n",
                "    WorksheetName = 'BeardsAreAwesome'\n",
                "    TableName = 'BeardsAreAwesome'\n",
                "    TableStyle = 'Dark1'\n",
                "    AutoSize =  $true\n",
                "    AutoFilter =  $true\n",
                "    MoveToStart =  $true\n",
                "    FreezeTopRow = $true\n",
                "    AutoNameRange = $true\n",
                "}\n",
                "\n",
                "$ChartDefinition = @{\n",
                "    Title = 'BeardyChart' \n",
                "    ChartType = 'ColumnClustered' \n",
                "    XRange = 'Year'  \n",
                "    YRange = 'TotalSales'  \n",
                "    Column = 4\n",
                "    NoLegend = $true\n",
                "}\n",
                "\n",
                "#Gather results\n",
                "$results = Invoke-DbaQuery -Database AdventureWorks2017 -Query $Query  |Select * -ExcludeProperty ItemArray, RowError, RowState, Table, HasErrors\n",
                "\n",
                "#export results to excel \n",
                "$excel = $results | Export-Excel  @ExportExcelParams -PassThru\n",
                "\n",
                "#create chart defnition\n",
                "$chart = New-ExcelChartDefinition @ChartDefinition \n",
                "# create and save excel\n",
                "Export-Excel -ExcelPackage $excel -ExcelChartDefinition $chart -WorksheetName 'BeardsAreAwesome' -Show\n",
                "\n"
            ]
        },
        {
            "cell_type": "markdown",
            "metadata": {
                "azdata_cell_guid": "771d88a1-e30d-4198-9462-8cba2b176a13"
            },
            "source": [
                "I'm a DBA, I like doughnuts :-)"
            ]
        },
        {
            "cell_type": "code",
            "execution_count": null,
            "metadata": {
                "dotnet_interactive": {
                    "language": "pwsh"
                },
                "vscode": {
                    "languageId": "dotnet-interactive.pwsh"
                }
            },
            "outputs": [],
            "source": [
                "$ExcelFilePath =  'DONUTSchartedquery.xlsx'\n",
                "\n",
                "$Query = \"SELECT  \n",
                "YEAR(OrdHead.OrderDate) AS Year,\n",
                "SUM(Details.OrderQty) AS TotalSales\n",
                "FROM Sales.SalesOrderDetail AS Details\n",
                "INNER JOIN Production.Product AS PROD ON Details.ProductID = PROD.ProductID\n",
                "INNER JOIN Sales.SalesOrderHeader AS OrdHead ON Details.SalesOrderID = OrdHead.SalesOrderID\n",
                "GROUP BY YEAR(OrdHead.OrderDate)\n",
                "ORDER BY YEAR(OrdHead.OrderDate) \n",
                "\"\n",
                "$ExportExcelParams = @{\n",
                "    Path =  $ExcelFilePath \n",
                "    WorksheetName = 'BeardsAreAwesome'\n",
                "    TableName = 'BeardsAreAwesome'\n",
                "    TableStyle = 'Dark1'\n",
                "    AutoSize =  $true\n",
                "    AutoFilter =  $true\n",
                "    MoveToStart =  $true\n",
                "    FreezeTopRow = $true\n",
                "    AutoNameRange = $true\n",
                "}\n",
                "\n",
                "$ChartDefinition = @{\n",
                "    Title = 'Beardy Chart of Total Sales By Year as a donut because he LOVES donuts' \n",
                "    ChartType = 'Doughnut' \n",
                "    XRange = 'Year'  \n",
                "    YRange = 'TotalSales'  \n",
                "    Column = 4\n",
                "    ShowPercent = $true\n",
                "}\n",
                "\n",
                "#Gather results\n",
                "$results = Invoke-DbaQuery -Database AdventureWorks2017 -Query $Query  |Select * -ExcludeProperty ItemArray, RowError, RowState, Table, HasErrors\n",
                "\n",
                "#export results to excel \n",
                "$excel = $results | Export-Excel  @ExportExcelParams -PassThru\n",
                "\n",
                "#create chart defnition\n",
                "$chart = New-ExcelChartDefinition @ChartDefinition \n",
                "# create and save excel\n",
                "Export-Excel -ExcelPackage $excel -ExcelChartDefinition $chart -WorksheetName 'BeardsAreAwesome' -Show\n"
            ]
        },
        {
            "cell_type": "markdown",
            "metadata": {
                "azdata_cell_guid": "c6906d74-6d19-4a8b-8a8c-248019fb5937"
            },
            "source": [
                "## Pivot Tables\n",
                "\n",
                "Pivot tables are very popular with users also.\n",
                "\n",
                "You can create a pivot table in the same manner"
            ]
        },
        {
            "cell_type": "code",
            "execution_count": null,
            "metadata": {
                "dotnet_interactive": {
                    "language": "pwsh"
                },
                "vscode": {
                    "languageId": "dotnet-interactive.pwsh"
                }
            },
            "outputs": [],
            "source": [
                "$ExcelFilePath = 'pivotedquery.xlsx' \n",
                "\n",
                "$Query = \"SELECT PROD.Name, \n",
                "OrdHead.OrderDate ,\n",
                "Details.OrderQty\n",
                "FROM Sales.SalesOrderDetail AS Details\n",
                "INNER JOIN Production.Product AS PROD ON Details.ProductID = PROD.ProductID\n",
                "INNER JOIN Sales.SalesOrderHeader AS OrdHead ON Details.SalesOrderID = OrdHead.SalesOrderID\"\n",
                "$results = Invoke-DbaQuery -Database AdventureWorks2017 -Query $Query  |Select * -ExcludeProperty ItemArray, RowError, RowState, Table, HasErrors\n",
                "\n",
                "$ExportExcelParams = @{\n",
                "    Path =  $ExcelFilePath\n",
                "    WorksheetName = 'BaseQuery'\n",
                "    TableName = 'BeardsAreAwesome'\n",
                "    TableStyle = 'Dark1'\n",
                "    AutoSize =  $true\n",
                "    AutoFilter =  $true\n",
                "    MoveToStart =  $true\n",
                "    FreezeTopRow = $true\n",
                "    Show = $true\n",
                "    PassThru = $true\n",
                "}\n",
                "\n",
                "$PivotTableParams = @{\n",
                "    PivotTableName = 'BeardyPivot' \n",
                "    SourceWorkSheet = 'BaseQuery' \n",
                "    PivotData = @{\"OrderQty\" = \"Sum\"} \n",
                "    PivotRows = 'OrderDate' ,'Name'\n",
                "}\n",
                "\n",
                "$excel = $results | Export-Excel @ExportExcelParams \n",
                "\n",
                "\n",
                "$PivotTable = New-PivotTableDefinition  @PivotTableParams\n",
                "\n",
                "Export-Excel -ExcelPackage $excel -PivotTableDefinition $PivotTable \n",
                "#Remove-Worksheet  -FullName $ExcelFilePath -WorksheetName 'Sheet1' -Show"
            ]
        },
        {
            "cell_type": "markdown",
            "metadata": {
                "azdata_cell_guid": "31877143-f042-4572-9ac7-19886a5b92aa"
            },
            "source": [
                "Wouldnt it be great if we had the \"magic\" date also"
            ]
        },
        {
            "cell_type": "code",
            "execution_count": null,
            "metadata": {
                "dotnet_interactive": {
                    "language": "pwsh"
                },
                "vscode": {
                    "languageId": "dotnet-interactive.pwsh"
                }
            },
            "outputs": [],
            "source": [
                "$ExcelFilePath =  'pivoteddatedquery.xlsx'\n",
                "$ExportExcelParams = @{\n",
                "    Path = $ExcelFilePath\n",
                "    WorksheetName = 'BaseQuery'\n",
                "    TableName = 'BeardsAreAwesome'\n",
                "    TableStyle = 'Dark1'\n",
                "    AutoSize =  $true\n",
                "    AutoFilter =  $true\n",
                "    MoveToStart =  $true\n",
                "    FreezeTopRow = $true\n",
                "    Show = $true\n",
                "    PassThru = $true\n",
                "}\n",
                "\n",
                "$PivotTableParams = @{\n",
                "    PivotTableName = 'BeardyPivot' \n",
                "    SourceWorkSheet = 'BaseQuery' \n",
                "    PivotData = @{\"OrderQty\" = \"Sum\"} \n",
                "    PivotRows = 'OrderDate' ,'Name'\n",
                "    GroupDateRow =  'OrderDate' \n",
                "    GroupDatePart = 'Years', 'Months', 'Days' \n",
                "    PivotTableStyle = 'Medium1' \n",
                "}\n",
                "\n",
                "\n",
                "$excel = $results | Export-Excel @ExportExcelParams \n",
                "\n",
                "$PivotTable = New-PivotTableDefinition @PivotTableParams\n",
                "\n",
                "Export-Excel -ExcelPackage $excel -PivotTableDefinition $PivotTable -Show"
            ]
        },
        {
            "cell_type": "markdown",
            "metadata": {
                "azdata_cell_guid": "581ac243-6521-4a6f-8f31-450e99dd092b"
            },
            "source": [
                "and you can add a Pivot Chart also like this"
            ]
        },
        {
            "cell_type": "code",
            "execution_count": null,
            "metadata": {
                "dotnet_interactive": {
                    "language": "pwsh"
                },
                "vscode": {
                    "languageId": "dotnet-interactive.pwsh"
                }
            },
            "outputs": [],
            "source": [
                "$ExportExcelParams = @{\n",
                "    Path =  'pivoteddatedchartedquery.xlsx' \n",
                "    WorksheetName = 'BaseQuery'\n",
                "    TableName = 'BeardsAreAwesome'\n",
                "    TableStyle = 'Dark1'\n",
                "    AutoSize =  $true\n",
                "    AutoFilter =  $true\n",
                "    MoveToStart =  $true\n",
                "    FreezeTopRow = $true\n",
                "    Show = $true\n",
                "    PassThru = $true\n",
                "}\n",
                "\n",
                "$PivotTableParams = @{\n",
                "    PivotTableName = 'BeardyPivot' \n",
                "    SourceWorkSheet = 'BaseQuery' \n",
                "    PivotData = @{\"OrderQty\" = \"Sum\"} \n",
                "    PivotRows = 'OrderDate' ,'Name'\n",
                "    GroupDateRow =  'OrderDate' \n",
                "    GroupDatePart = 'Years', 'Months', 'Days' \n",
                "    PivotTableStyle = 'Medium1' \n",
                "    IncludePivotChart = $true\n",
                "    ChartTitle = 'BeardyChart' \n",
                "    ChartType = 'ColumnClustered' \n",
                "    ChartColumn = 6\n",
                "}\n",
                "\n",
                "\n",
                "$excel = $results | Export-Excel @ExportExcelParams \n",
                "\n",
                "$PivotTable = New-PivotTableDefinition @PivotTableParams \n",
                "\n",
                "Export-Excel -ExcelPackage $excel -PivotTableDefinition $PivotTable -Show"
            ]
        },
        {
            "cell_type": "markdown",
            "metadata": {
                "azdata_cell_guid": "76b4d533-dbe1-4359-92c3-f9eb18dc8013"
            },
            "source": [
                "## Formatting\n",
                "\n",
                "Excel enables you to do custom formatting. ImportExcel does the same.\n",
                "\n",
                "Lets check permissions on an instance and colour code the results depending on the role membership"
            ]
        },
        {
            "cell_type": "code",
            "execution_count": null,
            "metadata": {
                "dotnet_interactive": {
                    "language": "pwsh"
                },
                "vscode": {
                    "languageId": "dotnet-interactive.pwsh"
                }
            },
            "outputs": [
                {
                    "data": {
                        "text/plain": [
                            "Processing 192.168.2.63,30666\r\n"
                        ]
                    },
                    "output_type": "unknown"
                },
                {
                    "data": {
                        "text/plain": [
                            "    FileName is c:\\temp\\xlsx\\\\192_168_2_63_30666_Permssions_OneTab_2021-05-25.xlsx\r\n"
                        ]
                    },
                    "output_type": "unknown"
                },
                {
                    "data": {
                        "text/plain": [
                            "\r\n"
                        ]
                    },
                    "output_type": "unknown"
                },
                {
                    "data": {
                        "text/plain": [
                            "Finished Processing 192.168.2.63,30666\r\n"
                        ]
                    },
                    "output_type": "unknown"
                },
                {
                    "data": {
                        "text/plain": [
                            "                ###############                  \r\n"
                        ]
                    },
                    "output_type": "unknown"
                },
                {
                    "data": {
                        "text/plain": [
                            "        FileName is c:\\temp\\xlsx\\\\192_168_2_63_30666_Permssions_OneTab_2021-05-25.xlsx            \r\n"
                        ]
                    },
                    "output_type": "unknown"
                },
                {
                    "data": {
                        "text/plain": [
                            "                ###############                  \r\n"
                        ]
                    },
                    "output_type": "unknown"
                },
                {
                    "data": {
                        "text/plain": [
                            "\r\n"
                        ]
                    },
                    "output_type": "unknown"
                }
            ],
            "source": [
                "$ExcelDirectory = '' # Alter this to the directory you want the file created\n",
                "$SQlinstance = 'localhost'  # Alter this for the SQL Instance you want to get permissions for\n",
                "\n",
                "$SqlInstance = '192.168.2.63,30666'\n",
                "$benscreds = New-Object System.Management.Automation.PSCredential ((Get-Secret -Name beardmi-benadmin-user -AsPlainText), (Get-Secret -Name beardmi-benadmin-pwd))\n",
                "$sql = Connect-DbaInstance -SqlInstance $SqlInstance -SqlCredential $benscreds\n",
                "\n",
                "$PSDefaultParameterValues = @{\n",
                "    \"*dba*:SqlInstance\" = $sql \n",
                "}\n",
                "\n",
                "Write-Output \"Processing $sqlinstance\"\n",
                "\n",
                "$InstanceName = $SQlinstance.Split('\\').Split('.').Split('\\').Split(',') -join '_'\n",
                "$ExcelFile = $ExcelDirectory + '\\' + $InstanceName + '_Permssions_OneTab_' + (Get-Date).ToString('yyyy-MM-dd') + '.xlsx'\n",
                "\n",
                "Write-Output \"    FileName is $ExcelFile\"\n",
                "\n",
                "$WorkSheetName = \"Permissions\"\n",
                "\n",
                "    $excel = Get-DbaUserPermission | Export-Excel -Path $ExcelFile -WorksheetName $WorkSheetName -AutoSize -FreezeTopRow -AutoFilter -PassThru\n",
                "  \n",
                "    $rulesparam = @{\n",
                "        Address   = $excel.Workbook.Worksheets[$WorkSheetName].Dimension.Address\n",
                "        WorkSheet = $excel.Workbook.Worksheets[$WorkSheetName] \n",
                "        RuleType  = 'Expression'      \n",
                "    }\n",
                "\n",
                "    Add-ConditionalFormatting @rulesparam -ConditionValue 'NOT(ISERROR(FIND(\"sysadmin\",$G1)))' -BackgroundColor Yellow -StopIfTrue\n",
                "    Add-ConditionalFormatting @rulesparam -ConditionValue 'NOT(ISERROR(FIND(\"db_owner\",$G1)))' -BackgroundColor Yellow -StopIfTrue\n",
                "    Add-ConditionalFormatting @rulesparam -ConditionValue 'NOT(ISERROR(FIND(\"SERVER LOGINS\",$E1)))' -BackgroundColor PaleGreen \n",
                "    Add-ConditionalFormatting @rulesparam -ConditionValue 'NOT(ISERROR(FIND(\"SERVER SECURABLES\",$E1)))' -BackgroundColor PowderBlue \n",
                "    Add-ConditionalFormatting @rulesparam -ConditionValue 'NOT(ISERROR(FIND(\"DB ROLE MEMBERS\",$E1)))' -BackgroundColor GoldenRod \n",
                "    Add-ConditionalFormatting @rulesparam -ConditionValue 'NOT(ISERROR(FIND(\"DB SECURABLES\",$E1)))' -BackgroundColor BurlyWood \n",
                "\n",
                "    Close-ExcelPackage $excel\n",
                "\n",
                "\n",
                "Write-Output \"\"\n",
                "Write-Output \"Finished Processing $sqlinstance\"\n",
                "\n",
                "$Excel = Open-ExcelPackage -Path $ExcelFile\n",
                "Add-Worksheet -ExcelPackage $Excel -WorksheetName 'Title' -MoveToStart | Out-Null\n",
                "\n",
                "$TitleSheet = $excel.Workbook.Worksheets['Title']\n",
                "$Date = (Get-Date).ToLongDateString()\n",
                "$TitleSheet.Cells[\"A1\"].value = \"This Worksheet shows the User Permissions for each database on $sqlinstance at $Date \"\n",
                "Set-ExcelRange -Worksheet $TitleSheet -Range \"A:1\" -Bold -FontSize 22 -Underline -UnderLineType Double\n",
                "\n",
                "$TitleSheet.Cells[\"B3\"].Value = \"The Cells are colour coded as follows :-\"\n",
                "Set-ExcelRange -Worksheet $TitleSheet -Range \"B3\" -Bold -FontSize 18 \n",
                "$TitleSheet.Cells[\"E5\"].Value = \"The Yellow Cells show members of the sysadmin role who have permission to do and access anything on the instance \"\n",
                "$TitleSheet.Cells[\"E6\"].Value = \"The Green Cells show the logins on the server\"\n",
                "$TitleSheet.Cells[\"E7\"].Value = \"The Blue Cells show the instance level permissions that have been granted to the logins\"\n",
                "$TitleSheet.Cells[\"E8\"].Value = \"The Orange Cells show the database role membership for the login\"\n",
                "$TitleSheet.Cells[\"E9\"].Value = \"The Brown Cells show specific database permissions that have been granted for the logins\"\n",
                "\n",
                "$TitleSheet.Cells[\"B11\"].Value = \"You can filter by Database on the Object column\"\n",
                "Set-ExcelRange -Worksheet $TitleSheet -Range \"C11\" -FontSize 18\n",
                "\n",
                "$TitleSheet.Cells[\"B12\"].Value = \"You can filter by User/Group/Login on the Member column\"\n",
                "Set-ExcelRange -Worksheet $TitleSheet -Range \"C12\" -FontSize 18\n",
                "\n",
                "Set-ExcelRange -Worksheet $TitleSheet -Range  \"C5\" -BackgroundColor Yellow\n",
                "Set-ExcelRange -Worksheet $TitleSheet -Range  \"C6\" -BackgroundColor PaleGreen\n",
                "Set-ExcelRange -Worksheet $TitleSheet -Range  \"C7\" -BackgroundColor PowderBlue \n",
                "Set-ExcelRange -Worksheet $TitleSheet -Range  \"C8\" -BackgroundColor GoldenRod \n",
                "Set-ExcelRange -Worksheet $TitleSheet -Range  \"C9\" -BackgroundColor BurlyWood \n",
                "\n",
                "Close-ExcelPackage $excel\n",
                "\n",
                "\n",
                "Write-Output \"                ###############                  \"\n",
                "Write-Output \"        FileName is $ExcelFile            \"\n",
                "Write-Output \"                ###############                  \"\n",
                "Write-Output \"\"\n",
                "\n",
                "Invoke-Item $ExcelFile"
            ]
        }
    ],
    "metadata": {
        "kernelspec": {
            "display_name": ".NET (PowerShell)",
            "language": "PowerShell",
            "name": ".net-powershell"
        },
        "language_info": {
            "file_extension": ".ps1",
            "mimetype": "text/x-powershell",
            "name": "PowerShell",
            "pygments_lexer": "powershell",
            "version": "7.0"
        }
    },
    "nbformat": 4,
    "nbformat_minor": 2
}
