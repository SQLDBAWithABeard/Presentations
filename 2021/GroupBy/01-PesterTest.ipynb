{
 "cells": [
  {
   "cell_type": "markdown",
   "metadata": {},
   "source": [
    "# Ensure everything is ready\r\n",
    "\r\n",
    "Before we start we need to ensure that everything is ready for the demos.\r\n",
    "\r\n",
    "In this demo we are using Azure Arc Enabled Data Services to run the SQL MI Instance on Kubernetes in my office.\r\n",
    "\r\n",
    "This Pester test will \r\n",
    "- Ensure that all of the hosts are available\r\n",
    "- Ensure that all of the containers are ready\r\n",
    "- Ensure the SQL Instance is ready"
   ]
  },
  {
   "cell_type": "code",
   "execution_count": null,
   "metadata": {
    "dotnet_interactive": {
     "language": "pwsh"
    }
   },
   "outputs": [
    {
     "data": {
      "text/plain": "Starting Collection\r\n"
     },
     "output_type": "unknown"
    },
    {
     "data": {
      "text/plain": "    pods\r\n"
     },
     "output_type": "unknown"
    },
    {
     "data": {
      "text/plain": "    connection\r\n"
     },
     "output_type": "unknown"
    },
    {
     "data": {
      "text/plain": "Finished Collection\r\n"
     },
     "output_type": "unknown"
    },
    {
     "data": {
      "text/plain": "\u001b[95m\nStarting discovery in 1 files.\u001b[0m\r\n"
     },
     "output_type": "unknown"
    },
    {
     "data": {
      "text/plain": "\u001b[95mDiscovery finished in 13ms.\u001b[0m\r\n"
     },
     "output_type": "unknown"
    },
    {
     "data": {
      "text/plain": "\u001b[95mRunning tests.\u001b[0m\r\n"
     },
     "output_type": "unknown"
    },
    {
     "data": {
      "text/plain": ""
     },
     "output_type": "unknown"
    },
    {
     "data": {
      "text/plain": "[+] D:\\OneDrive\\Documents\\GitHub\\Presentations\\2021\\GroupBy\\pestertest.ps1"
     },
     "output_type": "unknown"
    },
    {
     "data": {
      "text/plain": "\u001b[90m 7.55s (7.1s|435ms)\u001b[0m\r\n"
     },
     "output_type": "unknown"
    },
    {
     "data": {
      "text/plain": "\u001b[97mTests completed in 7.55s\u001b[0m\r\n"
     },
     "output_type": "unknown"
    },
    {
     "data": {
      "text/plain": "\u001b[32mTests Passed: 75, \u001b[0m"
     },
     "output_type": "unknown"
    },
    {
     "data": {
      "text/plain": "\u001b[90mFailed: 0, \u001b[0m"
     },
     "output_type": "unknown"
    },
    {
     "data": {
      "text/plain": "\u001b[90mSkipped: 0 \u001b[0m"
     },
     "output_type": "unknown"
    },
    {
     "data": {
      "text/plain": "\u001b[90mNotRun: 0\u001b[0m\r\n"
     },
     "output_type": "unknown"
    }
   ],
   "source": [
    ". .\\getpesterinfo.ps1\r\n",
    "Invoke-Pester .\\pestertest.ps1 # -Output Detailed "
   ]
  }
 ],
 "metadata": {
  "kernelspec": {
   "display_name": ".NET (C#)",
   "language": "C#",
   "name": ".net-csharp"
  },
  "language_info": {
   "file_extension": ".cs",
   "mimetype": "text/x-csharp",
   "name": "C#",
   "pygments_lexer": "csharp",
   "version": "9.0"
  }
 },
 "nbformat": 4,
 "nbformat_minor": 2
}