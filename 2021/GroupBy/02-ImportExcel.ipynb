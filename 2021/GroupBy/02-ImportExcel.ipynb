{
    "cells": [
        {
            "cell_type": "markdown",
            "metadata": {
                "azdata_cell_guid": "594c3be1-b38f-4fcb-a12b-c032eb610f8f"
            },
            "source": [
                "# Working with Excel using the ImportExcel Module\n",
                "\n",
                "The ImportExcel Module was started by Doug Finke [b](https://dfinke.github.io/) [t](https://twitter.com/dfinke) and has consistently been updated with significant input from James O'Neill [b](https://jamesone111.wordpress.com/) [t](https://twitter.com/jamesoneill) amongst others. ImportExcel enables automation of Excel workbooks using PowerShell and works with both Windows PowerShell and PowerShell Core\n",
                "\n",
                "## Installation\n",
                "Lets start by installing it (we will also check that you have dbatools too!)"
            ]
        },
        {
            "cell_type": "code",
            "execution_count": null,
            "metadata": {
                "dotnet_interactive": {
                    "language": "pwsh"
                }
            },
            "outputs": [],
            "source": [
                "$Modules = 'ImportExcel','dbatools'\r\n",
                "foreach($Module in $Modules){\r\n",
                "    if(Get-Module $Module -ListAvailable -ErrorAction SilentlyContinue){\r\n",
                "        Write-Output \"We will update the module $Module\"\r\n",
                "        Update-Module $Module\r\n",
                "    } else {\r\n",
                "        Write-Output \"We will install the module $Module\"\r\n",
                "        Install-Module $Module -Scope CurrentUser\r\n",
                "    }\r\n",
                "}\r\n"
            ]
        },
        {
            "cell_type": "markdown",
            "metadata": {
                "azdata_cell_guid": "e84e54e3-5a66-4cb3-83d1-9a478ddee797"
            },
            "source": [
                "## Listing the commands\r\n",
                "\r\n",
                "The module has a significant number of commands"
            ]
        },
        {
            "cell_type": "code",
            "execution_count": null,
            "metadata": {
                "dotnet_interactive": {
                    "language": "pwsh"
                }
            },
            "outputs": [
                {
                    "data": {
                        "text/plain": "\r\n"
                    },
                    "output_type": "unknown"
                },
                {
                    "data": {
                        "text/plain": "CommandType     Name                                               Version    Source\r\n"
                    },
                    "output_type": "unknown"
                },
                {
                    "data": {
                        "text/plain": "-----------     ----                                               -------    ------\r\n"
                    },
                    "output_type": "unknown"
                },
                {
                    "data": {
                        "text/plain": "Alias           Convert-XlRangeToImage                             7.1.2      ImportExcel\r\n"
                    },
                    "output_type": "unknown"
                },
                {
                    "data": {
                        "text/plain": "Alias           Export-ExcelSheet                                  7.1.2      ImportExcel\r\n"
                    },
                    "output_type": "unknown"
                },
                {
                    "data": {
                        "text/plain": "Alias           New-ExcelChart                                     7.1.2      ImportExcel\r\n"
                    },
                    "output_type": "unknown"
                },
                {
                    "data": {
                        "text/plain": "Alias           Set-Column                                         7.1.2      ImportExcel\r\n"
                    },
                    "output_type": "unknown"
                },
                {
                    "data": {
                        "text/plain": "Alias           Set-Format                                         7.1.2      ImportExcel\r\n"
                    },
                    "output_type": "unknown"
                },
                {
                    "data": {
                        "text/plain": "Alias           Set-Row                                            7.1.2      ImportExcel\r\n"
                    },
                    "output_type": "unknown"
                },
                {
                    "data": {
                        "text/plain": "Alias           Use-ExcelData                                      7.1.2      ImportExcel\r\n"
                    },
                    "output_type": "unknown"
                },
                {
                    "data": {
                        "text/plain": "Function        Add-ConditionalFormatting                          7.1.2      ImportExcel\r\n"
                    },
                    "output_type": "unknown"
                },
                {
                    "data": {
                        "text/plain": "Function        Add-ExcelChart                                     7.1.2      ImportExcel\r\n"
                    },
                    "output_type": "unknown"
                },
                {
                    "data": {
                        "text/plain": "Function        Add-ExcelDataValidationRule                        7.1.2      ImportExcel\r\n"
                    },
                    "output_type": "unknown"
                },
                {
                    "data": {
                        "text/plain": "Function        Add-ExcelName                                      7.1.2      ImportExcel\r\n"
                    },
                    "output_type": "unknown"
                },
                {
                    "data": {
                        "text/plain": "Function        Add-ExcelTable                                     7.1.2      ImportExcel\r\n"
                    },
                    "output_type": "unknown"
                },
                {
                    "data": {
                        "text/plain": "Function        Add-PivotTable                                     7.1.2      ImportExcel\r\n"
                    },
                    "output_type": "unknown"
                },
                {
                    "data": {
                        "text/plain": "Function        Add-Worksheet                                      7.1.2      ImportExcel\r\n"
                    },
                    "output_type": "unknown"
                },
                {
                    "data": {
                        "text/plain": "Function        BarChart                                           7.1.2      ImportExcel\r\n"
                    },
                    "output_type": "unknown"
                },
                {
                    "data": {
                        "text/plain": "Function        Close-ExcelPackage                                 7.1.2      ImportExcel\r\n"
                    },
                    "output_type": "unknown"
                },
                {
                    "data": {
                        "text/plain": "Function        ColumnChart                                        7.1.2      ImportExcel\r\n"
                    },
                    "output_type": "unknown"
                },
                {
                    "data": {
                        "text/plain": "Function        Compare-Worksheet                                  7.1.2      ImportExcel\r\n"
                    },
                    "output_type": "unknown"
                },
                {
                    "data": {
                        "text/plain": "Function        Convert-ExcelRangeToImage                          7.1.2      ImportExcel\r\n"
                    },
                    "output_type": "unknown"
                },
                {
                    "data": {
                        "text/plain": "Function        ConvertFrom-ExcelData                              7.1.2      ImportExcel\r\n"
                    },
                    "output_type": "unknown"
                },
                {
                    "data": {
                        "text/plain": "Function        ConvertFrom-ExcelSheet                             7.1.2      ImportExcel\r\n"
                    },
                    "output_type": "unknown"
                },
                {
                    "data": {
                        "text/plain": "Function        ConvertFrom-ExcelToSQLInsert                       7.1.2      ImportExcel\r\n"
                    },
                    "output_type": "unknown"
                },
                {
                    "data": {
                        "text/plain": "Function        ConvertTo-ExcelXlsx                                7.1.2      ImportExcel\r\n"
                    },
                    "output_type": "unknown"
                },
                {
                    "data": {
                        "text/plain": "Function        Copy-ExcelWorksheet                                7.1.2      ImportExcel\r\n"
                    },
                    "output_type": "unknown"
                },
                {
                    "data": {
                        "text/plain": "Function        DoChart                                            7.1.2      ImportExcel\r\n"
                    },
                    "output_type": "unknown"
                },
                {
                    "data": {
                        "text/plain": "Function        Expand-NumberFormat                                7.1.2      ImportExcel\r\n"
                    },
                    "output_type": "unknown"
                },
                {
                    "data": {
                        "text/plain": "Function        Export-Excel                                       7.1.2      ImportExcel\r\n"
                    },
                    "output_type": "unknown"
                },
                {
                    "data": {
                        "text/plain": "Function        Get-ExcelColumnName                                7.1.2      ImportExcel\r\n"
                    },
                    "output_type": "unknown"
                },
                {
                    "data": {
                        "text/plain": "Function        Get-ExcelFileSummary                               7.1.2      ImportExcel\r\n"
                    },
                    "output_type": "unknown"
                },
                {
                    "data": {
                        "text/plain": "Function        Get-ExcelSheetInfo                                 7.1.2      ImportExcel\r\n"
                    },
                    "output_type": "unknown"
                },
                {
                    "data": {
                        "text/plain": "Function        Get-ExcelWorkbookInfo                              7.1.2      ImportExcel\r\n"
                    },
                    "output_type": "unknown"
                },
                {
                    "data": {
                        "text/plain": "Function        Get-HtmlTable                                      7.1.2      ImportExcel\r\n"
                    },
                    "output_type": "unknown"
                },
                {
                    "data": {
                        "text/plain": "Function        Get-Range                                          7.1.2      ImportExcel\r\n"
                    },
                    "output_type": "unknown"
                },
                {
                    "data": {
                        "text/plain": "Function        Get-XYRange                                        7.1.2      ImportExcel\r\n"
                    },
                    "output_type": "unknown"
                },
                {
                    "data": {
                        "text/plain": "Function        Import-Excel                                       7.1.2      ImportExcel\r\n"
                    },
                    "output_type": "unknown"
                },
                {
                    "data": {
                        "text/plain": "Function        Import-Html                                        7.1.2      ImportExcel\r\n"
                    },
                    "output_type": "unknown"
                },
                {
                    "data": {
                        "text/plain": "Function        Import-UPS                                         7.1.2      ImportExcel\r\n"
                    },
                    "output_type": "unknown"
                },
                {
                    "data": {
                        "text/plain": "Function        Import-USPS                                        7.1.2      ImportExcel\r\n"
                    },
                    "output_type": "unknown"
                },
                {
                    "data": {
                        "text/plain": "Function        Invoke-Sum                                         7.1.2      ImportExcel\r\n"
                    },
                    "output_type": "unknown"
                },
                {
                    "data": {
                        "text/plain": "Function        Join-Worksheet                                     7.1.2      ImportExcel\r\n"
                    },
                    "output_type": "unknown"
                },
                {
                    "data": {
                        "text/plain": "Function        LineChart                                          7.1.2      ImportExcel\r\n"
                    },
                    "output_type": "unknown"
                },
                {
                    "data": {
                        "text/plain": "Function        Merge-MultipleSheets                               7.1.2      ImportExcel\r\n"
                    },
                    "output_type": "unknown"
                },
                {
                    "data": {
                        "text/plain": "Function        Merge-Worksheet                                    7.1.2      ImportExcel\r\n"
                    },
                    "output_type": "unknown"
                },
                {
                    "data": {
                        "text/plain": "Function        New-ConditionalFormattingIconSet                   7.1.2      ImportExcel\r\n"
                    },
                    "output_type": "unknown"
                },
                {
                    "data": {
                        "text/plain": "Function        New-ConditionalText                                7.1.2      ImportExcel\r\n"
                    },
                    "output_type": "unknown"
                },
                {
                    "data": {
                        "text/plain": "Function        New-ExcelChartDefinition                           7.1.2      ImportExcel\r\n"
                    },
                    "output_type": "unknown"
                },
                {
                    "data": {
                        "text/plain": "Function        New-ExcelStyle                                     7.1.2      ImportExcel\r\n"
                    },
                    "output_type": "unknown"
                },
                {
                    "data": {
                        "text/plain": "Function        New-PivotTableDefinition                           7.1.2      ImportExcel\r\n"
                    },
                    "output_type": "unknown"
                },
                {
                    "data": {
                        "text/plain": "Function        New-Plot                                           7.1.2      ImportExcel\r\n"
                    },
                    "output_type": "unknown"
                },
                {
                    "data": {
                        "text/plain": "Function        New-PSItem                                         7.1.2      ImportExcel\r\n"
                    },
                    "output_type": "unknown"
                },
                {
                    "data": {
                        "text/plain": "Function        Open-ExcelPackage                                  7.1.2      ImportExcel\r\n"
                    },
                    "output_type": "unknown"
                },
                {
                    "data": {
                        "text/plain": "Function        PieChart                                           7.1.2      ImportExcel\r\n"
                    },
                    "output_type": "unknown"
                },
                {
                    "data": {
                        "text/plain": "Function        Pivot                                              7.1.2      ImportExcel\r\n"
                    },
                    "output_type": "unknown"
                },
                {
                    "data": {
                        "text/plain": "Function        Remove-Worksheet                                   7.1.2      ImportExcel\r\n"
                    },
                    "output_type": "unknown"
                },
                {
                    "data": {
                        "text/plain": "Function        Select-Worksheet                                   7.1.2      ImportExcel\r\n"
                    },
                    "output_type": "unknown"
                },
                {
                    "data": {
                        "text/plain": "Function        Send-SQLDataToExcel                                7.1.2      ImportExcel\r\n"
                    },
                    "output_type": "unknown"
                },
                {
                    "data": {
                        "text/plain": "Function        Set-CellStyle                                      7.1.2      ImportExcel\r\n"
                    },
                    "output_type": "unknown"
                },
                {
                    "data": {
                        "text/plain": "Function        Set-ExcelColumn                                    7.1.2      ImportExcel\r\n"
                    },
                    "output_type": "unknown"
                },
                {
                    "data": {
                        "text/plain": "Function        Set-ExcelRange                                     7.1.2      ImportExcel\r\n"
                    },
                    "output_type": "unknown"
                },
                {
                    "data": {
                        "text/plain": "Function        Set-ExcelRow                                       7.1.2      ImportExcel\r\n"
                    },
                    "output_type": "unknown"
                },
                {
                    "data": {
                        "text/plain": "Function        Set-WorksheetProtection                            7.1.2      ImportExcel\r\n"
                    },
                    "output_type": "unknown"
                },
                {
                    "data": {
                        "text/plain": "Function        Test-Boolean                                       7.1.2      ImportExcel\r\n"
                    },
                    "output_type": "unknown"
                },
                {
                    "data": {
                        "text/plain": "Function        Test-Date                                          7.1.2      ImportExcel\r\n"
                    },
                    "output_type": "unknown"
                },
                {
                    "data": {
                        "text/plain": "Function        Test-Integer                                       7.1.2      ImportExcel\r\n"
                    },
                    "output_type": "unknown"
                },
                {
                    "data": {
                        "text/plain": "Function        Test-Number                                        7.1.2      ImportExcel\r\n"
                    },
                    "output_type": "unknown"
                },
                {
                    "data": {
                        "text/plain": "Function        Test-String                                        7.1.2      ImportExcel\r\n"
                    },
                    "output_type": "unknown"
                },
                {
                    "data": {
                        "text/plain": "Function        Update-FirstObjectProperties                       7.1.2      ImportExcel\r\n"
                    },
                    "output_type": "unknown"
                },
                {
                    "data": {
                        "text/plain": "\r\n"
                    },
                    "output_type": "unknown"
                }
            ],
            "source": [
                "Get-Command -Module ImportExcel"
            ]
        },
        {
            "cell_type": "markdown",
            "metadata": {
                "azdata_cell_guid": "fe7a23c9-4f8a-48cf-8fad-95048ca3be04"
            },
            "source": [
                "## Start with something easy\n",
                "\n",
                "Let's start of by showing the power of PowerShell and the ImportExcel module\n",
                "\n",
                "First lets get the logins on an instance with dbatools, you can list them here and save the results in a notebook or you can copy the results and paste them into an email or somthing else, maybe Excel!"
            ]
        },
        {
            "cell_type": "code",
            "execution_count": null,
            "metadata": {
                "dotnet_interactive": {
                    "language": "pwsh"
                }
            },
            "outputs": [],
            "source": [
                "## first we will set some values that will be used throughout the notebook\r\n",
                "$SqlInstance = '192.168.2.63,30666' # Audience please help Rob - He WILL forget to change this\r\n",
                "$benscreds = New-Object System.Management.Automation.PSCredential ((Get-Secret -Name beardmi-benadmin-user -AsPlainText), (Get-Secret -Name beardmi-benadmin-pwd))\r\n",
                "$sql = Connect-DbaInstance -SqlInstance $SqlInstance -SqlCredential $benscreds\r\n",
                "\r\n",
                "$PSDefaultParameterValues = @{\r\n",
                "    \"*dba*:SqlInstance\" = $sql \r\n",
                "}\r\n",
                "\r\n"
            ]
        },
        {
            "cell_type": "code",
            "execution_count": null,
            "metadata": {
                "dotnet_interactive": {
                    "language": "pwsh"
                }
            },
            "outputs": [
                {
                    "data": {
                        "text/plain": "\r\n"
                    },
                    "output_type": "unknown"
                },
                {
                    "data": {
                        "text/plain": "ComputerName InstanceName SqlInstance   Name                                       LoginType Create\r\n"
                    },
                    "output_type": "unknown"
                },
                {
                    "data": {
                        "text/plain": "                                                                                             Date\r\n"
                    },
                    "output_type": "unknown"
                },
                {
                    "data": {
                        "text/plain": "------------ ------------ -----------   ----                                       --------- ------\r\n"
                    },
                    "output_type": "unknown"
                },
                {
                    "data": {
                        "text/plain": "192.168.2.63 MSSQLSERVER  ben-starker-0 ##container-agent-login##                   SqlLogin 24/05…\r\n"
                    },
                    "output_type": "unknown"
                },
                {
                    "data": {
                        "text/plain": "192.168.2.63 MSSQLSERVER  ben-starker-0 ##monitoring-login##                        SqlLogin 24/05…\r\n"
                    },
                    "output_type": "unknown"
                },
                {
                    "data": {
                        "text/plain": "192.168.2.63 MSSQLSERVER  ben-starker-0 ##MS_PolicyEventProcessingLogin##           SqlLogin 09/02…\r\n"
                    },
                    "output_type": "unknown"
                },
                {
                    "data": {
                        "text/plain": "192.168.2.63 MSSQLSERVER  ben-starker-0 ##MS_PolicyTsqlExecutionLogin##             SqlLogin 09/02…\r\n"
                    },
                    "output_type": "unknown"
                },
                {
                    "data": {
                        "text/plain": "192.168.2.63 MSSQLSERVER  ben-starker-0 akamman                                     SqlLogin 24/05…\r\n"
                    },
                    "output_type": "unknown"
                },
                {
                    "data": {
                        "text/plain": "192.168.2.63 MSSQLSERVER  ben-starker-0 alevy                                       SqlLogin 24/05…\r\n"
                    },
                    "output_type": "unknown"
                },
                {
                    "data": {
                        "text/plain": "192.168.2.63 MSSQLSERVER  ben-starker-0 Andrew_Pruski                               SqlLogin 24/05…\r\n"
                    },
                    "output_type": "unknown"
                },
                {
                    "data": {
                        "text/plain": "192.168.2.63 MSSQLSERVER  ben-starker-0 Argenis_Fernandez                           SqlLogin 24/05…\r\n"
                    },
                    "output_type": "unknown"
                },
                {
                    "data": {
                        "text/plain": "192.168.2.63 MSSQLSERVER  ben-starker-0 beardapp1                                   SqlLogin 24/05…\r\n"
                    },
                    "output_type": "unknown"
                },
                {
                    "data": {
                        "text/plain": "192.168.2.63 MSSQLSERVER  ben-starker-0 beardapp2                                   SqlLogin 24/05…\r\n"
                    },
                    "output_type": "unknown"
                },
                {
                    "data": {
                        "text/plain": "192.168.2.63 MSSQLSERVER  ben-starker-0 beardapp3                                   SqlLogin 24/05…\r\n"
                    },
                    "output_type": "unknown"
                },
                {
                    "data": {
                        "text/plain": "192.168.2.63 MSSQLSERVER  ben-starker-0 beardapp4                                   SqlLogin 24/05…\r\n"
                    },
                    "output_type": "unknown"
                },
                {
                    "data": {
                        "text/plain": "192.168.2.63 MSSQLSERVER  ben-starker-0 beardapp5                                   SqlLogin 24/05…\r\n"
                    },
                    "output_type": "unknown"
                },
                {
                    "data": {
                        "text/plain": "192.168.2.63 MSSQLSERVER  ben-starker-0 beardapp6                                   SqlLogin 24/05…\r\n"
                    },
                    "output_type": "unknown"
                },
                {
                    "data": {
                        "text/plain": "192.168.2.63 MSSQLSERVER  ben-starker-0 beardapp7                                   SqlLogin 24/05…\r\n"
                    },
                    "output_type": "unknown"
                },
                {
                    "data": {
                        "text/plain": "192.168.2.63 MSSQLSERVER  ben-starker-0 beardapp8                                   SqlLogin 24/05…\r\n"
                    },
                    "output_type": "unknown"
                },
                {
                    "data": {
                        "text/plain": "192.168.2.63 MSSQLSERVER  ben-starker-0 benadmin                                    SqlLogin 24/05…\r\n"
                    },
                    "output_type": "unknown"
                },
                {
                    "data": {
                        "text/plain": "192.168.2.63 MSSQLSERVER  ben-starker-0 benji                                       SqlLogin 24/05…\r\n"
                    },
                    "output_type": "unknown"
                },
                {
                    "data": {
                        "text/plain": "192.168.2.63 MSSQLSERVER  ben-starker-0 Benji_BenWeissman                           SqlLogin 24/05…\r\n"
                    },
                    "output_type": "unknown"
                },
                {
                    "data": {
                        "text/plain": "192.168.2.63 MSSQLSERVER  ben-starker-0 Bob_Facts_Pusatari                          SqlLogin 24/05…\r\n"
                    },
                    "output_type": "unknown"
                },
                {
                    "data": {
                        "text/plain": "192.168.2.63 MSSQLSERVER  ben-starker-0 BUILTIN\\Administrators                  WindowsGroup 09/02…\r\n"
                    },
                    "output_type": "unknown"
                },
                {
                    "data": {
                        "text/plain": "192.168.2.63 MSSQLSERVER  ben-starker-0 bweissman                                   SqlLogin 24/05…\r\n"
                    },
                    "output_type": "unknown"
                },
                {
                    "data": {
                        "text/plain": "192.168.2.63 MSSQLSERVER  ben-starker-0 Cathrine_Wilhelmsen                         SqlLogin 24/05…\r\n"
                    },
                    "output_type": "unknown"
                },
                {
                    "data": {
                        "text/plain": "192.168.2.63 MSSQLSERVER  ben-starker-0 clemaire                                    SqlLogin 24/05…\r\n"
                    },
                    "output_type": "unknown"
                },
                {
                    "data": {
                        "text/plain": "192.168.2.63 MSSQLSERVER  ben-starker-0 Containers_Nocentino                        SqlLogin 24/05…\r\n"
                    },
                    "output_type": "unknown"
                },
                {
                    "data": {
                        "text/plain": "192.168.2.63 MSSQLSERVER  ben-starker-0 csilva                                      SqlLogin 24/05…\r\n"
                    },
                    "output_type": "unknown"
                },
                {
                    "data": {
                        "text/plain": "192.168.2.63 MSSQLSERVER  ben-starker-0 Dirk_Hondong                                SqlLogin 24/05…\r\n"
                    },
                    "output_type": "unknown"
                },
                {
                    "data": {
                        "text/plain": "192.168.2.63 MSSQLSERVER  ben-starker-0 Drew_FurggerwellyIgiveuptryingtospellit     SqlLogin 24/05…\r\n"
                    },
                    "output_type": "unknown"
                },
                {
                    "data": {
                        "text/plain": "192.168.2.63 MSSQLSERVER  ben-starker-0 Father_Johan_Brattas                        SqlLogin 24/05…\r\n"
                    },
                    "output_type": "unknown"
                },
                {
                    "data": {
                        "text/plain": "192.168.2.63 MSSQLSERVER  ben-starker-0 fatherjack                                  SqlLogin 24/05…\r\n"
                    },
                    "output_type": "unknown"
                },
                {
                    "data": {
                        "text/plain": "192.168.2.63 MSSQLSERVER  ben-starker-0 gsartori                                    SqlLogin 24/05…\r\n"
                    },
                    "output_type": "unknown"
                },
                {
                    "data": {
                        "text/plain": "192.168.2.63 MSSQLSERVER  ben-starker-0 jamrtin                                     SqlLogin 24/05…\r\n"
                    },
                    "output_type": "unknown"
                },
                {
                    "data": {
                        "text/plain": "192.168.2.63 MSSQLSERVER  ben-starker-0 Joey_Dantoni                                SqlLogin 24/05…\r\n"
                    },
                    "output_type": "unknown"
                },
                {
                    "data": {
                        "text/plain": "192.168.2.63 MSSQLSERVER  ben-starker-0 John_Morehouse                              SqlLogin 24/05…\r\n"
                    },
                    "output_type": "unknown"
                },
                {
                    "data": {
                        "text/plain": "192.168.2.63 MSSQLSERVER  ben-starker-0 Matt_Gordon                                 SqlLogin 24/05…\r\n"
                    },
                    "output_type": "unknown"
                },
                {
                    "data": {
                        "text/plain": "192.168.2.63 MSSQLSERVER  ben-starker-0 Monica_Rathbun                              SqlLogin 24/05…\r\n"
                    },
                    "output_type": "unknown"
                },
                {
                    "data": {
                        "text/plain": "192.168.2.63 MSSQLSERVER  ben-starker-0 MrsFatherJack                               SqlLogin 24/05…\r\n"
                    },
                    "output_type": "unknown"
                },
                {
                    "data": {
                        "text/plain": "192.168.2.63 MSSQLSERVER  ben-starker-0 NT AUTHORITY\\NETWORK SERVICE             WindowsUser 24/05…\r\n"
                    },
                    "output_type": "unknown"
                },
                {
                    "data": {
                        "text/plain": "192.168.2.63 MSSQLSERVER  ben-starker-0 NT AUTHORITY\\SYSTEM                      WindowsUser 24/05…\r\n"
                    },
                    "output_type": "unknown"
                },
                {
                    "data": {
                        "text/plain": "192.168.2.63 MSSQLSERVER  ben-starker-0 Reporting1                                  SqlLogin 24/05…\r\n"
                    },
                    "output_type": "unknown"
                },
                {
                    "data": {
                        "text/plain": "192.168.2.63 MSSQLSERVER  ben-starker-0 Reporting2                                  SqlLogin 24/05…\r\n"
                    },
                    "output_type": "unknown"
                },
                {
                    "data": {
                        "text/plain": "192.168.2.63 MSSQLSERVER  ben-starker-0 Reporting3                                  SqlLogin 24/05…\r\n"
                    },
                    "output_type": "unknown"
                },
                {
                    "data": {
                        "text/plain": "192.168.2.63 MSSQLSERVER  ben-starker-0 Reporting4                                  SqlLogin 24/05…\r\n"
                    },
                    "output_type": "unknown"
                },
                {
                    "data": {
                        "text/plain": "192.168.2.63 MSSQLSERVER  ben-starker-0 Rie_Irish                                   SqlLogin 24/05…\r\n"
                    },
                    "output_type": "unknown"
                },
                {
                    "data": {
                        "text/plain": "192.168.2.63 MSSQLSERVER  ben-starker-0 sa                                          SqlLogin 08/04…\r\n"
                    },
                    "output_type": "unknown"
                },
                {
                    "data": {
                        "text/plain": "192.168.2.63 MSSQLSERVER  ben-starker-0 smelton                                     SqlLogin 24/05…\r\n"
                    },
                    "output_type": "unknown"
                },
                {
                    "data": {
                        "text/plain": "192.168.2.63 MSSQLSERVER  ben-starker-0 SockFactoryApp_User                         SqlLogin 24/05…\r\n"
                    },
                    "output_type": "unknown"
                },
                {
                    "data": {
                        "text/plain": "192.168.2.63 MSSQLSERVER  ben-starker-0 soneill                                     SqlLogin 24/05…\r\n"
                    },
                    "output_type": "unknown"
                },
                {
                    "data": {
                        "text/plain": "192.168.2.63 MSSQLSERVER  ben-starker-0 sqladmin                                    SqlLogin 24/05…\r\n"
                    },
                    "output_type": "unknown"
                },
                {
                    "data": {
                        "text/plain": "192.168.2.63 MSSQLSERVER  ben-starker-0 Support1                                    SqlLogin 24/05…\r\n"
                    },
                    "output_type": "unknown"
                },
                {
                    "data": {
                        "text/plain": "192.168.2.63 MSSQLSERVER  ben-starker-0 Support2                                    SqlLogin 24/05…\r\n"
                    },
                    "output_type": "unknown"
                },
                {
                    "data": {
                        "text/plain": "192.168.2.63 MSSQLSERVER  ben-starker-0 Support3                                    SqlLogin 24/05…\r\n"
                    },
                    "output_type": "unknown"
                },
                {
                    "data": {
                        "text/plain": "192.168.2.63 MSSQLSERVER  ben-starker-0 Support4                                    SqlLogin 24/05…\r\n"
                    },
                    "output_type": "unknown"
                },
                {
                    "data": {
                        "text/plain": "192.168.2.63 MSSQLSERVER  ben-starker-0 Support5                                    SqlLogin 24/05…\r\n"
                    },
                    "output_type": "unknown"
                },
                {
                    "data": {
                        "text/plain": "192.168.2.63 MSSQLSERVER  ben-starker-0 Support6                                    SqlLogin 24/05…\r\n"
                    },
                    "output_type": "unknown"
                },
                {
                    "data": {
                        "text/plain": "192.168.2.63 MSSQLSERVER  ben-starker-0 system                                      SqlLogin 24/05…\r\n"
                    },
                    "output_type": "unknown"
                },
                {
                    "data": {
                        "text/plain": "192.168.2.63 MSSQLSERVER  ben-starker-0 tboggiano                                   SqlLogin 24/05…\r\n"
                    },
                    "output_type": "unknown"
                },
                {
                    "data": {
                        "text/plain": "192.168.2.63 MSSQLSERVER  ben-starker-0 thebeard                                    SqlLogin 24/05…\r\n"
                    },
                    "output_type": "unknown"
                },
                {
                    "data": {
                        "text/plain": "192.168.2.63 MSSQLSERVER  ben-starker-0 Thomas_Grohser                              SqlLogin 24/05…\r\n"
                    },
                    "output_type": "unknown"
                },
                {
                    "data": {
                        "text/plain": "192.168.2.63 MSSQLSERVER  ben-starker-0 wdurkin                                     SqlLogin 24/05…\r\n"
                    },
                    "output_type": "unknown"
                },
                {
                    "data": {
                        "text/plain": "\r\n"
                    },
                    "output_type": "unknown"
                }
            ],
            "source": [
                "Get-DbaLogin| Format-Table"
            ]
        },
        {
            "cell_type": "markdown",
            "metadata": {
                "azdata_cell_guid": "378e0cce-763a-421a-b2f3-297e3770871b"
            },
            "source": [
                "Of course, your user will want them in Excel!!\n",
                "\n",
                "With ImportExcel Module, it is easy to pipe the results from any command into an excel worksheet"
            ]
        },
        {
            "cell_type": "code",
            "execution_count": null,
            "metadata": {
                "dotnet_interactive": {
                    "language": "pwsh"
                }
            },
            "outputs": [],
            "source": [
                "Get-DbaLogin  | Export-Excel -Path C:\\temp\\xlsx\\Logins.xlsx\r\n",
                "Invoke-Item C:\\temp\\xlsx\\Logins.xlsx"
            ]
        },
        {
            "cell_type": "markdown",
            "metadata": {
                "azdata_cell_guid": "fe348815-95f9-4f58-9046-7157dbdafdc2"
            },
            "source": [
                "Thats cool, <u>but we want more</u>.\n",
                "\n",
                "We will often autosize the results in Excel so that the columns fit. It would be good to be able to auto format with PowerShell. With the ImportExcel you can do that with the `AutoSize` parameter"
            ]
        },
        {
            "cell_type": "code",
            "execution_count": null,
            "metadata": {
                "dotnet_interactive": {
                    "language": "pwsh"
                }
            },
            "outputs": [],
            "source": [
                "Get-DbaLogin | Export-Excel -Path C:\\temp\\xlsx\\Logins.xlsx -AutoSize\r\n",
                "Invoke-Item C:\\temp\\xlsx\\Logins.xlsx"
            ]
        },
        {
            "cell_type": "markdown",
            "metadata": {
                "azdata_cell_guid": "5aec1a0a-34b3-48e9-b92a-abb15ff64e50"
            },
            "source": [
                " Thats neat but I want to be able to filter by the columns as well. You can use the `-AutoFilter` parameter for this"
            ]
        },
        {
            "cell_type": "code",
            "execution_count": null,
            "metadata": {
                "dotnet_interactive": {
                    "language": "pwsh"
                }
            },
            "outputs": [],
            "source": [
                "Get-DbaLogin | Export-Excel -Path C:\\temp\\xlsx\\Logins.xlsx -AutoSize -AutoFilter\r\n",
                "Invoke-Item C:\\temp\\xlsx\\Logins.xlsx"
            ]
        },
        {
            "cell_type": "markdown",
            "metadata": {
                "azdata_cell_guid": "7d22d1fd-1c4d-4fb5-a4ac-fda519b9e259"
            },
            "source": [
                "To make it look a little nicer, I could name the worksheet and give the table a title.\n",
                "I want a title and to be able to name the worksheet and because I am lazy, I want it to just open with one line.\n",
                "\n",
                "You can use the `-Title`, `-WorksheetName`, and `-Show` parameters to achieve this."
            ]
        },
        {
            "cell_type": "code",
            "execution_count": null,
            "metadata": {
                "dotnet_interactive": {
                    "language": "pwsh"
                }
            },
            "outputs": [],
            "source": [
                "Get-DbaLogin | Export-Excel -Path C:\\temp\\xlsx\\Logins.xlsx -AutoSize -AutoFilter -Title \"The Logins\" -WorksheetName \"Logins\" -Show "
            ]
        },
        {
            "cell_type": "markdown",
            "metadata": {
                "azdata_cell_guid": "b29eeaa2-1a0c-4a1d-ae7e-7b4eef06320d"
            },
            "source": [
                "**Hang on a minute, what happened there?**\n",
                "\n",
                "It has created a new worksheet and added it onto the existing workbook but it made it the second one!\n",
                "\n",
                "Lets fix that with the `MoveToStart` parameter, We'll make the background yellow so its obvious and used the `FreezeTopRow` parameter to, well freeze the top row. I have also changed the code to use `splatting` which I think makes it easier to read."
            ]
        },
        {
            "cell_type": "code",
            "execution_count": null,
            "metadata": {
                "dotnet_interactive": {
                    "language": "pwsh"
                }
            },
            "outputs": [],
            "source": [
                "$ExportExcelParams = @{\r\n",
                "    Path =  'C:\\temp\\xlsx\\Logins.xlsx' \r\n",
                "    AutoSize =  $true\r\n",
                "    AutoFilter =  $true\r\n",
                "    Title =  \"The Logins\" \r\n",
                "    WorksheetName =  \"Logins\" \r\n",
                "    MoveToStart =  $true\r\n",
                "    TitleBackgroundColor =  'yellow' \r\n",
                "    FreezeTopRow =  $true\r\n",
                "    Show =  $true\r\n",
                "}\r\n",
                "Get-DbaLogin | Export-Excel @ExportExcelParams"
            ]
        },
        {
            "cell_type": "markdown",
            "metadata": {
                "azdata_cell_guid": "4b4836a2-af63-47bd-9408-a0f14c229c1f"
            },
            "source": [
                "# Use cases\r\n",
                "\r\n",
                "This is really neat, its a simple way of getting the results of any PowerShell command, quickly and easily into an Excel sheet for sorting.\r\n",
                "\r\n",
                "At the command line, you can make sure that you are getting the results that you need and then pipe those results into the Export-Excel command.\r\n",
                "\r\n",
                "## Services\r\n",
                "\r\n",
                "So you could get the services like this.\r\n",
                "\r\n",
                "`FreezeTopRow` freezes the top row which is the title! We need to freeze the second row. To do this you use the `FreezePane` parameter and provide the rownumber and column number. In this case row 3 and column 0."
            ]
        },
        {
            "cell_type": "code",
            "execution_count": null,
            "metadata": {
                "dotnet_interactive": {
                    "language": "pwsh"
                }
            },
            "outputs": [],
            "source": [
                "$ExportExcelParams = @{\r\n",
                "    Path =  'C:\\temp\\xlsx\\Services.xlsx' \r\n",
                "    AutoSize =  $true\r\n",
                "    AutoFilter =  $true\r\n",
                "    Title =  \"Services on $Env:ComputerName\" \r\n",
                "    WorksheetName =  \"Services\" \r\n",
                "    MoveToStart =  $true\r\n",
                "    TitleBackgroundColor =  'darkgray' \r\n",
                "    FreezePane = 3,0\r\n",
                "    Show =  $true\r\n",
                "}\r\n",
                "Get-Service | Export-Excel @ExportExcelParams"
            ]
        },
        {
            "cell_type": "markdown",
            "metadata": {
                "azdata_cell_guid": "32830f9c-e065-4da1-8fd9-110431e00963"
            },
            "source": [
                "## Processes\n",
                "\n",
                "Or the Processes like this. This takes a little minute"
            ]
        },
        {
            "cell_type": "code",
            "execution_count": null,
            "metadata": {
                "dotnet_interactive": {
                    "language": "pwsh"
                }
            },
            "outputs": [
                {
                    "data": {
                        "text/plain": "\u001b[93mWARNING: Could not insert the 'Parent' property at Row 77, Column 10\u001b[0m\r\n"
                    },
                    "output_type": "unknown"
                },
                {
                    "data": {
                        "text/plain": "\u001b[93mWARNING: Could not insert the 'Parent' property at Row 92, Column 10\u001b[0m\r\n"
                    },
                    "output_type": "unknown"
                },
                {
                    "data": {
                        "text/plain": "\u001b[93mWARNING: Could not insert the 'Parent' property at Row 106, Column 10\u001b[0m\r\n"
                    },
                    "output_type": "unknown"
                },
                {
                    "data": {
                        "text/plain": "\u001b[93mWARNING: Could not insert the 'Parent' property at Row 108, Column 10\u001b[0m\r\n"
                    },
                    "output_type": "unknown"
                },
                {
                    "data": {
                        "text/plain": "\u001b[93mWARNING: Could not insert the 'Parent' property at Row 109, Column 10\u001b[0m\r\n"
                    },
                    "output_type": "unknown"
                },
                {
                    "data": {
                        "text/plain": "\u001b[93mWARNING: Could not insert the 'Parent' property at Row 114, Column 10\u001b[0m\r\n"
                    },
                    "output_type": "unknown"
                },
                {
                    "data": {
                        "text/plain": "\u001b[93mWARNING: Could not insert the 'Parent' property at Row 118, Column 10\u001b[0m\r\n"
                    },
                    "output_type": "unknown"
                },
                {
                    "data": {
                        "text/plain": "\u001b[93mWARNING: Could not insert the 'Parent' property at Row 125, Column 10\u001b[0m\r\n"
                    },
                    "output_type": "unknown"
                },
                {
                    "data": {
                        "text/plain": "\u001b[93mWARNING: Could not insert the 'Parent' property at Row 161, Column 10\u001b[0m\r\n"
                    },
                    "output_type": "unknown"
                },
                {
                    "data": {
                        "application/x.notebook.error-traceback": {
                            "ename": "Error",
                            "evalue": "Cell execution cancelled by user",
                            "traceback": []
                        }
                    },
                    "output_type": "unknown"
                }
            ],
            "source": [
                "$ExportExcelParams = @{\r\n",
                "    Path =  'C:\\temp\\xlsx\\Processes.xlsx' \r\n",
                "    AutoSize =  $true\r\n",
                "    AutoFilter =  $true\r\n",
                "    Title =  \"Processes on $Env:ComputerName\" \r\n",
                "    WorksheetName =  \"Processes\" \r\n",
                "    MoveToStart =  $true\r\n",
                "    TitleBackgroundColor =  'darkgray' \r\n",
                "    FreezePane = 3,0\r\n",
                "    Show =  $true\r\n",
                "}\r\n",
                "Get-Process | Export-Excel @ExportExcelParams"
            ]
        },
        {
            "cell_type": "markdown",
            "metadata": {
                "azdata_cell_guid": "0ff3f569-bf6d-4510-904e-b52bdc0816f0"
            },
            "source": [
                "## Event Logs\r\n",
                "\r\n",
                "You can do the same thing with Windows Event logs. This time you will add both Application and System Event Log entries into seperate worksheets"
            ]
        },
        {
            "cell_type": "code",
            "execution_count": null,
            "metadata": {
                "dotnet_interactive": {
                    "language": "pwsh"
                }
            },
            "outputs": [],
            "source": [
                "$ExportExcelParams = @{\r\n",
                "    Path = 'C:\\temp\\xlsx\\EventLogs.xlsx'\r\n",
                "    AutoSize =  $true\r\n",
                "    AutoFilter =  $true\r\n",
                "    Title =  \"Event Log on $Env:ComputerName\" \r\n",
                "    MoveToStart =  $true\r\n",
                "    TitleBackgroundColor =  'darkgray' \r\n",
                "    FreezePane = 3,0\r\n",
                "}\r\n",
                "Get-WinEvent -LogName System -MaxEvents 100  | Export-Excel @ExportExcelParams  -WorksheetName \"System\" \r\n",
                "Get-WinEvent -LogName Application -MaxEvents 100  | Export-Excel @ExportExcelParams  -WorksheetName \"Application\" -Show"
            ]
        },
        {
            "cell_type": "markdown",
            "metadata": {
                "azdata_cell_guid": "2012117a-b820-49d7-b547-86dbcfdaf16c"
            },
            "source": [
                "###  SQL Error Logs"
            ]
        },
        {
            "cell_type": "code",
            "execution_count": null,
            "metadata": {
                "dotnet_interactive": {
                    "language": "pwsh"
                }
            },
            "outputs": [],
            "source": [
                "$ExportExcelParams = @{\r\n",
                "    Path =  'C:\\temp\\xlsx\\SQLErrorLogs.xlsx' \r\n",
                "    AutoSize =  $true\r\n",
                "    AutoFilter =  $true\r\n",
                "    Title =  \"SQL Error Log\" \r\n",
                "    WorksheetName =  \"SQL Error Log\" \r\n",
                "    MoveToStart =  $true\r\n",
                "    TitleBackgroundColor =  'darkgray' \r\n",
                "    FreezePane = 3,0\r\n",
                "    Show =  $true\r\n",
                "}\r\n",
                "Get-DbaErrorLog  | Export-Excel  @ExportExcelParams\r\n"
            ]
        },
        {
            "cell_type": "markdown",
            "metadata": {
                "azdata_cell_guid": "f65ddcff-f9fb-4320-82c2-80483b7bd24a"
            },
            "source": [
                "## How About doing it all in one workbook ?"
            ]
        },
        {
            "cell_type": "code",
            "execution_count": null,
            "metadata": {
                "dotnet_interactive": {
                    "language": "pwsh"
                }
            },
            "outputs": [],
            "source": [
                "$ExportExcelParams = @{\r\n",
                "    Path =  'C:\\temp\\xlsx\\Incident.xlsx' \r\n",
                "    AutoSize =  $true\r\n",
                "    AutoFilter =  $true\r\n",
                "    MoveToStart =  $true\r\n",
                "    FreezeTopRow = $true\r\n",
                "}\r\n",
                "\r\n",
                "Get-Service | Export-Excel @ExportExcelParams -WorksheetName \"Services\" \r\n",
                "# Get-Process | Export-Excel @ExportExcelParams -WorksheetName \"Processes\" \r\n",
                "'Get-Process' | Export-Excel @ExportExcelParams -WorksheetName \"Processes\" \r\n",
                "Get-WinEvent -LogName System -MaxEvents 100  | Export-Excel @ExportExcelParams -WorksheetName \"System\" \r\n",
                "Get-WinEvent -LogName Application -MaxEvents 100  | Export-Excel @ExportExcelParams -WorksheetName \"Application\" \r\n",
                "Get-DbaErrorLog  | Export-Excel @ExportExcelParams -WorksheetName \"SQL Error Logs\" -Show\r\n"
            ]
        },
        {
            "cell_type": "markdown",
            "metadata": {
                "azdata_cell_guid": "a6369b59-c330-47c0-ae97-0581fccdf420"
            },
            "source": [
                "## More Information needed\r\n",
                "\r\n",
                "So thats useful but how about if we add a front page which gives some more information?"
            ]
        },
        {
            "cell_type": "code",
            "execution_count": null,
            "metadata": {
                "dotnet_interactive": {
                    "language": "pwsh"
                }
            },
            "outputs": [
                {
                    "data": {
                        "text/plain": "                ###############                  \r\n"
                    },
                    "output_type": "unknown"
                },
                {
                    "data": {
                        "text/plain": "        FileName is C:\\temp\\xlsx\\20210525_Incident_For_Beard-Desktop.xlsx            \r\n"
                    },
                    "output_type": "unknown"
                },
                {
                    "data": {
                        "text/plain": "                ###############                  \r\n"
                    },
                    "output_type": "unknown"
                },
                {
                    "data": {
                        "text/plain": "\r\n"
                    },
                    "output_type": "unknown"
                }
            ],
            "source": [
                "$SqlInstance = 'Beard-Desktop'\r\n",
                "$Date = Get-Date -Format yyyyMMdd\r\n",
                "$Directory = 'C:\\temp\\xlsx\\'\r\n",
                "$ExcelFile = $Directory + $Date + '_Incident_For_' + $SqlInstance + '.xlsx'\r\n",
                "\r\n",
                "$ExportExcelParams = @{\r\n",
                "    Path =  $ExcelFile \r\n",
                "    AutoSize =  $true\r\n",
                "    AutoFilter =  $true\r\n",
                "    MoveToStart =  $true\r\n",
                "    FreezeTopRow = $true\r\n",
                "}\r\n",
                "\r\n",
                "\r\n",
                "Get-Service | Export-Excel @ExportExcelParams -WorksheetName \"Services\" \r\n",
                "'Get-Process' | Export-Excel @ExportExcelParams -WorksheetName \"Processes\" \r\n",
                "Get-WinEvent -LogName System -MaxEvents 100  | Export-Excel @ExportExcelParams -WorksheetName \"System\" \r\n",
                "Get-WinEvent -LogName Application -MaxEvents 100  | Export-Excel @ExportExcelParams -WorksheetName \"Application\" \r\n",
                "Get-DbaErrorLog  | Export-Excel @ExportExcelParams -WorksheetName \"SQL Error Logs\" \r\n",
                "\r\n",
                "$Excel = Open-ExcelPackage -Path $ExcelFile\r\n",
                "Add-Worksheet -ExcelPackage $Excel -WorksheetName 'Title' -MoveToStart | Out-Null\r\n",
                "\r\n",
                "$TitleSheet = $excel.Workbook.Worksheets['Title']\r\n",
                "$Date = (Get-Date).ToLongDateString()\r\n",
                "$TitleSheet.Cells[\"A1\"].value = \"$Date \"\r\n",
                "$TitleSheet.Cells[\"D2\"].value = \"This Workbook for $sqlinstance\"\r\n",
                "$TitleSheet.Cells[\"H3\"].value = \"Shows the \"\r\n",
                "$TitleSheet.Cells[\"H4\"].value = \"System Event Log,\"\r\n",
                "$TitleSheet.Cells[\"H5\"].value = \"Application Event Log,\"\r\n",
                "$TitleSheet.Cells[\"H6\"].value = \"Services,\"\r\n",
                "$TitleSheet.Cells[\"H7\"].value = \"Processes,\"\r\n",
                "$TitleSheet.Cells[\"H8\"].value = \"and the SQL Error Log.\"\r\n",
                "Set-ExcelRange -Worksheet $TitleSheet -Range \"A:1\" -Bold -FontSize 22 -Underline -UnderLineType Double \r\n",
                "\r\n",
                "Close-ExcelPackage $excel\r\n",
                "\r\n",
                "Write-Output \"                ###############                  \"\r\n",
                "Write-Output \"        FileName is $ExcelFile            \"\r\n",
                "Write-Output \"                ###############                  \"\r\n",
                "Write-Output \"\"\r\n",
                "\r\n",
                "Invoke-Item $ExcelFile"
            ]
        },
        {
            "cell_type": "markdown",
            "metadata": {
                "azdata_cell_guid": "db8686f2-4298-40e0-a3cf-74747d9acf3f"
            },
            "source": [
                "## Charts and Graphs and Pivot Tables"
            ]
        },
        {
            "cell_type": "code",
            "execution_count": null,
            "metadata": {
                "dotnet_interactive": {
                    "language": "pwsh"
                }
            },
            "outputs": [],
            "source": [
                "$Query = \"SELECT Top 25000 PROD.Name, \r\n",
                "OrdHead.OrderDate ,\r\n",
                "Details.OrderQty\r\n",
                "FROM Sales.SalesOrderDetail AS Details\r\n",
                "INNER JOIN Production.Product AS PROD ON Details.ProductID = PROD.ProductID\r\n",
                "INNER JOIN Sales.SalesOrderHeader AS OrdHead ON Details.SalesOrderID = OrdHead.SalesOrderID\"\r\n",
                "$results = Invoke-DbaQuery -Database AdventureWorks2017 -Query $Query \r\n",
                "$results | Export-Excel -Path C:\\temp\\xlsx\\query.xlsx -Show"
            ]
        },
        {
            "cell_type": "markdown",
            "metadata": {
                "azdata_cell_guid": "7b7c0be4-446d-4b01-9614-46d0afeae9ca"
            },
            "source": [
                "Thats a bit annoying but it is due to the datatable object that is returned. We can fix that using `Select * -ExcludeProperty ItemArray, RowError, RowState, Table, HasErrors`"
            ]
        },
        {
            "cell_type": "code",
            "execution_count": null,
            "metadata": {
                "dotnet_interactive": {
                    "language": "pwsh"
                }
            },
            "outputs": [],
            "source": [
                "$Query = \"SELECT Top 25000 PROD.Name, \r\n",
                "OrdHead.OrderDate ,\r\n",
                "Details.OrderQty\r\n",
                "FROM Sales.SalesOrderDetail AS Details\r\n",
                "INNER JOIN Production.Product AS PROD ON Details.ProductID = PROD.ProductID\r\n",
                "INNER JOIN Sales.SalesOrderHeader AS OrdHead ON Details.SalesOrderID = OrdHead.SalesOrderID\"\r\n",
                "$results = Invoke-DbaQuery -Database AdventureWorks2017 -Query $Query  |Select * -ExcludeProperty ItemArray, RowError, RowState, Table, HasErrors\r\n",
                "$results  | Export-Excel -Path C:\\temp\\xlsx\\newquery.xlsx -Show"
            ]
        },
        {
            "cell_type": "markdown",
            "metadata": {
                "azdata_cell_guid": "995159a0-515a-49d4-85b1-36c141654878"
            },
            "source": [
                "Lets format it nicely again"
            ]
        },
        {
            "cell_type": "code",
            "execution_count": null,
            "metadata": {
                "dotnet_interactive": {
                    "language": "pwsh"
                }
            },
            "outputs": [],
            "source": [
                "$ExportExcelParams = @{\r\n",
                "    Path =  'C:\\temp\\xlsx\\formattedquery.xlsx' \r\n",
                "    WorksheetName = 'A Query'\r\n",
                "    TableName = 'BeardsAreAwesome'\r\n",
                "    TableStyle = 'Dark1'\r\n",
                "    AutoSize =  $true\r\n",
                "    AutoFilter =  $true\r\n",
                "    MoveToStart =  $true\r\n",
                "    FreezeTopRow = $true\r\n",
                "    Show = $true\r\n",
                "}\r\n",
                "$results | Export-Excel @ExportExcelParams"
            ]
        },
        {
            "cell_type": "markdown",
            "metadata": {
                "azdata_cell_guid": "3820dba5-2d1a-417b-bd28-74e928a2a18a"
            },
            "source": [
                "## Chart\r\n",
                "\r\n",
                "Of course, charts are interesting too.\r\n",
                "\r\n",
                "You can query a table, export the results to a table, and create a chart. We will also remove hte annoying Sheet1 too"
            ]
        },
        {
            "cell_type": "code",
            "execution_count": null,
            "metadata": {
                "dotnet_interactive": {
                    "language": "pwsh"
                }
            },
            "outputs": [],
            "source": [
                "$ExcelFilePath =  'C:\\temp\\xlsx\\chartedquery.xlsx'\r\n",
                "\r\n",
                "$Query = \"SELECT  \r\n",
                "YEAR(OrdHead.OrderDate) AS Year,\r\n",
                "SUM(Details.OrderQty) AS TotalSales\r\n",
                "FROM Sales.SalesOrderDetail AS Details\r\n",
                "INNER JOIN Production.Product AS PROD ON Details.ProductID = PROD.ProductID\r\n",
                "INNER JOIN Sales.SalesOrderHeader AS OrdHead ON Details.SalesOrderID = OrdHead.SalesOrderID\r\n",
                "GROUP BY YEAR(OrdHead.OrderDate)\r\n",
                "ORDER BY YEAR(OrdHead.OrderDate) \r\n",
                "\"\r\n",
                "$ExportExcelParams = @{\r\n",
                "    Path =  $ExcelFilePath \r\n",
                "    WorksheetName = 'BeardsAreAwesome'\r\n",
                "    TableName = 'BeardsAreAwesome'\r\n",
                "    TableStyle = 'Dark1'\r\n",
                "    AutoSize =  $true\r\n",
                "    AutoFilter =  $true\r\n",
                "    MoveToStart =  $true\r\n",
                "    FreezeTopRow = $true\r\n",
                "    AutoNameRange = $true\r\n",
                "}\r\n",
                "\r\n",
                "$ChartDefinition = @{\r\n",
                "    Title = 'BeardyChart' \r\n",
                "    ChartType = 'ColumnClustered' \r\n",
                "    XRange = 'Year'  \r\n",
                "    YRange = 'TotalSales'  \r\n",
                "    Column = 4\r\n",
                "    NoLegend = $true\r\n",
                "}\r\n",
                "\r\n",
                "#Gather results\r\n",
                "$results = Invoke-DbaQuery -Database AdventureWorks2017 -Query $Query  |Select * -ExcludeProperty ItemArray, RowError, RowState, Table, HasErrors\r\n",
                "\r\n",
                "#export results to excel \r\n",
                "$excel = $results | Export-Excel  @ExportExcelParams -PassThru\r\n",
                "\r\n",
                "#create chart defnition\r\n",
                "$chart = New-ExcelChartDefinition @ChartDefinition \r\n",
                "# create and save excel\r\n",
                "Export-Excel -ExcelPackage $excel -ExcelChartDefinition $chart -WorksheetName 'BeardsAreAwesome' -Show\r\n",
                "\r\n"
            ]
        },
        {
            "cell_type": "markdown",
            "metadata": {
                "azdata_cell_guid": "771d88a1-e30d-4198-9462-8cba2b176a13"
            },
            "source": [
                "I'm a DBA, I like doughnuts :-)"
            ]
        },
        {
            "cell_type": "code",
            "execution_count": null,
            "metadata": {
                "dotnet_interactive": {
                    "language": "pwsh"
                }
            },
            "outputs": [],
            "source": [
                "$ExcelFilePath =  'C:\\temp\\xlsx\\DONUTSchartedquery.xlsx'\r\n",
                "\r\n",
                "$Query = \"SELECT  \r\n",
                "YEAR(OrdHead.OrderDate) AS Year,\r\n",
                "SUM(Details.OrderQty) AS TotalSales\r\n",
                "FROM Sales.SalesOrderDetail AS Details\r\n",
                "INNER JOIN Production.Product AS PROD ON Details.ProductID = PROD.ProductID\r\n",
                "INNER JOIN Sales.SalesOrderHeader AS OrdHead ON Details.SalesOrderID = OrdHead.SalesOrderID\r\n",
                "GROUP BY YEAR(OrdHead.OrderDate)\r\n",
                "ORDER BY YEAR(OrdHead.OrderDate) \r\n",
                "\"\r\n",
                "$ExportExcelParams = @{\r\n",
                "    Path =  $ExcelFilePath \r\n",
                "    WorksheetName = 'BeardsAreAwesome'\r\n",
                "    TableName = 'BeardsAreAwesome'\r\n",
                "    TableStyle = 'Dark1'\r\n",
                "    AutoSize =  $true\r\n",
                "    AutoFilter =  $true\r\n",
                "    MoveToStart =  $true\r\n",
                "    FreezeTopRow = $true\r\n",
                "    AutoNameRange = $true\r\n",
                "}\r\n",
                "\r\n",
                "$ChartDefinition = @{\r\n",
                "    Title = 'Beardy Chart of Total Sales By Year as a donut because he LOVES donuts' \r\n",
                "    ChartType = 'Doughnut' \r\n",
                "    XRange = 'Year'  \r\n",
                "    YRange = 'TotalSales'  \r\n",
                "    Column = 4\r\n",
                "    ShowPercent = $true\r\n",
                "}\r\n",
                "\r\n",
                "#Gather results\r\n",
                "$results = Invoke-DbaQuery -Database AdventureWorks2017 -Query $Query  |Select * -ExcludeProperty ItemArray, RowError, RowState, Table, HasErrors\r\n",
                "\r\n",
                "#export results to excel \r\n",
                "$excel = $results | Export-Excel  @ExportExcelParams -PassThru\r\n",
                "\r\n",
                "#create chart defnition\r\n",
                "$chart = New-ExcelChartDefinition @ChartDefinition \r\n",
                "# create and save excel\r\n",
                "Export-Excel -ExcelPackage $excel -ExcelChartDefinition $chart -WorksheetName 'BeardsAreAwesome' -Show\r\n"
            ]
        },
        {
            "cell_type": "markdown",
            "metadata": {
                "azdata_cell_guid": "c6906d74-6d19-4a8b-8a8c-248019fb5937"
            },
            "source": [
                "## Pivot Tables\r\n",
                "\r\n",
                "Pivot tables are very popular with users also.\r\n",
                "\r\n",
                "You can create a pivot table in the same manner"
            ]
        },
        {
            "cell_type": "code",
            "execution_count": null,
            "metadata": {
                "dotnet_interactive": {
                    "language": "pwsh"
                }
            },
            "outputs": [],
            "source": [
                "$ExcelFilePath = 'C:\\temp\\xlsx\\pivotedquery.xlsx' \r\n",
                "\r\n",
                "$Query = \"SELECT PROD.Name, \r\n",
                "OrdHead.OrderDate ,\r\n",
                "Details.OrderQty\r\n",
                "FROM Sales.SalesOrderDetail AS Details\r\n",
                "INNER JOIN Production.Product AS PROD ON Details.ProductID = PROD.ProductID\r\n",
                "INNER JOIN Sales.SalesOrderHeader AS OrdHead ON Details.SalesOrderID = OrdHead.SalesOrderID\"\r\n",
                "$results = Invoke-DbaQuery -Database AdventureWorks2017 -Query $Query  |Select * -ExcludeProperty ItemArray, RowError, RowState, Table, HasErrors\r\n",
                "\r\n",
                "$ExportExcelParams = @{\r\n",
                "    Path =  $ExcelFilePath\r\n",
                "    WorksheetName = 'BaseQuery'\r\n",
                "    TableName = 'BeardsAreAwesome'\r\n",
                "    TableStyle = 'Dark1'\r\n",
                "    AutoSize =  $true\r\n",
                "    AutoFilter =  $true\r\n",
                "    MoveToStart =  $true\r\n",
                "    FreezeTopRow = $true\r\n",
                "    Show = $true\r\n",
                "    PassThru = $true\r\n",
                "}\r\n",
                "\r\n",
                "$PivotTableParams = @{\r\n",
                "    PivotTableName = 'BeardyPivot' \r\n",
                "    SourceWorkSheet = 'BaseQuery' \r\n",
                "    PivotData = @{\"OrderQty\" = \"Sum\"} \r\n",
                "    PivotRows = 'OrderDate' ,'Name'\r\n",
                "}\r\n",
                "\r\n",
                "$excel = $results | Export-Excel @ExportExcelParams \r\n",
                "\r\n",
                "\r\n",
                "$PivotTable = New-PivotTableDefinition  @PivotTableParams\r\n",
                "\r\n",
                "Export-Excel -ExcelPackage $excel -PivotTableDefinition $PivotTable \r\n",
                "#Remove-Worksheet  -FullName $ExcelFilePath -WorksheetName 'Sheet1' -Show"
            ]
        },
        {
            "cell_type": "markdown",
            "metadata": {
                "azdata_cell_guid": "31877143-f042-4572-9ac7-19886a5b92aa"
            },
            "source": [
                "Wouldnt it be great if we had the \"magic\" date also"
            ]
        },
        {
            "cell_type": "code",
            "execution_count": null,
            "metadata": {
                "dotnet_interactive": {
                    "language": "pwsh"
                }
            },
            "outputs": [],
            "source": [
                "$ExcelFilePath =  'C:\\temp\\xlsx\\pivoteddatedquery.xlsx'\r\n",
                "$ExportExcelParams = @{\r\n",
                "    Path = $ExcelFilePath\r\n",
                "    WorksheetName = 'BaseQuery'\r\n",
                "    TableName = 'BeardsAreAwesome'\r\n",
                "    TableStyle = 'Dark1'\r\n",
                "    AutoSize =  $true\r\n",
                "    AutoFilter =  $true\r\n",
                "    MoveToStart =  $true\r\n",
                "    FreezeTopRow = $true\r\n",
                "    Show = $true\r\n",
                "    PassThru = $true\r\n",
                "}\r\n",
                "\r\n",
                "$PivotTableParams = @{\r\n",
                "    PivotTableName = 'BeardyPivot' \r\n",
                "    SourceWorkSheet = 'BaseQuery' \r\n",
                "    PivotData = @{\"OrderQty\" = \"Sum\"} \r\n",
                "    PivotRows = 'OrderDate' ,'Name'\r\n",
                "    GroupDateRow =  'OrderDate' \r\n",
                "    GroupDatePart = 'Years', 'Months', 'Days' \r\n",
                "    PivotTableStyle = 'Medium1' \r\n",
                "}\r\n",
                "\r\n",
                "\r\n",
                "$excel = $results | Export-Excel @ExportExcelParams \r\n",
                "\r\n",
                "$PivotTable = New-PivotTableDefinition @PivotTableParams\r\n",
                "\r\n",
                "Export-Excel -ExcelPackage $excel -PivotTableDefinition $PivotTable -Show"
            ]
        },
        {
            "cell_type": "markdown",
            "metadata": {
                "azdata_cell_guid": "581ac243-6521-4a6f-8f31-450e99dd092b"
            },
            "source": [
                "and you can add a Pivot Chart also like this"
            ]
        },
        {
            "cell_type": "code",
            "execution_count": null,
            "metadata": {
                "dotnet_interactive": {
                    "language": "pwsh"
                }
            },
            "outputs": [],
            "source": [
                "$ExportExcelParams = @{\r\n",
                "    Path =  'C:\\temp\\xlsx\\pivoteddatedchartedquery.xlsx' \r\n",
                "    WorksheetName = 'BaseQuery'\r\n",
                "    TableName = 'BeardsAreAwesome'\r\n",
                "    TableStyle = 'Dark1'\r\n",
                "    AutoSize =  $true\r\n",
                "    AutoFilter =  $true\r\n",
                "    MoveToStart =  $true\r\n",
                "    FreezeTopRow = $true\r\n",
                "    Show = $true\r\n",
                "    PassThru = $true\r\n",
                "}\r\n",
                "\r\n",
                "$PivotTableParams = @{\r\n",
                "    PivotTableName = 'BeardyPivot' \r\n",
                "    SourceWorkSheet = 'BaseQuery' \r\n",
                "    PivotData = @{\"OrderQty\" = \"Sum\"} \r\n",
                "    PivotRows = 'OrderDate' ,'Name'\r\n",
                "    GroupDateRow =  'OrderDate' \r\n",
                "    GroupDatePart = 'Years', 'Months', 'Days' \r\n",
                "    PivotTableStyle = 'Medium1' \r\n",
                "    IncludePivotChart = $true\r\n",
                "    ChartTitle = 'BeardyChart' \r\n",
                "    ChartType = 'ColumnClustered' \r\n",
                "    ChartColumn = 6\r\n",
                "}\r\n",
                "\r\n",
                "\r\n",
                "$excel = $results | Export-Excel @ExportExcelParams \r\n",
                "\r\n",
                "$PivotTable = New-PivotTableDefinition @PivotTableParams \r\n",
                "\r\n",
                "Export-Excel -ExcelPackage $excel -PivotTableDefinition $PivotTable -Show"
            ]
        },
        {
            "cell_type": "markdown",
            "metadata": {
                "azdata_cell_guid": "76b4d533-dbe1-4359-92c3-f9eb18dc8013"
            },
            "source": [
                "## Formatting\r\n",
                "\r\n",
                "Excel enables you to do custom formatting. ImportExcel does the same.\r\n",
                "\r\n",
                "Lets check permissions on an instance and colour code the results depending on the role membership"
            ]
        },
        {
            "cell_type": "code",
            "execution_count": null,
            "metadata": {
                "dotnet_interactive": {
                    "language": "pwsh"
                }
            },
            "outputs": [
                {
                    "data": {
                        "text/plain": "Processing 192.168.2.63,30666\r\n"
                    },
                    "output_type": "unknown"
                },
                {
                    "data": {
                        "text/plain": "    FileName is c:\\temp\\xlsx\\\\192_168_2_63_30666_Permssions_OneTab_2021-05-25.xlsx\r\n"
                    },
                    "output_type": "unknown"
                },
                {
                    "data": {
                        "text/plain": "\r\n"
                    },
                    "output_type": "unknown"
                },
                {
                    "data": {
                        "text/plain": "Finished Processing 192.168.2.63,30666\r\n"
                    },
                    "output_type": "unknown"
                },
                {
                    "data": {
                        "text/plain": "                ###############                  \r\n"
                    },
                    "output_type": "unknown"
                },
                {
                    "data": {
                        "text/plain": "        FileName is c:\\temp\\xlsx\\\\192_168_2_63_30666_Permssions_OneTab_2021-05-25.xlsx            \r\n"
                    },
                    "output_type": "unknown"
                },
                {
                    "data": {
                        "text/plain": "                ###############                  \r\n"
                    },
                    "output_type": "unknown"
                },
                {
                    "data": {
                        "text/plain": "\r\n"
                    },
                    "output_type": "unknown"
                }
            ],
            "source": [
                "$ExcelDirectory = 'c:\\temp\\xlsx\\' # Alter this to the directory you want the file created\r\n",
                "$SQlinstance = 'localhost'  # Alter this for the SQL Instance you want to get permissions for\r\n",
                "\r\n",
                "$SqlInstance = '192.168.2.63,30666'\r\n",
                "$benscreds = New-Object System.Management.Automation.PSCredential ((Get-Secret -Name beardmi-benadmin-user -AsPlainText), (Get-Secret -Name beardmi-benadmin-pwd))\r\n",
                "$sql = Connect-DbaInstance -SqlInstance $SqlInstance -SqlCredential $benscreds\r\n",
                "\r\n",
                "$PSDefaultParameterValues = @{\r\n",
                "    \"*dba*:SqlInstance\" = $sql \r\n",
                "}\r\n",
                "\r\n",
                "Write-Output \"Processing $sqlinstance\"\r\n",
                "\r\n",
                "$InstanceName = $SQlinstance.Split('\\').Split('.').Split('\\').Split(',') -join '_'\r\n",
                "$ExcelFile = $ExcelDirectory + '\\' + $InstanceName + '_Permssions_OneTab_' + (Get-Date).ToString('yyyy-MM-dd') + '.xlsx'\r\n",
                "\r\n",
                "Write-Output \"    FileName is $ExcelFile\"\r\n",
                "\r\n",
                "$WorkSheetName = \"Permissions\"\r\n",
                "\r\n",
                "    $excel = Get-DbaUserPermission | Export-Excel -Path $ExcelFile -WorksheetName $WorkSheetName -AutoSize -FreezeTopRow -AutoFilter -PassThru\r\n",
                "  \r\n",
                "    $rulesparam = @{\r\n",
                "        Address   = $excel.Workbook.Worksheets[$WorkSheetName].Dimension.Address\r\n",
                "        WorkSheet = $excel.Workbook.Worksheets[$WorkSheetName] \r\n",
                "        RuleType  = 'Expression'      \r\n",
                "    }\r\n",
                "\r\n",
                "    Add-ConditionalFormatting @rulesparam -ConditionValue 'NOT(ISERROR(FIND(\"sysadmin\",$G1)))' -BackgroundColor Yellow -StopIfTrue\r\n",
                "    Add-ConditionalFormatting @rulesparam -ConditionValue 'NOT(ISERROR(FIND(\"db_owner\",$G1)))' -BackgroundColor Yellow -StopIfTrue\r\n",
                "    Add-ConditionalFormatting @rulesparam -ConditionValue 'NOT(ISERROR(FIND(\"SERVER LOGINS\",$E1)))' -BackgroundColor PaleGreen \r\n",
                "    Add-ConditionalFormatting @rulesparam -ConditionValue 'NOT(ISERROR(FIND(\"SERVER SECURABLES\",$E1)))' -BackgroundColor PowderBlue \r\n",
                "    Add-ConditionalFormatting @rulesparam -ConditionValue 'NOT(ISERROR(FIND(\"DB ROLE MEMBERS\",$E1)))' -BackgroundColor GoldenRod \r\n",
                "    Add-ConditionalFormatting @rulesparam -ConditionValue 'NOT(ISERROR(FIND(\"DB SECURABLES\",$E1)))' -BackgroundColor BurlyWood \r\n",
                "\r\n",
                "    Close-ExcelPackage $excel\r\n",
                "\r\n",
                "\r\n",
                "Write-Output \"\"\r\n",
                "Write-Output \"Finished Processing $sqlinstance\"\r\n",
                "\r\n",
                "$Excel = Open-ExcelPackage -Path $ExcelFile\r\n",
                "Add-Worksheet -ExcelPackage $Excel -WorksheetName 'Title' -MoveToStart | Out-Null\r\n",
                "\r\n",
                "$TitleSheet = $excel.Workbook.Worksheets['Title']\r\n",
                "$Date = (Get-Date).ToLongDateString()\r\n",
                "$TitleSheet.Cells[\"A1\"].value = \"This Worksheet shows the User Permissions for each database on $sqlinstance at $Date \"\r\n",
                "Set-ExcelRange -Worksheet $TitleSheet -Range \"A:1\" -Bold -FontSize 22 -Underline -UnderLineType Double\r\n",
                "\r\n",
                "$TitleSheet.Cells[\"B3\"].Value = \"The Cells are colour coded as follows :-\"\r\n",
                "Set-ExcelRange -Worksheet $TitleSheet -Range \"B3\" -Bold -FontSize 18 \r\n",
                "$TitleSheet.Cells[\"E5\"].Value = \"The Yellow Cells show members of the sysadmin role who have permission to do and access anything on the instance \"\r\n",
                "$TitleSheet.Cells[\"E6\"].Value = \"The Green Cells show the logins on the server\"\r\n",
                "$TitleSheet.Cells[\"E7\"].Value = \"The Blue Cells show the instance level permissions that have been granted to the logins\"\r\n",
                "$TitleSheet.Cells[\"E8\"].Value = \"The Orange Cells show the database role membership for the login\"\r\n",
                "$TitleSheet.Cells[\"E9\"].Value = \"The Brown Cells show specific database permissions that have been granted for the logins\"\r\n",
                "\r\n",
                "$TitleSheet.Cells[\"B11\"].Value = \"You can filter by Database on the Object column\"\r\n",
                "Set-ExcelRange -Worksheet $TitleSheet -Range \"C11\" -FontSize 18\r\n",
                "\r\n",
                "$TitleSheet.Cells[\"B12\"].Value = \"You can filter by User/Group/Login on the Member column\"\r\n",
                "Set-ExcelRange -Worksheet $TitleSheet -Range \"C12\" -FontSize 18\r\n",
                "\r\n",
                "Set-ExcelRange -Worksheet $TitleSheet -Range  \"C5\" -BackgroundColor Yellow\r\n",
                "Set-ExcelRange -Worksheet $TitleSheet -Range  \"C6\" -BackgroundColor PaleGreen\r\n",
                "Set-ExcelRange -Worksheet $TitleSheet -Range  \"C7\" -BackgroundColor PowderBlue \r\n",
                "Set-ExcelRange -Worksheet $TitleSheet -Range  \"C8\" -BackgroundColor GoldenRod \r\n",
                "Set-ExcelRange -Worksheet $TitleSheet -Range  \"C9\" -BackgroundColor BurlyWood \r\n",
                "\r\n",
                "Close-ExcelPackage $excel\r\n",
                "\r\n",
                "\r\n",
                "Write-Output \"                ###############                  \"\r\n",
                "Write-Output \"        FileName is $ExcelFile            \"\r\n",
                "Write-Output \"                ###############                  \"\r\n",
                "Write-Output \"\"\r\n",
                "\r\n",
                "Invoke-Item $ExcelFile"
            ]
        }
    ],
    "metadata": {
        "kernelspec": {
            "display_name": ".NET (C#)",
            "language": "C#",
            "name": ".net-csharp"
        },
        "language_info": {
            "name": "C#",
            "version": ""
        }
    },
    "nbformat": 4,
    "nbformat_minor": 2
}