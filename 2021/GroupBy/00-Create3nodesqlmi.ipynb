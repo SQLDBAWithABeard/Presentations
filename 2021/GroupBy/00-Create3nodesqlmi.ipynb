{
 "cells": [
  {
   "cell_type": "markdown",
   "metadata": {
    "dotnet_interactive": {
     "language": "csharp"
    }
   },
   "source": [
    "# Create a 3 node availability group Azure Arc Enabled Daa Services Managed Instance\r\n",
    "\r\n",
    "We can create a SQL Mi in only a few minutes (notin Azure, but running on a Kubernetes cluster)\r\n",
    "\r\n",
    "First we want to check what the deployment will do\r\n"
   ]
  },
  {
   "cell_type": "code",
   "execution_count": null,
   "metadata": {
    "dotnet_interactive": {
     "language": "pwsh"
    }
   },
   "outputs": [
    {
     "data": {
      "text/plain": "Getting the latest status of all resources..."
     },
     "output_type": "unknown"
    },
    {
     "data": {
      "text/plain": "\r                                             \r"
     },
     "output_type": "unknown"
    },
    {
     "data": {
      "text/plain": "What if: \r        \r\r\nNote: The result may contain false positive predictions (noise).\r\nYou can help us improve the accuracy of the result by opening an issue here: https://aka.ms/WhatIfIssues.\r\n\r\nResource and property changes are indicated with these symbols:\r\n  \u001b[38;5;77m+\u001b[0m Create\r\n  \u001b[38;5;141m~\u001b[0m Modify\r\n  \u001b[38;5;246m*\u001b[0m Ignore\r\n\r\nThe deployment will update the following scope:\r\n\r\nScope: /subscriptions//resourceGroups/beardarc\r\n\u001b[38;5;141m\r\n  ~ Microsoft.AzureArcData/sqlManagedInstances/ben-starker\u001b[0m [2021-03-02-preview]\u001b[38;5;141m\u001b[0m\r\n    \u001b[38;5;77m+\u001b[0m properties.basicLoginInformation.password\u001b[0m:\u001b[0m \u001b[38;5;77m\"*******\"\u001b[0m\r\n\u001b[38;5;141m\u001b[0m\u001b[38;5;246m\r\n  * Microsoft.AzureArcData/dataControllers/beard-arc-dc\r\n  * Microsoft.AzureArcData/dataControllers/beard-direct-dc\r\n  * Microsoft.AzureArcData/sqlManagedInstances/benverbindung\r\n  * Microsoft.ExtendedLocation/customLocations/beardarclocation\r\n  * microsoft.insights/actiongroups/Azure Arc\r\n  * microsoft.insights/activityLogAlerts/MI Updated or created\r\n  * microsoft.insights/activityLogAlerts/New or CHanged MI\r\n  * microsoft.insights/workbooks/5575c0aa-a401-467d-8511-ee787d10ebe0\r\n  * Microsoft.Kubernetes/connectedClusters/beard-nuc-cluster\r\n  * Microsoft.OperationalInsights/workspaces/loggylytics\r\n  * Microsoft.OperationsManagement/solutions/ContainerInsights(loggylytics)\r\n\u001b[0m\r\nResource changes: 1 to modify, 11 to ignore.\r\n\r\n"
     },
     "output_type": "unknown"
    }
   ],
   "source": [
    "$ResourceGroupName = 'beardarc'\r\n",
    "$benspwd = Get-Secret -Name beardmi-benadmin-pwd \r\n",
    "$subscriptionid = Get-Secret subscription-id -AsPlainText\r\n",
    "$tags = @{\r\n",
    "    important   = 'WARNING - This resource is controlled by IaaC using bicep '\r\n",
    "    creator     = 'Rob'\r\n",
    "    project     = 'SQL MI Demo'\r\n",
    "}\r\n",
    "\r\n",
    "$date = Get-Date -Format yyyyMMddHHmmsss\r\n",
    "$deploymentname = 'deploy_{0}_{1}' -f $ResourceGroupName, $date # name of the deployment seen in the activity log\r\n",
    "$deploymentConfig = @{\r\n",
    "    ResourceGroupName             = $ResourceGroupName\r\n",
    "    Name                          = $deploymentname\r\n",
    "    TemplateFile                  = 'sqlmi.bicep' \r\n",
    "    password                      = $benspwd\r\n",
    "    subscription                  = $subscriptionid\r\n",
    "    WhatIf                        = $true\r\n",
    "}\r\n",
    "New-AzResourceGroupDeployment @deploymentConfig\r\n",
    "\r\n"
   ]
  },
  {
   "cell_type": "markdown",
   "metadata": {},
   "source": [
    "Once we are happy with that we can deploy"
   ]
  },
  {
   "cell_type": "code",
   "execution_count": null,
   "metadata": {
    "dotnet_interactive": {
     "language": "pwsh"
    }
   },
   "outputs": [],
   "source": [
    "$date = Get-Date -Format yyyyMMddHHmmsss\r\n",
    "$deploymentname = 'deploy_{0}_{1}' -f $ResourceGroupName, $date # name of the deployment seen in the activity log\r\n",
    "$deploymentConfig = @{\r\n",
    "    ResourceGroupName             = $ResourceGroupName\r\n",
    "    Name                          = $deploymentname\r\n",
    "    TemplateFile                  = 'sqlmi.bicep' \r\n",
    "    subscription                  = $subscriptionid\r\n",
    "    password                      = $benspwd\r\n",
    "    WhatIf                        = $false\r\n",
    "}\r\n",
    "New-AzResourceGroupDeployment @deploymentConfig"
   ]
  },
  {
   "cell_type": "markdown",
   "metadata": {},
   "source": [
    "Because I cannot get azdata to run in a dotnet interactive notebook, run `azdata arc sql endpoint list -n ben-starker` in a PowerShell window and set the endpoint to the `$SqlInstance` variable in the next code block"
   ]
  },
  {
   "cell_type": "code",
   "execution_count": null,
   "metadata": {
    "dotnet_interactive": {
     "language": "pwsh"
    }
   },
   "outputs": [
    {
     "data": {
      "text/plain": "\r\n"
     },
     "output_type": "unknown"
    },
    {
     "data": {
      "text/plain": "Which pod am I?\r\n"
     },
     "output_type": "unknown"
    },
    {
     "data": {
      "text/plain": "---------------\r\n"
     },
     "output_type": "unknown"
    },
    {
     "data": {
      "text/plain": "ben-starker-0\r\n"
     },
     "output_type": "unknown"
    },
    {
     "data": {
      "text/plain": "\r\n"
     },
     "output_type": "unknown"
    }
   ],
   "source": [
    "$SqlInstance = '192.168.2.63,30666'\r\n",
    "$benscreds = New-Object System.Management.Automation.PSCredential ((Get-Secret -Name beardmi-benadmin-user -AsPlainText), (Get-Secret -Name beardmi-benadmin-pwd))\r\n",
    "$sql = Connect-DbaInstance -SqlInstance $SqlInstance -SqlCredential $benscreds\r\n",
    "\r\n",
    "$PSDefaultParameterValues = @{\r\n",
    "    \"*dba*:SqlInstance\" = $sql \r\n",
    "}\r\n",
    "\r\n",
    "Invoke-DbaQuery -Query \"Select @@ServerName as 'Which pod am I?'\""
   ]
  },
  {
   "cell_type": "markdown",
   "metadata": {},
   "source": [
    "Now we have confirmed which pod is holding the SQL Instance we can copy a database backup to the pod using this code."
   ]
  },
  {
   "cell_type": "code",
   "execution_count": null,
   "metadata": {
    "dotnet_interactive": {
     "language": "pwsh"
    }
   },
   "outputs": [
    {
     "data": {
      "application/x.notebook.error-traceback": {
       "ename": "Error",
       "evalue": "Cell execution cancelled by user",
       "traceback": []
      }
     },
     "output_type": "unknown"
    }
   ],
   "source": [
    "Push-Location D:\\SQLBackups\r\n",
    "kubectl cp AdventureWorks2017.bak  ben-starker-0:/var/opt/mssql/backups -c arc-sqlmi -n arcdirect\r\n"
   ]
  },
  {
   "cell_type": "code",
   "execution_count": null,
   "metadata": {
    "dotnet_interactive": {
     "language": "pwsh"
    }
   },
   "outputs": [
    {
     "data": {
      "text/plain": "\r\n"
     },
     "output_type": "unknown"
    },
    {
     "data": {
      "text/plain": "Filename    : /var/opt/mssql/backups\\AdventureWorks2017.bak\r\n"
     },
     "output_type": "unknown"
    },
    {
     "data": {
      "text/plain": "SqlInstance : ben-starker-0\r\n"
     },
     "output_type": "unknown"
    },
    {
     "data": {
      "text/plain": "\r\n"
     },
     "output_type": "unknown"
    },
    {
     "data": {
      "text/plain": "\r\n"
     },
     "output_type": "unknown"
    },
    {
     "data": {
      "text/plain": ""
     },
     "output_type": "unknown"
    },
    {
     "data": {
      "text/plain": "\r\n"
     },
     "output_type": "unknown"
    },
    {
     "data": {
      "text/plain": "ComputerName         : 192.168.2.63\r\n"
     },
     "output_type": "unknown"
    },
    {
     "data": {
      "text/plain": "InstanceName         : MSSQLSERVER\r\n"
     },
     "output_type": "unknown"
    },
    {
     "data": {
      "text/plain": "SqlInstance          : ben-starker-0\r\n"
     },
     "output_type": "unknown"
    },
    {
     "data": {
      "text/plain": "BackupFile           : /var/opt/mssql/backups/AdventureWorks2017.bak\r\n"
     },
     "output_type": "unknown"
    },
    {
     "data": {
      "text/plain": "BackupFilesCount     : 1\r\n"
     },
     "output_type": "unknown"
    },
    {
     "data": {
      "text/plain": "BackupSize           : 206.08 MB\r\n"
     },
     "output_type": "unknown"
    },
    {
     "data": {
      "text/plain": "CompressedBackupSize : 47.96 MB\r\n"
     },
     "output_type": "unknown"
    },
    {
     "data": {
      "text/plain": "Database             : AdventureWorks2017\r\n"
     },
     "output_type": "unknown"
    },
    {
     "data": {
      "text/plain": "Owner                : benadmin\r\n"
     },
     "output_type": "unknown"
    },
    {
     "data": {
      "text/plain": "DatabaseRestoreTime  : 00:00:02\r\n"
     },
     "output_type": "unknown"
    },
    {
     "data": {
      "text/plain": "FileRestoreTime      : 00:00:02\r\n"
     },
     "output_type": "unknown"
    },
    {
     "data": {
      "text/plain": "NoRecovery           : False\r\n"
     },
     "output_type": "unknown"
    },
    {
     "data": {
      "text/plain": "RestoreComplete      : True\r\n"
     },
     "output_type": "unknown"
    },
    {
     "data": {
      "text/plain": "RestoredFile         : AdventureWorks2017_log.ldf,AdventureWorks2017.mdf\r\n"
     },
     "output_type": "unknown"
    },
    {
     "data": {
      "text/plain": "RestoredFilesCount   : 2\r\n"
     },
     "output_type": "unknown"
    },
    {
     "data": {
      "text/plain": "Script               : {RESTORE DATABASE [AdventureWorks2017] FROM  DISK = \r\n"
     },
     "output_type": "unknown"
    },
    {
     "data": {
      "text/plain": "                       N'/var/opt/mssql/backups/AdventureWorks2017.bak' WITH  FILE = 1,  MOVE \r\n"
     },
     "output_type": "unknown"
    },
    {
     "data": {
      "text/plain": "                       N'AdventureWorks2017' TO N'/var/opt/mssql/data/AdventureWorks2017.mdf',  \r\n"
     },
     "output_type": "unknown"
    },
    {
     "data": {
      "text/plain": "                       MOVE N'AdventureWorks2017_log' TO \r\n"
     },
     "output_type": "unknown"
    },
    {
     "data": {
      "text/plain": "                       N'/var/opt/mssql/data-log/AdventureWorks2017_log.ldf',  NOUNLOAD,  STATS = \r\n"
     },
     "output_type": "unknown"
    },
    {
     "data": {
      "text/plain": "                       10}\r\n"
     },
     "output_type": "unknown"
    },
    {
     "data": {
      "text/plain": "RestoreDirectory     : /var/opt/mssql/data,/var/opt/mssql/data-log\r\n"
     },
     "output_type": "unknown"
    },
    {
     "data": {
      "text/plain": "WithReplace          : False\r\n"
     },
     "output_type": "unknown"
    },
    {
     "data": {
      "text/plain": "\r\n"
     },
     "output_type": "unknown"
    },
    {
     "data": {
      "text/plain": "\r\n"
     },
     "output_type": "unknown"
    }
   ],
   "source": [
    "Get-DbaFile  -Path /var/opt/mssql/backups|fl\r\n",
    "Restore-DbaDatabase  -DatabaseName AdventureWorks2017 -Path /var/opt/mssql/backups/AdventureWorks2017.bak\r\n"
   ]
  },
  {
   "cell_type": "markdown",
   "metadata": {},
   "source": [
    "Now my database is ready :-)"
   ]
  },
  {
   "cell_type": "markdown",
   "metadata": {},
   "source": [
    "Lets generate some random logins and users"
   ]
  },
  {
   "cell_type": "code",
   "execution_count": null,
   "metadata": {
    "dotnet_interactive": {
     "language": "pwsh"
    }
   },
   "outputs": [
    {
     "data": {
      "text/plain": "\r\n"
     },
     "output_type": "unknown"
    },
    {
     "data": {
      "text/plain": "ComputerName       : 192.168.2.63\r\n"
     },
     "output_type": "unknown"
    },
    {
     "data": {
      "text/plain": "InstanceName       : MSSQLSERVER\r\n"
     },
     "output_type": "unknown"
    },
    {
     "data": {
      "text/plain": "SqlInstance        : ben-starker-0\r\n"
     },
     "output_type": "unknown"
    },
    {
     "data": {
      "text/plain": "Name               : benji\r\n"
     },
     "output_type": "unknown"
    },
    {
     "data": {
      "text/plain": "LoginType          : SqlLogin\r\n"
     },
     "output_type": "unknown"
    },
    {
     "data": {
      "text/plain": "CreateDate         : 24/05/2021 18:07:54\r\n"
     },
     "output_type": "unknown"
    },
    {
     "data": {
      "text/plain": "LastLogin          : \r\n"
     },
     "output_type": "unknown"
    },
    {
     "data": {
      "text/plain": "HasAccess          : True\r\n"
     },
     "output_type": "unknown"
    },
    {
     "data": {
      "text/plain": "IsLocked           : False\r\n"
     },
     "output_type": "unknown"
    },
    {
     "data": {
      "text/plain": "IsDisabled         : False\r\n"
     },
     "output_type": "unknown"
    },
    {
     "data": {
      "text/plain": "MustChangePassword : False\r\n"
     },
     "output_type": "unknown"
    },
    {
     "data": {
      "text/plain": "\r\n"
     },
     "output_type": "unknown"
    },
    {
     "data": {
      "text/plain": "ComputerName       : 192.168.2.63\r\n"
     },
     "output_type": "unknown"
    },
    {
     "data": {
      "text/plain": "InstanceName       : MSSQLSERVER\r\n"
     },
     "output_type": "unknown"
    },
    {
     "data": {
      "text/plain": "SqlInstance        : ben-starker-0\r\n"
     },
     "output_type": "unknown"
    },
    {
     "data": {
      "text/plain": "Name               : bweissman\r\n"
     },
     "output_type": "unknown"
    },
    {
     "data": {
      "text/plain": "LoginType          : SqlLogin\r\n"
     },
     "output_type": "unknown"
    },
    {
     "data": {
      "text/plain": "CreateDate         : 24/05/2021 18:07:54\r\n"
     },
     "output_type": "unknown"
    },
    {
     "data": {
      "text/plain": "LastLogin          : \r\n"
     },
     "output_type": "unknown"
    },
    {
     "data": {
      "text/plain": "HasAccess          : True\r\n"
     },
     "output_type": "unknown"
    },
    {
     "data": {
      "text/plain": "IsLocked           : False\r\n"
     },
     "output_type": "unknown"
    },
    {
     "data": {
      "text/plain": "IsDisabled         : False\r\n"
     },
     "output_type": "unknown"
    },
    {
     "data": {
      "text/plain": "MustChangePassword : False\r\n"
     },
     "output_type": "unknown"
    },
    {
     "data": {
      "text/plain": "\r\n"
     },
     "output_type": "unknown"
    },
    {
     "data": {
      "text/plain": "ComputerName       : 192.168.2.63\r\n"
     },
     "output_type": "unknown"
    },
    {
     "data": {
      "text/plain": "InstanceName       : MSSQLSERVER\r\n"
     },
     "output_type": "unknown"
    },
    {
     "data": {
      "text/plain": "SqlInstance        : ben-starker-0\r\n"
     },
     "output_type": "unknown"
    },
    {
     "data": {
      "text/plain": "Name               : akamman\r\n"
     },
     "output_type": "unknown"
    },
    {
     "data": {
      "text/plain": "LoginType          : SqlLogin\r\n"
     },
     "output_type": "unknown"
    },
    {
     "data": {
      "text/plain": "CreateDate         : 24/05/2021 18:07:54\r\n"
     },
     "output_type": "unknown"
    },
    {
     "data": {
      "text/plain": "LastLogin          : \r\n"
     },
     "output_type": "unknown"
    },
    {
     "data": {
      "text/plain": "HasAccess          : True\r\n"
     },
     "output_type": "unknown"
    },
    {
     "data": {
      "text/plain": "IsLocked           : False\r\n"
     },
     "output_type": "unknown"
    },
    {
     "data": {
      "text/plain": "IsDisabled         : False\r\n"
     },
     "output_type": "unknown"
    },
    {
     "data": {
      "text/plain": "MustChangePassword : False\r\n"
     },
     "output_type": "unknown"
    },
    {
     "data": {
      "text/plain": "\r\n"
     },
     "output_type": "unknown"
    },
    {
     "data": {
      "text/plain": "ComputerName       : 192.168.2.63\r\n"
     },
     "output_type": "unknown"
    },
    {
     "data": {
      "text/plain": "InstanceName       : MSSQLSERVER\r\n"
     },
     "output_type": "unknown"
    },
    {
     "data": {
      "text/plain": "SqlInstance        : ben-starker-0\r\n"
     },
     "output_type": "unknown"
    },
    {
     "data": {
      "text/plain": "Name               : alevy\r\n"
     },
     "output_type": "unknown"
    },
    {
     "data": {
      "text/plain": "LoginType          : SqlLogin\r\n"
     },
     "output_type": "unknown"
    },
    {
     "data": {
      "text/plain": "CreateDate         : 24/05/2021 18:07:54\r\n"
     },
     "output_type": "unknown"
    },
    {
     "data": {
      "text/plain": "LastLogin          : \r\n"
     },
     "output_type": "unknown"
    },
    {
     "data": {
      "text/plain": "HasAccess          : True\r\n"
     },
     "output_type": "unknown"
    },
    {
     "data": {
      "text/plain": "IsLocked           : False\r\n"
     },
     "output_type": "unknown"
    },
    {
     "data": {
      "text/plain": "IsDisabled         : False\r\n"
     },
     "output_type": "unknown"
    },
    {
     "data": {
      "text/plain": "MustChangePassword : False\r\n"
     },
     "output_type": "unknown"
    },
    {
     "data": {
      "text/plain": "\r\n"
     },
     "output_type": "unknown"
    },
    {
     "data": {
      "text/plain": "ComputerName       : 192.168.2.63\r\n"
     },
     "output_type": "unknown"
    },
    {
     "data": {
      "text/plain": "InstanceName       : MSSQLSERVER\r\n"
     },
     "output_type": "unknown"
    },
    {
     "data": {
      "text/plain": "SqlInstance        : ben-starker-0\r\n"
     },
     "output_type": "unknown"
    },
    {
     "data": {
      "text/plain": "Name               : beardapp1\r\n"
     },
     "output_type": "unknown"
    },
    {
     "data": {
      "text/plain": "LoginType          : SqlLogin\r\n"
     },
     "output_type": "unknown"
    },
    {
     "data": {
      "text/plain": "CreateDate         : 24/05/2021 18:07:54\r\n"
     },
     "output_type": "unknown"
    },
    {
     "data": {
      "text/plain": "LastLogin          : \r\n"
     },
     "output_type": "unknown"
    },
    {
     "data": {
      "text/plain": "HasAccess          : True\r\n"
     },
     "output_type": "unknown"
    },
    {
     "data": {
      "text/plain": "IsLocked           : False\r\n"
     },
     "output_type": "unknown"
    },
    {
     "data": {
      "text/plain": "IsDisabled         : False\r\n"
     },
     "output_type": "unknown"
    },
    {
     "data": {
      "text/plain": "MustChangePassword : False\r\n"
     },
     "output_type": "unknown"
    },
    {
     "data": {
      "text/plain": "\r\n"
     },
     "output_type": "unknown"
    },
    {
     "data": {
      "text/plain": "ComputerName       : 192.168.2.63\r\n"
     },
     "output_type": "unknown"
    },
    {
     "data": {
      "text/plain": "InstanceName       : MSSQLSERVER\r\n"
     },
     "output_type": "unknown"
    },
    {
     "data": {
      "text/plain": "SqlInstance        : ben-starker-0\r\n"
     },
     "output_type": "unknown"
    },
    {
     "data": {
      "text/plain": "Name               : beardapp2\r\n"
     },
     "output_type": "unknown"
    },
    {
     "data": {
      "text/plain": "LoginType          : SqlLogin\r\n"
     },
     "output_type": "unknown"
    },
    {
     "data": {
      "text/plain": "CreateDate         : 24/05/2021 18:07:54\r\n"
     },
     "output_type": "unknown"
    },
    {
     "data": {
      "text/plain": "LastLogin          : \r\n"
     },
     "output_type": "unknown"
    },
    {
     "data": {
      "text/plain": "HasAccess          : True\r\n"
     },
     "output_type": "unknown"
    },
    {
     "data": {
      "text/plain": "IsLocked           : False\r\n"
     },
     "output_type": "unknown"
    },
    {
     "data": {
      "text/plain": "IsDisabled         : False\r\n"
     },
     "output_type": "unknown"
    },
    {
     "data": {
      "text/plain": "MustChangePassword : False\r\n"
     },
     "output_type": "unknown"
    },
    {
     "data": {
      "text/plain": "\r\n"
     },
     "output_type": "unknown"
    },
    {
     "data": {
      "text/plain": "ComputerName       : 192.168.2.63\r\n"
     },
     "output_type": "unknown"
    },
    {
     "data": {
      "text/plain": "InstanceName       : MSSQLSERVER\r\n"
     },
     "output_type": "unknown"
    },
    {
     "data": {
      "text/plain": "SqlInstance        : ben-starker-0\r\n"
     },
     "output_type": "unknown"
    },
    {
     "data": {
      "text/plain": "Name               : beardapp3\r\n"
     },
     "output_type": "unknown"
    },
    {
     "data": {
      "text/plain": "LoginType          : SqlLogin\r\n"
     },
     "output_type": "unknown"
    },
    {
     "data": {
      "text/plain": "CreateDate         : 24/05/2021 18:07:54\r\n"
     },
     "output_type": "unknown"
    },
    {
     "data": {
      "text/plain": "LastLogin          : \r\n"
     },
     "output_type": "unknown"
    },
    {
     "data": {
      "text/plain": "HasAccess          : True\r\n"
     },
     "output_type": "unknown"
    },
    {
     "data": {
      "text/plain": "IsLocked           : False\r\n"
     },
     "output_type": "unknown"
    },
    {
     "data": {
      "text/plain": "IsDisabled         : False\r\n"
     },
     "output_type": "unknown"
    },
    {
     "data": {
      "text/plain": "MustChangePassword : False\r\n"
     },
     "output_type": "unknown"
    },
    {
     "data": {
      "text/plain": "\r\n"
     },
     "output_type": "unknown"
    },
    {
     "data": {
      "text/plain": "ComputerName       : 192.168.2.63\r\n"
     },
     "output_type": "unknown"
    },
    {
     "data": {
      "text/plain": "InstanceName       : MSSQLSERVER\r\n"
     },
     "output_type": "unknown"
    },
    {
     "data": {
      "text/plain": "SqlInstance        : ben-starker-0\r\n"
     },
     "output_type": "unknown"
    },
    {
     "data": {
      "text/plain": "Name               : beardapp4\r\n"
     },
     "output_type": "unknown"
    },
    {
     "data": {
      "text/plain": "LoginType          : SqlLogin\r\n"
     },
     "output_type": "unknown"
    },
    {
     "data": {
      "text/plain": "CreateDate         : 24/05/2021 18:07:54\r\n"
     },
     "output_type": "unknown"
    },
    {
     "data": {
      "text/plain": "LastLogin          : \r\n"
     },
     "output_type": "unknown"
    },
    {
     "data": {
      "text/plain": "HasAccess          : True\r\n"
     },
     "output_type": "unknown"
    },
    {
     "data": {
      "text/plain": "IsLocked           : False\r\n"
     },
     "output_type": "unknown"
    },
    {
     "data": {
      "text/plain": "IsDisabled         : False\r\n"
     },
     "output_type": "unknown"
    },
    {
     "data": {
      "text/plain": "MustChangePassword : False\r\n"
     },
     "output_type": "unknown"
    },
    {
     "data": {
      "text/plain": "\r\n"
     },
     "output_type": "unknown"
    },
    {
     "data": {
      "text/plain": "ComputerName       : 192.168.2.63\r\n"
     },
     "output_type": "unknown"
    },
    {
     "data": {
      "text/plain": "InstanceName       : MSSQLSERVER\r\n"
     },
     "output_type": "unknown"
    },
    {
     "data": {
      "text/plain": "SqlInstance        : ben-starker-0\r\n"
     },
     "output_type": "unknown"
    },
    {
     "data": {
      "text/plain": "Name               : beardapp5\r\n"
     },
     "output_type": "unknown"
    },
    {
     "data": {
      "text/plain": "LoginType          : SqlLogin\r\n"
     },
     "output_type": "unknown"
    },
    {
     "data": {
      "text/plain": "CreateDate         : 24/05/2021 18:07:54\r\n"
     },
     "output_type": "unknown"
    },
    {
     "data": {
      "text/plain": "LastLogin          : \r\n"
     },
     "output_type": "unknown"
    },
    {
     "data": {
      "text/plain": "HasAccess          : True\r\n"
     },
     "output_type": "unknown"
    },
    {
     "data": {
      "text/plain": "IsLocked           : False\r\n"
     },
     "output_type": "unknown"
    },
    {
     "data": {
      "text/plain": "IsDisabled         : False\r\n"
     },
     "output_type": "unknown"
    },
    {
     "data": {
      "text/plain": "MustChangePassword : False\r\n"
     },
     "output_type": "unknown"
    },
    {
     "data": {
      "text/plain": "\r\n"
     },
     "output_type": "unknown"
    },
    {
     "data": {
      "text/plain": "ComputerName       : 192.168.2.63\r\n"
     },
     "output_type": "unknown"
    },
    {
     "data": {
      "text/plain": "InstanceName       : MSSQLSERVER\r\n"
     },
     "output_type": "unknown"
    },
    {
     "data": {
      "text/plain": "SqlInstance        : ben-starker-0\r\n"
     },
     "output_type": "unknown"
    },
    {
     "data": {
      "text/plain": "Name               : beardapp6\r\n"
     },
     "output_type": "unknown"
    },
    {
     "data": {
      "text/plain": "LoginType          : SqlLogin\r\n"
     },
     "output_type": "unknown"
    },
    {
     "data": {
      "text/plain": "CreateDate         : 24/05/2021 18:07:54\r\n"
     },
     "output_type": "unknown"
    },
    {
     "data": {
      "text/plain": "LastLogin          : \r\n"
     },
     "output_type": "unknown"
    },
    {
     "data": {
      "text/plain": "HasAccess          : True\r\n"
     },
     "output_type": "unknown"
    },
    {
     "data": {
      "text/plain": "IsLocked           : False\r\n"
     },
     "output_type": "unknown"
    },
    {
     "data": {
      "text/plain": "IsDisabled         : False\r\n"
     },
     "output_type": "unknown"
    },
    {
     "data": {
      "text/plain": "MustChangePassword : False\r\n"
     },
     "output_type": "unknown"
    },
    {
     "data": {
      "text/plain": "\r\n"
     },
     "output_type": "unknown"
    },
    {
     "data": {
      "text/plain": "ComputerName       : 192.168.2.63\r\n"
     },
     "output_type": "unknown"
    },
    {
     "data": {
      "text/plain": "InstanceName       : MSSQLSERVER\r\n"
     },
     "output_type": "unknown"
    },
    {
     "data": {
      "text/plain": "SqlInstance        : ben-starker-0\r\n"
     },
     "output_type": "unknown"
    },
    {
     "data": {
      "text/plain": "Name               : beardapp7\r\n"
     },
     "output_type": "unknown"
    },
    {
     "data": {
      "text/plain": "LoginType          : SqlLogin\r\n"
     },
     "output_type": "unknown"
    },
    {
     "data": {
      "text/plain": "CreateDate         : 24/05/2021 18:07:54\r\n"
     },
     "output_type": "unknown"
    },
    {
     "data": {
      "text/plain": "LastLogin          : \r\n"
     },
     "output_type": "unknown"
    },
    {
     "data": {
      "text/plain": "HasAccess          : True\r\n"
     },
     "output_type": "unknown"
    },
    {
     "data": {
      "text/plain": "IsLocked           : False\r\n"
     },
     "output_type": "unknown"
    },
    {
     "data": {
      "text/plain": "IsDisabled         : False\r\n"
     },
     "output_type": "unknown"
    },
    {
     "data": {
      "text/plain": "MustChangePassword : False\r\n"
     },
     "output_type": "unknown"
    },
    {
     "data": {
      "text/plain": "\r\n"
     },
     "output_type": "unknown"
    },
    {
     "data": {
      "text/plain": "ComputerName       : 192.168.2.63\r\n"
     },
     "output_type": "unknown"
    },
    {
     "data": {
      "text/plain": "InstanceName       : MSSQLSERVER\r\n"
     },
     "output_type": "unknown"
    },
    {
     "data": {
      "text/plain": "SqlInstance        : ben-starker-0\r\n"
     },
     "output_type": "unknown"
    },
    {
     "data": {
      "text/plain": "Name               : beardapp8\r\n"
     },
     "output_type": "unknown"
    },
    {
     "data": {
      "text/plain": "LoginType          : SqlLogin\r\n"
     },
     "output_type": "unknown"
    },
    {
     "data": {
      "text/plain": "CreateDate         : 24/05/2021 18:07:55\r\n"
     },
     "output_type": "unknown"
    },
    {
     "data": {
      "text/plain": "LastLogin          : \r\n"
     },
     "output_type": "unknown"
    },
    {
     "data": {
      "text/plain": "HasAccess          : True\r\n"
     },
     "output_type": "unknown"
    },
    {
     "data": {
      "text/plain": "IsLocked           : False\r\n"
     },
     "output_type": "unknown"
    },
    {
     "data": {
      "text/plain": "IsDisabled         : False\r\n"
     },
     "output_type": "unknown"
    },
    {
     "data": {
      "text/plain": "MustChangePassword : False\r\n"
     },
     "output_type": "unknown"
    },
    {
     "data": {
      "text/plain": "\r\n"
     },
     "output_type": "unknown"
    },
    {
     "data": {
      "text/plain": "ComputerName       : 192.168.2.63\r\n"
     },
     "output_type": "unknown"
    },
    {
     "data": {
      "text/plain": "InstanceName       : MSSQLSERVER\r\n"
     },
     "output_type": "unknown"
    },
    {
     "data": {
      "text/plain": "SqlInstance        : ben-starker-0\r\n"
     },
     "output_type": "unknown"
    },
    {
     "data": {
      "text/plain": "Name               : clemaire\r\n"
     },
     "output_type": "unknown"
    },
    {
     "data": {
      "text/plain": "LoginType          : SqlLogin\r\n"
     },
     "output_type": "unknown"
    },
    {
     "data": {
      "text/plain": "CreateDate         : 24/05/2021 18:07:55\r\n"
     },
     "output_type": "unknown"
    },
    {
     "data": {
      "text/plain": "LastLogin          : \r\n"
     },
     "output_type": "unknown"
    },
    {
     "data": {
      "text/plain": "HasAccess          : True\r\n"
     },
     "output_type": "unknown"
    },
    {
     "data": {
      "text/plain": "IsLocked           : False\r\n"
     },
     "output_type": "unknown"
    },
    {
     "data": {
      "text/plain": "IsDisabled         : False\r\n"
     },
     "output_type": "unknown"
    },
    {
     "data": {
      "text/plain": "MustChangePassword : False\r\n"
     },
     "output_type": "unknown"
    },
    {
     "data": {
      "text/plain": "\r\n"
     },
     "output_type": "unknown"
    },
    {
     "data": {
      "text/plain": "ComputerName       : 192.168.2.63\r\n"
     },
     "output_type": "unknown"
    },
    {
     "data": {
      "text/plain": "InstanceName       : MSSQLSERVER\r\n"
     },
     "output_type": "unknown"
    },
    {
     "data": {
      "text/plain": "SqlInstance        : ben-starker-0\r\n"
     },
     "output_type": "unknown"
    },
    {
     "data": {
      "text/plain": "Name               : csilva\r\n"
     },
     "output_type": "unknown"
    },
    {
     "data": {
      "text/plain": "LoginType          : SqlLogin\r\n"
     },
     "output_type": "unknown"
    },
    {
     "data": {
      "text/plain": "CreateDate         : 24/05/2021 18:07:55\r\n"
     },
     "output_type": "unknown"
    },
    {
     "data": {
      "text/plain": "LastLogin          : \r\n"
     },
     "output_type": "unknown"
    },
    {
     "data": {
      "text/plain": "HasAccess          : True\r\n"
     },
     "output_type": "unknown"
    },
    {
     "data": {
      "text/plain": "IsLocked           : False\r\n"
     },
     "output_type": "unknown"
    },
    {
     "data": {
      "text/plain": "IsDisabled         : False\r\n"
     },
     "output_type": "unknown"
    },
    {
     "data": {
      "text/plain": "MustChangePassword : False\r\n"
     },
     "output_type": "unknown"
    },
    {
     "data": {
      "text/plain": "\r\n"
     },
     "output_type": "unknown"
    },
    {
     "data": {
      "text/plain": "ComputerName       : 192.168.2.63\r\n"
     },
     "output_type": "unknown"
    },
    {
     "data": {
      "text/plain": "InstanceName       : MSSQLSERVER\r\n"
     },
     "output_type": "unknown"
    },
    {
     "data": {
      "text/plain": "SqlInstance        : ben-starker-0\r\n"
     },
     "output_type": "unknown"
    },
    {
     "data": {
      "text/plain": "Name               : fatherjack\r\n"
     },
     "output_type": "unknown"
    },
    {
     "data": {
      "text/plain": "LoginType          : SqlLogin\r\n"
     },
     "output_type": "unknown"
    },
    {
     "data": {
      "text/plain": "CreateDate         : 24/05/2021 18:07:55\r\n"
     },
     "output_type": "unknown"
    },
    {
     "data": {
      "text/plain": "LastLogin          : \r\n"
     },
     "output_type": "unknown"
    },
    {
     "data": {
      "text/plain": "HasAccess          : True\r\n"
     },
     "output_type": "unknown"
    },
    {
     "data": {
      "text/plain": "IsLocked           : False\r\n"
     },
     "output_type": "unknown"
    },
    {
     "data": {
      "text/plain": "IsDisabled         : False\r\n"
     },
     "output_type": "unknown"
    },
    {
     "data": {
      "text/plain": "MustChangePassword : False\r\n"
     },
     "output_type": "unknown"
    },
    {
     "data": {
      "text/plain": "\r\n"
     },
     "output_type": "unknown"
    },
    {
     "data": {
      "text/plain": "ComputerName       : 192.168.2.63\r\n"
     },
     "output_type": "unknown"
    },
    {
     "data": {
      "text/plain": "InstanceName       : MSSQLSERVER\r\n"
     },
     "output_type": "unknown"
    },
    {
     "data": {
      "text/plain": "SqlInstance        : ben-starker-0\r\n"
     },
     "output_type": "unknown"
    },
    {
     "data": {
      "text/plain": "Name               : gsartori\r\n"
     },
     "output_type": "unknown"
    },
    {
     "data": {
      "text/plain": "LoginType          : SqlLogin\r\n"
     },
     "output_type": "unknown"
    },
    {
     "data": {
      "text/plain": "CreateDate         : 24/05/2021 18:07:55\r\n"
     },
     "output_type": "unknown"
    },
    {
     "data": {
      "text/plain": "LastLogin          : \r\n"
     },
     "output_type": "unknown"
    },
    {
     "data": {
      "text/plain": "HasAccess          : True\r\n"
     },
     "output_type": "unknown"
    },
    {
     "data": {
      "text/plain": "IsLocked           : False\r\n"
     },
     "output_type": "unknown"
    },
    {
     "data": {
      "text/plain": "IsDisabled         : False\r\n"
     },
     "output_type": "unknown"
    },
    {
     "data": {
      "text/plain": "MustChangePassword : False\r\n"
     },
     "output_type": "unknown"
    },
    {
     "data": {
      "text/plain": "\r\n"
     },
     "output_type": "unknown"
    },
    {
     "data": {
      "text/plain": "ComputerName       : 192.168.2.63\r\n"
     },
     "output_type": "unknown"
    },
    {
     "data": {
      "text/plain": "InstanceName       : MSSQLSERVER\r\n"
     },
     "output_type": "unknown"
    },
    {
     "data": {
      "text/plain": "SqlInstance        : ben-starker-0\r\n"
     },
     "output_type": "unknown"
    },
    {
     "data": {
      "text/plain": "Name               : jamrtin\r\n"
     },
     "output_type": "unknown"
    },
    {
     "data": {
      "text/plain": "LoginType          : SqlLogin\r\n"
     },
     "output_type": "unknown"
    },
    {
     "data": {
      "text/plain": "CreateDate         : 24/05/2021 18:07:55\r\n"
     },
     "output_type": "unknown"
    },
    {
     "data": {
      "text/plain": "LastLogin          : \r\n"
     },
     "output_type": "unknown"
    },
    {
     "data": {
      "text/plain": "HasAccess          : True\r\n"
     },
     "output_type": "unknown"
    },
    {
     "data": {
      "text/plain": "IsLocked           : False\r\n"
     },
     "output_type": "unknown"
    },
    {
     "data": {
      "text/plain": "IsDisabled         : False\r\n"
     },
     "output_type": "unknown"
    },
    {
     "data": {
      "text/plain": "MustChangePassword : False\r\n"
     },
     "output_type": "unknown"
    },
    {
     "data": {
      "text/plain": "\r\n"
     },
     "output_type": "unknown"
    },
    {
     "data": {
      "text/plain": "ComputerName       : 192.168.2.63\r\n"
     },
     "output_type": "unknown"
    },
    {
     "data": {
      "text/plain": "InstanceName       : MSSQLSERVER\r\n"
     },
     "output_type": "unknown"
    },
    {
     "data": {
      "text/plain": "SqlInstance        : ben-starker-0\r\n"
     },
     "output_type": "unknown"
    },
    {
     "data": {
      "text/plain": "Name               : Reporting1\r\n"
     },
     "output_type": "unknown"
    },
    {
     "data": {
      "text/plain": "LoginType          : SqlLogin\r\n"
     },
     "output_type": "unknown"
    },
    {
     "data": {
      "text/plain": "CreateDate         : 24/05/2021 18:07:55\r\n"
     },
     "output_type": "unknown"
    },
    {
     "data": {
      "text/plain": "LastLogin          : \r\n"
     },
     "output_type": "unknown"
    },
    {
     "data": {
      "text/plain": "HasAccess          : True\r\n"
     },
     "output_type": "unknown"
    },
    {
     "data": {
      "text/plain": "IsLocked           : False\r\n"
     },
     "output_type": "unknown"
    },
    {
     "data": {
      "text/plain": "IsDisabled         : False\r\n"
     },
     "output_type": "unknown"
    },
    {
     "data": {
      "text/plain": "MustChangePassword : False\r\n"
     },
     "output_type": "unknown"
    },
    {
     "data": {
      "text/plain": "\r\n"
     },
     "output_type": "unknown"
    },
    {
     "data": {
      "text/plain": "ComputerName       : 192.168.2.63\r\n"
     },
     "output_type": "unknown"
    },
    {
     "data": {
      "text/plain": "InstanceName       : MSSQLSERVER\r\n"
     },
     "output_type": "unknown"
    },
    {
     "data": {
      "text/plain": "SqlInstance        : ben-starker-0\r\n"
     },
     "output_type": "unknown"
    },
    {
     "data": {
      "text/plain": "Name               : Reporting2\r\n"
     },
     "output_type": "unknown"
    },
    {
     "data": {
      "text/plain": "LoginType          : SqlLogin\r\n"
     },
     "output_type": "unknown"
    },
    {
     "data": {
      "text/plain": "CreateDate         : 24/05/2021 18:07:55\r\n"
     },
     "output_type": "unknown"
    },
    {
     "data": {
      "text/plain": "LastLogin          : \r\n"
     },
     "output_type": "unknown"
    },
    {
     "data": {
      "text/plain": "HasAccess          : True\r\n"
     },
     "output_type": "unknown"
    },
    {
     "data": {
      "text/plain": "IsLocked           : False\r\n"
     },
     "output_type": "unknown"
    },
    {
     "data": {
      "text/plain": "IsDisabled         : False\r\n"
     },
     "output_type": "unknown"
    },
    {
     "data": {
      "text/plain": "MustChangePassword : False\r\n"
     },
     "output_type": "unknown"
    },
    {
     "data": {
      "text/plain": "\r\n"
     },
     "output_type": "unknown"
    },
    {
     "data": {
      "text/plain": "ComputerName       : 192.168.2.63\r\n"
     },
     "output_type": "unknown"
    },
    {
     "data": {
      "text/plain": "InstanceName       : MSSQLSERVER\r\n"
     },
     "output_type": "unknown"
    },
    {
     "data": {
      "text/plain": "SqlInstance        : ben-starker-0\r\n"
     },
     "output_type": "unknown"
    },
    {
     "data": {
      "text/plain": "Name               : Reporting3\r\n"
     },
     "output_type": "unknown"
    },
    {
     "data": {
      "text/plain": "LoginType          : SqlLogin\r\n"
     },
     "output_type": "unknown"
    },
    {
     "data": {
      "text/plain": "CreateDate         : 24/05/2021 18:07:55\r\n"
     },
     "output_type": "unknown"
    },
    {
     "data": {
      "text/plain": "LastLogin          : \r\n"
     },
     "output_type": "unknown"
    },
    {
     "data": {
      "text/plain": "HasAccess          : True\r\n"
     },
     "output_type": "unknown"
    },
    {
     "data": {
      "text/plain": "IsLocked           : False\r\n"
     },
     "output_type": "unknown"
    },
    {
     "data": {
      "text/plain": "IsDisabled         : False\r\n"
     },
     "output_type": "unknown"
    },
    {
     "data": {
      "text/plain": "MustChangePassword : False\r\n"
     },
     "output_type": "unknown"
    },
    {
     "data": {
      "text/plain": "\r\n"
     },
     "output_type": "unknown"
    },
    {
     "data": {
      "text/plain": "ComputerName       : 192.168.2.63\r\n"
     },
     "output_type": "unknown"
    },
    {
     "data": {
      "text/plain": "InstanceName       : MSSQLSERVER\r\n"
     },
     "output_type": "unknown"
    },
    {
     "data": {
      "text/plain": "SqlInstance        : ben-starker-0\r\n"
     },
     "output_type": "unknown"
    },
    {
     "data": {
      "text/plain": "Name               : Reporting4\r\n"
     },
     "output_type": "unknown"
    },
    {
     "data": {
      "text/plain": "LoginType          : SqlLogin\r\n"
     },
     "output_type": "unknown"
    },
    {
     "data": {
      "text/plain": "CreateDate         : 24/05/2021 18:07:55\r\n"
     },
     "output_type": "unknown"
    },
    {
     "data": {
      "text/plain": "LastLogin          : \r\n"
     },
     "output_type": "unknown"
    },
    {
     "data": {
      "text/plain": "HasAccess          : True\r\n"
     },
     "output_type": "unknown"
    },
    {
     "data": {
      "text/plain": "IsLocked           : False\r\n"
     },
     "output_type": "unknown"
    },
    {
     "data": {
      "text/plain": "IsDisabled         : False\r\n"
     },
     "output_type": "unknown"
    },
    {
     "data": {
      "text/plain": "MustChangePassword : False\r\n"
     },
     "output_type": "unknown"
    },
    {
     "data": {
      "text/plain": "\r\n"
     },
     "output_type": "unknown"
    },
    {
     "data": {
      "text/plain": "ComputerName       : 192.168.2.63\r\n"
     },
     "output_type": "unknown"
    },
    {
     "data": {
      "text/plain": "InstanceName       : MSSQLSERVER\r\n"
     },
     "output_type": "unknown"
    },
    {
     "data": {
      "text/plain": "SqlInstance        : ben-starker-0\r\n"
     },
     "output_type": "unknown"
    },
    {
     "data": {
      "text/plain": "Name               : smelton\r\n"
     },
     "output_type": "unknown"
    },
    {
     "data": {
      "text/plain": "LoginType          : SqlLogin\r\n"
     },
     "output_type": "unknown"
    },
    {
     "data": {
      "text/plain": "CreateDate         : 24/05/2021 18:07:55\r\n"
     },
     "output_type": "unknown"
    },
    {
     "data": {
      "text/plain": "LastLogin          : \r\n"
     },
     "output_type": "unknown"
    },
    {
     "data": {
      "text/plain": "HasAccess          : True\r\n"
     },
     "output_type": "unknown"
    },
    {
     "data": {
      "text/plain": "IsLocked           : False\r\n"
     },
     "output_type": "unknown"
    },
    {
     "data": {
      "text/plain": "IsDisabled         : False\r\n"
     },
     "output_type": "unknown"
    },
    {
     "data": {
      "text/plain": "MustChangePassword : False\r\n"
     },
     "output_type": "unknown"
    },
    {
     "data": {
      "text/plain": "\r\n"
     },
     "output_type": "unknown"
    },
    {
     "data": {
      "text/plain": "ComputerName       : 192.168.2.63\r\n"
     },
     "output_type": "unknown"
    },
    {
     "data": {
      "text/plain": "InstanceName       : MSSQLSERVER\r\n"
     },
     "output_type": "unknown"
    },
    {
     "data": {
      "text/plain": "SqlInstance        : ben-starker-0\r\n"
     },
     "output_type": "unknown"
    },
    {
     "data": {
      "text/plain": "Name               : SockFactoryApp_User\r\n"
     },
     "output_type": "unknown"
    },
    {
     "data": {
      "text/plain": "LoginType          : SqlLogin\r\n"
     },
     "output_type": "unknown"
    },
    {
     "data": {
      "text/plain": "CreateDate         : 24/05/2021 18:07:55\r\n"
     },
     "output_type": "unknown"
    },
    {
     "data": {
      "text/plain": "LastLogin          : \r\n"
     },
     "output_type": "unknown"
    },
    {
     "data": {
      "text/plain": "HasAccess          : True\r\n"
     },
     "output_type": "unknown"
    },
    {
     "data": {
      "text/plain": "IsLocked           : False\r\n"
     },
     "output_type": "unknown"
    },
    {
     "data": {
      "text/plain": "IsDisabled         : False\r\n"
     },
     "output_type": "unknown"
    },
    {
     "data": {
      "text/plain": "MustChangePassword : False\r\n"
     },
     "output_type": "unknown"
    },
    {
     "data": {
      "text/plain": "\r\n"
     },
     "output_type": "unknown"
    },
    {
     "data": {
      "text/plain": "ComputerName       : 192.168.2.63\r\n"
     },
     "output_type": "unknown"
    },
    {
     "data": {
      "text/plain": "InstanceName       : MSSQLSERVER\r\n"
     },
     "output_type": "unknown"
    },
    {
     "data": {
      "text/plain": "SqlInstance        : ben-starker-0\r\n"
     },
     "output_type": "unknown"
    },
    {
     "data": {
      "text/plain": "Name               : soneill\r\n"
     },
     "output_type": "unknown"
    },
    {
     "data": {
      "text/plain": "LoginType          : SqlLogin\r\n"
     },
     "output_type": "unknown"
    },
    {
     "data": {
      "text/plain": "CreateDate         : 24/05/2021 18:07:56\r\n"
     },
     "output_type": "unknown"
    },
    {
     "data": {
      "text/plain": "LastLogin          : \r\n"
     },
     "output_type": "unknown"
    },
    {
     "data": {
      "text/plain": "HasAccess          : True\r\n"
     },
     "output_type": "unknown"
    },
    {
     "data": {
      "text/plain": "IsLocked           : False\r\n"
     },
     "output_type": "unknown"
    },
    {
     "data": {
      "text/plain": "IsDisabled         : False\r\n"
     },
     "output_type": "unknown"
    },
    {
     "data": {
      "text/plain": "MustChangePassword : False\r\n"
     },
     "output_type": "unknown"
    },
    {
     "data": {
      "text/plain": "\r\n"
     },
     "output_type": "unknown"
    },
    {
     "data": {
      "text/plain": "ComputerName       : 192.168.2.63\r\n"
     },
     "output_type": "unknown"
    },
    {
     "data": {
      "text/plain": "InstanceName       : MSSQLSERVER\r\n"
     },
     "output_type": "unknown"
    },
    {
     "data": {
      "text/plain": "SqlInstance        : ben-starker-0\r\n"
     },
     "output_type": "unknown"
    },
    {
     "data": {
      "text/plain": "Name               : sqladmin\r\n"
     },
     "output_type": "unknown"
    },
    {
     "data": {
      "text/plain": "LoginType          : SqlLogin\r\n"
     },
     "output_type": "unknown"
    },
    {
     "data": {
      "text/plain": "CreateDate         : 24/05/2021 18:07:56\r\n"
     },
     "output_type": "unknown"
    },
    {
     "data": {
      "text/plain": "LastLogin          : \r\n"
     },
     "output_type": "unknown"
    },
    {
     "data": {
      "text/plain": "HasAccess          : True\r\n"
     },
     "output_type": "unknown"
    },
    {
     "data": {
      "text/plain": "IsLocked           : False\r\n"
     },
     "output_type": "unknown"
    },
    {
     "data": {
      "text/plain": "IsDisabled         : False\r\n"
     },
     "output_type": "unknown"
    },
    {
     "data": {
      "text/plain": "MustChangePassword : False\r\n"
     },
     "output_type": "unknown"
    },
    {
     "data": {
      "text/plain": "\r\n"
     },
     "output_type": "unknown"
    },
    {
     "data": {
      "text/plain": "ComputerName       : 192.168.2.63\r\n"
     },
     "output_type": "unknown"
    },
    {
     "data": {
      "text/plain": "InstanceName       : MSSQLSERVER\r\n"
     },
     "output_type": "unknown"
    },
    {
     "data": {
      "text/plain": "SqlInstance        : ben-starker-0\r\n"
     },
     "output_type": "unknown"
    },
    {
     "data": {
      "text/plain": "Name               : Support1\r\n"
     },
     "output_type": "unknown"
    },
    {
     "data": {
      "text/plain": "LoginType          : SqlLogin\r\n"
     },
     "output_type": "unknown"
    },
    {
     "data": {
      "text/plain": "CreateDate         : 24/05/2021 18:07:56\r\n"
     },
     "output_type": "unknown"
    },
    {
     "data": {
      "text/plain": "LastLogin          : \r\n"
     },
     "output_type": "unknown"
    },
    {
     "data": {
      "text/plain": "HasAccess          : True\r\n"
     },
     "output_type": "unknown"
    },
    {
     "data": {
      "text/plain": "IsLocked           : False\r\n"
     },
     "output_type": "unknown"
    },
    {
     "data": {
      "text/plain": "IsDisabled         : False\r\n"
     },
     "output_type": "unknown"
    },
    {
     "data": {
      "text/plain": "MustChangePassword : False\r\n"
     },
     "output_type": "unknown"
    },
    {
     "data": {
      "text/plain": "\r\n"
     },
     "output_type": "unknown"
    },
    {
     "data": {
      "text/plain": "ComputerName       : 192.168.2.63\r\n"
     },
     "output_type": "unknown"
    },
    {
     "data": {
      "text/plain": "InstanceName       : MSSQLSERVER\r\n"
     },
     "output_type": "unknown"
    },
    {
     "data": {
      "text/plain": "SqlInstance        : ben-starker-0\r\n"
     },
     "output_type": "unknown"
    },
    {
     "data": {
      "text/plain": "Name               : Support2\r\n"
     },
     "output_type": "unknown"
    },
    {
     "data": {
      "text/plain": "LoginType          : SqlLogin\r\n"
     },
     "output_type": "unknown"
    },
    {
     "data": {
      "text/plain": "CreateDate         : 24/05/2021 18:07:56\r\n"
     },
     "output_type": "unknown"
    },
    {
     "data": {
      "text/plain": "LastLogin          : \r\n"
     },
     "output_type": "unknown"
    },
    {
     "data": {
      "text/plain": "HasAccess          : True\r\n"
     },
     "output_type": "unknown"
    },
    {
     "data": {
      "text/plain": "IsLocked           : False\r\n"
     },
     "output_type": "unknown"
    },
    {
     "data": {
      "text/plain": "IsDisabled         : False\r\n"
     },
     "output_type": "unknown"
    },
    {
     "data": {
      "text/plain": "MustChangePassword : False\r\n"
     },
     "output_type": "unknown"
    },
    {
     "data": {
      "text/plain": "\r\n"
     },
     "output_type": "unknown"
    },
    {
     "data": {
      "text/plain": "ComputerName       : 192.168.2.63\r\n"
     },
     "output_type": "unknown"
    },
    {
     "data": {
      "text/plain": "InstanceName       : MSSQLSERVER\r\n"
     },
     "output_type": "unknown"
    },
    {
     "data": {
      "text/plain": "SqlInstance        : ben-starker-0\r\n"
     },
     "output_type": "unknown"
    },
    {
     "data": {
      "text/plain": "Name               : Support3\r\n"
     },
     "output_type": "unknown"
    },
    {
     "data": {
      "text/plain": "LoginType          : SqlLogin\r\n"
     },
     "output_type": "unknown"
    },
    {
     "data": {
      "text/plain": "CreateDate         : 24/05/2021 18:07:56\r\n"
     },
     "output_type": "unknown"
    },
    {
     "data": {
      "text/plain": "LastLogin          : \r\n"
     },
     "output_type": "unknown"
    },
    {
     "data": {
      "text/plain": "HasAccess          : True\r\n"
     },
     "output_type": "unknown"
    },
    {
     "data": {
      "text/plain": "IsLocked           : False\r\n"
     },
     "output_type": "unknown"
    },
    {
     "data": {
      "text/plain": "IsDisabled         : False\r\n"
     },
     "output_type": "unknown"
    },
    {
     "data": {
      "text/plain": "MustChangePassword : False\r\n"
     },
     "output_type": "unknown"
    },
    {
     "data": {
      "text/plain": "\r\n"
     },
     "output_type": "unknown"
    },
    {
     "data": {
      "text/plain": "ComputerName       : 192.168.2.63\r\n"
     },
     "output_type": "unknown"
    },
    {
     "data": {
      "text/plain": "InstanceName       : MSSQLSERVER\r\n"
     },
     "output_type": "unknown"
    },
    {
     "data": {
      "text/plain": "SqlInstance        : ben-starker-0\r\n"
     },
     "output_type": "unknown"
    },
    {
     "data": {
      "text/plain": "Name               : Support4\r\n"
     },
     "output_type": "unknown"
    },
    {
     "data": {
      "text/plain": "LoginType          : SqlLogin\r\n"
     },
     "output_type": "unknown"
    },
    {
     "data": {
      "text/plain": "CreateDate         : 24/05/2021 18:07:56\r\n"
     },
     "output_type": "unknown"
    },
    {
     "data": {
      "text/plain": "LastLogin          : \r\n"
     },
     "output_type": "unknown"
    },
    {
     "data": {
      "text/plain": "HasAccess          : True\r\n"
     },
     "output_type": "unknown"
    },
    {
     "data": {
      "text/plain": "IsLocked           : False\r\n"
     },
     "output_type": "unknown"
    },
    {
     "data": {
      "text/plain": "IsDisabled         : False\r\n"
     },
     "output_type": "unknown"
    },
    {
     "data": {
      "text/plain": "MustChangePassword : False\r\n"
     },
     "output_type": "unknown"
    },
    {
     "data": {
      "text/plain": "\r\n"
     },
     "output_type": "unknown"
    },
    {
     "data": {
      "text/plain": "ComputerName       : 192.168.2.63\r\n"
     },
     "output_type": "unknown"
    },
    {
     "data": {
      "text/plain": "InstanceName       : MSSQLSERVER\r\n"
     },
     "output_type": "unknown"
    },
    {
     "data": {
      "text/plain": "SqlInstance        : ben-starker-0\r\n"
     },
     "output_type": "unknown"
    },
    {
     "data": {
      "text/plain": "Name               : Support5\r\n"
     },
     "output_type": "unknown"
    },
    {
     "data": {
      "text/plain": "LoginType          : SqlLogin\r\n"
     },
     "output_type": "unknown"
    },
    {
     "data": {
      "text/plain": "CreateDate         : 24/05/2021 18:07:56\r\n"
     },
     "output_type": "unknown"
    },
    {
     "data": {
      "text/plain": "LastLogin          : \r\n"
     },
     "output_type": "unknown"
    },
    {
     "data": {
      "text/plain": "HasAccess          : True\r\n"
     },
     "output_type": "unknown"
    },
    {
     "data": {
      "text/plain": "IsLocked           : False\r\n"
     },
     "output_type": "unknown"
    },
    {
     "data": {
      "text/plain": "IsDisabled         : False\r\n"
     },
     "output_type": "unknown"
    },
    {
     "data": {
      "text/plain": "MustChangePassword : False\r\n"
     },
     "output_type": "unknown"
    },
    {
     "data": {
      "text/plain": "\r\n"
     },
     "output_type": "unknown"
    },
    {
     "data": {
      "text/plain": "ComputerName       : 192.168.2.63\r\n"
     },
     "output_type": "unknown"
    },
    {
     "data": {
      "text/plain": "InstanceName       : MSSQLSERVER\r\n"
     },
     "output_type": "unknown"
    },
    {
     "data": {
      "text/plain": "SqlInstance        : ben-starker-0\r\n"
     },
     "output_type": "unknown"
    },
    {
     "data": {
      "text/plain": "Name               : Support6\r\n"
     },
     "output_type": "unknown"
    },
    {
     "data": {
      "text/plain": "LoginType          : SqlLogin\r\n"
     },
     "output_type": "unknown"
    },
    {
     "data": {
      "text/plain": "CreateDate         : 24/05/2021 18:07:56\r\n"
     },
     "output_type": "unknown"
    },
    {
     "data": {
      "text/plain": "LastLogin          : \r\n"
     },
     "output_type": "unknown"
    },
    {
     "data": {
      "text/plain": "HasAccess          : True\r\n"
     },
     "output_type": "unknown"
    },
    {
     "data": {
      "text/plain": "IsLocked           : False\r\n"
     },
     "output_type": "unknown"
    },
    {
     "data": {
      "text/plain": "IsDisabled         : False\r\n"
     },
     "output_type": "unknown"
    },
    {
     "data": {
      "text/plain": "MustChangePassword : False\r\n"
     },
     "output_type": "unknown"
    },
    {
     "data": {
      "text/plain": "\r\n"
     },
     "output_type": "unknown"
    },
    {
     "data": {
      "text/plain": "ComputerName       : 192.168.2.63\r\n"
     },
     "output_type": "unknown"
    },
    {
     "data": {
      "text/plain": "InstanceName       : MSSQLSERVER\r\n"
     },
     "output_type": "unknown"
    },
    {
     "data": {
      "text/plain": "SqlInstance        : ben-starker-0\r\n"
     },
     "output_type": "unknown"
    },
    {
     "data": {
      "text/plain": "Name               : tboggiano\r\n"
     },
     "output_type": "unknown"
    },
    {
     "data": {
      "text/plain": "LoginType          : SqlLogin\r\n"
     },
     "output_type": "unknown"
    },
    {
     "data": {
      "text/plain": "CreateDate         : 24/05/2021 18:07:56\r\n"
     },
     "output_type": "unknown"
    },
    {
     "data": {
      "text/plain": "LastLogin          : \r\n"
     },
     "output_type": "unknown"
    },
    {
     "data": {
      "text/plain": "HasAccess          : True\r\n"
     },
     "output_type": "unknown"
    },
    {
     "data": {
      "text/plain": "IsLocked           : False\r\n"
     },
     "output_type": "unknown"
    },
    {
     "data": {
      "text/plain": "IsDisabled         : False\r\n"
     },
     "output_type": "unknown"
    },
    {
     "data": {
      "text/plain": "MustChangePassword : False\r\n"
     },
     "output_type": "unknown"
    },
    {
     "data": {
      "text/plain": "\r\n"
     },
     "output_type": "unknown"
    },
    {
     "data": {
      "text/plain": "ComputerName       : 192.168.2.63\r\n"
     },
     "output_type": "unknown"
    },
    {
     "data": {
      "text/plain": "InstanceName       : MSSQLSERVER\r\n"
     },
     "output_type": "unknown"
    },
    {
     "data": {
      "text/plain": "SqlInstance        : ben-starker-0\r\n"
     },
     "output_type": "unknown"
    },
    {
     "data": {
      "text/plain": "Name               : thebeard\r\n"
     },
     "output_type": "unknown"
    },
    {
     "data": {
      "text/plain": "LoginType          : SqlLogin\r\n"
     },
     "output_type": "unknown"
    },
    {
     "data": {
      "text/plain": "CreateDate         : 24/05/2021 18:07:56\r\n"
     },
     "output_type": "unknown"
    },
    {
     "data": {
      "text/plain": "LastLogin          : \r\n"
     },
     "output_type": "unknown"
    },
    {
     "data": {
      "text/plain": "HasAccess          : True\r\n"
     },
     "output_type": "unknown"
    },
    {
     "data": {
      "text/plain": "IsLocked           : False\r\n"
     },
     "output_type": "unknown"
    },
    {
     "data": {
      "text/plain": "IsDisabled         : False\r\n"
     },
     "output_type": "unknown"
    },
    {
     "data": {
      "text/plain": "MustChangePassword : False\r\n"
     },
     "output_type": "unknown"
    },
    {
     "data": {
      "text/plain": "\r\n"
     },
     "output_type": "unknown"
    },
    {
     "data": {
      "text/plain": "ComputerName       : 192.168.2.63\r\n"
     },
     "output_type": "unknown"
    },
    {
     "data": {
      "text/plain": "InstanceName       : MSSQLSERVER\r\n"
     },
     "output_type": "unknown"
    },
    {
     "data": {
      "text/plain": "SqlInstance        : ben-starker-0\r\n"
     },
     "output_type": "unknown"
    },
    {
     "data": {
      "text/plain": "Name               : wdurkin\r\n"
     },
     "output_type": "unknown"
    },
    {
     "data": {
      "text/plain": "LoginType          : SqlLogin\r\n"
     },
     "output_type": "unknown"
    },
    {
     "data": {
      "text/plain": "CreateDate         : 24/05/2021 18:07:56\r\n"
     },
     "output_type": "unknown"
    },
    {
     "data": {
      "text/plain": "LastLogin          : \r\n"
     },
     "output_type": "unknown"
    },
    {
     "data": {
      "text/plain": "HasAccess          : True\r\n"
     },
     "output_type": "unknown"
    },
    {
     "data": {
      "text/plain": "IsLocked           : False\r\n"
     },
     "output_type": "unknown"
    },
    {
     "data": {
      "text/plain": "IsDisabled         : False\r\n"
     },
     "output_type": "unknown"
    },
    {
     "data": {
      "text/plain": "MustChangePassword : False\r\n"
     },
     "output_type": "unknown"
    },
    {
     "data": {
      "text/plain": "\r\n"
     },
     "output_type": "unknown"
    },
    {
     "data": {
      "text/plain": "ComputerName       : 192.168.2.63\r\n"
     },
     "output_type": "unknown"
    },
    {
     "data": {
      "text/plain": "InstanceName       : MSSQLSERVER\r\n"
     },
     "output_type": "unknown"
    },
    {
     "data": {
      "text/plain": "SqlInstance        : ben-starker-0\r\n"
     },
     "output_type": "unknown"
    },
    {
     "data": {
      "text/plain": "Name               : Argenis_Fernandez\r\n"
     },
     "output_type": "unknown"
    },
    {
     "data": {
      "text/plain": "LoginType          : SqlLogin\r\n"
     },
     "output_type": "unknown"
    },
    {
     "data": {
      "text/plain": "CreateDate         : 24/05/2021 18:07:56\r\n"
     },
     "output_type": "unknown"
    },
    {
     "data": {
      "text/plain": "LastLogin          : \r\n"
     },
     "output_type": "unknown"
    },
    {
     "data": {
      "text/plain": "HasAccess          : True\r\n"
     },
     "output_type": "unknown"
    },
    {
     "data": {
      "text/plain": "IsLocked           : False\r\n"
     },
     "output_type": "unknown"
    },
    {
     "data": {
      "text/plain": "IsDisabled         : False\r\n"
     },
     "output_type": "unknown"
    },
    {
     "data": {
      "text/plain": "MustChangePassword : False\r\n"
     },
     "output_type": "unknown"
    },
    {
     "data": {
      "text/plain": "\r\n"
     },
     "output_type": "unknown"
    },
    {
     "data": {
      "text/plain": "ComputerName       : 192.168.2.63\r\n"
     },
     "output_type": "unknown"
    },
    {
     "data": {
      "text/plain": "InstanceName       : MSSQLSERVER\r\n"
     },
     "output_type": "unknown"
    },
    {
     "data": {
      "text/plain": "SqlInstance        : ben-starker-0\r\n"
     },
     "output_type": "unknown"
    },
    {
     "data": {
      "text/plain": "Name               : MrsFatherJack\r\n"
     },
     "output_type": "unknown"
    },
    {
     "data": {
      "text/plain": "LoginType          : SqlLogin\r\n"
     },
     "output_type": "unknown"
    },
    {
     "data": {
      "text/plain": "CreateDate         : 24/05/2021 18:07:56\r\n"
     },
     "output_type": "unknown"
    },
    {
     "data": {
      "text/plain": "LastLogin          : \r\n"
     },
     "output_type": "unknown"
    },
    {
     "data": {
      "text/plain": "HasAccess          : True\r\n"
     },
     "output_type": "unknown"
    },
    {
     "data": {
      "text/plain": "IsLocked           : False\r\n"
     },
     "output_type": "unknown"
    },
    {
     "data": {
      "text/plain": "IsDisabled         : False\r\n"
     },
     "output_type": "unknown"
    },
    {
     "data": {
      "text/plain": "MustChangePassword : False\r\n"
     },
     "output_type": "unknown"
    },
    {
     "data": {
      "text/plain": "\r\n"
     },
     "output_type": "unknown"
    },
    {
     "data": {
      "text/plain": "ComputerName       : 192.168.2.63\r\n"
     },
     "output_type": "unknown"
    },
    {
     "data": {
      "text/plain": "InstanceName       : MSSQLSERVER\r\n"
     },
     "output_type": "unknown"
    },
    {
     "data": {
      "text/plain": "SqlInstance        : ben-starker-0\r\n"
     },
     "output_type": "unknown"
    },
    {
     "data": {
      "text/plain": "Name               : Cathrine_Wilhelmsen\r\n"
     },
     "output_type": "unknown"
    },
    {
     "data": {
      "text/plain": "LoginType          : SqlLogin\r\n"
     },
     "output_type": "unknown"
    },
    {
     "data": {
      "text/plain": "CreateDate         : 24/05/2021 18:07:56\r\n"
     },
     "output_type": "unknown"
    },
    {
     "data": {
      "text/plain": "LastLogin          : \r\n"
     },
     "output_type": "unknown"
    },
    {
     "data": {
      "text/plain": "HasAccess          : True\r\n"
     },
     "output_type": "unknown"
    },
    {
     "data": {
      "text/plain": "IsLocked           : False\r\n"
     },
     "output_type": "unknown"
    },
    {
     "data": {
      "text/plain": "IsDisabled         : False\r\n"
     },
     "output_type": "unknown"
    },
    {
     "data": {
      "text/plain": "MustChangePassword : False\r\n"
     },
     "output_type": "unknown"
    },
    {
     "data": {
      "text/plain": "\r\n"
     },
     "output_type": "unknown"
    },
    {
     "data": {
      "text/plain": "ComputerName       : 192.168.2.63\r\n"
     },
     "output_type": "unknown"
    },
    {
     "data": {
      "text/plain": "InstanceName       : MSSQLSERVER\r\n"
     },
     "output_type": "unknown"
    },
    {
     "data": {
      "text/plain": "SqlInstance        : ben-starker-0\r\n"
     },
     "output_type": "unknown"
    },
    {
     "data": {
      "text/plain": "Name               : Rie_Irish\r\n"
     },
     "output_type": "unknown"
    },
    {
     "data": {
      "text/plain": "LoginType          : SqlLogin\r\n"
     },
     "output_type": "unknown"
    },
    {
     "data": {
      "text/plain": "CreateDate         : 24/05/2021 18:07:56\r\n"
     },
     "output_type": "unknown"
    },
    {
     "data": {
      "text/plain": "LastLogin          : \r\n"
     },
     "output_type": "unknown"
    },
    {
     "data": {
      "text/plain": "HasAccess          : True\r\n"
     },
     "output_type": "unknown"
    },
    {
     "data": {
      "text/plain": "IsLocked           : False\r\n"
     },
     "output_type": "unknown"
    },
    {
     "data": {
      "text/plain": "IsDisabled         : False\r\n"
     },
     "output_type": "unknown"
    },
    {
     "data": {
      "text/plain": "MustChangePassword : False\r\n"
     },
     "output_type": "unknown"
    },
    {
     "data": {
      "text/plain": "\r\n"
     },
     "output_type": "unknown"
    },
    {
     "data": {
      "text/plain": "ComputerName       : 192.168.2.63\r\n"
     },
     "output_type": "unknown"
    },
    {
     "data": {
      "text/plain": "InstanceName       : MSSQLSERVER\r\n"
     },
     "output_type": "unknown"
    },
    {
     "data": {
      "text/plain": "SqlInstance        : ben-starker-0\r\n"
     },
     "output_type": "unknown"
    },
    {
     "data": {
      "text/plain": "Name               : Monica_Rathbun\r\n"
     },
     "output_type": "unknown"
    },
    {
     "data": {
      "text/plain": "LoginType          : SqlLogin\r\n"
     },
     "output_type": "unknown"
    },
    {
     "data": {
      "text/plain": "CreateDate         : 24/05/2021 18:07:56\r\n"
     },
     "output_type": "unknown"
    },
    {
     "data": {
      "text/plain": "LastLogin          : \r\n"
     },
     "output_type": "unknown"
    },
    {
     "data": {
      "text/plain": "HasAccess          : True\r\n"
     },
     "output_type": "unknown"
    },
    {
     "data": {
      "text/plain": "IsLocked           : False\r\n"
     },
     "output_type": "unknown"
    },
    {
     "data": {
      "text/plain": "IsDisabled         : False\r\n"
     },
     "output_type": "unknown"
    },
    {
     "data": {
      "text/plain": "MustChangePassword : False\r\n"
     },
     "output_type": "unknown"
    },
    {
     "data": {
      "text/plain": "\r\n"
     },
     "output_type": "unknown"
    },
    {
     "data": {
      "text/plain": "ComputerName       : 192.168.2.63\r\n"
     },
     "output_type": "unknown"
    },
    {
     "data": {
      "text/plain": "InstanceName       : MSSQLSERVER\r\n"
     },
     "output_type": "unknown"
    },
    {
     "data": {
      "text/plain": "SqlInstance        : ben-starker-0\r\n"
     },
     "output_type": "unknown"
    },
    {
     "data": {
      "text/plain": "Name               : Benji_BenWeissman\r\n"
     },
     "output_type": "unknown"
    },
    {
     "data": {
      "text/plain": "LoginType          : SqlLogin\r\n"
     },
     "output_type": "unknown"
    },
    {
     "data": {
      "text/plain": "CreateDate         : 24/05/2021 18:07:56\r\n"
     },
     "output_type": "unknown"
    },
    {
     "data": {
      "text/plain": "LastLogin          : \r\n"
     },
     "output_type": "unknown"
    },
    {
     "data": {
      "text/plain": "HasAccess          : True\r\n"
     },
     "output_type": "unknown"
    },
    {
     "data": {
      "text/plain": "IsLocked           : False\r\n"
     },
     "output_type": "unknown"
    },
    {
     "data": {
      "text/plain": "IsDisabled         : False\r\n"
     },
     "output_type": "unknown"
    },
    {
     "data": {
      "text/plain": "MustChangePassword : False\r\n"
     },
     "output_type": "unknown"
    },
    {
     "data": {
      "text/plain": "\r\n"
     },
     "output_type": "unknown"
    },
    {
     "data": {
      "text/plain": "ComputerName       : 192.168.2.63\r\n"
     },
     "output_type": "unknown"
    },
    {
     "data": {
      "text/plain": "InstanceName       : MSSQLSERVER\r\n"
     },
     "output_type": "unknown"
    },
    {
     "data": {
      "text/plain": "SqlInstance        : ben-starker-0\r\n"
     },
     "output_type": "unknown"
    },
    {
     "data": {
      "text/plain": "Name               : Joey_Dantoni\r\n"
     },
     "output_type": "unknown"
    },
    {
     "data": {
      "text/plain": "LoginType          : SqlLogin\r\n"
     },
     "output_type": "unknown"
    },
    {
     "data": {
      "text/plain": "CreateDate         : 24/05/2021 18:07:56\r\n"
     },
     "output_type": "unknown"
    },
    {
     "data": {
      "text/plain": "LastLogin          : \r\n"
     },
     "output_type": "unknown"
    },
    {
     "data": {
      "text/plain": "HasAccess          : True\r\n"
     },
     "output_type": "unknown"
    },
    {
     "data": {
      "text/plain": "IsLocked           : False\r\n"
     },
     "output_type": "unknown"
    },
    {
     "data": {
      "text/plain": "IsDisabled         : False\r\n"
     },
     "output_type": "unknown"
    },
    {
     "data": {
      "text/plain": "MustChangePassword : False\r\n"
     },
     "output_type": "unknown"
    },
    {
     "data": {
      "text/plain": "\r\n"
     },
     "output_type": "unknown"
    },
    {
     "data": {
      "text/plain": "ComputerName       : 192.168.2.63\r\n"
     },
     "output_type": "unknown"
    },
    {
     "data": {
      "text/plain": "InstanceName       : MSSQLSERVER\r\n"
     },
     "output_type": "unknown"
    },
    {
     "data": {
      "text/plain": "SqlInstance        : ben-starker-0\r\n"
     },
     "output_type": "unknown"
    },
    {
     "data": {
      "text/plain": "Name               : John_Morehouse\r\n"
     },
     "output_type": "unknown"
    },
    {
     "data": {
      "text/plain": "LoginType          : SqlLogin\r\n"
     },
     "output_type": "unknown"
    },
    {
     "data": {
      "text/plain": "CreateDate         : 24/05/2021 18:07:56\r\n"
     },
     "output_type": "unknown"
    },
    {
     "data": {
      "text/plain": "LastLogin          : \r\n"
     },
     "output_type": "unknown"
    },
    {
     "data": {
      "text/plain": "HasAccess          : True\r\n"
     },
     "output_type": "unknown"
    },
    {
     "data": {
      "text/plain": "IsLocked           : False\r\n"
     },
     "output_type": "unknown"
    },
    {
     "data": {
      "text/plain": "IsDisabled         : False\r\n"
     },
     "output_type": "unknown"
    },
    {
     "data": {
      "text/plain": "MustChangePassword : False\r\n"
     },
     "output_type": "unknown"
    },
    {
     "data": {
      "text/plain": "\r\n"
     },
     "output_type": "unknown"
    },
    {
     "data": {
      "text/plain": "ComputerName       : 192.168.2.63\r\n"
     },
     "output_type": "unknown"
    },
    {
     "data": {
      "text/plain": "InstanceName       : MSSQLSERVER\r\n"
     },
     "output_type": "unknown"
    },
    {
     "data": {
      "text/plain": "SqlInstance        : ben-starker-0\r\n"
     },
     "output_type": "unknown"
    },
    {
     "data": {
      "text/plain": "Name               : Bob_Facts_Pusatari\r\n"
     },
     "output_type": "unknown"
    },
    {
     "data": {
      "text/plain": "LoginType          : SqlLogin\r\n"
     },
     "output_type": "unknown"
    },
    {
     "data": {
      "text/plain": "CreateDate         : 24/05/2021 18:07:56\r\n"
     },
     "output_type": "unknown"
    },
    {
     "data": {
      "text/plain": "LastLogin          : \r\n"
     },
     "output_type": "unknown"
    },
    {
     "data": {
      "text/plain": "HasAccess          : True\r\n"
     },
     "output_type": "unknown"
    },
    {
     "data": {
      "text/plain": "IsLocked           : False\r\n"
     },
     "output_type": "unknown"
    },
    {
     "data": {
      "text/plain": "IsDisabled         : False\r\n"
     },
     "output_type": "unknown"
    },
    {
     "data": {
      "text/plain": "MustChangePassword : False\r\n"
     },
     "output_type": "unknown"
    },
    {
     "data": {
      "text/plain": "\r\n"
     },
     "output_type": "unknown"
    },
    {
     "data": {
      "text/plain": "ComputerName       : 192.168.2.63\r\n"
     },
     "output_type": "unknown"
    },
    {
     "data": {
      "text/plain": "InstanceName       : MSSQLSERVER\r\n"
     },
     "output_type": "unknown"
    },
    {
     "data": {
      "text/plain": "SqlInstance        : ben-starker-0\r\n"
     },
     "output_type": "unknown"
    },
    {
     "data": {
      "text/plain": "Name               : Containers_Nocentino\r\n"
     },
     "output_type": "unknown"
    },
    {
     "data": {
      "text/plain": "LoginType          : SqlLogin\r\n"
     },
     "output_type": "unknown"
    },
    {
     "data": {
      "text/plain": "CreateDate         : 24/05/2021 18:07:56\r\n"
     },
     "output_type": "unknown"
    },
    {
     "data": {
      "text/plain": "LastLogin          : \r\n"
     },
     "output_type": "unknown"
    },
    {
     "data": {
      "text/plain": "HasAccess          : True\r\n"
     },
     "output_type": "unknown"
    },
    {
     "data": {
      "text/plain": "IsLocked           : False\r\n"
     },
     "output_type": "unknown"
    },
    {
     "data": {
      "text/plain": "IsDisabled         : False\r\n"
     },
     "output_type": "unknown"
    },
    {
     "data": {
      "text/plain": "MustChangePassword : False\r\n"
     },
     "output_type": "unknown"
    },
    {
     "data": {
      "text/plain": "\r\n"
     },
     "output_type": "unknown"
    },
    {
     "data": {
      "text/plain": "ComputerName       : 192.168.2.63\r\n"
     },
     "output_type": "unknown"
    },
    {
     "data": {
      "text/plain": "InstanceName       : MSSQLSERVER\r\n"
     },
     "output_type": "unknown"
    },
    {
     "data": {
      "text/plain": "SqlInstance        : ben-starker-0\r\n"
     },
     "output_type": "unknown"
    },
    {
     "data": {
      "text/plain": "Name               : Andrew_Pruski\r\n"
     },
     "output_type": "unknown"
    },
    {
     "data": {
      "text/plain": "LoginType          : SqlLogin\r\n"
     },
     "output_type": "unknown"
    },
    {
     "data": {
      "text/plain": "CreateDate         : 24/05/2021 18:07:56\r\n"
     },
     "output_type": "unknown"
    },
    {
     "data": {
      "text/plain": "LastLogin          : \r\n"
     },
     "output_type": "unknown"
    },
    {
     "data": {
      "text/plain": "HasAccess          : True\r\n"
     },
     "output_type": "unknown"
    },
    {
     "data": {
      "text/plain": "IsLocked           : False\r\n"
     },
     "output_type": "unknown"
    },
    {
     "data": {
      "text/plain": "IsDisabled         : False\r\n"
     },
     "output_type": "unknown"
    },
    {
     "data": {
      "text/plain": "MustChangePassword : False\r\n"
     },
     "output_type": "unknown"
    },
    {
     "data": {
      "text/plain": "\r\n"
     },
     "output_type": "unknown"
    },
    {
     "data": {
      "text/plain": "ComputerName       : 192.168.2.63\r\n"
     },
     "output_type": "unknown"
    },
    {
     "data": {
      "text/plain": "InstanceName       : MSSQLSERVER\r\n"
     },
     "output_type": "unknown"
    },
    {
     "data": {
      "text/plain": "SqlInstance        : ben-starker-0\r\n"
     },
     "output_type": "unknown"
    },
    {
     "data": {
      "text/plain": "Name               : Matt_Gordon\r\n"
     },
     "output_type": "unknown"
    },
    {
     "data": {
      "text/plain": "LoginType          : SqlLogin\r\n"
     },
     "output_type": "unknown"
    },
    {
     "data": {
      "text/plain": "CreateDate         : 24/05/2021 18:07:56\r\n"
     },
     "output_type": "unknown"
    },
    {
     "data": {
      "text/plain": "LastLogin          : \r\n"
     },
     "output_type": "unknown"
    },
    {
     "data": {
      "text/plain": "HasAccess          : True\r\n"
     },
     "output_type": "unknown"
    },
    {
     "data": {
      "text/plain": "IsLocked           : False\r\n"
     },
     "output_type": "unknown"
    },
    {
     "data": {
      "text/plain": "IsDisabled         : False\r\n"
     },
     "output_type": "unknown"
    },
    {
     "data": {
      "text/plain": "MustChangePassword : False\r\n"
     },
     "output_type": "unknown"
    },
    {
     "data": {
      "text/plain": "\r\n"
     },
     "output_type": "unknown"
    },
    {
     "data": {
      "text/plain": "ComputerName       : 192.168.2.63\r\n"
     },
     "output_type": "unknown"
    },
    {
     "data": {
      "text/plain": "InstanceName       : MSSQLSERVER\r\n"
     },
     "output_type": "unknown"
    },
    {
     "data": {
      "text/plain": "SqlInstance        : ben-starker-0\r\n"
     },
     "output_type": "unknown"
    },
    {
     "data": {
      "text/plain": "Name               : Thomas_Grohser\r\n"
     },
     "output_type": "unknown"
    },
    {
     "data": {
      "text/plain": "LoginType          : SqlLogin\r\n"
     },
     "output_type": "unknown"
    },
    {
     "data": {
      "text/plain": "CreateDate         : 24/05/2021 18:07:56\r\n"
     },
     "output_type": "unknown"
    },
    {
     "data": {
      "text/plain": "LastLogin          : \r\n"
     },
     "output_type": "unknown"
    },
    {
     "data": {
      "text/plain": "HasAccess          : True\r\n"
     },
     "output_type": "unknown"
    },
    {
     "data": {
      "text/plain": "IsLocked           : False\r\n"
     },
     "output_type": "unknown"
    },
    {
     "data": {
      "text/plain": "IsDisabled         : False\r\n"
     },
     "output_type": "unknown"
    },
    {
     "data": {
      "text/plain": "MustChangePassword : False\r\n"
     },
     "output_type": "unknown"
    },
    {
     "data": {
      "text/plain": "\r\n"
     },
     "output_type": "unknown"
    },
    {
     "data": {
      "text/plain": "ComputerName       : 192.168.2.63\r\n"
     },
     "output_type": "unknown"
    },
    {
     "data": {
      "text/plain": "InstanceName       : MSSQLSERVER\r\n"
     },
     "output_type": "unknown"
    },
    {
     "data": {
      "text/plain": "SqlInstance        : ben-starker-0\r\n"
     },
     "output_type": "unknown"
    },
    {
     "data": {
      "text/plain": "Name               : Dirk_Hondong\r\n"
     },
     "output_type": "unknown"
    },
    {
     "data": {
      "text/plain": "LoginType          : SqlLogin\r\n"
     },
     "output_type": "unknown"
    },
    {
     "data": {
      "text/plain": "CreateDate         : 24/05/2021 18:07:56\r\n"
     },
     "output_type": "unknown"
    },
    {
     "data": {
      "text/plain": "LastLogin          : \r\n"
     },
     "output_type": "unknown"
    },
    {
     "data": {
      "text/plain": "HasAccess          : True\r\n"
     },
     "output_type": "unknown"
    },
    {
     "data": {
      "text/plain": "IsLocked           : False\r\n"
     },
     "output_type": "unknown"
    },
    {
     "data": {
      "text/plain": "IsDisabled         : False\r\n"
     },
     "output_type": "unknown"
    },
    {
     "data": {
      "text/plain": "MustChangePassword : False\r\n"
     },
     "output_type": "unknown"
    },
    {
     "data": {
      "text/plain": "\r\n"
     },
     "output_type": "unknown"
    },
    {
     "data": {
      "text/plain": "ComputerName       : 192.168.2.63\r\n"
     },
     "output_type": "unknown"
    },
    {
     "data": {
      "text/plain": "InstanceName       : MSSQLSERVER\r\n"
     },
     "output_type": "unknown"
    },
    {
     "data": {
      "text/plain": "SqlInstance        : ben-starker-0\r\n"
     },
     "output_type": "unknown"
    },
    {
     "data": {
      "text/plain": "Name               : Father_Johan_Brattas\r\n"
     },
     "output_type": "unknown"
    },
    {
     "data": {
      "text/plain": "LoginType          : SqlLogin\r\n"
     },
     "output_type": "unknown"
    },
    {
     "data": {
      "text/plain": "CreateDate         : 24/05/2021 18:07:56\r\n"
     },
     "output_type": "unknown"
    },
    {
     "data": {
      "text/plain": "LastLogin          : \r\n"
     },
     "output_type": "unknown"
    },
    {
     "data": {
      "text/plain": "HasAccess          : True\r\n"
     },
     "output_type": "unknown"
    },
    {
     "data": {
      "text/plain": "IsLocked           : False\r\n"
     },
     "output_type": "unknown"
    },
    {
     "data": {
      "text/plain": "IsDisabled         : False\r\n"
     },
     "output_type": "unknown"
    },
    {
     "data": {
      "text/plain": "MustChangePassword : False\r\n"
     },
     "output_type": "unknown"
    },
    {
     "data": {
      "text/plain": "\r\n"
     },
     "output_type": "unknown"
    },
    {
     "data": {
      "text/plain": "ComputerName       : 192.168.2.63\r\n"
     },
     "output_type": "unknown"
    },
    {
     "data": {
      "text/plain": "InstanceName       : MSSQLSERVER\r\n"
     },
     "output_type": "unknown"
    },
    {
     "data": {
      "text/plain": "SqlInstance        : ben-starker-0\r\n"
     },
     "output_type": "unknown"
    },
    {
     "data": {
      "text/plain": "Name               : Drew_FurggerwellyIgiveuptryingtospellit\r\n"
     },
     "output_type": "unknown"
    },
    {
     "data": {
      "text/plain": "LoginType          : SqlLogin\r\n"
     },
     "output_type": "unknown"
    },
    {
     "data": {
      "text/plain": "CreateDate         : 24/05/2021 18:07:56\r\n"
     },
     "output_type": "unknown"
    },
    {
     "data": {
      "text/plain": "LastLogin          : \r\n"
     },
     "output_type": "unknown"
    },
    {
     "data": {
      "text/plain": "HasAccess          : True\r\n"
     },
     "output_type": "unknown"
    },
    {
     "data": {
      "text/plain": "IsLocked           : False\r\n"
     },
     "output_type": "unknown"
    },
    {
     "data": {
      "text/plain": "IsDisabled         : False\r\n"
     },
     "output_type": "unknown"
    },
    {
     "data": {
      "text/plain": "MustChangePassword : False\r\n"
     },
     "output_type": "unknown"
    },
    {
     "data": {
      "text/plain": "\r\n"
     },
     "output_type": "unknown"
    },
    {
     "data": {
      "text/plain": "ComputerName       : 192.168.2.63\r\n"
     },
     "output_type": "unknown"
    },
    {
     "data": {
      "text/plain": "InstanceName       : MSSQLSERVER\r\n"
     },
     "output_type": "unknown"
    },
    {
     "data": {
      "text/plain": "SqlInstance        : ben-starker-0\r\n"
     },
     "output_type": "unknown"
    },
    {
     "data": {
      "text/plain": "Database           : AdventureWorks2017\r\n"
     },
     "output_type": "unknown"
    },
    {
     "data": {
      "text/plain": "CreateDate         : 24/05/2021 18:07:57\r\n"
     },
     "output_type": "unknown"
    },
    {
     "data": {
      "text/plain": "DateLastModified   : 24/05/2021 18:07:57\r\n"
     },
     "output_type": "unknown"
    },
    {
     "data": {
      "text/plain": "Name               : benji\r\n"
     },
     "output_type": "unknown"
    },
    {
     "data": {
      "text/plain": "Login              : benji\r\n"
     },
     "output_type": "unknown"
    },
    {
     "data": {
      "text/plain": "LoginType          : SqlLogin\r\n"
     },
     "output_type": "unknown"
    },
    {
     "data": {
      "text/plain": "AuthenticationType : Instance\r\n"
     },
     "output_type": "unknown"
    },
    {
     "data": {
      "text/plain": "State              : Existing\r\n"
     },
     "output_type": "unknown"
    },
    {
     "data": {
      "text/plain": "HasDbAccess        : True\r\n"
     },
     "output_type": "unknown"
    },
    {
     "data": {
      "text/plain": "DefaultSchema      : dbo\r\n"
     },
     "output_type": "unknown"
    },
    {
     "data": {
      "text/plain": "\r\n"
     },
     "output_type": "unknown"
    },
    {
     "data": {
      "text/plain": "ComputerName       : 192.168.2.63\r\n"
     },
     "output_type": "unknown"
    },
    {
     "data": {
      "text/plain": "InstanceName       : MSSQLSERVER\r\n"
     },
     "output_type": "unknown"
    },
    {
     "data": {
      "text/plain": "SqlInstance        : ben-starker-0\r\n"
     },
     "output_type": "unknown"
    },
    {
     "data": {
      "text/plain": "Database           : AdventureWorks2017\r\n"
     },
     "output_type": "unknown"
    },
    {
     "data": {
      "text/plain": "CreateDate         : 24/05/2021 18:07:57\r\n"
     },
     "output_type": "unknown"
    },
    {
     "data": {
      "text/plain": "DateLastModified   : 24/05/2021 18:07:57\r\n"
     },
     "output_type": "unknown"
    },
    {
     "data": {
      "text/plain": "Name               : bweissman\r\n"
     },
     "output_type": "unknown"
    },
    {
     "data": {
      "text/plain": "Login              : bweissman\r\n"
     },
     "output_type": "unknown"
    },
    {
     "data": {
      "text/plain": "LoginType          : SqlLogin\r\n"
     },
     "output_type": "unknown"
    },
    {
     "data": {
      "text/plain": "AuthenticationType : Instance\r\n"
     },
     "output_type": "unknown"
    },
    {
     "data": {
      "text/plain": "State              : Existing\r\n"
     },
     "output_type": "unknown"
    },
    {
     "data": {
      "text/plain": "HasDbAccess        : True\r\n"
     },
     "output_type": "unknown"
    },
    {
     "data": {
      "text/plain": "DefaultSchema      : dbo\r\n"
     },
     "output_type": "unknown"
    },
    {
     "data": {
      "text/plain": "\r\n"
     },
     "output_type": "unknown"
    },
    {
     "data": {
      "text/plain": "ComputerName       : 192.168.2.63\r\n"
     },
     "output_type": "unknown"
    },
    {
     "data": {
      "text/plain": "InstanceName       : MSSQLSERVER\r\n"
     },
     "output_type": "unknown"
    },
    {
     "data": {
      "text/plain": "SqlInstance        : ben-starker-0\r\n"
     },
     "output_type": "unknown"
    },
    {
     "data": {
      "text/plain": "Database           : AdventureWorks2017\r\n"
     },
     "output_type": "unknown"
    },
    {
     "data": {
      "text/plain": "CreateDate         : 24/05/2021 18:07:57\r\n"
     },
     "output_type": "unknown"
    },
    {
     "data": {
      "text/plain": "DateLastModified   : 24/05/2021 18:07:57\r\n"
     },
     "output_type": "unknown"
    },
    {
     "data": {
      "text/plain": "Name               : akamman\r\n"
     },
     "output_type": "unknown"
    },
    {
     "data": {
      "text/plain": "Login              : akamman\r\n"
     },
     "output_type": "unknown"
    },
    {
     "data": {
      "text/plain": "LoginType          : SqlLogin\r\n"
     },
     "output_type": "unknown"
    },
    {
     "data": {
      "text/plain": "AuthenticationType : Instance\r\n"
     },
     "output_type": "unknown"
    },
    {
     "data": {
      "text/plain": "State              : Existing\r\n"
     },
     "output_type": "unknown"
    },
    {
     "data": {
      "text/plain": "HasDbAccess        : True\r\n"
     },
     "output_type": "unknown"
    },
    {
     "data": {
      "text/plain": "DefaultSchema      : dbo\r\n"
     },
     "output_type": "unknown"
    },
    {
     "data": {
      "text/plain": "\r\n"
     },
     "output_type": "unknown"
    },
    {
     "data": {
      "text/plain": "ComputerName       : 192.168.2.63\r\n"
     },
     "output_type": "unknown"
    },
    {
     "data": {
      "text/plain": "InstanceName       : MSSQLSERVER\r\n"
     },
     "output_type": "unknown"
    },
    {
     "data": {
      "text/plain": "SqlInstance        : ben-starker-0\r\n"
     },
     "output_type": "unknown"
    },
    {
     "data": {
      "text/plain": "Database           : AdventureWorks2017\r\n"
     },
     "output_type": "unknown"
    },
    {
     "data": {
      "text/plain": "CreateDate         : 24/05/2021 18:07:57\r\n"
     },
     "output_type": "unknown"
    },
    {
     "data": {
      "text/plain": "DateLastModified   : 24/05/2021 18:07:57\r\n"
     },
     "output_type": "unknown"
    },
    {
     "data": {
      "text/plain": "Name               : alevy\r\n"
     },
     "output_type": "unknown"
    },
    {
     "data": {
      "text/plain": "Login              : alevy\r\n"
     },
     "output_type": "unknown"
    },
    {
     "data": {
      "text/plain": "LoginType          : SqlLogin\r\n"
     },
     "output_type": "unknown"
    },
    {
     "data": {
      "text/plain": "AuthenticationType : Instance\r\n"
     },
     "output_type": "unknown"
    },
    {
     "data": {
      "text/plain": "State              : Existing\r\n"
     },
     "output_type": "unknown"
    },
    {
     "data": {
      "text/plain": "HasDbAccess        : True\r\n"
     },
     "output_type": "unknown"
    },
    {
     "data": {
      "text/plain": "DefaultSchema      : dbo\r\n"
     },
     "output_type": "unknown"
    },
    {
     "data": {
      "text/plain": "\r\n"
     },
     "output_type": "unknown"
    },
    {
     "data": {
      "text/plain": "ComputerName       : 192.168.2.63\r\n"
     },
     "output_type": "unknown"
    },
    {
     "data": {
      "text/plain": "InstanceName       : MSSQLSERVER\r\n"
     },
     "output_type": "unknown"
    },
    {
     "data": {
      "text/plain": "SqlInstance        : ben-starker-0\r\n"
     },
     "output_type": "unknown"
    },
    {
     "data": {
      "text/plain": "Database           : AdventureWorks2017\r\n"
     },
     "output_type": "unknown"
    },
    {
     "data": {
      "text/plain": "CreateDate         : 24/05/2021 18:07:57\r\n"
     },
     "output_type": "unknown"
    },
    {
     "data": {
      "text/plain": "DateLastModified   : 24/05/2021 18:07:57\r\n"
     },
     "output_type": "unknown"
    },
    {
     "data": {
      "text/plain": "Name               : beardapp1\r\n"
     },
     "output_type": "unknown"
    },
    {
     "data": {
      "text/plain": "Login              : beardapp1\r\n"
     },
     "output_type": "unknown"
    },
    {
     "data": {
      "text/plain": "LoginType          : SqlLogin\r\n"
     },
     "output_type": "unknown"
    },
    {
     "data": {
      "text/plain": "AuthenticationType : Instance\r\n"
     },
     "output_type": "unknown"
    },
    {
     "data": {
      "text/plain": "State              : Existing\r\n"
     },
     "output_type": "unknown"
    },
    {
     "data": {
      "text/plain": "HasDbAccess        : True\r\n"
     },
     "output_type": "unknown"
    },
    {
     "data": {
      "text/plain": "DefaultSchema      : dbo\r\n"
     },
     "output_type": "unknown"
    },
    {
     "data": {
      "text/plain": "\r\n"
     },
     "output_type": "unknown"
    },
    {
     "data": {
      "text/plain": "ComputerName       : 192.168.2.63\r\n"
     },
     "output_type": "unknown"
    },
    {
     "data": {
      "text/plain": "InstanceName       : MSSQLSERVER\r\n"
     },
     "output_type": "unknown"
    },
    {
     "data": {
      "text/plain": "SqlInstance        : ben-starker-0\r\n"
     },
     "output_type": "unknown"
    },
    {
     "data": {
      "text/plain": "Database           : AdventureWorks2017\r\n"
     },
     "output_type": "unknown"
    },
    {
     "data": {
      "text/plain": "CreateDate         : 24/05/2021 18:07:57\r\n"
     },
     "output_type": "unknown"
    },
    {
     "data": {
      "text/plain": "DateLastModified   : 24/05/2021 18:07:57\r\n"
     },
     "output_type": "unknown"
    },
    {
     "data": {
      "text/plain": "Name               : beardapp2\r\n"
     },
     "output_type": "unknown"
    },
    {
     "data": {
      "text/plain": "Login              : beardapp2\r\n"
     },
     "output_type": "unknown"
    },
    {
     "data": {
      "text/plain": "LoginType          : SqlLogin\r\n"
     },
     "output_type": "unknown"
    },
    {
     "data": {
      "text/plain": "AuthenticationType : Instance\r\n"
     },
     "output_type": "unknown"
    },
    {
     "data": {
      "text/plain": "State              : Existing\r\n"
     },
     "output_type": "unknown"
    },
    {
     "data": {
      "text/plain": "HasDbAccess        : True\r\n"
     },
     "output_type": "unknown"
    },
    {
     "data": {
      "text/plain": "DefaultSchema      : dbo\r\n"
     },
     "output_type": "unknown"
    },
    {
     "data": {
      "text/plain": "\r\n"
     },
     "output_type": "unknown"
    },
    {
     "data": {
      "text/plain": "ComputerName       : 192.168.2.63\r\n"
     },
     "output_type": "unknown"
    },
    {
     "data": {
      "text/plain": "InstanceName       : MSSQLSERVER\r\n"
     },
     "output_type": "unknown"
    },
    {
     "data": {
      "text/plain": "SqlInstance        : ben-starker-0\r\n"
     },
     "output_type": "unknown"
    },
    {
     "data": {
      "text/plain": "Database           : AdventureWorks2017\r\n"
     },
     "output_type": "unknown"
    },
    {
     "data": {
      "text/plain": "CreateDate         : 24/05/2021 18:07:57\r\n"
     },
     "output_type": "unknown"
    },
    {
     "data": {
      "text/plain": "DateLastModified   : 24/05/2021 18:07:57\r\n"
     },
     "output_type": "unknown"
    },
    {
     "data": {
      "text/plain": "Name               : beardapp3\r\n"
     },
     "output_type": "unknown"
    },
    {
     "data": {
      "text/plain": "Login              : beardapp3\r\n"
     },
     "output_type": "unknown"
    },
    {
     "data": {
      "text/plain": "LoginType          : SqlLogin\r\n"
     },
     "output_type": "unknown"
    },
    {
     "data": {
      "text/plain": "AuthenticationType : Instance\r\n"
     },
     "output_type": "unknown"
    },
    {
     "data": {
      "text/plain": "State              : Existing\r\n"
     },
     "output_type": "unknown"
    },
    {
     "data": {
      "text/plain": "HasDbAccess        : True\r\n"
     },
     "output_type": "unknown"
    },
    {
     "data": {
      "text/plain": "DefaultSchema      : dbo\r\n"
     },
     "output_type": "unknown"
    },
    {
     "data": {
      "text/plain": "\r\n"
     },
     "output_type": "unknown"
    },
    {
     "data": {
      "text/plain": "ComputerName       : 192.168.2.63\r\n"
     },
     "output_type": "unknown"
    },
    {
     "data": {
      "text/plain": "InstanceName       : MSSQLSERVER\r\n"
     },
     "output_type": "unknown"
    },
    {
     "data": {
      "text/plain": "SqlInstance        : ben-starker-0\r\n"
     },
     "output_type": "unknown"
    },
    {
     "data": {
      "text/plain": "Database           : AdventureWorks2017\r\n"
     },
     "output_type": "unknown"
    },
    {
     "data": {
      "text/plain": "CreateDate         : 24/05/2021 18:07:57\r\n"
     },
     "output_type": "unknown"
    },
    {
     "data": {
      "text/plain": "DateLastModified   : 24/05/2021 18:07:57\r\n"
     },
     "output_type": "unknown"
    },
    {
     "data": {
      "text/plain": "Name               : beardapp4\r\n"
     },
     "output_type": "unknown"
    },
    {
     "data": {
      "text/plain": "Login              : beardapp4\r\n"
     },
     "output_type": "unknown"
    },
    {
     "data": {
      "text/plain": "LoginType          : SqlLogin\r\n"
     },
     "output_type": "unknown"
    },
    {
     "data": {
      "text/plain": "AuthenticationType : Instance\r\n"
     },
     "output_type": "unknown"
    },
    {
     "data": {
      "text/plain": "State              : Existing\r\n"
     },
     "output_type": "unknown"
    },
    {
     "data": {
      "text/plain": "HasDbAccess        : True\r\n"
     },
     "output_type": "unknown"
    },
    {
     "data": {
      "text/plain": "DefaultSchema      : dbo\r\n"
     },
     "output_type": "unknown"
    },
    {
     "data": {
      "text/plain": "\r\n"
     },
     "output_type": "unknown"
    },
    {
     "data": {
      "text/plain": "ComputerName       : 192.168.2.63\r\n"
     },
     "output_type": "unknown"
    },
    {
     "data": {
      "text/plain": "InstanceName       : MSSQLSERVER\r\n"
     },
     "output_type": "unknown"
    },
    {
     "data": {
      "text/plain": "SqlInstance        : ben-starker-0\r\n"
     },
     "output_type": "unknown"
    },
    {
     "data": {
      "text/plain": "Database           : AdventureWorks2017\r\n"
     },
     "output_type": "unknown"
    },
    {
     "data": {
      "text/plain": "CreateDate         : 24/05/2021 18:07:57\r\n"
     },
     "output_type": "unknown"
    },
    {
     "data": {
      "text/plain": "DateLastModified   : 24/05/2021 18:07:57\r\n"
     },
     "output_type": "unknown"
    },
    {
     "data": {
      "text/plain": "Name               : beardapp5\r\n"
     },
     "output_type": "unknown"
    },
    {
     "data": {
      "text/plain": "Login              : beardapp5\r\n"
     },
     "output_type": "unknown"
    },
    {
     "data": {
      "text/plain": "LoginType          : SqlLogin\r\n"
     },
     "output_type": "unknown"
    },
    {
     "data": {
      "text/plain": "AuthenticationType : Instance\r\n"
     },
     "output_type": "unknown"
    },
    {
     "data": {
      "text/plain": "State              : Existing\r\n"
     },
     "output_type": "unknown"
    },
    {
     "data": {
      "text/plain": "HasDbAccess        : True\r\n"
     },
     "output_type": "unknown"
    },
    {
     "data": {
      "text/plain": "DefaultSchema      : dbo\r\n"
     },
     "output_type": "unknown"
    },
    {
     "data": {
      "text/plain": "\r\n"
     },
     "output_type": "unknown"
    },
    {
     "data": {
      "text/plain": "ComputerName       : 192.168.2.63\r\n"
     },
     "output_type": "unknown"
    },
    {
     "data": {
      "text/plain": "InstanceName       : MSSQLSERVER\r\n"
     },
     "output_type": "unknown"
    },
    {
     "data": {
      "text/plain": "SqlInstance        : ben-starker-0\r\n"
     },
     "output_type": "unknown"
    },
    {
     "data": {
      "text/plain": "Database           : AdventureWorks2017\r\n"
     },
     "output_type": "unknown"
    },
    {
     "data": {
      "text/plain": "CreateDate         : 24/05/2021 18:07:57\r\n"
     },
     "output_type": "unknown"
    },
    {
     "data": {
      "text/plain": "DateLastModified   : 24/05/2021 18:07:57\r\n"
     },
     "output_type": "unknown"
    },
    {
     "data": {
      "text/plain": "Name               : beardapp6\r\n"
     },
     "output_type": "unknown"
    },
    {
     "data": {
      "text/plain": "Login              : beardapp6\r\n"
     },
     "output_type": "unknown"
    },
    {
     "data": {
      "text/plain": "LoginType          : SqlLogin\r\n"
     },
     "output_type": "unknown"
    },
    {
     "data": {
      "text/plain": "AuthenticationType : Instance\r\n"
     },
     "output_type": "unknown"
    },
    {
     "data": {
      "text/plain": "State              : Existing\r\n"
     },
     "output_type": "unknown"
    },
    {
     "data": {
      "text/plain": "HasDbAccess        : True\r\n"
     },
     "output_type": "unknown"
    },
    {
     "data": {
      "text/plain": "DefaultSchema      : dbo\r\n"
     },
     "output_type": "unknown"
    },
    {
     "data": {
      "text/plain": "\r\n"
     },
     "output_type": "unknown"
    },
    {
     "data": {
      "text/plain": "ComputerName       : 192.168.2.63\r\n"
     },
     "output_type": "unknown"
    },
    {
     "data": {
      "text/plain": "InstanceName       : MSSQLSERVER\r\n"
     },
     "output_type": "unknown"
    },
    {
     "data": {
      "text/plain": "SqlInstance        : ben-starker-0\r\n"
     },
     "output_type": "unknown"
    },
    {
     "data": {
      "text/plain": "Database           : AdventureWorks2017\r\n"
     },
     "output_type": "unknown"
    },
    {
     "data": {
      "text/plain": "CreateDate         : 24/05/2021 18:07:57\r\n"
     },
     "output_type": "unknown"
    },
    {
     "data": {
      "text/plain": "DateLastModified   : 24/05/2021 18:07:57\r\n"
     },
     "output_type": "unknown"
    },
    {
     "data": {
      "text/plain": "Name               : beardapp7\r\n"
     },
     "output_type": "unknown"
    },
    {
     "data": {
      "text/plain": "Login              : beardapp7\r\n"
     },
     "output_type": "unknown"
    },
    {
     "data": {
      "text/plain": "LoginType          : SqlLogin\r\n"
     },
     "output_type": "unknown"
    },
    {
     "data": {
      "text/plain": "AuthenticationType : Instance\r\n"
     },
     "output_type": "unknown"
    },
    {
     "data": {
      "text/plain": "State              : Existing\r\n"
     },
     "output_type": "unknown"
    },
    {
     "data": {
      "text/plain": "HasDbAccess        : True\r\n"
     },
     "output_type": "unknown"
    },
    {
     "data": {
      "text/plain": "DefaultSchema      : dbo\r\n"
     },
     "output_type": "unknown"
    },
    {
     "data": {
      "text/plain": "\r\n"
     },
     "output_type": "unknown"
    },
    {
     "data": {
      "text/plain": "ComputerName       : 192.168.2.63\r\n"
     },
     "output_type": "unknown"
    },
    {
     "data": {
      "text/plain": "InstanceName       : MSSQLSERVER\r\n"
     },
     "output_type": "unknown"
    },
    {
     "data": {
      "text/plain": "SqlInstance        : ben-starker-0\r\n"
     },
     "output_type": "unknown"
    },
    {
     "data": {
      "text/plain": "Database           : AdventureWorks2017\r\n"
     },
     "output_type": "unknown"
    },
    {
     "data": {
      "text/plain": "CreateDate         : 24/05/2021 18:07:57\r\n"
     },
     "output_type": "unknown"
    },
    {
     "data": {
      "text/plain": "DateLastModified   : 24/05/2021 18:07:57\r\n"
     },
     "output_type": "unknown"
    },
    {
     "data": {
      "text/plain": "Name               : beardapp8\r\n"
     },
     "output_type": "unknown"
    },
    {
     "data": {
      "text/plain": "Login              : beardapp8\r\n"
     },
     "output_type": "unknown"
    },
    {
     "data": {
      "text/plain": "LoginType          : SqlLogin\r\n"
     },
     "output_type": "unknown"
    },
    {
     "data": {
      "text/plain": "AuthenticationType : Instance\r\n"
     },
     "output_type": "unknown"
    },
    {
     "data": {
      "text/plain": "State              : Existing\r\n"
     },
     "output_type": "unknown"
    },
    {
     "data": {
      "text/plain": "HasDbAccess        : True\r\n"
     },
     "output_type": "unknown"
    },
    {
     "data": {
      "text/plain": "DefaultSchema      : dbo\r\n"
     },
     "output_type": "unknown"
    },
    {
     "data": {
      "text/plain": "\r\n"
     },
     "output_type": "unknown"
    },
    {
     "data": {
      "text/plain": "ComputerName       : 192.168.2.63\r\n"
     },
     "output_type": "unknown"
    },
    {
     "data": {
      "text/plain": "InstanceName       : MSSQLSERVER\r\n"
     },
     "output_type": "unknown"
    },
    {
     "data": {
      "text/plain": "SqlInstance        : ben-starker-0\r\n"
     },
     "output_type": "unknown"
    },
    {
     "data": {
      "text/plain": "Database           : AdventureWorks2017\r\n"
     },
     "output_type": "unknown"
    },
    {
     "data": {
      "text/plain": "CreateDate         : 24/05/2021 18:07:57\r\n"
     },
     "output_type": "unknown"
    },
    {
     "data": {
      "text/plain": "DateLastModified   : 24/05/2021 18:07:57\r\n"
     },
     "output_type": "unknown"
    },
    {
     "data": {
      "text/plain": "Name               : clemaire\r\n"
     },
     "output_type": "unknown"
    },
    {
     "data": {
      "text/plain": "Login              : clemaire\r\n"
     },
     "output_type": "unknown"
    },
    {
     "data": {
      "text/plain": "LoginType          : SqlLogin\r\n"
     },
     "output_type": "unknown"
    },
    {
     "data": {
      "text/plain": "AuthenticationType : Instance\r\n"
     },
     "output_type": "unknown"
    },
    {
     "data": {
      "text/plain": "State              : Existing\r\n"
     },
     "output_type": "unknown"
    },
    {
     "data": {
      "text/plain": "HasDbAccess        : True\r\n"
     },
     "output_type": "unknown"
    },
    {
     "data": {
      "text/plain": "DefaultSchema      : dbo\r\n"
     },
     "output_type": "unknown"
    },
    {
     "data": {
      "text/plain": "\r\n"
     },
     "output_type": "unknown"
    },
    {
     "data": {
      "text/plain": "ComputerName       : 192.168.2.63\r\n"
     },
     "output_type": "unknown"
    },
    {
     "data": {
      "text/plain": "InstanceName       : MSSQLSERVER\r\n"
     },
     "output_type": "unknown"
    },
    {
     "data": {
      "text/plain": "SqlInstance        : ben-starker-0\r\n"
     },
     "output_type": "unknown"
    },
    {
     "data": {
      "text/plain": "Database           : AdventureWorks2017\r\n"
     },
     "output_type": "unknown"
    },
    {
     "data": {
      "text/plain": "CreateDate         : 24/05/2021 18:07:57\r\n"
     },
     "output_type": "unknown"
    },
    {
     "data": {
      "text/plain": "DateLastModified   : 24/05/2021 18:07:57\r\n"
     },
     "output_type": "unknown"
    },
    {
     "data": {
      "text/plain": "Name               : csilva\r\n"
     },
     "output_type": "unknown"
    },
    {
     "data": {
      "text/plain": "Login              : csilva\r\n"
     },
     "output_type": "unknown"
    },
    {
     "data": {
      "text/plain": "LoginType          : SqlLogin\r\n"
     },
     "output_type": "unknown"
    },
    {
     "data": {
      "text/plain": "AuthenticationType : Instance\r\n"
     },
     "output_type": "unknown"
    },
    {
     "data": {
      "text/plain": "State              : Existing\r\n"
     },
     "output_type": "unknown"
    },
    {
     "data": {
      "text/plain": "HasDbAccess        : True\r\n"
     },
     "output_type": "unknown"
    },
    {
     "data": {
      "text/plain": "DefaultSchema      : dbo\r\n"
     },
     "output_type": "unknown"
    },
    {
     "data": {
      "text/plain": "\r\n"
     },
     "output_type": "unknown"
    },
    {
     "data": {
      "text/plain": "ComputerName       : 192.168.2.63\r\n"
     },
     "output_type": "unknown"
    },
    {
     "data": {
      "text/plain": "InstanceName       : MSSQLSERVER\r\n"
     },
     "output_type": "unknown"
    },
    {
     "data": {
      "text/plain": "SqlInstance        : ben-starker-0\r\n"
     },
     "output_type": "unknown"
    },
    {
     "data": {
      "text/plain": "Database           : AdventureWorks2017\r\n"
     },
     "output_type": "unknown"
    },
    {
     "data": {
      "text/plain": "CreateDate         : 24/05/2021 18:07:57\r\n"
     },
     "output_type": "unknown"
    },
    {
     "data": {
      "text/plain": "DateLastModified   : 24/05/2021 18:07:57\r\n"
     },
     "output_type": "unknown"
    },
    {
     "data": {
      "text/plain": "Name               : fatherjack\r\n"
     },
     "output_type": "unknown"
    },
    {
     "data": {
      "text/plain": "Login              : fatherjack\r\n"
     },
     "output_type": "unknown"
    },
    {
     "data": {
      "text/plain": "LoginType          : SqlLogin\r\n"
     },
     "output_type": "unknown"
    },
    {
     "data": {
      "text/plain": "AuthenticationType : Instance\r\n"
     },
     "output_type": "unknown"
    },
    {
     "data": {
      "text/plain": "State              : Existing\r\n"
     },
     "output_type": "unknown"
    },
    {
     "data": {
      "text/plain": "HasDbAccess        : True\r\n"
     },
     "output_type": "unknown"
    },
    {
     "data": {
      "text/plain": "DefaultSchema      : dbo\r\n"
     },
     "output_type": "unknown"
    },
    {
     "data": {
      "text/plain": "\r\n"
     },
     "output_type": "unknown"
    },
    {
     "data": {
      "text/plain": "ComputerName       : 192.168.2.63\r\n"
     },
     "output_type": "unknown"
    },
    {
     "data": {
      "text/plain": "InstanceName       : MSSQLSERVER\r\n"
     },
     "output_type": "unknown"
    },
    {
     "data": {
      "text/plain": "SqlInstance        : ben-starker-0\r\n"
     },
     "output_type": "unknown"
    },
    {
     "data": {
      "text/plain": "Database           : AdventureWorks2017\r\n"
     },
     "output_type": "unknown"
    },
    {
     "data": {
      "text/plain": "CreateDate         : 24/05/2021 18:07:57\r\n"
     },
     "output_type": "unknown"
    },
    {
     "data": {
      "text/plain": "DateLastModified   : 24/05/2021 18:07:57\r\n"
     },
     "output_type": "unknown"
    },
    {
     "data": {
      "text/plain": "Name               : gsartori\r\n"
     },
     "output_type": "unknown"
    },
    {
     "data": {
      "text/plain": "Login              : gsartori\r\n"
     },
     "output_type": "unknown"
    },
    {
     "data": {
      "text/plain": "LoginType          : SqlLogin\r\n"
     },
     "output_type": "unknown"
    },
    {
     "data": {
      "text/plain": "AuthenticationType : Instance\r\n"
     },
     "output_type": "unknown"
    },
    {
     "data": {
      "text/plain": "State              : Existing\r\n"
     },
     "output_type": "unknown"
    },
    {
     "data": {
      "text/plain": "HasDbAccess        : True\r\n"
     },
     "output_type": "unknown"
    },
    {
     "data": {
      "text/plain": "DefaultSchema      : dbo\r\n"
     },
     "output_type": "unknown"
    },
    {
     "data": {
      "text/plain": "\r\n"
     },
     "output_type": "unknown"
    },
    {
     "data": {
      "text/plain": "ComputerName       : 192.168.2.63\r\n"
     },
     "output_type": "unknown"
    },
    {
     "data": {
      "text/plain": "InstanceName       : MSSQLSERVER\r\n"
     },
     "output_type": "unknown"
    },
    {
     "data": {
      "text/plain": "SqlInstance        : ben-starker-0\r\n"
     },
     "output_type": "unknown"
    },
    {
     "data": {
      "text/plain": "Database           : AdventureWorks2017\r\n"
     },
     "output_type": "unknown"
    },
    {
     "data": {
      "text/plain": "CreateDate         : 24/05/2021 18:07:57\r\n"
     },
     "output_type": "unknown"
    },
    {
     "data": {
      "text/plain": "DateLastModified   : 24/05/2021 18:07:57\r\n"
     },
     "output_type": "unknown"
    },
    {
     "data": {
      "text/plain": "Name               : jamrtin\r\n"
     },
     "output_type": "unknown"
    },
    {
     "data": {
      "text/plain": "Login              : jamrtin\r\n"
     },
     "output_type": "unknown"
    },
    {
     "data": {
      "text/plain": "LoginType          : SqlLogin\r\n"
     },
     "output_type": "unknown"
    },
    {
     "data": {
      "text/plain": "AuthenticationType : Instance\r\n"
     },
     "output_type": "unknown"
    },
    {
     "data": {
      "text/plain": "State              : Existing\r\n"
     },
     "output_type": "unknown"
    },
    {
     "data": {
      "text/plain": "HasDbAccess        : True\r\n"
     },
     "output_type": "unknown"
    },
    {
     "data": {
      "text/plain": "DefaultSchema      : dbo\r\n"
     },
     "output_type": "unknown"
    },
    {
     "data": {
      "text/plain": "\r\n"
     },
     "output_type": "unknown"
    },
    {
     "data": {
      "text/plain": "ComputerName       : 192.168.2.63\r\n"
     },
     "output_type": "unknown"
    },
    {
     "data": {
      "text/plain": "InstanceName       : MSSQLSERVER\r\n"
     },
     "output_type": "unknown"
    },
    {
     "data": {
      "text/plain": "SqlInstance        : ben-starker-0\r\n"
     },
     "output_type": "unknown"
    },
    {
     "data": {
      "text/plain": "Database           : AdventureWorks2017\r\n"
     },
     "output_type": "unknown"
    },
    {
     "data": {
      "text/plain": "CreateDate         : 24/05/2021 18:07:57\r\n"
     },
     "output_type": "unknown"
    },
    {
     "data": {
      "text/plain": "DateLastModified   : 24/05/2021 18:07:57\r\n"
     },
     "output_type": "unknown"
    },
    {
     "data": {
      "text/plain": "Name               : Reporting1\r\n"
     },
     "output_type": "unknown"
    },
    {
     "data": {
      "text/plain": "Login              : Reporting1\r\n"
     },
     "output_type": "unknown"
    },
    {
     "data": {
      "text/plain": "LoginType          : SqlLogin\r\n"
     },
     "output_type": "unknown"
    },
    {
     "data": {
      "text/plain": "AuthenticationType : Instance\r\n"
     },
     "output_type": "unknown"
    },
    {
     "data": {
      "text/plain": "State              : Existing\r\n"
     },
     "output_type": "unknown"
    },
    {
     "data": {
      "text/plain": "HasDbAccess        : True\r\n"
     },
     "output_type": "unknown"
    },
    {
     "data": {
      "text/plain": "DefaultSchema      : dbo\r\n"
     },
     "output_type": "unknown"
    },
    {
     "data": {
      "text/plain": "\r\n"
     },
     "output_type": "unknown"
    },
    {
     "data": {
      "text/plain": "ComputerName       : 192.168.2.63\r\n"
     },
     "output_type": "unknown"
    },
    {
     "data": {
      "text/plain": "InstanceName       : MSSQLSERVER\r\n"
     },
     "output_type": "unknown"
    },
    {
     "data": {
      "text/plain": "SqlInstance        : ben-starker-0\r\n"
     },
     "output_type": "unknown"
    },
    {
     "data": {
      "text/plain": "Database           : AdventureWorks2017\r\n"
     },
     "output_type": "unknown"
    },
    {
     "data": {
      "text/plain": "CreateDate         : 24/05/2021 18:07:57\r\n"
     },
     "output_type": "unknown"
    },
    {
     "data": {
      "text/plain": "DateLastModified   : 24/05/2021 18:07:57\r\n"
     },
     "output_type": "unknown"
    },
    {
     "data": {
      "text/plain": "Name               : Reporting2\r\n"
     },
     "output_type": "unknown"
    },
    {
     "data": {
      "text/plain": "Login              : Reporting2\r\n"
     },
     "output_type": "unknown"
    },
    {
     "data": {
      "text/plain": "LoginType          : SqlLogin\r\n"
     },
     "output_type": "unknown"
    },
    {
     "data": {
      "text/plain": "AuthenticationType : Instance\r\n"
     },
     "output_type": "unknown"
    },
    {
     "data": {
      "text/plain": "State              : Existing\r\n"
     },
     "output_type": "unknown"
    },
    {
     "data": {
      "text/plain": "HasDbAccess        : True\r\n"
     },
     "output_type": "unknown"
    },
    {
     "data": {
      "text/plain": "DefaultSchema      : dbo\r\n"
     },
     "output_type": "unknown"
    },
    {
     "data": {
      "text/plain": "\r\n"
     },
     "output_type": "unknown"
    },
    {
     "data": {
      "text/plain": "ComputerName       : 192.168.2.63\r\n"
     },
     "output_type": "unknown"
    },
    {
     "data": {
      "text/plain": "InstanceName       : MSSQLSERVER\r\n"
     },
     "output_type": "unknown"
    },
    {
     "data": {
      "text/plain": "SqlInstance        : ben-starker-0\r\n"
     },
     "output_type": "unknown"
    },
    {
     "data": {
      "text/plain": "Database           : AdventureWorks2017\r\n"
     },
     "output_type": "unknown"
    },
    {
     "data": {
      "text/plain": "CreateDate         : 24/05/2021 18:07:57\r\n"
     },
     "output_type": "unknown"
    },
    {
     "data": {
      "text/plain": "DateLastModified   : 24/05/2021 18:07:57\r\n"
     },
     "output_type": "unknown"
    },
    {
     "data": {
      "text/plain": "Name               : Reporting3\r\n"
     },
     "output_type": "unknown"
    },
    {
     "data": {
      "text/plain": "Login              : Reporting3\r\n"
     },
     "output_type": "unknown"
    },
    {
     "data": {
      "text/plain": "LoginType          : SqlLogin\r\n"
     },
     "output_type": "unknown"
    },
    {
     "data": {
      "text/plain": "AuthenticationType : Instance\r\n"
     },
     "output_type": "unknown"
    },
    {
     "data": {
      "text/plain": "State              : Existing\r\n"
     },
     "output_type": "unknown"
    },
    {
     "data": {
      "text/plain": "HasDbAccess        : True\r\n"
     },
     "output_type": "unknown"
    },
    {
     "data": {
      "text/plain": "DefaultSchema      : dbo\r\n"
     },
     "output_type": "unknown"
    },
    {
     "data": {
      "text/plain": "\r\n"
     },
     "output_type": "unknown"
    },
    {
     "data": {
      "text/plain": "ComputerName       : 192.168.2.63\r\n"
     },
     "output_type": "unknown"
    },
    {
     "data": {
      "text/plain": "InstanceName       : MSSQLSERVER\r\n"
     },
     "output_type": "unknown"
    },
    {
     "data": {
      "text/plain": "SqlInstance        : ben-starker-0\r\n"
     },
     "output_type": "unknown"
    },
    {
     "data": {
      "text/plain": "Database           : AdventureWorks2017\r\n"
     },
     "output_type": "unknown"
    },
    {
     "data": {
      "text/plain": "CreateDate         : 24/05/2021 18:07:58\r\n"
     },
     "output_type": "unknown"
    },
    {
     "data": {
      "text/plain": "DateLastModified   : 24/05/2021 18:07:58\r\n"
     },
     "output_type": "unknown"
    },
    {
     "data": {
      "text/plain": "Name               : Reporting4\r\n"
     },
     "output_type": "unknown"
    },
    {
     "data": {
      "text/plain": "Login              : Reporting4\r\n"
     },
     "output_type": "unknown"
    },
    {
     "data": {
      "text/plain": "LoginType          : SqlLogin\r\n"
     },
     "output_type": "unknown"
    },
    {
     "data": {
      "text/plain": "AuthenticationType : Instance\r\n"
     },
     "output_type": "unknown"
    },
    {
     "data": {
      "text/plain": "State              : Existing\r\n"
     },
     "output_type": "unknown"
    },
    {
     "data": {
      "text/plain": "HasDbAccess        : True\r\n"
     },
     "output_type": "unknown"
    },
    {
     "data": {
      "text/plain": "DefaultSchema      : dbo\r\n"
     },
     "output_type": "unknown"
    },
    {
     "data": {
      "text/plain": "\r\n"
     },
     "output_type": "unknown"
    },
    {
     "data": {
      "text/plain": "ComputerName       : 192.168.2.63\r\n"
     },
     "output_type": "unknown"
    },
    {
     "data": {
      "text/plain": "InstanceName       : MSSQLSERVER\r\n"
     },
     "output_type": "unknown"
    },
    {
     "data": {
      "text/plain": "SqlInstance        : ben-starker-0\r\n"
     },
     "output_type": "unknown"
    },
    {
     "data": {
      "text/plain": "Database           : AdventureWorks2017\r\n"
     },
     "output_type": "unknown"
    },
    {
     "data": {
      "text/plain": "CreateDate         : 24/05/2021 18:07:58\r\n"
     },
     "output_type": "unknown"
    },
    {
     "data": {
      "text/plain": "DateLastModified   : 24/05/2021 18:07:58\r\n"
     },
     "output_type": "unknown"
    },
    {
     "data": {
      "text/plain": "Name               : smelton\r\n"
     },
     "output_type": "unknown"
    },
    {
     "data": {
      "text/plain": "Login              : smelton\r\n"
     },
     "output_type": "unknown"
    },
    {
     "data": {
      "text/plain": "LoginType          : SqlLogin\r\n"
     },
     "output_type": "unknown"
    },
    {
     "data": {
      "text/plain": "AuthenticationType : Instance\r\n"
     },
     "output_type": "unknown"
    },
    {
     "data": {
      "text/plain": "State              : Existing\r\n"
     },
     "output_type": "unknown"
    },
    {
     "data": {
      "text/plain": "HasDbAccess        : True\r\n"
     },
     "output_type": "unknown"
    },
    {
     "data": {
      "text/plain": "DefaultSchema      : dbo\r\n"
     },
     "output_type": "unknown"
    },
    {
     "data": {
      "text/plain": "\r\n"
     },
     "output_type": "unknown"
    },
    {
     "data": {
      "text/plain": "ComputerName       : 192.168.2.63\r\n"
     },
     "output_type": "unknown"
    },
    {
     "data": {
      "text/plain": "InstanceName       : MSSQLSERVER\r\n"
     },
     "output_type": "unknown"
    },
    {
     "data": {
      "text/plain": "SqlInstance        : ben-starker-0\r\n"
     },
     "output_type": "unknown"
    },
    {
     "data": {
      "text/plain": "Database           : AdventureWorks2017\r\n"
     },
     "output_type": "unknown"
    },
    {
     "data": {
      "text/plain": "CreateDate         : 24/05/2021 18:07:58\r\n"
     },
     "output_type": "unknown"
    },
    {
     "data": {
      "text/plain": "DateLastModified   : 24/05/2021 18:07:58\r\n"
     },
     "output_type": "unknown"
    },
    {
     "data": {
      "text/plain": "Name               : SockFactoryApp_User\r\n"
     },
     "output_type": "unknown"
    },
    {
     "data": {
      "text/plain": "Login              : SockFactoryApp_User\r\n"
     },
     "output_type": "unknown"
    },
    {
     "data": {
      "text/plain": "LoginType          : SqlLogin\r\n"
     },
     "output_type": "unknown"
    },
    {
     "data": {
      "text/plain": "AuthenticationType : Instance\r\n"
     },
     "output_type": "unknown"
    },
    {
     "data": {
      "text/plain": "State              : Existing\r\n"
     },
     "output_type": "unknown"
    },
    {
     "data": {
      "text/plain": "HasDbAccess        : True\r\n"
     },
     "output_type": "unknown"
    },
    {
     "data": {
      "text/plain": "DefaultSchema      : dbo\r\n"
     },
     "output_type": "unknown"
    },
    {
     "data": {
      "text/plain": "\r\n"
     },
     "output_type": "unknown"
    },
    {
     "data": {
      "text/plain": "ComputerName       : 192.168.2.63\r\n"
     },
     "output_type": "unknown"
    },
    {
     "data": {
      "text/plain": "InstanceName       : MSSQLSERVER\r\n"
     },
     "output_type": "unknown"
    },
    {
     "data": {
      "text/plain": "SqlInstance        : ben-starker-0\r\n"
     },
     "output_type": "unknown"
    },
    {
     "data": {
      "text/plain": "Database           : AdventureWorks2017\r\n"
     },
     "output_type": "unknown"
    },
    {
     "data": {
      "text/plain": "CreateDate         : 24/05/2021 18:07:58\r\n"
     },
     "output_type": "unknown"
    },
    {
     "data": {
      "text/plain": "DateLastModified   : 24/05/2021 18:07:58\r\n"
     },
     "output_type": "unknown"
    },
    {
     "data": {
      "text/plain": "Name               : soneill\r\n"
     },
     "output_type": "unknown"
    },
    {
     "data": {
      "text/plain": "Login              : soneill\r\n"
     },
     "output_type": "unknown"
    },
    {
     "data": {
      "text/plain": "LoginType          : SqlLogin\r\n"
     },
     "output_type": "unknown"
    },
    {
     "data": {
      "text/plain": "AuthenticationType : Instance\r\n"
     },
     "output_type": "unknown"
    },
    {
     "data": {
      "text/plain": "State              : Existing\r\n"
     },
     "output_type": "unknown"
    },
    {
     "data": {
      "text/plain": "HasDbAccess        : True\r\n"
     },
     "output_type": "unknown"
    },
    {
     "data": {
      "text/plain": "DefaultSchema      : dbo\r\n"
     },
     "output_type": "unknown"
    },
    {
     "data": {
      "text/plain": "\r\n"
     },
     "output_type": "unknown"
    },
    {
     "data": {
      "text/plain": "ComputerName       : 192.168.2.63\r\n"
     },
     "output_type": "unknown"
    },
    {
     "data": {
      "text/plain": "InstanceName       : MSSQLSERVER\r\n"
     },
     "output_type": "unknown"
    },
    {
     "data": {
      "text/plain": "SqlInstance        : ben-starker-0\r\n"
     },
     "output_type": "unknown"
    },
    {
     "data": {
      "text/plain": "Database           : AdventureWorks2017\r\n"
     },
     "output_type": "unknown"
    },
    {
     "data": {
      "text/plain": "CreateDate         : 24/05/2021 18:07:58\r\n"
     },
     "output_type": "unknown"
    },
    {
     "data": {
      "text/plain": "DateLastModified   : 24/05/2021 18:07:58\r\n"
     },
     "output_type": "unknown"
    },
    {
     "data": {
      "text/plain": "Name               : sqladmin\r\n"
     },
     "output_type": "unknown"
    },
    {
     "data": {
      "text/plain": "Login              : sqladmin\r\n"
     },
     "output_type": "unknown"
    },
    {
     "data": {
      "text/plain": "LoginType          : SqlLogin\r\n"
     },
     "output_type": "unknown"
    },
    {
     "data": {
      "text/plain": "AuthenticationType : Instance\r\n"
     },
     "output_type": "unknown"
    },
    {
     "data": {
      "text/plain": "State              : Existing\r\n"
     },
     "output_type": "unknown"
    },
    {
     "data": {
      "text/plain": "HasDbAccess        : True\r\n"
     },
     "output_type": "unknown"
    },
    {
     "data": {
      "text/plain": "DefaultSchema      : dbo\r\n"
     },
     "output_type": "unknown"
    },
    {
     "data": {
      "text/plain": "\r\n"
     },
     "output_type": "unknown"
    },
    {
     "data": {
      "text/plain": "ComputerName       : 192.168.2.63\r\n"
     },
     "output_type": "unknown"
    },
    {
     "data": {
      "text/plain": "InstanceName       : MSSQLSERVER\r\n"
     },
     "output_type": "unknown"
    },
    {
     "data": {
      "text/plain": "SqlInstance        : ben-starker-0\r\n"
     },
     "output_type": "unknown"
    },
    {
     "data": {
      "text/plain": "Database           : AdventureWorks2017\r\n"
     },
     "output_type": "unknown"
    },
    {
     "data": {
      "text/plain": "CreateDate         : 24/05/2021 18:07:58\r\n"
     },
     "output_type": "unknown"
    },
    {
     "data": {
      "text/plain": "DateLastModified   : 24/05/2021 18:07:58\r\n"
     },
     "output_type": "unknown"
    },
    {
     "data": {
      "text/plain": "Name               : Support1\r\n"
     },
     "output_type": "unknown"
    },
    {
     "data": {
      "text/plain": "Login              : Support1\r\n"
     },
     "output_type": "unknown"
    },
    {
     "data": {
      "text/plain": "LoginType          : SqlLogin\r\n"
     },
     "output_type": "unknown"
    },
    {
     "data": {
      "text/plain": "AuthenticationType : Instance\r\n"
     },
     "output_type": "unknown"
    },
    {
     "data": {
      "text/plain": "State              : Existing\r\n"
     },
     "output_type": "unknown"
    },
    {
     "data": {
      "text/plain": "HasDbAccess        : True\r\n"
     },
     "output_type": "unknown"
    },
    {
     "data": {
      "text/plain": "DefaultSchema      : dbo\r\n"
     },
     "output_type": "unknown"
    },
    {
     "data": {
      "text/plain": "\r\n"
     },
     "output_type": "unknown"
    },
    {
     "data": {
      "text/plain": "ComputerName       : 192.168.2.63\r\n"
     },
     "output_type": "unknown"
    },
    {
     "data": {
      "text/plain": "InstanceName       : MSSQLSERVER\r\n"
     },
     "output_type": "unknown"
    },
    {
     "data": {
      "text/plain": "SqlInstance        : ben-starker-0\r\n"
     },
     "output_type": "unknown"
    },
    {
     "data": {
      "text/plain": "Database           : AdventureWorks2017\r\n"
     },
     "output_type": "unknown"
    },
    {
     "data": {
      "text/plain": "CreateDate         : 24/05/2021 18:07:58\r\n"
     },
     "output_type": "unknown"
    },
    {
     "data": {
      "text/plain": "DateLastModified   : 24/05/2021 18:07:58\r\n"
     },
     "output_type": "unknown"
    },
    {
     "data": {
      "text/plain": "Name               : Support2\r\n"
     },
     "output_type": "unknown"
    },
    {
     "data": {
      "text/plain": "Login              : Support2\r\n"
     },
     "output_type": "unknown"
    },
    {
     "data": {
      "text/plain": "LoginType          : SqlLogin\r\n"
     },
     "output_type": "unknown"
    },
    {
     "data": {
      "text/plain": "AuthenticationType : Instance\r\n"
     },
     "output_type": "unknown"
    },
    {
     "data": {
      "text/plain": "State              : Existing\r\n"
     },
     "output_type": "unknown"
    },
    {
     "data": {
      "text/plain": "HasDbAccess        : True\r\n"
     },
     "output_type": "unknown"
    },
    {
     "data": {
      "text/plain": "DefaultSchema      : dbo\r\n"
     },
     "output_type": "unknown"
    },
    {
     "data": {
      "text/plain": "\r\n"
     },
     "output_type": "unknown"
    },
    {
     "data": {
      "text/plain": "ComputerName       : 192.168.2.63\r\n"
     },
     "output_type": "unknown"
    },
    {
     "data": {
      "text/plain": "InstanceName       : MSSQLSERVER\r\n"
     },
     "output_type": "unknown"
    },
    {
     "data": {
      "text/plain": "SqlInstance        : ben-starker-0\r\n"
     },
     "output_type": "unknown"
    },
    {
     "data": {
      "text/plain": "Database           : AdventureWorks2017\r\n"
     },
     "output_type": "unknown"
    },
    {
     "data": {
      "text/plain": "CreateDate         : 24/05/2021 18:07:58\r\n"
     },
     "output_type": "unknown"
    },
    {
     "data": {
      "text/plain": "DateLastModified   : 24/05/2021 18:07:58\r\n"
     },
     "output_type": "unknown"
    },
    {
     "data": {
      "text/plain": "Name               : Support3\r\n"
     },
     "output_type": "unknown"
    },
    {
     "data": {
      "text/plain": "Login              : Support3\r\n"
     },
     "output_type": "unknown"
    },
    {
     "data": {
      "text/plain": "LoginType          : SqlLogin\r\n"
     },
     "output_type": "unknown"
    },
    {
     "data": {
      "text/plain": "AuthenticationType : Instance\r\n"
     },
     "output_type": "unknown"
    },
    {
     "data": {
      "text/plain": "State              : Existing\r\n"
     },
     "output_type": "unknown"
    },
    {
     "data": {
      "text/plain": "HasDbAccess        : True\r\n"
     },
     "output_type": "unknown"
    },
    {
     "data": {
      "text/plain": "DefaultSchema      : dbo\r\n"
     },
     "output_type": "unknown"
    },
    {
     "data": {
      "text/plain": "\r\n"
     },
     "output_type": "unknown"
    },
    {
     "data": {
      "text/plain": "ComputerName       : 192.168.2.63\r\n"
     },
     "output_type": "unknown"
    },
    {
     "data": {
      "text/plain": "InstanceName       : MSSQLSERVER\r\n"
     },
     "output_type": "unknown"
    },
    {
     "data": {
      "text/plain": "SqlInstance        : ben-starker-0\r\n"
     },
     "output_type": "unknown"
    },
    {
     "data": {
      "text/plain": "Database           : AdventureWorks2017\r\n"
     },
     "output_type": "unknown"
    },
    {
     "data": {
      "text/plain": "CreateDate         : 24/05/2021 18:07:58\r\n"
     },
     "output_type": "unknown"
    },
    {
     "data": {
      "text/plain": "DateLastModified   : 24/05/2021 18:07:58\r\n"
     },
     "output_type": "unknown"
    },
    {
     "data": {
      "text/plain": "Name               : Support4\r\n"
     },
     "output_type": "unknown"
    },
    {
     "data": {
      "text/plain": "Login              : Support4\r\n"
     },
     "output_type": "unknown"
    },
    {
     "data": {
      "text/plain": "LoginType          : SqlLogin\r\n"
     },
     "output_type": "unknown"
    },
    {
     "data": {
      "text/plain": "AuthenticationType : Instance\r\n"
     },
     "output_type": "unknown"
    },
    {
     "data": {
      "text/plain": "State              : Existing\r\n"
     },
     "output_type": "unknown"
    },
    {
     "data": {
      "text/plain": "HasDbAccess        : True\r\n"
     },
     "output_type": "unknown"
    },
    {
     "data": {
      "text/plain": "DefaultSchema      : dbo\r\n"
     },
     "output_type": "unknown"
    },
    {
     "data": {
      "text/plain": "\r\n"
     },
     "output_type": "unknown"
    },
    {
     "data": {
      "text/plain": "ComputerName       : 192.168.2.63\r\n"
     },
     "output_type": "unknown"
    },
    {
     "data": {
      "text/plain": "InstanceName       : MSSQLSERVER\r\n"
     },
     "output_type": "unknown"
    },
    {
     "data": {
      "text/plain": "SqlInstance        : ben-starker-0\r\n"
     },
     "output_type": "unknown"
    },
    {
     "data": {
      "text/plain": "Database           : AdventureWorks2017\r\n"
     },
     "output_type": "unknown"
    },
    {
     "data": {
      "text/plain": "CreateDate         : 24/05/2021 18:07:58\r\n"
     },
     "output_type": "unknown"
    },
    {
     "data": {
      "text/plain": "DateLastModified   : 24/05/2021 18:07:58\r\n"
     },
     "output_type": "unknown"
    },
    {
     "data": {
      "text/plain": "Name               : Support5\r\n"
     },
     "output_type": "unknown"
    },
    {
     "data": {
      "text/plain": "Login              : Support5\r\n"
     },
     "output_type": "unknown"
    },
    {
     "data": {
      "text/plain": "LoginType          : SqlLogin\r\n"
     },
     "output_type": "unknown"
    },
    {
     "data": {
      "text/plain": "AuthenticationType : Instance\r\n"
     },
     "output_type": "unknown"
    },
    {
     "data": {
      "text/plain": "State              : Existing\r\n"
     },
     "output_type": "unknown"
    },
    {
     "data": {
      "text/plain": "HasDbAccess        : True\r\n"
     },
     "output_type": "unknown"
    },
    {
     "data": {
      "text/plain": "DefaultSchema      : dbo\r\n"
     },
     "output_type": "unknown"
    },
    {
     "data": {
      "text/plain": "\r\n"
     },
     "output_type": "unknown"
    },
    {
     "data": {
      "text/plain": "ComputerName       : 192.168.2.63\r\n"
     },
     "output_type": "unknown"
    },
    {
     "data": {
      "text/plain": "InstanceName       : MSSQLSERVER\r\n"
     },
     "output_type": "unknown"
    },
    {
     "data": {
      "text/plain": "SqlInstance        : ben-starker-0\r\n"
     },
     "output_type": "unknown"
    },
    {
     "data": {
      "text/plain": "Database           : AdventureWorks2017\r\n"
     },
     "output_type": "unknown"
    },
    {
     "data": {
      "text/plain": "CreateDate         : 24/05/2021 18:07:58\r\n"
     },
     "output_type": "unknown"
    },
    {
     "data": {
      "text/plain": "DateLastModified   : 24/05/2021 18:07:58\r\n"
     },
     "output_type": "unknown"
    },
    {
     "data": {
      "text/plain": "Name               : Support6\r\n"
     },
     "output_type": "unknown"
    },
    {
     "data": {
      "text/plain": "Login              : Support6\r\n"
     },
     "output_type": "unknown"
    },
    {
     "data": {
      "text/plain": "LoginType          : SqlLogin\r\n"
     },
     "output_type": "unknown"
    },
    {
     "data": {
      "text/plain": "AuthenticationType : Instance\r\n"
     },
     "output_type": "unknown"
    },
    {
     "data": {
      "text/plain": "State              : Existing\r\n"
     },
     "output_type": "unknown"
    },
    {
     "data": {
      "text/plain": "HasDbAccess        : True\r\n"
     },
     "output_type": "unknown"
    },
    {
     "data": {
      "text/plain": "DefaultSchema      : dbo\r\n"
     },
     "output_type": "unknown"
    },
    {
     "data": {
      "text/plain": "\r\n"
     },
     "output_type": "unknown"
    },
    {
     "data": {
      "text/plain": "ComputerName       : 192.168.2.63\r\n"
     },
     "output_type": "unknown"
    },
    {
     "data": {
      "text/plain": "InstanceName       : MSSQLSERVER\r\n"
     },
     "output_type": "unknown"
    },
    {
     "data": {
      "text/plain": "SqlInstance        : ben-starker-0\r\n"
     },
     "output_type": "unknown"
    },
    {
     "data": {
      "text/plain": "Database           : AdventureWorks2017\r\n"
     },
     "output_type": "unknown"
    },
    {
     "data": {
      "text/plain": "CreateDate         : 24/05/2021 18:07:58\r\n"
     },
     "output_type": "unknown"
    },
    {
     "data": {
      "text/plain": "DateLastModified   : 24/05/2021 18:07:58\r\n"
     },
     "output_type": "unknown"
    },
    {
     "data": {
      "text/plain": "Name               : tboggiano\r\n"
     },
     "output_type": "unknown"
    },
    {
     "data": {
      "text/plain": "Login              : tboggiano\r\n"
     },
     "output_type": "unknown"
    },
    {
     "data": {
      "text/plain": "LoginType          : SqlLogin\r\n"
     },
     "output_type": "unknown"
    },
    {
     "data": {
      "text/plain": "AuthenticationType : Instance\r\n"
     },
     "output_type": "unknown"
    },
    {
     "data": {
      "text/plain": "State              : Existing\r\n"
     },
     "output_type": "unknown"
    },
    {
     "data": {
      "text/plain": "HasDbAccess        : True\r\n"
     },
     "output_type": "unknown"
    },
    {
     "data": {
      "text/plain": "DefaultSchema      : dbo\r\n"
     },
     "output_type": "unknown"
    },
    {
     "data": {
      "text/plain": "\r\n"
     },
     "output_type": "unknown"
    },
    {
     "data": {
      "text/plain": "ComputerName       : 192.168.2.63\r\n"
     },
     "output_type": "unknown"
    },
    {
     "data": {
      "text/plain": "InstanceName       : MSSQLSERVER\r\n"
     },
     "output_type": "unknown"
    },
    {
     "data": {
      "text/plain": "SqlInstance        : ben-starker-0\r\n"
     },
     "output_type": "unknown"
    },
    {
     "data": {
      "text/plain": "Database           : AdventureWorks2017\r\n"
     },
     "output_type": "unknown"
    },
    {
     "data": {
      "text/plain": "CreateDate         : 24/05/2021 18:07:58\r\n"
     },
     "output_type": "unknown"
    },
    {
     "data": {
      "text/plain": "DateLastModified   : 24/05/2021 18:07:58\r\n"
     },
     "output_type": "unknown"
    },
    {
     "data": {
      "text/plain": "Name               : thebeard\r\n"
     },
     "output_type": "unknown"
    },
    {
     "data": {
      "text/plain": "Login              : thebeard\r\n"
     },
     "output_type": "unknown"
    },
    {
     "data": {
      "text/plain": "LoginType          : SqlLogin\r\n"
     },
     "output_type": "unknown"
    },
    {
     "data": {
      "text/plain": "AuthenticationType : Instance\r\n"
     },
     "output_type": "unknown"
    },
    {
     "data": {
      "text/plain": "State              : Existing\r\n"
     },
     "output_type": "unknown"
    },
    {
     "data": {
      "text/plain": "HasDbAccess        : True\r\n"
     },
     "output_type": "unknown"
    },
    {
     "data": {
      "text/plain": "DefaultSchema      : dbo\r\n"
     },
     "output_type": "unknown"
    },
    {
     "data": {
      "text/plain": "\r\n"
     },
     "output_type": "unknown"
    },
    {
     "data": {
      "text/plain": "ComputerName       : 192.168.2.63\r\n"
     },
     "output_type": "unknown"
    },
    {
     "data": {
      "text/plain": "InstanceName       : MSSQLSERVER\r\n"
     },
     "output_type": "unknown"
    },
    {
     "data": {
      "text/plain": "SqlInstance        : ben-starker-0\r\n"
     },
     "output_type": "unknown"
    },
    {
     "data": {
      "text/plain": "Database           : AdventureWorks2017\r\n"
     },
     "output_type": "unknown"
    },
    {
     "data": {
      "text/plain": "CreateDate         : 24/05/2021 18:07:58\r\n"
     },
     "output_type": "unknown"
    },
    {
     "data": {
      "text/plain": "DateLastModified   : 24/05/2021 18:07:58\r\n"
     },
     "output_type": "unknown"
    },
    {
     "data": {
      "text/plain": "Name               : wdurkin\r\n"
     },
     "output_type": "unknown"
    },
    {
     "data": {
      "text/plain": "Login              : wdurkin\r\n"
     },
     "output_type": "unknown"
    },
    {
     "data": {
      "text/plain": "LoginType          : SqlLogin\r\n"
     },
     "output_type": "unknown"
    },
    {
     "data": {
      "text/plain": "AuthenticationType : Instance\r\n"
     },
     "output_type": "unknown"
    },
    {
     "data": {
      "text/plain": "State              : Existing\r\n"
     },
     "output_type": "unknown"
    },
    {
     "data": {
      "text/plain": "HasDbAccess        : True\r\n"
     },
     "output_type": "unknown"
    },
    {
     "data": {
      "text/plain": "DefaultSchema      : dbo\r\n"
     },
     "output_type": "unknown"
    },
    {
     "data": {
      "text/plain": "\r\n"
     },
     "output_type": "unknown"
    },
    {
     "data": {
      "text/plain": "ComputerName       : 192.168.2.63\r\n"
     },
     "output_type": "unknown"
    },
    {
     "data": {
      "text/plain": "InstanceName       : MSSQLSERVER\r\n"
     },
     "output_type": "unknown"
    },
    {
     "data": {
      "text/plain": "SqlInstance        : ben-starker-0\r\n"
     },
     "output_type": "unknown"
    },
    {
     "data": {
      "text/plain": "Database           : AdventureWorks2017\r\n"
     },
     "output_type": "unknown"
    },
    {
     "data": {
      "text/plain": "CreateDate         : 24/05/2021 18:07:59\r\n"
     },
     "output_type": "unknown"
    },
    {
     "data": {
      "text/plain": "DateLastModified   : 24/05/2021 18:07:59\r\n"
     },
     "output_type": "unknown"
    },
    {
     "data": {
      "text/plain": "Name               : Argenis_Fernandez\r\n"
     },
     "output_type": "unknown"
    },
    {
     "data": {
      "text/plain": "Login              : Argenis_Fernandez\r\n"
     },
     "output_type": "unknown"
    },
    {
     "data": {
      "text/plain": "LoginType          : SqlLogin\r\n"
     },
     "output_type": "unknown"
    },
    {
     "data": {
      "text/plain": "AuthenticationType : Instance\r\n"
     },
     "output_type": "unknown"
    },
    {
     "data": {
      "text/plain": "State              : Existing\r\n"
     },
     "output_type": "unknown"
    },
    {
     "data": {
      "text/plain": "HasDbAccess        : True\r\n"
     },
     "output_type": "unknown"
    },
    {
     "data": {
      "text/plain": "DefaultSchema      : dbo\r\n"
     },
     "output_type": "unknown"
    },
    {
     "data": {
      "text/plain": "\r\n"
     },
     "output_type": "unknown"
    },
    {
     "data": {
      "text/plain": "ComputerName       : 192.168.2.63\r\n"
     },
     "output_type": "unknown"
    },
    {
     "data": {
      "text/plain": "InstanceName       : MSSQLSERVER\r\n"
     },
     "output_type": "unknown"
    },
    {
     "data": {
      "text/plain": "SqlInstance        : ben-starker-0\r\n"
     },
     "output_type": "unknown"
    },
    {
     "data": {
      "text/plain": "Database           : AdventureWorks2017\r\n"
     },
     "output_type": "unknown"
    },
    {
     "data": {
      "text/plain": "CreateDate         : 24/05/2021 18:07:59\r\n"
     },
     "output_type": "unknown"
    },
    {
     "data": {
      "text/plain": "DateLastModified   : 24/05/2021 18:07:59\r\n"
     },
     "output_type": "unknown"
    },
    {
     "data": {
      "text/plain": "Name               : MrsFatherJack\r\n"
     },
     "output_type": "unknown"
    },
    {
     "data": {
      "text/plain": "Login              : MrsFatherJack\r\n"
     },
     "output_type": "unknown"
    },
    {
     "data": {
      "text/plain": "LoginType          : SqlLogin\r\n"
     },
     "output_type": "unknown"
    },
    {
     "data": {
      "text/plain": "AuthenticationType : Instance\r\n"
     },
     "output_type": "unknown"
    },
    {
     "data": {
      "text/plain": "State              : Existing\r\n"
     },
     "output_type": "unknown"
    },
    {
     "data": {
      "text/plain": "HasDbAccess        : True\r\n"
     },
     "output_type": "unknown"
    },
    {
     "data": {
      "text/plain": "DefaultSchema      : dbo\r\n"
     },
     "output_type": "unknown"
    },
    {
     "data": {
      "text/plain": "\r\n"
     },
     "output_type": "unknown"
    },
    {
     "data": {
      "text/plain": "ComputerName       : 192.168.2.63\r\n"
     },
     "output_type": "unknown"
    },
    {
     "data": {
      "text/plain": "InstanceName       : MSSQLSERVER\r\n"
     },
     "output_type": "unknown"
    },
    {
     "data": {
      "text/plain": "SqlInstance        : ben-starker-0\r\n"
     },
     "output_type": "unknown"
    },
    {
     "data": {
      "text/plain": "Database           : AdventureWorks2017\r\n"
     },
     "output_type": "unknown"
    },
    {
     "data": {
      "text/plain": "CreateDate         : 24/05/2021 18:07:59\r\n"
     },
     "output_type": "unknown"
    },
    {
     "data": {
      "text/plain": "DateLastModified   : 24/05/2021 18:07:59\r\n"
     },
     "output_type": "unknown"
    },
    {
     "data": {
      "text/plain": "Name               : Cathrine_Wilhelmsen\r\n"
     },
     "output_type": "unknown"
    },
    {
     "data": {
      "text/plain": "Login              : Cathrine_Wilhelmsen\r\n"
     },
     "output_type": "unknown"
    },
    {
     "data": {
      "text/plain": "LoginType          : SqlLogin\r\n"
     },
     "output_type": "unknown"
    },
    {
     "data": {
      "text/plain": "AuthenticationType : Instance\r\n"
     },
     "output_type": "unknown"
    },
    {
     "data": {
      "text/plain": "State              : Existing\r\n"
     },
     "output_type": "unknown"
    },
    {
     "data": {
      "text/plain": "HasDbAccess        : True\r\n"
     },
     "output_type": "unknown"
    },
    {
     "data": {
      "text/plain": "DefaultSchema      : dbo\r\n"
     },
     "output_type": "unknown"
    },
    {
     "data": {
      "text/plain": "\r\n"
     },
     "output_type": "unknown"
    },
    {
     "data": {
      "text/plain": "ComputerName       : 192.168.2.63\r\n"
     },
     "output_type": "unknown"
    },
    {
     "data": {
      "text/plain": "InstanceName       : MSSQLSERVER\r\n"
     },
     "output_type": "unknown"
    },
    {
     "data": {
      "text/plain": "SqlInstance        : ben-starker-0\r\n"
     },
     "output_type": "unknown"
    },
    {
     "data": {
      "text/plain": "Database           : AdventureWorks2017\r\n"
     },
     "output_type": "unknown"
    },
    {
     "data": {
      "text/plain": "CreateDate         : 24/05/2021 18:07:59\r\n"
     },
     "output_type": "unknown"
    },
    {
     "data": {
      "text/plain": "DateLastModified   : 24/05/2021 18:07:59\r\n"
     },
     "output_type": "unknown"
    },
    {
     "data": {
      "text/plain": "Name               : Rie_Irish\r\n"
     },
     "output_type": "unknown"
    },
    {
     "data": {
      "text/plain": "Login              : Rie_Irish\r\n"
     },
     "output_type": "unknown"
    },
    {
     "data": {
      "text/plain": "LoginType          : SqlLogin\r\n"
     },
     "output_type": "unknown"
    },
    {
     "data": {
      "text/plain": "AuthenticationType : Instance\r\n"
     },
     "output_type": "unknown"
    },
    {
     "data": {
      "text/plain": "State              : Existing\r\n"
     },
     "output_type": "unknown"
    },
    {
     "data": {
      "text/plain": "HasDbAccess        : True\r\n"
     },
     "output_type": "unknown"
    },
    {
     "data": {
      "text/plain": "DefaultSchema      : dbo\r\n"
     },
     "output_type": "unknown"
    },
    {
     "data": {
      "text/plain": "\r\n"
     },
     "output_type": "unknown"
    },
    {
     "data": {
      "text/plain": "ComputerName       : 192.168.2.63\r\n"
     },
     "output_type": "unknown"
    },
    {
     "data": {
      "text/plain": "InstanceName       : MSSQLSERVER\r\n"
     },
     "output_type": "unknown"
    },
    {
     "data": {
      "text/plain": "SqlInstance        : ben-starker-0\r\n"
     },
     "output_type": "unknown"
    },
    {
     "data": {
      "text/plain": "Database           : AdventureWorks2017\r\n"
     },
     "output_type": "unknown"
    },
    {
     "data": {
      "text/plain": "CreateDate         : 24/05/2021 18:07:59\r\n"
     },
     "output_type": "unknown"
    },
    {
     "data": {
      "text/plain": "DateLastModified   : 24/05/2021 18:07:59\r\n"
     },
     "output_type": "unknown"
    },
    {
     "data": {
      "text/plain": "Name               : Monica_Rathbun\r\n"
     },
     "output_type": "unknown"
    },
    {
     "data": {
      "text/plain": "Login              : Monica_Rathbun\r\n"
     },
     "output_type": "unknown"
    },
    {
     "data": {
      "text/plain": "LoginType          : SqlLogin\r\n"
     },
     "output_type": "unknown"
    },
    {
     "data": {
      "text/plain": "AuthenticationType : Instance\r\n"
     },
     "output_type": "unknown"
    },
    {
     "data": {
      "text/plain": "State              : Existing\r\n"
     },
     "output_type": "unknown"
    },
    {
     "data": {
      "text/plain": "HasDbAccess        : True\r\n"
     },
     "output_type": "unknown"
    },
    {
     "data": {
      "text/plain": "DefaultSchema      : dbo\r\n"
     },
     "output_type": "unknown"
    },
    {
     "data": {
      "text/plain": "\r\n"
     },
     "output_type": "unknown"
    },
    {
     "data": {
      "text/plain": "ComputerName       : 192.168.2.63\r\n"
     },
     "output_type": "unknown"
    },
    {
     "data": {
      "text/plain": "InstanceName       : MSSQLSERVER\r\n"
     },
     "output_type": "unknown"
    },
    {
     "data": {
      "text/plain": "SqlInstance        : ben-starker-0\r\n"
     },
     "output_type": "unknown"
    },
    {
     "data": {
      "text/plain": "Database           : AdventureWorks2017\r\n"
     },
     "output_type": "unknown"
    },
    {
     "data": {
      "text/plain": "CreateDate         : 24/05/2021 18:07:59\r\n"
     },
     "output_type": "unknown"
    },
    {
     "data": {
      "text/plain": "DateLastModified   : 24/05/2021 18:07:59\r\n"
     },
     "output_type": "unknown"
    },
    {
     "data": {
      "text/plain": "Name               : Benji_BenWeissman\r\n"
     },
     "output_type": "unknown"
    },
    {
     "data": {
      "text/plain": "Login              : Benji_BenWeissman\r\n"
     },
     "output_type": "unknown"
    },
    {
     "data": {
      "text/plain": "LoginType          : SqlLogin\r\n"
     },
     "output_type": "unknown"
    },
    {
     "data": {
      "text/plain": "AuthenticationType : Instance\r\n"
     },
     "output_type": "unknown"
    },
    {
     "data": {
      "text/plain": "State              : Existing\r\n"
     },
     "output_type": "unknown"
    },
    {
     "data": {
      "text/plain": "HasDbAccess        : True\r\n"
     },
     "output_type": "unknown"
    },
    {
     "data": {
      "text/plain": "DefaultSchema      : dbo\r\n"
     },
     "output_type": "unknown"
    },
    {
     "data": {
      "text/plain": "\r\n"
     },
     "output_type": "unknown"
    },
    {
     "data": {
      "text/plain": "ComputerName       : 192.168.2.63\r\n"
     },
     "output_type": "unknown"
    },
    {
     "data": {
      "text/plain": "InstanceName       : MSSQLSERVER\r\n"
     },
     "output_type": "unknown"
    },
    {
     "data": {
      "text/plain": "SqlInstance        : ben-starker-0\r\n"
     },
     "output_type": "unknown"
    },
    {
     "data": {
      "text/plain": "Database           : AdventureWorks2017\r\n"
     },
     "output_type": "unknown"
    },
    {
     "data": {
      "text/plain": "CreateDate         : 24/05/2021 18:08:00\r\n"
     },
     "output_type": "unknown"
    },
    {
     "data": {
      "text/plain": "DateLastModified   : 24/05/2021 18:08:00\r\n"
     },
     "output_type": "unknown"
    },
    {
     "data": {
      "text/plain": "Name               : Joey_Dantoni\r\n"
     },
     "output_type": "unknown"
    },
    {
     "data": {
      "text/plain": "Login              : Joey_Dantoni\r\n"
     },
     "output_type": "unknown"
    },
    {
     "data": {
      "text/plain": "LoginType          : SqlLogin\r\n"
     },
     "output_type": "unknown"
    },
    {
     "data": {
      "text/plain": "AuthenticationType : Instance\r\n"
     },
     "output_type": "unknown"
    },
    {
     "data": {
      "text/plain": "State              : Existing\r\n"
     },
     "output_type": "unknown"
    },
    {
     "data": {
      "text/plain": "HasDbAccess        : True\r\n"
     },
     "output_type": "unknown"
    },
    {
     "data": {
      "text/plain": "DefaultSchema      : dbo\r\n"
     },
     "output_type": "unknown"
    },
    {
     "data": {
      "text/plain": "\r\n"
     },
     "output_type": "unknown"
    },
    {
     "data": {
      "text/plain": "ComputerName       : 192.168.2.63\r\n"
     },
     "output_type": "unknown"
    },
    {
     "data": {
      "text/plain": "InstanceName       : MSSQLSERVER\r\n"
     },
     "output_type": "unknown"
    },
    {
     "data": {
      "text/plain": "SqlInstance        : ben-starker-0\r\n"
     },
     "output_type": "unknown"
    },
    {
     "data": {
      "text/plain": "Database           : AdventureWorks2017\r\n"
     },
     "output_type": "unknown"
    },
    {
     "data": {
      "text/plain": "CreateDate         : 24/05/2021 18:08:00\r\n"
     },
     "output_type": "unknown"
    },
    {
     "data": {
      "text/plain": "DateLastModified   : 24/05/2021 18:08:00\r\n"
     },
     "output_type": "unknown"
    },
    {
     "data": {
      "text/plain": "Name               : John_Morehouse\r\n"
     },
     "output_type": "unknown"
    },
    {
     "data": {
      "text/plain": "Login              : John_Morehouse\r\n"
     },
     "output_type": "unknown"
    },
    {
     "data": {
      "text/plain": "LoginType          : SqlLogin\r\n"
     },
     "output_type": "unknown"
    },
    {
     "data": {
      "text/plain": "AuthenticationType : Instance\r\n"
     },
     "output_type": "unknown"
    },
    {
     "data": {
      "text/plain": "State              : Existing\r\n"
     },
     "output_type": "unknown"
    },
    {
     "data": {
      "text/plain": "HasDbAccess        : True\r\n"
     },
     "output_type": "unknown"
    },
    {
     "data": {
      "text/plain": "DefaultSchema      : dbo\r\n"
     },
     "output_type": "unknown"
    },
    {
     "data": {
      "text/plain": "\r\n"
     },
     "output_type": "unknown"
    },
    {
     "data": {
      "text/plain": "ComputerName       : 192.168.2.63\r\n"
     },
     "output_type": "unknown"
    },
    {
     "data": {
      "text/plain": "InstanceName       : MSSQLSERVER\r\n"
     },
     "output_type": "unknown"
    },
    {
     "data": {
      "text/plain": "SqlInstance        : ben-starker-0\r\n"
     },
     "output_type": "unknown"
    },
    {
     "data": {
      "text/plain": "Database           : AdventureWorks2017\r\n"
     },
     "output_type": "unknown"
    },
    {
     "data": {
      "text/plain": "CreateDate         : 24/05/2021 18:08:00\r\n"
     },
     "output_type": "unknown"
    },
    {
     "data": {
      "text/plain": "DateLastModified   : 24/05/2021 18:08:00\r\n"
     },
     "output_type": "unknown"
    },
    {
     "data": {
      "text/plain": "Name               : Bob_Facts_Pusatari\r\n"
     },
     "output_type": "unknown"
    },
    {
     "data": {
      "text/plain": "Login              : Bob_Facts_Pusatari\r\n"
     },
     "output_type": "unknown"
    },
    {
     "data": {
      "text/plain": "LoginType          : SqlLogin\r\n"
     },
     "output_type": "unknown"
    },
    {
     "data": {
      "text/plain": "AuthenticationType : Instance\r\n"
     },
     "output_type": "unknown"
    },
    {
     "data": {
      "text/plain": "State              : Existing\r\n"
     },
     "output_type": "unknown"
    },
    {
     "data": {
      "text/plain": "HasDbAccess        : True\r\n"
     },
     "output_type": "unknown"
    },
    {
     "data": {
      "text/plain": "DefaultSchema      : dbo\r\n"
     },
     "output_type": "unknown"
    },
    {
     "data": {
      "text/plain": "\r\n"
     },
     "output_type": "unknown"
    },
    {
     "data": {
      "text/plain": "ComputerName       : 192.168.2.63\r\n"
     },
     "output_type": "unknown"
    },
    {
     "data": {
      "text/plain": "InstanceName       : MSSQLSERVER\r\n"
     },
     "output_type": "unknown"
    },
    {
     "data": {
      "text/plain": "SqlInstance        : ben-starker-0\r\n"
     },
     "output_type": "unknown"
    },
    {
     "data": {
      "text/plain": "Database           : AdventureWorks2017\r\n"
     },
     "output_type": "unknown"
    },
    {
     "data": {
      "text/plain": "CreateDate         : 24/05/2021 18:08:00\r\n"
     },
     "output_type": "unknown"
    },
    {
     "data": {
      "text/plain": "DateLastModified   : 24/05/2021 18:08:00\r\n"
     },
     "output_type": "unknown"
    },
    {
     "data": {
      "text/plain": "Name               : Containers_Nocentino\r\n"
     },
     "output_type": "unknown"
    },
    {
     "data": {
      "text/plain": "Login              : Containers_Nocentino\r\n"
     },
     "output_type": "unknown"
    },
    {
     "data": {
      "text/plain": "LoginType          : SqlLogin\r\n"
     },
     "output_type": "unknown"
    },
    {
     "data": {
      "text/plain": "AuthenticationType : Instance\r\n"
     },
     "output_type": "unknown"
    },
    {
     "data": {
      "text/plain": "State              : Existing\r\n"
     },
     "output_type": "unknown"
    },
    {
     "data": {
      "text/plain": "HasDbAccess        : True\r\n"
     },
     "output_type": "unknown"
    },
    {
     "data": {
      "text/plain": "DefaultSchema      : dbo\r\n"
     },
     "output_type": "unknown"
    },
    {
     "data": {
      "text/plain": "\r\n"
     },
     "output_type": "unknown"
    },
    {
     "data": {
      "text/plain": "ComputerName       : 192.168.2.63\r\n"
     },
     "output_type": "unknown"
    },
    {
     "data": {
      "text/plain": "InstanceName       : MSSQLSERVER\r\n"
     },
     "output_type": "unknown"
    },
    {
     "data": {
      "text/plain": "SqlInstance        : ben-starker-0\r\n"
     },
     "output_type": "unknown"
    },
    {
     "data": {
      "text/plain": "Database           : AdventureWorks2017\r\n"
     },
     "output_type": "unknown"
    },
    {
     "data": {
      "text/plain": "CreateDate         : 24/05/2021 18:08:00\r\n"
     },
     "output_type": "unknown"
    },
    {
     "data": {
      "text/plain": "DateLastModified   : 24/05/2021 18:08:00\r\n"
     },
     "output_type": "unknown"
    },
    {
     "data": {
      "text/plain": "Name               : Andrew_Pruski\r\n"
     },
     "output_type": "unknown"
    },
    {
     "data": {
      "text/plain": "Login              : Andrew_Pruski\r\n"
     },
     "output_type": "unknown"
    },
    {
     "data": {
      "text/plain": "LoginType          : SqlLogin\r\n"
     },
     "output_type": "unknown"
    },
    {
     "data": {
      "text/plain": "AuthenticationType : Instance\r\n"
     },
     "output_type": "unknown"
    },
    {
     "data": {
      "text/plain": "State              : Existing\r\n"
     },
     "output_type": "unknown"
    },
    {
     "data": {
      "text/plain": "HasDbAccess        : True\r\n"
     },
     "output_type": "unknown"
    },
    {
     "data": {
      "text/plain": "DefaultSchema      : dbo\r\n"
     },
     "output_type": "unknown"
    },
    {
     "data": {
      "text/plain": "\r\n"
     },
     "output_type": "unknown"
    },
    {
     "data": {
      "text/plain": "ComputerName       : 192.168.2.63\r\n"
     },
     "output_type": "unknown"
    },
    {
     "data": {
      "text/plain": "InstanceName       : MSSQLSERVER\r\n"
     },
     "output_type": "unknown"
    },
    {
     "data": {
      "text/plain": "SqlInstance        : ben-starker-0\r\n"
     },
     "output_type": "unknown"
    },
    {
     "data": {
      "text/plain": "Database           : AdventureWorks2017\r\n"
     },
     "output_type": "unknown"
    },
    {
     "data": {
      "text/plain": "CreateDate         : 24/05/2021 18:08:00\r\n"
     },
     "output_type": "unknown"
    },
    {
     "data": {
      "text/plain": "DateLastModified   : 24/05/2021 18:08:00\r\n"
     },
     "output_type": "unknown"
    },
    {
     "data": {
      "text/plain": "Name               : Matt_Gordon\r\n"
     },
     "output_type": "unknown"
    },
    {
     "data": {
      "text/plain": "Login              : Matt_Gordon\r\n"
     },
     "output_type": "unknown"
    },
    {
     "data": {
      "text/plain": "LoginType          : SqlLogin\r\n"
     },
     "output_type": "unknown"
    },
    {
     "data": {
      "text/plain": "AuthenticationType : Instance\r\n"
     },
     "output_type": "unknown"
    },
    {
     "data": {
      "text/plain": "State              : Existing\r\n"
     },
     "output_type": "unknown"
    },
    {
     "data": {
      "text/plain": "HasDbAccess        : True\r\n"
     },
     "output_type": "unknown"
    },
    {
     "data": {
      "text/plain": "DefaultSchema      : dbo\r\n"
     },
     "output_type": "unknown"
    },
    {
     "data": {
      "text/plain": "\r\n"
     },
     "output_type": "unknown"
    },
    {
     "data": {
      "text/plain": "ComputerName       : 192.168.2.63\r\n"
     },
     "output_type": "unknown"
    },
    {
     "data": {
      "text/plain": "InstanceName       : MSSQLSERVER\r\n"
     },
     "output_type": "unknown"
    },
    {
     "data": {
      "text/plain": "SqlInstance        : ben-starker-0\r\n"
     },
     "output_type": "unknown"
    },
    {
     "data": {
      "text/plain": "Database           : AdventureWorks2017\r\n"
     },
     "output_type": "unknown"
    },
    {
     "data": {
      "text/plain": "CreateDate         : 24/05/2021 18:08:00\r\n"
     },
     "output_type": "unknown"
    },
    {
     "data": {
      "text/plain": "DateLastModified   : 24/05/2021 18:08:00\r\n"
     },
     "output_type": "unknown"
    },
    {
     "data": {
      "text/plain": "Name               : Thomas_Grohser\r\n"
     },
     "output_type": "unknown"
    },
    {
     "data": {
      "text/plain": "Login              : Thomas_Grohser\r\n"
     },
     "output_type": "unknown"
    },
    {
     "data": {
      "text/plain": "LoginType          : SqlLogin\r\n"
     },
     "output_type": "unknown"
    },
    {
     "data": {
      "text/plain": "AuthenticationType : Instance\r\n"
     },
     "output_type": "unknown"
    },
    {
     "data": {
      "text/plain": "State              : Existing\r\n"
     },
     "output_type": "unknown"
    },
    {
     "data": {
      "text/plain": "HasDbAccess        : True\r\n"
     },
     "output_type": "unknown"
    },
    {
     "data": {
      "text/plain": "DefaultSchema      : dbo\r\n"
     },
     "output_type": "unknown"
    },
    {
     "data": {
      "text/plain": "\r\n"
     },
     "output_type": "unknown"
    },
    {
     "data": {
      "text/plain": "ComputerName       : 192.168.2.63\r\n"
     },
     "output_type": "unknown"
    },
    {
     "data": {
      "text/plain": "InstanceName       : MSSQLSERVER\r\n"
     },
     "output_type": "unknown"
    },
    {
     "data": {
      "text/plain": "SqlInstance        : ben-starker-0\r\n"
     },
     "output_type": "unknown"
    },
    {
     "data": {
      "text/plain": "Database           : AdventureWorks2017\r\n"
     },
     "output_type": "unknown"
    },
    {
     "data": {
      "text/plain": "CreateDate         : 24/05/2021 18:08:00\r\n"
     },
     "output_type": "unknown"
    },
    {
     "data": {
      "text/plain": "DateLastModified   : 24/05/2021 18:08:00\r\n"
     },
     "output_type": "unknown"
    },
    {
     "data": {
      "text/plain": "Name               : Dirk_Hondong\r\n"
     },
     "output_type": "unknown"
    },
    {
     "data": {
      "text/plain": "Login              : Dirk_Hondong\r\n"
     },
     "output_type": "unknown"
    },
    {
     "data": {
      "text/plain": "LoginType          : SqlLogin\r\n"
     },
     "output_type": "unknown"
    },
    {
     "data": {
      "text/plain": "AuthenticationType : Instance\r\n"
     },
     "output_type": "unknown"
    },
    {
     "data": {
      "text/plain": "State              : Existing\r\n"
     },
     "output_type": "unknown"
    },
    {
     "data": {
      "text/plain": "HasDbAccess        : True\r\n"
     },
     "output_type": "unknown"
    },
    {
     "data": {
      "text/plain": "DefaultSchema      : dbo\r\n"
     },
     "output_type": "unknown"
    },
    {
     "data": {
      "text/plain": "\r\n"
     },
     "output_type": "unknown"
    },
    {
     "data": {
      "text/plain": "ComputerName       : 192.168.2.63\r\n"
     },
     "output_type": "unknown"
    },
    {
     "data": {
      "text/plain": "InstanceName       : MSSQLSERVER\r\n"
     },
     "output_type": "unknown"
    },
    {
     "data": {
      "text/plain": "SqlInstance        : ben-starker-0\r\n"
     },
     "output_type": "unknown"
    },
    {
     "data": {
      "text/plain": "Database           : AdventureWorks2017\r\n"
     },
     "output_type": "unknown"
    },
    {
     "data": {
      "text/plain": "CreateDate         : 24/05/2021 18:08:00\r\n"
     },
     "output_type": "unknown"
    },
    {
     "data": {
      "text/plain": "DateLastModified   : 24/05/2021 18:08:00\r\n"
     },
     "output_type": "unknown"
    },
    {
     "data": {
      "text/plain": "Name               : Father_Johan_Brattas\r\n"
     },
     "output_type": "unknown"
    },
    {
     "data": {
      "text/plain": "Login              : Father_Johan_Brattas\r\n"
     },
     "output_type": "unknown"
    },
    {
     "data": {
      "text/plain": "LoginType          : SqlLogin\r\n"
     },
     "output_type": "unknown"
    },
    {
     "data": {
      "text/plain": "AuthenticationType : Instance\r\n"
     },
     "output_type": "unknown"
    },
    {
     "data": {
      "text/plain": "State              : Existing\r\n"
     },
     "output_type": "unknown"
    },
    {
     "data": {
      "text/plain": "HasDbAccess        : True\r\n"
     },
     "output_type": "unknown"
    },
    {
     "data": {
      "text/plain": "DefaultSchema      : dbo\r\n"
     },
     "output_type": "unknown"
    },
    {
     "data": {
      "text/plain": "\r\n"
     },
     "output_type": "unknown"
    },
    {
     "data": {
      "text/plain": "ComputerName       : 192.168.2.63\r\n"
     },
     "output_type": "unknown"
    },
    {
     "data": {
      "text/plain": "InstanceName       : MSSQLSERVER\r\n"
     },
     "output_type": "unknown"
    },
    {
     "data": {
      "text/plain": "SqlInstance        : ben-starker-0\r\n"
     },
     "output_type": "unknown"
    },
    {
     "data": {
      "text/plain": "Database           : AdventureWorks2017\r\n"
     },
     "output_type": "unknown"
    },
    {
     "data": {
      "text/plain": "CreateDate         : 24/05/2021 18:08:00\r\n"
     },
     "output_type": "unknown"
    },
    {
     "data": {
      "text/plain": "DateLastModified   : 24/05/2021 18:08:00\r\n"
     },
     "output_type": "unknown"
    },
    {
     "data": {
      "text/plain": "Name               : Drew_FurggerwellyIgiveuptryingtospellit\r\n"
     },
     "output_type": "unknown"
    },
    {
     "data": {
      "text/plain": "Login              : Drew_FurggerwellyIgiveuptryingtospellit\r\n"
     },
     "output_type": "unknown"
    },
    {
     "data": {
      "text/plain": "LoginType          : SqlLogin\r\n"
     },
     "output_type": "unknown"
    },
    {
     "data": {
      "text/plain": "AuthenticationType : Instance\r\n"
     },
     "output_type": "unknown"
    },
    {
     "data": {
      "text/plain": "State              : Existing\r\n"
     },
     "output_type": "unknown"
    },
    {
     "data": {
      "text/plain": "HasDbAccess        : True\r\n"
     },
     "output_type": "unknown"
    },
    {
     "data": {
      "text/plain": "DefaultSchema      : dbo\r\n"
     },
     "output_type": "unknown"
    },
    {
     "data": {
      "text/plain": "\r\n"
     },
     "output_type": "unknown"
    },
    {
     "data": {
      "text/plain": "\r\n"
     },
     "output_type": "unknown"
    }
   ],
   "source": [
    "$logins =  'benji', 'bweissman','akamman', 'alevy', 'beardapp1', 'beardapp2', 'beardapp3', 'beardapp4', 'beardapp5', 'beardapp6', 'beardapp7', 'beardapp8', 'clemaire', 'csilva', 'fatherjack', 'gsartori', 'jamrtin', 'Reporting1', 'Reporting2', 'Reporting3', 'Reporting4', 'smelton', 'SockFactoryApp_User', 'soneill', 'sqladmin', 'Support1', 'Support2', 'Support3', 'Support4', 'Support5', 'Support6', 'tboggiano', 'thebeard', 'wdurkin','Argenis_Fernandez','MrsFatherJack','Cathrine_Wilhelmsen','Rie_Irish','Monica_Rathbun','Benji_BenWeissman','Joey_Dantoni', 'John_Morehouse', 'Bob_Facts_Pusatari','Containers_Nocentino','Andrew_Pruski','Matt_Gordon','Thomas_Grohser','Dirk_Hondong','Father_Johan_Brattas','Drew_FurggerwellyIgiveuptryingtospellit'\r\n",
    "\r\n",
    "$secpwd = (Get-Secret -Name beardmi-demo-users-pwd)\r\n",
    "foreach ($login in $logins) {\r\n",
    "    New-DbaLogin -Login $login -SecurePassword $secpwd -Force\r\n",
    "}\r\n",
    "\r\n",
    "foreach ($login in $logins) {\r\n",
    "        New-DbaDbUser   -Database AdventureWorks2017 -Login $login \r\n",
    "        Add-DbaDbRoleMember   -Database AdventureWorks2017 -Role db_owner -User $login -Confirm:$false\r\n",
    "    \r\n",
    "}\r\n",
    "\r\n",
    "Repair-DbaDbOrphanUser  -Database AdventureWorks2017"
   ]
  },
  {
   "cell_type": "code",
   "execution_count": null,
   "metadata": {
    "dotnet_interactive": {
     "language": "pwsh"
    }
   },
   "outputs": [],
   "source": [
    "New-DbaDatabase -Name KittenFactory\r\n",
    "New-DbaDatabase -Name SockFactory\r\n",
    "New-DbaDatabase -Name CarFactory\r\n",
    "New-DbaDatabase -Name FlowerFactory\r\n",
    "New-DbaDatabase -Name GadgetFactory\r\n",
    "New-DbaDatabase -Name BikeFactory\r\n",
    "New-DbaDatabase -Name BookFactory\r\n",
    "New-DbaDatabase -Name FactoryDW\r\n",
    "New-DbaDatabase -Name FactoryAdmin\r\n",
    "New-DbaDatabase -Name FactoryDWAdmin\r\n",
    "$databases = (Get-DbaDatabase  -ExcludeSystem).Name\r\n",
    "\r\n",
    "\r\n",
    "$roles = 'db_accessadmin', 'db_backupoperator', 'db_datareader', 'db_datawriter', 'db_ddladmin', 'db_denydatareader', 'db_denydatawriter', 'db_owner', 'db_securityadmin'\r\n",
    "\r\n",
    "foreach ($login in $logins) {\r\n",
    "    $DbNumber = Get-Random -Minimum 2 -Maximum $Databases.Count\r\n",
    "    $Dbs = Get-Random $databases -Count $DbNumber\r\n",
    "    foreach ($db in $dbs) {\r\n",
    "        $rolenumber = Get-Random -Minimum 1 -Maximum $roles.Count\r\n",
    "        $rolestoadd = Get-Random $roles -Count $rolenumber\r\n",
    "        New-DbaDbUser  -Database $db -Login $login \r\n",
    "        Add-DbaDbRoleMember  -Database $db -Role $rolestoadd -User $login -Confirm:$false\r\n",
    "    }\r\n",
    "}"
   ]
  }
 ],
 "metadata": {
  "language_info": {},
  "orig_nbformat": 3
 },
 "nbformat": 4,
 "nbformat_minor": 2
}