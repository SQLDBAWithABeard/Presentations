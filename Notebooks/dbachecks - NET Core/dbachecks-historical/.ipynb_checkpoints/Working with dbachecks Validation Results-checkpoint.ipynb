{
    "metadata": {
        "kernelspec": {
            "name": "SQL",
            "display_name": "SQL",
            "language": "sql"
        },
        "language_info": {
            "name": "sql",
            "version": ""
        }
    },
    "nbformat_minor": 2,
    "nbformat": 4,
    "cells": [
        {
            "cell_type": "markdown",
            "source": "# Working with dbachecks Historical Results\r\n\r\nThis guide will assist you to get used to the database schema where dbachecks historical reports are stored if you have followed the blog post [dbachecks – Save the results to a database for historical reporting](https://sqldbawithabeard.com/2018/05/23/dbachecks-save-the-results-to-a-database-for-historical-reporting/)\r\n\r\n* Click the **Not Trusted** button above to trust the notebook and enable command links.\r\n\r\nThe first thing that is required is to update the data in the database so that it reflects the current date as if dbachecks had been run today\r\n",
            "metadata": {}
        },
        {
            "cell_type": "markdown",
            "source": "## Demo Database and container\r\n\r\nI have provided you with a demo backup which you can find in my [GitHub Presentations Repository](https://github.com/SQLDBAWithABeard/Presentations/tree/master/Notebooks/dbachecks-historical).\r\n\r\nDownload the backup file and the docker-compose.yml and save it in a folder, I am going to assume that you are using `C:\\dbachecks` for the rest of this notebook.\r\n\r\n I am also going to assume that you have Docker For Windows on your laptop (This will work in Docker running on other OS's but you will have to alter the paths accordingly). You will also find a docker-compose file in the [Repository](https://github.com/SQLDBAWithABeard/Presentations/blob/master/Notebooks/dbachecks-historical/docker-compose.yml) which you can use to spin up a SQL container and restore the backup. (Yes, I know I could have created a container with the database already embedded but this gives you more things to learn about!)\r\n\r\nThe docker-compose file looks like this\r\n````\r\nversion: '3.7'\r\n\r\nservices:\r\n    HistoricalReporting:\r\n        image: mcr.microsoft.com/mssql/server:2019-CTP2.4-ubuntu\r\n        ports:  \r\n          - \"15594:1433\"\r\n        environment:\r\n          SA_PASSWORD: \"Password0!\"\r\n          ACCEPT_EULA: \"Y\"\r\n        volumes: \r\n          - C:\\dbachecks:/var/opt/mssql/backups\r\n````\r\nIt will create \r\n\r\n- a single service (a container (See the [Docker Documentation for a full definition of a service](https://docs.docker.com/get-started/part3/))) called `HistoricalReporting`\r\n- assign port 1433 on the container to port 15594 on the host\r\n- add the environmental variables for the SA Password and the acceptance of the EULA\r\n- map the directory c:\\dbachecks on the host (your laptop) to the directory /var/opt/mssql/backups in the container\r\n\r\nIt will create the container using the Community Technical Preview 2.4 image of SQL Server 2019 running on Ubuntu from the Microsoft Container Registry for SQL Server.\r\n\r\nYou can, and should, understand how to change those values in the docker-compose file for different values so that you can spin up a container with a different image (maybe a later or earlier versions of SQL Server) or store your files in a different directory to `C:\\dbachecks` or becuase you are allergic to `Password0!`\r\n\r\nOnce your docker-compose.yml file is ready open PowerShell (Windows or Core both will work) and type\r\n\r\nSet-Location c:\\dbachecks\r\ndocker-compose up -d\r\n\r\n````\r\nSet-Location c:\\dbachecks\r\ndocker-compose up -d\r\n````\r\n\r\n<a href=\"command:workbench.action.terminal.focus\">Or In Azure Data Studio you can click this link to open a new terminal'</a>\r\n\r\nand then \r\n\r\n<a href=\"command:workbench.action.terminal.sendSequence?%7B%22text%22%3A%22Set-Location C:%5C%5Cdbachecks \\u000D   %22%7D\">Run Set-Location by clicking this link</a> \r\n\r\n<a href=\"command:workbench.action.terminal.sendSequence?%7B%22text%22%3A%22docker-compose up -d \\u000D %22%7D\">Run the docker-compose up -d by clicking this link</a>\r\n\r\nYou should see  \r\n  \r\n![docker compose up](https://github.com/SQLDBAWithABeard/Presentations/blob/a5651cfee447c9bbef1c9d4465b0b05ace420186/Notebooks/dbachecks-historical/images/docker-compose-up.jpg?raw=true)\r\n\r\n\r\n",
            "metadata": {}
        },
        {
            "cell_type": "markdown",
            "source": "## Test that we have a running container\r\n\r\nLets check that you have got a running container that we can use\r\n\r\nYou will need to have dbatools installed - If you haven't Run\r\n\r\n````\r\nInstall-Module dbatools\r\n````\r\n<a href=\"command:workbench.action.terminal.focus\">Open a new terminal if needed</a>\r\n\r\nand then \r\n\r\n<a href=\"command:workbench.action.terminal.sendSequence?%7B%22text%22%3A%22 %24cred%20%3D%20Get-Credential -Message%20%27Enter%20SA%20password %20for%20container%27%20sa%20 \\u000D if%28%28Test-DbaConnection%20-SqlInstance%20%27localhost%2C15594%27 -SqlCredential%20%24cred%29.ConnectSuccess%29%7B cls ; Write-Output %27The%20Beard%20is%20Happy! - %20you%20may%20continue%27%7D else%7B%24err%20%3D%20%24error%5B0%5D.Exception.GetBaseException%28%29%20%3B%20Write-Warning%20%27The%20Beard%20is%20sad%2C%20we%20have%20an%20error%20-%20%24err%27%7D \\u000D %22%7D\">Run the Test-DbaConnection code</a> \r\n\r\nIn the credential prompt enter Password0! (or a different password if you have altered the docker-compose file)\r\n",
            "metadata": {}
        },
        {
            "cell_type": "markdown",
            "source": "## Restore the database from the backup\r\n\r\n<a href=\"command:workbench.action.terminal.focus\">Click this link to open a new terminal if needed</a>\r\n\r\nand then \r\n\r\n<a href=\"command:workbench.action.terminal.sendSequence?%7B%22text%22%3A%22 %24cred%20%3D%20Get-Credential -Message%20%27Enter%20SA%20password %20for%20container%27%20sa \\u000D Restore-DbaDatabase -SqlInstance %27localhost%2C15594%27 -SqlCredential %24cred -Path %2Fvar%2Fopt%2Fmssql%2Fbackups%2FValidationResults-201942-13-13-57.bak -WithReplace \\u000D %22%7D\">Run the Restore-DBaDatabase code</a> \r\n\r\nIn the credential prompt enter Password0! (or a different password if you have altered the docker-compose file)",
            "metadata": {}
        },
        {
            "cell_type": "code",
            "source": "/*Resets the date for the demo*/\r\nUSE [ValidationResults]\r\nGO\r\n\r\nUPDATE [dbachecks].[Prod_dbachecks_summary]\r\n   SET [TestDate] = GETDATE()\r\n WHERE SummaryID = 7\r\nGO\r\n\r\nUPDATE [dbachecks].[Prod_dbachecks_summary]\r\n   SET [TestDate] = DATEADD(day,-1,GetDAte())\r\n WHERE SummaryID = 6\r\nGO\r\n\r\nUPDATE [dbachecks].[Prod_dbachecks_summary]\r\n   SET [TestDate] = DATEADD(day,-2,GetDAte())\r\n WHERE SummaryID = 5\r\n GO\r\n \r\nUPDATE [dbachecks].[Prod_dbachecks_summary]\r\n   SET [TestDate] = DATEADD(day,-3,GetDAte())\r\n WHERE SummaryID = 4\r\n GO\r\n \r\nUPDATE [dbachecks].[Prod_dbachecks_summary]\r\n   SET [TestDate] = DATEADD(day,-4,GetDAte())\r\n WHERE SummaryID = 3\r\n GO\r\n\r\n \r\nUPDATE [dbachecks].[Prod_dbachecks_summary]\r\n   SET [TestDate] = DATEADD(day,-5,GetDAte())\r\n WHERE SummaryID = 2\r\n GO\r\n\r\n \r\nUPDATE [dbachecks].[Prod_dbachecks_summary]\r\n   SET [TestDate] = DATEADD(day,-6,GetDAte())\r\n WHERE SummaryID = 1\r\n GO\r\n",
            "metadata": {},
            "outputs": [],
            "execution_count": 1
        },
        {
            "cell_type": "markdown",
            "source": "Lets list the Checks that we have and the descriptions",
            "metadata": {}
        },
        {
            "cell_type": "code",
            "source": "USE [ValidationResults]\r\nGO\r\nSELECT \r\nUniqueTag AS 'Check',  \r\nDescription\r\nFROM dbachecks.Checks",
            "metadata": {},
            "outputs": [],
            "execution_count": 2
        },
        {
            "cell_type": "markdown",
            "source": "I want to see the total number of checks that passed and failed by date",
            "metadata": {}
        },
        {
            "cell_type": "code",
            "source": "USE [ValidationResults]\r\nGO\r\nSELECT \r\nTestDate,\r\nTotalCount AS 'Total Checks',\r\nPassedCount AS Passed,\r\nFailedCount AS Failed,\r\nSkippedCount AS Skipped\r\nFROM dbachecks.Prod_dbachecks_summary\r\n",
            "metadata": {},
            "outputs": [],
            "execution_count": 3
        },
        {
            "cell_type": "markdown",
            "source": "What are todays failures ?",
            "metadata": {}
        },
        {
            "cell_type": "code",
            "source": "SELECT \r\nd.Name,\r\nErrorRecord\r\nFROM dbachecks.Prod_dbachecks_detail d\r\nJOIN\r\ndbachecks.Prod_dbachecks_summary s\r\nON\r\nd.SummaryID = S.SummaryID\r\nWHERE\r\ns.TestDate = Convert(date, GetDate())\r\nAND\r\nd.Passed = 0\r\nORDER BY d.Name\r\n",
            "metadata": {},
            "outputs": [],
            "execution_count": 4
        },
        {
            "cell_type": "markdown",
            "source": "Which instance had the most failures today ?",
            "metadata": {}
        },
        {
            "cell_type": "code",
            "source": "; With CTE AS (\r\nSELECT \r\nDetailID,\r\nRIGHT(Context, charindex(' ', reverse(Context) + ' ') - 1) AS SqlInstance\r\nFROM dbachecks.Prod_dbachecks_detail\r\n) \r\nSELECT \r\nCTE.SqlInstance,\r\nCOUNT(d.DetailID) AS 'Failed Checks'\r\nFROM dbachecks.Prod_dbachecks_detail d\r\nJOIN CTE\r\nON CTE.DetailID = d.DetailID\r\nJOIN\r\ndbachecks.Prod_dbachecks_summary s\r\nON\r\nd.SummaryID = S.SummaryID\r\nWHERE\r\ns.TestDate = Convert(date, GetDate())\r\nAND\r\nd.Passed = 0\r\nGROUP BY CTE.SqlInstance",
            "metadata": {},
            "outputs": [],
            "execution_count": 5
        },
        {
            "cell_type": "markdown",
            "source": "Todays failures by instance and context",
            "metadata": {}
        },
        {
            "cell_type": "code",
            "source": "; With CTE AS (\r\nSELECT \r\nDetailID,\r\nRIGHT(Context, charindex(' ', reverse(Context) + ' ') - 1) AS SqlInstance\r\nFROM dbachecks.Prod_dbachecks_detail\r\n) \r\nSELECT \r\nCTE.SqlInstance,\r\nd.Context,\r\nCOUNT(d.DetailID) AS 'Failed Checks'\r\nFROM dbachecks.Prod_dbachecks_detail d\r\nJOIN CTE\r\nON CTE.DetailID = d.DetailID\r\nJOIN\r\ndbachecks.Prod_dbachecks_summary s\r\nON\r\nd.SummaryID = S.SummaryID\r\nWHERE\r\ns.TestDate = Convert(date, GetDate())\r\nAND\r\nd.Passed = 0\r\nGROUP BY CTE.SqlInstance,d.Context\r\nORDER BY CTE.SqlInstance, [Failed Checks] DESC",
            "metadata": {},
            "outputs": [],
            "execution_count": 6
        },
        {
            "cell_type": "markdown",
            "source": "Number of failures by date, instance and context",
            "metadata": {}
        },
        {
            "cell_type": "code",
            "source": "; With CTE AS (\r\nSELECT \r\nDetailID,\r\nRIGHT(Context, charindex(' ', reverse(Context) + ' ') - 1) AS SqlInstance\r\nFROM dbachecks.Prod_dbachecks_detail\r\n) \r\nSELECT \r\ns.TestDate,\r\nCTE.SqlInstance,\r\nd.Context,\r\nCOUNT(d.DetailID) AS 'Failed Checks'\r\nFROM dbachecks.Prod_dbachecks_detail d\r\nJOIN CTE\r\nON CTE.DetailID = d.DetailID\r\nJOIN\r\ndbachecks.Prod_dbachecks_summary s\r\nON\r\nd.SummaryID = S.SummaryID\r\nWHERE\r\nd.Passed = 0\r\nGROUP BY s.TestDate,CTE.SqlInstance,d.Context\r\nORDER BY CTE.SqlInstance, [Failed Checks] DESC",
            "metadata": {},
            "outputs": [],
            "execution_count": 7
        },
        {
            "cell_type": "markdown",
            "source": "This is just a quick example of some of the things in the dbachecks ValidationResults database - What more can you do ?",
            "metadata": {}
        }
    ]
}